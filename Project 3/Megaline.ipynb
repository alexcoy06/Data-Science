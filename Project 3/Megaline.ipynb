{
 "cells": [
  {
   "cell_type": "markdown",
   "metadata": {},
   "source": [
    "## 1 Project Overview and Setup: Understanding the Purpose\n",
    "\n",
    "In this project, I'm an analyst at Megaline, a telecom operator. We offer two prepaid plans, Surf and Ultimate. The commercial department has tasked me with figuring out which plan generates more revenue so they can adjust the advertising budget accordingly.\n",
    "\n",
    "For this preliminary analysis, I'll be looking at a subset of our clients. I have data on 500 Megaline clients, including their demographics, plan usage, and communication activity in 2018. My job is to analyze this data and identify which prepaid plan contributes more to our revenue.\n",
    "\n",
    "Note: Megaline rounds seconds up to minutes, and megabytes to gigabytes. For calls, each individual call is rounded up: even if the call lasted just one second, it will be counted as one minute. For web traffic, individual web sessions are not rounded up. Instead, the total for the month is rounded up. If someone uses 1025 megabytes this month, they will be charged for 2 gigabytes.\n",
    "\n",
    "## 2 Initialization\n",
    "\n",
    "First, import all of the necessary Python libraries for the project."
   ]
  },
  {
   "cell_type": "code",
   "execution_count": null,
   "metadata": {},
   "outputs": [],
   "source": []
  }
 ],
 "metadata": {
  "language_info": {
   "name": "python"
  }
 },
 "nbformat": 4,
 "nbformat_minor": 2
}
