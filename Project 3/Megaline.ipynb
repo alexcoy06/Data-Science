{
  "cells": [
    {
      "cell_type": "markdown",
      "metadata": {
        "colab_type": "text",
        "id": "view-in-github"
      },
      "source": [
        "<a href=\"https://colab.research.google.com/github/alexcoy06/Data-Science/blob/main/Project%203/Megaline.ipynb\" target=\"_parent\"><img src=\"https://colab.research.google.com/assets/colab-badge.svg\" alt=\"Open In Colab\"/></a>"
      ]
    },
    {
      "cell_type": "markdown",
      "metadata": {
        "id": "3WLQna0LzapW"
      },
      "source": [
        "## 1 Project Overview and Setup: Understanding the Purpose\n",
        "\n",
        "As an analyst at Megaline, a telecom company, I'm investigating our two prepaid plans: Surf and Ultimate. The marketing team needs to know which plan is making more money so they can decide where to spend their advertising dollars.\n",
        "\n",
        "To start, I'll look at data from 500 of our customers. This data includes stuff like age, location, how they use their plans, and how they communicate, all from 2018. My job is to figure out which plan is bringing in more money for Megaline.\n",
        "\n",
        "## 2 Initialization\n",
        "\n",
        "### 2.1 Add imports\n",
        "\n",
        "I'll start by importing all the necessary Python libraries required for our project."
      ]
    },
    {
      "cell_type": "code",
      "execution_count": 1,
      "metadata": {
        "id": "gRNNFgUBzapW"
      },
      "outputs": [],
      "source": [
        "import pandas as pd\n",
        "import numpy as np\n",
        "import matplotlib.pyplot as plt\n",
        "import scipy.stats as st"
      ]
    },
    {
      "cell_type": "markdown",
      "metadata": {},
      "source": [
        "- Pandas simplifies data organization, converting messy CSV files into tidy, easy-to-handle formats, simplifying analysis.\n",
        "- Matplotlib illustrates data visually using graphs and charts, aiding in quick identification of trends and patterns.\n",
        "- NumPy acts as a dependable analytical tool, helping differentiate between factual insights and speculative assumptions, deepening our grasp of the underlying realities within the data.\n",
        "- Stats, akin to NumPy, sifts through data, distinguishing fact from speculation, fostering deeper understanding.\n",
        "\n",
        "### 2.2 Set up DataFrames\n",
        "\n",
        "The following modification will make the code accessible to all that find my repository on [GitHub](https://github.com/alexcoy06/Data-Science), providing an alternative routes for Google Colab, Jupyter Notebook, local machines, and etc."
      ]
    },
    {
      "cell_type": "code",
      "execution_count": 3,
      "metadata": {},
      "outputs": [],
      "source": [
        "import pandas as pd\n",
        "\n",
        "# Define local and server paths\n",
        "local_path = {\n",
        "    'calls': './datasets/megaline_calls.csv',\n",
        "    'internet': './datasets/megaline_internet.csv',\n",
        "    'messages': './datasets/megaline_messages.csv',\n",
        "    'plans': './datasets/megaline_plans.csv',\n",
        "    'users': './datasets/megaline_users.csv'\n",
        "}\n",
        "\n",
        "server_path = {\n",
        "    'calls': '/datasets/megaline_calls.csv',\n",
        "    'internet': '/datasets/megaline_internet.csv',\n",
        "    'messages': '/datasets/megaline_messages.csv',\n",
        "    'plans': '/datasets/megaline_plans.csv',\n",
        "    'users': '/datasets/megaline_users.csv'\n",
        "}\n",
        "\n",
        "internet_path = {\n",
        "    'calls': 'https://raw.githubusercontent.com/alexcoy06/Data-Science/main/Project%203/datasets/megaline_calls.csv',\n",
        "    'internet': 'https://raw.githubusercontent.com/alexcoy06/Data-Science/main/Project%203/datasets/megaline_internet.csv',\n",
        "    'messages': 'https://raw.githubusercontent.com/alexcoy06/Data-Science/main/Project%203/datasets/megaline_messages.csv',\n",
        "    'plans': 'https://raw.githubusercontent.com/alexcoy06/Data-Science/main/Project%203/datasets/megaline_plans.csv',\n",
        "    'users': 'https://raw.githubusercontent.com/alexcoy06/Data-Science/main/Project%203/datasets/megaline_users.csv'\n",
        "}"
      ]
    },
    {
      "cell_type": "markdown",
      "metadata": {},
      "source": [
        "Next, I'll assign each CSV file to a variable and convert each one into an accessible DataFrame."
      ]
    },
    {
      "cell_type": "code",
      "execution_count": 4,
      "metadata": {},
      "outputs": [],
      "source": [
        "# Function to load a CSV file\n",
        "def load_csv(file_key):\n",
        "    try:\n",
        "        df = pd.read_csv(local_path[file_key])\n",
        "    except FileNotFoundError:\n",
        "        try:\n",
        "            df = pd.read_csv(server_path[file_key])\n",
        "        except FileNotFoundError:\n",
        "            df = pd.read_csv(internet_path[file_key])\n",
        "    return df\n",
        "\n",
        "# Load each DataFrame\n",
        "calls = load_csv('calls')\n",
        "internet = load_csv('internet')\n",
        "messages = load_csv('messages')\n",
        "plans = load_csv('plans')\n",
        "users = load_csv('users')"
      ]
    },
    {
      "cell_type": "markdown",
      "metadata": {},
      "source": [
        "Each CSV file is now accessible, when required.\n",
        "\n",
        "## 3 Preparing the Data\n",
        "\n",
        "To effectively use these data frames, it's crucial to first inspect the first few rows of each one. Addressing any issues found will enhance the accuracy and usability of the data.\n",
        "\n",
        "### 3.1 Processing `calls`\n",
        "\n",
        "Let's start by displaying the first five rows of the `calls` data frame to ensure it's organized correctly."
      ]
    },
    {
      "cell_type": "code",
      "execution_count": 5,
      "metadata": {},
      "outputs": [
        {
          "data": {
            "text/html": [
              "<div>\n",
              "<style scoped>\n",
              "    .dataframe tbody tr th:only-of-type {\n",
              "        vertical-align: middle;\n",
              "    }\n",
              "\n",
              "    .dataframe tbody tr th {\n",
              "        vertical-align: top;\n",
              "    }\n",
              "\n",
              "    .dataframe thead th {\n",
              "        text-align: right;\n",
              "    }\n",
              "</style>\n",
              "<table border=\"1\" class=\"dataframe\">\n",
              "  <thead>\n",
              "    <tr style=\"text-align: right;\">\n",
              "      <th></th>\n",
              "      <th>id</th>\n",
              "      <th>user_id</th>\n",
              "      <th>call_date</th>\n",
              "      <th>duration</th>\n",
              "    </tr>\n",
              "  </thead>\n",
              "  <tbody>\n",
              "    <tr>\n",
              "      <th>0</th>\n",
              "      <td>1000_93</td>\n",
              "      <td>1000</td>\n",
              "      <td>2018-12-27</td>\n",
              "      <td>8.52</td>\n",
              "    </tr>\n",
              "    <tr>\n",
              "      <th>1</th>\n",
              "      <td>1000_145</td>\n",
              "      <td>1000</td>\n",
              "      <td>2018-12-27</td>\n",
              "      <td>13.66</td>\n",
              "    </tr>\n",
              "    <tr>\n",
              "      <th>2</th>\n",
              "      <td>1000_247</td>\n",
              "      <td>1000</td>\n",
              "      <td>2018-12-27</td>\n",
              "      <td>14.48</td>\n",
              "    </tr>\n",
              "    <tr>\n",
              "      <th>3</th>\n",
              "      <td>1000_309</td>\n",
              "      <td>1000</td>\n",
              "      <td>2018-12-28</td>\n",
              "      <td>5.76</td>\n",
              "    </tr>\n",
              "    <tr>\n",
              "      <th>4</th>\n",
              "      <td>1000_380</td>\n",
              "      <td>1000</td>\n",
              "      <td>2018-12-30</td>\n",
              "      <td>4.22</td>\n",
              "    </tr>\n",
              "  </tbody>\n",
              "</table>\n",
              "</div>"
            ],
            "text/plain": [
              "         id  user_id   call_date  duration\n",
              "0   1000_93     1000  2018-12-27      8.52\n",
              "1  1000_145     1000  2018-12-27     13.66\n",
              "2  1000_247     1000  2018-12-27     14.48\n",
              "3  1000_309     1000  2018-12-28      5.76\n",
              "4  1000_380     1000  2018-12-30      4.22"
            ]
          },
          "execution_count": 5,
          "metadata": {},
          "output_type": "execute_result"
        }
      ],
      "source": [
        "calls.head()"
      ]
    },
    {
      "cell_type": "markdown",
      "metadata": {},
      "source": [
        "Everything seems to be organized correctly\n",
        "\n",
        "Let's run the `info()` method on the `calls` data frame to get a better overall understanding of what we're dealing with."
      ]
    },
    {
      "cell_type": "code",
      "execution_count": 6,
      "metadata": {},
      "outputs": [
        {
          "name": "stdout",
          "output_type": "stream",
          "text": [
            "<class 'pandas.core.frame.DataFrame'>\n",
            "RangeIndex: 137735 entries, 0 to 137734\n",
            "Data columns (total 4 columns):\n",
            " #   Column     Non-Null Count   Dtype  \n",
            "---  ------     --------------   -----  \n",
            " 0   id         137735 non-null  object \n",
            " 1   user_id    137735 non-null  int64  \n",
            " 2   call_date  137735 non-null  object \n",
            " 3   duration   137735 non-null  float64\n",
            "dtypes: float64(1), int64(1), object(2)\n",
            "memory usage: 4.2+ MB\n"
          ]
        }
      ],
      "source": [
        "calls.info()"
      ]
    },
    {
      "cell_type": "markdown",
      "metadata": {},
      "source": [
        "After running info(), it seems that the user_id column is not being recognized as an object, and the call_date values are not being registered as dates, \n",
        "which need to be fixed."
      ]
    },
    {
      "cell_type": "code",
      "execution_count": 7,
      "metadata": {},
      "outputs": [
        {
          "name": "stdout",
          "output_type": "stream",
          "text": [
            "<class 'pandas.core.frame.DataFrame'>\n",
            "RangeIndex: 137735 entries, 0 to 137734\n",
            "Data columns (total 4 columns):\n",
            " #   Column     Non-Null Count   Dtype         \n",
            "---  ------     --------------   -----         \n",
            " 0   id         137735 non-null  object        \n",
            " 1   user_id    137735 non-null  object        \n",
            " 2   call_date  137735 non-null  datetime64[ns]\n",
            " 3   duration   137735 non-null  float64       \n",
            "dtypes: datetime64[ns](1), float64(1), object(2)\n",
            "memory usage: 4.2+ MB\n"
          ]
        }
      ],
      "source": [
        "calls['call_date'] = pd.to_datetime(calls['call_date'], format='%Y-%m-%d')\n",
        "calls['user_id'] = calls['user_id'].astype('str')\n",
        "calls.info()"
      ]
    },
    {
      "cell_type": "markdown",
      "metadata": {},
      "source": [
        "Upon re-running the `info()` function on the `calls` data frame, it's observed that the `user_id` column is now recognized as an object, and the `call_date` column is now correctly classified as a datetime data type.\n",
        "\n",
        "With all values corrected, now is a good time to inspect the data for any duplicate entries or missing values."
      ]
    },
    {
      "cell_type": "code",
      "execution_count": 8,
      "metadata": {},
      "outputs": [
        {
          "name": "stdout",
          "output_type": "stream",
          "text": [
            "There are 0 duplicate values, and 0 missing values.\n"
          ]
        }
      ],
      "source": [
        "calls_missing = calls.isna().sum()\n",
        "calls_dupl = calls.duplicated().sum()\n",
        "print(f'There are {calls_dupl} duplicate values, and {calls_missing.sum()} missing values.')"
      ]
    },
    {
      "cell_type": "markdown",
      "metadata": {},
      "source": [
        "Having observed no issues, let's proceed with implementing enhancements by consolidating certain pieces of information next.\n",
        "\n",
        "As seen earlier, the `calls` data frame has over 100,000 columns. Considering the project's scope, I realize that:\n",
        "- Not all of these columns will be necessary. \n",
        "- Since the plans are in months, specific days aren't needed."
      ]
    },
    {
      "cell_type": "code",
      "execution_count": 9,
      "metadata": {},
      "outputs": [
        {
          "data": {
            "text/html": [
              "<div>\n",
              "<style scoped>\n",
              "    .dataframe tbody tr th:only-of-type {\n",
              "        vertical-align: middle;\n",
              "    }\n",
              "\n",
              "    .dataframe tbody tr th {\n",
              "        vertical-align: top;\n",
              "    }\n",
              "\n",
              "    .dataframe thead th {\n",
              "        text-align: right;\n",
              "    }\n",
              "</style>\n",
              "<table border=\"1\" class=\"dataframe\">\n",
              "  <thead>\n",
              "    <tr style=\"text-align: right;\">\n",
              "      <th></th>\n",
              "      <th>user_id</th>\n",
              "      <th>month</th>\n",
              "      <th>total_calls</th>\n",
              "      <th>total_mins</th>\n",
              "    </tr>\n",
              "  </thead>\n",
              "  <tbody>\n",
              "    <tr>\n",
              "      <th>0</th>\n",
              "      <td>1000</td>\n",
              "      <td>12</td>\n",
              "      <td>16</td>\n",
              "      <td>124.0</td>\n",
              "    </tr>\n",
              "    <tr>\n",
              "      <th>1</th>\n",
              "      <td>1001</td>\n",
              "      <td>8</td>\n",
              "      <td>27</td>\n",
              "      <td>182.0</td>\n",
              "    </tr>\n",
              "    <tr>\n",
              "      <th>2</th>\n",
              "      <td>1001</td>\n",
              "      <td>9</td>\n",
              "      <td>49</td>\n",
              "      <td>315.0</td>\n",
              "    </tr>\n",
              "    <tr>\n",
              "      <th>3</th>\n",
              "      <td>1001</td>\n",
              "      <td>10</td>\n",
              "      <td>65</td>\n",
              "      <td>393.0</td>\n",
              "    </tr>\n",
              "    <tr>\n",
              "      <th>4</th>\n",
              "      <td>1001</td>\n",
              "      <td>11</td>\n",
              "      <td>64</td>\n",
              "      <td>426.0</td>\n",
              "    </tr>\n",
              "    <tr>\n",
              "      <th>...</th>\n",
              "      <td>...</td>\n",
              "      <td>...</td>\n",
              "      <td>...</td>\n",
              "      <td>...</td>\n",
              "    </tr>\n",
              "    <tr>\n",
              "      <th>2253</th>\n",
              "      <td>1498</td>\n",
              "      <td>12</td>\n",
              "      <td>39</td>\n",
              "      <td>339.0</td>\n",
              "    </tr>\n",
              "    <tr>\n",
              "      <th>2254</th>\n",
              "      <td>1499</td>\n",
              "      <td>9</td>\n",
              "      <td>41</td>\n",
              "      <td>346.0</td>\n",
              "    </tr>\n",
              "    <tr>\n",
              "      <th>2255</th>\n",
              "      <td>1499</td>\n",
              "      <td>10</td>\n",
              "      <td>53</td>\n",
              "      <td>385.0</td>\n",
              "    </tr>\n",
              "    <tr>\n",
              "      <th>2256</th>\n",
              "      <td>1499</td>\n",
              "      <td>11</td>\n",
              "      <td>45</td>\n",
              "      <td>308.0</td>\n",
              "    </tr>\n",
              "    <tr>\n",
              "      <th>2257</th>\n",
              "      <td>1499</td>\n",
              "      <td>12</td>\n",
              "      <td>65</td>\n",
              "      <td>496.0</td>\n",
              "    </tr>\n",
              "  </tbody>\n",
              "</table>\n",
              "<p>2258 rows × 4 columns</p>\n",
              "</div>"
            ],
            "text/plain": [
              "     user_id  month  total_calls  total_mins\n",
              "0       1000     12           16       124.0\n",
              "1       1001      8           27       182.0\n",
              "2       1001      9           49       315.0\n",
              "3       1001     10           65       393.0\n",
              "4       1001     11           64       426.0\n",
              "...      ...    ...          ...         ...\n",
              "2253    1498     12           39       339.0\n",
              "2254    1499      9           41       346.0\n",
              "2255    1499     10           53       385.0\n",
              "2256    1499     11           45       308.0\n",
              "2257    1499     12           65       496.0\n",
              "\n",
              "[2258 rows x 4 columns]"
            ]
          },
          "execution_count": 9,
          "metadata": {},
          "output_type": "execute_result"
        }
      ],
      "source": [
        "calls['month'] = calls['call_date'].dt.month\n",
        "\n",
        "calls['duration'] = np.ceil(calls['duration'])\n",
        "\n",
        "calls_new = calls.groupby(['user_id', 'month']).agg(total_calls=('user_id', 'count'), total_mins=('duration', 'sum')).reset_index()\n",
        "\n",
        "calls_new"
      ]
    },
    {
      "cell_type": "markdown",
      "metadata": {},
      "source": [
        "Now, `calls` is a lot smaller, with more than 100,000 fewer entries. Additionally, we can now see the month, total number of calls per month, and total number of minutes used. All of these changes better align with the scope of the project.\n",
        "\n",
        "### 3.2 Processing `internet`\n",
        "\n",
        "Now, I'll repeat all the steps from processing the `calls` data frame for the internet data frame next."
      ]
    },
    {
      "cell_type": "code",
      "execution_count": 10,
      "metadata": {},
      "outputs": [
        {
          "data": {
            "text/html": [
              "<div>\n",
              "<style scoped>\n",
              "    .dataframe tbody tr th:only-of-type {\n",
              "        vertical-align: middle;\n",
              "    }\n",
              "\n",
              "    .dataframe tbody tr th {\n",
              "        vertical-align: top;\n",
              "    }\n",
              "\n",
              "    .dataframe thead th {\n",
              "        text-align: right;\n",
              "    }\n",
              "</style>\n",
              "<table border=\"1\" class=\"dataframe\">\n",
              "  <thead>\n",
              "    <tr style=\"text-align: right;\">\n",
              "      <th></th>\n",
              "      <th>id</th>\n",
              "      <th>user_id</th>\n",
              "      <th>session_date</th>\n",
              "      <th>mb_used</th>\n",
              "    </tr>\n",
              "  </thead>\n",
              "  <tbody>\n",
              "    <tr>\n",
              "      <th>0</th>\n",
              "      <td>1000_13</td>\n",
              "      <td>1000</td>\n",
              "      <td>2018-12-29</td>\n",
              "      <td>89.86</td>\n",
              "    </tr>\n",
              "    <tr>\n",
              "      <th>1</th>\n",
              "      <td>1000_204</td>\n",
              "      <td>1000</td>\n",
              "      <td>2018-12-31</td>\n",
              "      <td>0.00</td>\n",
              "    </tr>\n",
              "    <tr>\n",
              "      <th>2</th>\n",
              "      <td>1000_379</td>\n",
              "      <td>1000</td>\n",
              "      <td>2018-12-28</td>\n",
              "      <td>660.40</td>\n",
              "    </tr>\n",
              "    <tr>\n",
              "      <th>3</th>\n",
              "      <td>1000_413</td>\n",
              "      <td>1000</td>\n",
              "      <td>2018-12-26</td>\n",
              "      <td>270.99</td>\n",
              "    </tr>\n",
              "    <tr>\n",
              "      <th>4</th>\n",
              "      <td>1000_442</td>\n",
              "      <td>1000</td>\n",
              "      <td>2018-12-27</td>\n",
              "      <td>880.22</td>\n",
              "    </tr>\n",
              "  </tbody>\n",
              "</table>\n",
              "</div>"
            ],
            "text/plain": [
              "         id  user_id session_date  mb_used\n",
              "0   1000_13     1000   2018-12-29    89.86\n",
              "1  1000_204     1000   2018-12-31     0.00\n",
              "2  1000_379     1000   2018-12-28   660.40\n",
              "3  1000_413     1000   2018-12-26   270.99\n",
              "4  1000_442     1000   2018-12-27   880.22"
            ]
          },
          "execution_count": 10,
          "metadata": {},
          "output_type": "execute_result"
        }
      ],
      "source": [
        "internet.head()"
      ]
    },
    {
      "cell_type": "markdown",
      "metadata": {},
      "source": [
        "Given the similarity in structure between the `internet` data frame and the `calls` data frame, adjustments may be required for the `user_id` and `session_date` columns after assessing their data types."
      ]
    },
    {
      "cell_type": "code",
      "execution_count": 11,
      "metadata": {},
      "outputs": [
        {
          "name": "stdout",
          "output_type": "stream",
          "text": [
            "<class 'pandas.core.frame.DataFrame'>\n",
            "RangeIndex: 104825 entries, 0 to 104824\n",
            "Data columns (total 4 columns):\n",
            " #   Column        Non-Null Count   Dtype  \n",
            "---  ------        --------------   -----  \n",
            " 0   id            104825 non-null  object \n",
            " 1   user_id       104825 non-null  int64  \n",
            " 2   session_date  104825 non-null  object \n",
            " 3   mb_used       104825 non-null  float64\n",
            "dtypes: float64(1), int64(1), object(2)\n",
            "memory usage: 3.2+ MB\n"
          ]
        }
      ],
      "source": [
        "internet.info()"
      ]
    },
    {
      "cell_type": "markdown",
      "metadata": {},
      "source": [
        "Following the execution of the `info` function, the observed outcomes align with expectations. Consequently, we will proceed by applying the same corrective actions previously undertaken for the `calls` data frame to the `internet` data frame."
      ]
    },
    {
      "cell_type": "code",
      "execution_count": 12,
      "metadata": {},
      "outputs": [
        {
          "name": "stdout",
          "output_type": "stream",
          "text": [
            "<class 'pandas.core.frame.DataFrame'>\n",
            "RangeIndex: 104825 entries, 0 to 104824\n",
            "Data columns (total 4 columns):\n",
            " #   Column        Non-Null Count   Dtype         \n",
            "---  ------        --------------   -----         \n",
            " 0   id            104825 non-null  object        \n",
            " 1   user_id       104825 non-null  object        \n",
            " 2   session_date  104825 non-null  datetime64[ns]\n",
            " 3   mb_used       104825 non-null  float64       \n",
            "dtypes: datetime64[ns](1), float64(1), object(2)\n",
            "memory usage: 3.2+ MB\n"
          ]
        }
      ],
      "source": [
        "internet['session_date'] = pd.to_datetime(internet['session_date'], format='%Y-%m-%d')\n",
        "internet['user_id'] = internet['user_id'].astype('str')\n",
        "internet.info()"
      ]
    },
    {
      "cell_type": "markdown",
      "metadata": {},
      "source": [
        "The values now align more closely with the scope of the project.\n",
        "\n",
        "Now, let's address any missing or duplicate values."
      ]
    },
    {
      "cell_type": "code",
      "execution_count": 13,
      "metadata": {},
      "outputs": [
        {
          "name": "stdout",
          "output_type": "stream",
          "text": [
            "There are 0 duplicate values, and 0 missing values.\n"
          ]
        }
      ],
      "source": [
        "internet_missing = internet.isna().sum()\n",
        "internet_dupl = internet.duplicated().sum()\n",
        "print(f'There are {internet_dupl} duplicate values, and {internet_missing.sum()} missing values.')"
      ]
    },
    {
      "cell_type": "markdown",
      "metadata": {},
      "source": [
        "Again, there are no issues with the data. So, we will move on to completing the same enhancements completed for `calls`. \n",
        "\n",
        "Most of the same logic applies."
      ]
    },
    {
      "cell_type": "code",
      "execution_count": 14,
      "metadata": {},
      "outputs": [
        {
          "data": {
            "text/html": [
              "<div>\n",
              "<style scoped>\n",
              "    .dataframe tbody tr th:only-of-type {\n",
              "        vertical-align: middle;\n",
              "    }\n",
              "\n",
              "    .dataframe tbody tr th {\n",
              "        vertical-align: top;\n",
              "    }\n",
              "\n",
              "    .dataframe thead th {\n",
              "        text-align: right;\n",
              "    }\n",
              "</style>\n",
              "<table border=\"1\" class=\"dataframe\">\n",
              "  <thead>\n",
              "    <tr style=\"text-align: right;\">\n",
              "      <th></th>\n",
              "      <th>user_id</th>\n",
              "      <th>month</th>\n",
              "      <th>total_internet</th>\n",
              "    </tr>\n",
              "  </thead>\n",
              "  <tbody>\n",
              "    <tr>\n",
              "      <th>0</th>\n",
              "      <td>1000</td>\n",
              "      <td>12</td>\n",
              "      <td>1903.0</td>\n",
              "    </tr>\n",
              "    <tr>\n",
              "      <th>1</th>\n",
              "      <td>1001</td>\n",
              "      <td>8</td>\n",
              "      <td>6929.0</td>\n",
              "    </tr>\n",
              "    <tr>\n",
              "      <th>2</th>\n",
              "      <td>1001</td>\n",
              "      <td>9</td>\n",
              "      <td>13333.0</td>\n",
              "    </tr>\n",
              "    <tr>\n",
              "      <th>3</th>\n",
              "      <td>1001</td>\n",
              "      <td>10</td>\n",
              "      <td>22356.0</td>\n",
              "    </tr>\n",
              "    <tr>\n",
              "      <th>4</th>\n",
              "      <td>1001</td>\n",
              "      <td>11</td>\n",
              "      <td>18524.0</td>\n",
              "    </tr>\n",
              "    <tr>\n",
              "      <th>...</th>\n",
              "      <td>...</td>\n",
              "      <td>...</td>\n",
              "      <td>...</td>\n",
              "    </tr>\n",
              "    <tr>\n",
              "      <th>2272</th>\n",
              "      <td>1498</td>\n",
              "      <td>12</td>\n",
              "      <td>23160.0</td>\n",
              "    </tr>\n",
              "    <tr>\n",
              "      <th>2273</th>\n",
              "      <td>1499</td>\n",
              "      <td>9</td>\n",
              "      <td>13004.0</td>\n",
              "    </tr>\n",
              "    <tr>\n",
              "      <th>2274</th>\n",
              "      <td>1499</td>\n",
              "      <td>10</td>\n",
              "      <td>19515.0</td>\n",
              "    </tr>\n",
              "    <tr>\n",
              "      <th>2275</th>\n",
              "      <td>1499</td>\n",
              "      <td>11</td>\n",
              "      <td>16834.0</td>\n",
              "    </tr>\n",
              "    <tr>\n",
              "      <th>2276</th>\n",
              "      <td>1499</td>\n",
              "      <td>12</td>\n",
              "      <td>22091.0</td>\n",
              "    </tr>\n",
              "  </tbody>\n",
              "</table>\n",
              "<p>2277 rows × 3 columns</p>\n",
              "</div>"
            ],
            "text/plain": [
              "     user_id  month  total_internet\n",
              "0       1000     12          1903.0\n",
              "1       1001      8          6929.0\n",
              "2       1001      9         13333.0\n",
              "3       1001     10         22356.0\n",
              "4       1001     11         18524.0\n",
              "...      ...    ...             ...\n",
              "2272    1498     12         23160.0\n",
              "2273    1499      9         13004.0\n",
              "2274    1499     10         19515.0\n",
              "2275    1499     11         16834.0\n",
              "2276    1499     12         22091.0\n",
              "\n",
              "[2277 rows x 3 columns]"
            ]
          },
          "execution_count": 14,
          "metadata": {},
          "output_type": "execute_result"
        }
      ],
      "source": [
        "# Turn days to months.\n",
        "internet['month'] = internet['session_date'].dt.month\n",
        "\n",
        "internet['mb_used'] = np.ceil(internet['mb_used'])\n",
        "\n",
        "internet_new = internet.groupby(['user_id', 'month']).agg(total_internet=('mb_used', 'sum')).reset_index()\n",
        "\n",
        "internet_new"
      ]
    },
    {
      "cell_type": "markdown",
      "metadata": {},
      "source": [
        "Now we're introducing uniformity into our data frames. Both `calls` and `internet` are now closer in size and significantly smaller. \n",
        "\n",
        "### 3.3 Processing `messages`\n",
        "\n",
        "Now, we will display `messages`."
      ]
    },
    {
      "cell_type": "code",
      "execution_count": 15,
      "metadata": {},
      "outputs": [
        {
          "data": {
            "text/html": [
              "<div>\n",
              "<style scoped>\n",
              "    .dataframe tbody tr th:only-of-type {\n",
              "        vertical-align: middle;\n",
              "    }\n",
              "\n",
              "    .dataframe tbody tr th {\n",
              "        vertical-align: top;\n",
              "    }\n",
              "\n",
              "    .dataframe thead th {\n",
              "        text-align: right;\n",
              "    }\n",
              "</style>\n",
              "<table border=\"1\" class=\"dataframe\">\n",
              "  <thead>\n",
              "    <tr style=\"text-align: right;\">\n",
              "      <th></th>\n",
              "      <th>id</th>\n",
              "      <th>user_id</th>\n",
              "      <th>message_date</th>\n",
              "    </tr>\n",
              "  </thead>\n",
              "  <tbody>\n",
              "    <tr>\n",
              "      <th>0</th>\n",
              "      <td>1000_125</td>\n",
              "      <td>1000</td>\n",
              "      <td>2018-12-27</td>\n",
              "    </tr>\n",
              "    <tr>\n",
              "      <th>1</th>\n",
              "      <td>1000_160</td>\n",
              "      <td>1000</td>\n",
              "      <td>2018-12-31</td>\n",
              "    </tr>\n",
              "    <tr>\n",
              "      <th>2</th>\n",
              "      <td>1000_223</td>\n",
              "      <td>1000</td>\n",
              "      <td>2018-12-31</td>\n",
              "    </tr>\n",
              "    <tr>\n",
              "      <th>3</th>\n",
              "      <td>1000_251</td>\n",
              "      <td>1000</td>\n",
              "      <td>2018-12-27</td>\n",
              "    </tr>\n",
              "    <tr>\n",
              "      <th>4</th>\n",
              "      <td>1000_255</td>\n",
              "      <td>1000</td>\n",
              "      <td>2018-12-26</td>\n",
              "    </tr>\n",
              "  </tbody>\n",
              "</table>\n",
              "</div>"
            ],
            "text/plain": [
              "         id  user_id message_date\n",
              "0  1000_125     1000   2018-12-27\n",
              "1  1000_160     1000   2018-12-31\n",
              "2  1000_223     1000   2018-12-31\n",
              "3  1000_251     1000   2018-12-27\n",
              "4  1000_255     1000   2018-12-26"
            ]
          },
          "execution_count": 15,
          "metadata": {},
          "output_type": "execute_result"
        }
      ],
      "source": [
        "messages.head()"
      ]
    },
    {
      "cell_type": "markdown",
      "metadata": {},
      "source": [
        "Again, everything is fine, so it's time to check the data types."
      ]
    },
    {
      "cell_type": "code",
      "execution_count": 16,
      "metadata": {},
      "outputs": [
        {
          "name": "stdout",
          "output_type": "stream",
          "text": [
            "<class 'pandas.core.frame.DataFrame'>\n",
            "RangeIndex: 76051 entries, 0 to 76050\n",
            "Data columns (total 3 columns):\n",
            " #   Column        Non-Null Count  Dtype \n",
            "---  ------        --------------  ----- \n",
            " 0   id            76051 non-null  object\n",
            " 1   user_id       76051 non-null  int64 \n",
            " 2   message_date  76051 non-null  object\n",
            "dtypes: int64(1), object(2)\n",
            "memory usage: 1.7+ MB\n"
          ]
        }
      ],
      "source": [
        "messages.info()"
      ]
    },
    {
      "cell_type": "markdown",
      "metadata": {},
      "source": [
        "It seems that adjustments are necessary for the `user_id` column, which should be converted to an object, and the `message_date` column, which should be transformed into a date value. Consistency is paramount, especially given that these columns recur across all examined data frames, underscoring the significance of uniformity in data formatting."
      ]
    },
    {
      "cell_type": "code",
      "execution_count": 17,
      "metadata": {},
      "outputs": [
        {
          "name": "stdout",
          "output_type": "stream",
          "text": [
            "<class 'pandas.core.frame.DataFrame'>\n",
            "RangeIndex: 76051 entries, 0 to 76050\n",
            "Data columns (total 3 columns):\n",
            " #   Column        Non-Null Count  Dtype         \n",
            "---  ------        --------------  -----         \n",
            " 0   id            76051 non-null  object        \n",
            " 1   user_id       76051 non-null  object        \n",
            " 2   message_date  76051 non-null  datetime64[ns]\n",
            "dtypes: datetime64[ns](1), object(2)\n",
            "memory usage: 1.7+ MB\n"
          ]
        }
      ],
      "source": [
        "messages['message_date'] = pd.to_datetime(messages['message_date'], format='%Y-%m-%d')\n",
        "messages['user_id'] = messages['user_id'].astype('str')\n",
        "messages.info()"
      ]
    },
    {
      "cell_type": "markdown",
      "metadata": {},
      "source": [
        "Now that all the data types are correct, it's time to address any missing or duplicated values."
      ]
    },
    {
      "cell_type": "code",
      "execution_count": 18,
      "metadata": {},
      "outputs": [
        {
          "name": "stdout",
          "output_type": "stream",
          "text": [
            "There are 0 duplicate values, and 0 missing values.\n"
          ]
        }
      ],
      "source": [
        "messages_missing = messages.isna().sum()\n",
        "messages_dupl = messages.duplicated().sum()\n",
        "print(f'There are {messages_dupl} duplicate values, and {messages_missing.sum()} missing values.')"
      ]
    },
    {
      "cell_type": "markdown",
      "metadata": {},
      "source": [
        "It appears that no further issues have been detected, underscoring the consistency and accuracy of the data maintained by Megaline.\n",
        "\n",
        "Now, we will move on to completing the same enhancements completed for `calls` and `internet`, using the same logic applies."
      ]
    },
    {
      "cell_type": "code",
      "execution_count": 19,
      "metadata": {},
      "outputs": [
        {
          "data": {
            "text/html": [
              "<div>\n",
              "<style scoped>\n",
              "    .dataframe tbody tr th:only-of-type {\n",
              "        vertical-align: middle;\n",
              "    }\n",
              "\n",
              "    .dataframe tbody tr th {\n",
              "        vertical-align: top;\n",
              "    }\n",
              "\n",
              "    .dataframe thead th {\n",
              "        text-align: right;\n",
              "    }\n",
              "</style>\n",
              "<table border=\"1\" class=\"dataframe\">\n",
              "  <thead>\n",
              "    <tr style=\"text-align: right;\">\n",
              "      <th></th>\n",
              "      <th>id</th>\n",
              "      <th>user_id</th>\n",
              "      <th>message_date</th>\n",
              "      <th>month</th>\n",
              "    </tr>\n",
              "  </thead>\n",
              "  <tbody>\n",
              "    <tr>\n",
              "      <th>0</th>\n",
              "      <td>1000_125</td>\n",
              "      <td>1000</td>\n",
              "      <td>2018-12-27</td>\n",
              "      <td>12</td>\n",
              "    </tr>\n",
              "    <tr>\n",
              "      <th>1</th>\n",
              "      <td>1000_160</td>\n",
              "      <td>1000</td>\n",
              "      <td>2018-12-31</td>\n",
              "      <td>12</td>\n",
              "    </tr>\n",
              "    <tr>\n",
              "      <th>2</th>\n",
              "      <td>1000_223</td>\n",
              "      <td>1000</td>\n",
              "      <td>2018-12-31</td>\n",
              "      <td>12</td>\n",
              "    </tr>\n",
              "    <tr>\n",
              "      <th>3</th>\n",
              "      <td>1000_251</td>\n",
              "      <td>1000</td>\n",
              "      <td>2018-12-27</td>\n",
              "      <td>12</td>\n",
              "    </tr>\n",
              "    <tr>\n",
              "      <th>4</th>\n",
              "      <td>1000_255</td>\n",
              "      <td>1000</td>\n",
              "      <td>2018-12-26</td>\n",
              "      <td>12</td>\n",
              "    </tr>\n",
              "    <tr>\n",
              "      <th>...</th>\n",
              "      <td>...</td>\n",
              "      <td>...</td>\n",
              "      <td>...</td>\n",
              "      <td>...</td>\n",
              "    </tr>\n",
              "    <tr>\n",
              "      <th>76046</th>\n",
              "      <td>1497_526</td>\n",
              "      <td>1497</td>\n",
              "      <td>2018-12-24</td>\n",
              "      <td>12</td>\n",
              "    </tr>\n",
              "    <tr>\n",
              "      <th>76047</th>\n",
              "      <td>1497_536</td>\n",
              "      <td>1497</td>\n",
              "      <td>2018-12-24</td>\n",
              "      <td>12</td>\n",
              "    </tr>\n",
              "    <tr>\n",
              "      <th>76048</th>\n",
              "      <td>1497_547</td>\n",
              "      <td>1497</td>\n",
              "      <td>2018-12-31</td>\n",
              "      <td>12</td>\n",
              "    </tr>\n",
              "    <tr>\n",
              "      <th>76049</th>\n",
              "      <td>1497_558</td>\n",
              "      <td>1497</td>\n",
              "      <td>2018-12-24</td>\n",
              "      <td>12</td>\n",
              "    </tr>\n",
              "    <tr>\n",
              "      <th>76050</th>\n",
              "      <td>1497_613</td>\n",
              "      <td>1497</td>\n",
              "      <td>2018-12-23</td>\n",
              "      <td>12</td>\n",
              "    </tr>\n",
              "  </tbody>\n",
              "</table>\n",
              "<p>76051 rows × 4 columns</p>\n",
              "</div>"
            ],
            "text/plain": [
              "             id user_id message_date  month\n",
              "0      1000_125    1000   2018-12-27     12\n",
              "1      1000_160    1000   2018-12-31     12\n",
              "2      1000_223    1000   2018-12-31     12\n",
              "3      1000_251    1000   2018-12-27     12\n",
              "4      1000_255    1000   2018-12-26     12\n",
              "...         ...     ...          ...    ...\n",
              "76046  1497_526    1497   2018-12-24     12\n",
              "76047  1497_536    1497   2018-12-24     12\n",
              "76048  1497_547    1497   2018-12-31     12\n",
              "76049  1497_558    1497   2018-12-24     12\n",
              "76050  1497_613    1497   2018-12-23     12\n",
              "\n",
              "[76051 rows x 4 columns]"
            ]
          },
          "execution_count": 19,
          "metadata": {},
          "output_type": "execute_result"
        }
      ],
      "source": [
        "messages['month'] = messages['message_date'].dt.month\n",
        "\n",
        "messages_new = messages.groupby(['user_id', 'month']).agg(total_messages=('message_date', 'count')).reset_index()\n",
        "messages"
      ]
    },
    {
      "cell_type": "markdown",
      "metadata": {},
      "source": [
        "In organizing our data, we're highlighting the significance of user IDs and the timing of activities throughout the year for our project's goals. These identifiers help us track individual users and understand when certain events occur, which is crucial for our analysis.\n",
        "\n",
        "## 3.4 Processing `plans`\n",
        "\n",
        "Next, the `plans` data frame will be processed."
      ]
    },
    {
      "cell_type": "code",
      "execution_count": 20,
      "metadata": {},
      "outputs": [
        {
          "data": {
            "text/html": [
              "<div>\n",
              "<style scoped>\n",
              "    .dataframe tbody tr th:only-of-type {\n",
              "        vertical-align: middle;\n",
              "    }\n",
              "\n",
              "    .dataframe tbody tr th {\n",
              "        vertical-align: top;\n",
              "    }\n",
              "\n",
              "    .dataframe thead th {\n",
              "        text-align: right;\n",
              "    }\n",
              "</style>\n",
              "<table border=\"1\" class=\"dataframe\">\n",
              "  <thead>\n",
              "    <tr style=\"text-align: right;\">\n",
              "      <th></th>\n",
              "      <th>messages_included</th>\n",
              "      <th>mb_per_month_included</th>\n",
              "      <th>minutes_included</th>\n",
              "      <th>usd_monthly_pay</th>\n",
              "      <th>usd_per_gb</th>\n",
              "      <th>usd_per_message</th>\n",
              "      <th>usd_per_minute</th>\n",
              "      <th>plan_name</th>\n",
              "    </tr>\n",
              "  </thead>\n",
              "  <tbody>\n",
              "    <tr>\n",
              "      <th>0</th>\n",
              "      <td>50</td>\n",
              "      <td>15360</td>\n",
              "      <td>500</td>\n",
              "      <td>20</td>\n",
              "      <td>10</td>\n",
              "      <td>0.03</td>\n",
              "      <td>0.03</td>\n",
              "      <td>surf</td>\n",
              "    </tr>\n",
              "    <tr>\n",
              "      <th>1</th>\n",
              "      <td>1000</td>\n",
              "      <td>30720</td>\n",
              "      <td>3000</td>\n",
              "      <td>70</td>\n",
              "      <td>7</td>\n",
              "      <td>0.01</td>\n",
              "      <td>0.01</td>\n",
              "      <td>ultimate</td>\n",
              "    </tr>\n",
              "  </tbody>\n",
              "</table>\n",
              "</div>"
            ],
            "text/plain": [
              "   messages_included  mb_per_month_included  minutes_included  \\\n",
              "0                 50                  15360               500   \n",
              "1               1000                  30720              3000   \n",
              "\n",
              "   usd_monthly_pay  usd_per_gb  usd_per_message  usd_per_minute plan_name  \n",
              "0               20          10             0.03            0.03      surf  \n",
              "1               70           7             0.01            0.01  ultimate  "
            ]
          },
          "execution_count": 20,
          "metadata": {},
          "output_type": "execute_result"
        }
      ],
      "source": [
        "plans #no need to use `head()`"
      ]
    },
    {
      "cell_type": "markdown",
      "metadata": {},
      "source": [
        "Given the relatively small size of this data frame, there's no need to subsequently check for missing or duplicate values. However, it remains imperative to ensure the accuracy of the values within each column."
      ]
    },
    {
      "cell_type": "code",
      "execution_count": 21,
      "metadata": {},
      "outputs": [
        {
          "name": "stdout",
          "output_type": "stream",
          "text": [
            "<class 'pandas.core.frame.DataFrame'>\n",
            "RangeIndex: 2 entries, 0 to 1\n",
            "Data columns (total 8 columns):\n",
            " #   Column                 Non-Null Count  Dtype  \n",
            "---  ------                 --------------  -----  \n",
            " 0   messages_included      2 non-null      int64  \n",
            " 1   mb_per_month_included  2 non-null      int64  \n",
            " 2   minutes_included       2 non-null      int64  \n",
            " 3   usd_monthly_pay        2 non-null      int64  \n",
            " 4   usd_per_gb             2 non-null      int64  \n",
            " 5   usd_per_message        2 non-null      float64\n",
            " 6   usd_per_minute         2 non-null      float64\n",
            " 7   plan_name              2 non-null      object \n",
            "dtypes: float64(2), int64(5), object(1)\n",
            "memory usage: 260.0+ bytes\n"
          ]
        }
      ],
      "source": [
        "plans.info()"
      ]
    },
    {
      "cell_type": "markdown",
      "metadata": {},
      "source": [
        "For the most part, all of the data types seem appropriate. However, a simple quality-of-life change that will benefit me in terms of uniformity later will be simply changing `plan_name` to just `plan`."
      ]
    },
    {
      "cell_type": "code",
      "execution_count": 22,
      "metadata": {},
      "outputs": [
        {
          "data": {
            "text/html": [
              "<div>\n",
              "<style scoped>\n",
              "    .dataframe tbody tr th:only-of-type {\n",
              "        vertical-align: middle;\n",
              "    }\n",
              "\n",
              "    .dataframe tbody tr th {\n",
              "        vertical-align: top;\n",
              "    }\n",
              "\n",
              "    .dataframe thead th {\n",
              "        text-align: right;\n",
              "    }\n",
              "</style>\n",
              "<table border=\"1\" class=\"dataframe\">\n",
              "  <thead>\n",
              "    <tr style=\"text-align: right;\">\n",
              "      <th></th>\n",
              "      <th>messages_included</th>\n",
              "      <th>mb_per_month_included</th>\n",
              "      <th>minutes_included</th>\n",
              "      <th>usd_monthly_pay</th>\n",
              "      <th>usd_per_gb</th>\n",
              "      <th>usd_per_message</th>\n",
              "      <th>usd_per_minute</th>\n",
              "      <th>plan</th>\n",
              "    </tr>\n",
              "  </thead>\n",
              "  <tbody>\n",
              "    <tr>\n",
              "      <th>0</th>\n",
              "      <td>50</td>\n",
              "      <td>15360</td>\n",
              "      <td>500</td>\n",
              "      <td>20</td>\n",
              "      <td>10</td>\n",
              "      <td>0.03</td>\n",
              "      <td>0.03</td>\n",
              "      <td>surf</td>\n",
              "    </tr>\n",
              "    <tr>\n",
              "      <th>1</th>\n",
              "      <td>1000</td>\n",
              "      <td>30720</td>\n",
              "      <td>3000</td>\n",
              "      <td>70</td>\n",
              "      <td>7</td>\n",
              "      <td>0.01</td>\n",
              "      <td>0.01</td>\n",
              "      <td>ultimate</td>\n",
              "    </tr>\n",
              "  </tbody>\n",
              "</table>\n",
              "</div>"
            ],
            "text/plain": [
              "   messages_included  mb_per_month_included  minutes_included  \\\n",
              "0                 50                  15360               500   \n",
              "1               1000                  30720              3000   \n",
              "\n",
              "   usd_monthly_pay  usd_per_gb  usd_per_message  usd_per_minute      plan  \n",
              "0               20          10             0.03            0.03      surf  \n",
              "1               70           7             0.01            0.01  ultimate  "
            ]
          },
          "execution_count": 22,
          "metadata": {},
          "output_type": "execute_result"
        }
      ],
      "source": [
        "plans.rename(columns={'plan_name': 'plan' }, inplace=True)\n",
        "plans.head()"
      ]
    },
    {
      "cell_type": "markdown",
      "metadata": {},
      "source": [
        "\n",
        "\n",
        "### 3.5 Processing `users`\n",
        "\n",
        "Finally, we have arrived at the `users` data frame. Let's display the first few rows."
      ]
    },
    {
      "cell_type": "code",
      "execution_count": 23,
      "metadata": {},
      "outputs": [
        {
          "data": {
            "text/html": [
              "<div>\n",
              "<style scoped>\n",
              "    .dataframe tbody tr th:only-of-type {\n",
              "        vertical-align: middle;\n",
              "    }\n",
              "\n",
              "    .dataframe tbody tr th {\n",
              "        vertical-align: top;\n",
              "    }\n",
              "\n",
              "    .dataframe thead th {\n",
              "        text-align: right;\n",
              "    }\n",
              "</style>\n",
              "<table border=\"1\" class=\"dataframe\">\n",
              "  <thead>\n",
              "    <tr style=\"text-align: right;\">\n",
              "      <th></th>\n",
              "      <th>user_id</th>\n",
              "      <th>first_name</th>\n",
              "      <th>last_name</th>\n",
              "      <th>age</th>\n",
              "      <th>city</th>\n",
              "      <th>reg_date</th>\n",
              "      <th>plan</th>\n",
              "      <th>churn_date</th>\n",
              "    </tr>\n",
              "  </thead>\n",
              "  <tbody>\n",
              "    <tr>\n",
              "      <th>0</th>\n",
              "      <td>1000</td>\n",
              "      <td>Anamaria</td>\n",
              "      <td>Bauer</td>\n",
              "      <td>45</td>\n",
              "      <td>Atlanta-Sandy Springs-Roswell, GA MSA</td>\n",
              "      <td>2018-12-24</td>\n",
              "      <td>ultimate</td>\n",
              "      <td>NaN</td>\n",
              "    </tr>\n",
              "    <tr>\n",
              "      <th>1</th>\n",
              "      <td>1001</td>\n",
              "      <td>Mickey</td>\n",
              "      <td>Wilkerson</td>\n",
              "      <td>28</td>\n",
              "      <td>Seattle-Tacoma-Bellevue, WA MSA</td>\n",
              "      <td>2018-08-13</td>\n",
              "      <td>surf</td>\n",
              "      <td>NaN</td>\n",
              "    </tr>\n",
              "    <tr>\n",
              "      <th>2</th>\n",
              "      <td>1002</td>\n",
              "      <td>Carlee</td>\n",
              "      <td>Hoffman</td>\n",
              "      <td>36</td>\n",
              "      <td>Las Vegas-Henderson-Paradise, NV MSA</td>\n",
              "      <td>2018-10-21</td>\n",
              "      <td>surf</td>\n",
              "      <td>NaN</td>\n",
              "    </tr>\n",
              "    <tr>\n",
              "      <th>3</th>\n",
              "      <td>1003</td>\n",
              "      <td>Reynaldo</td>\n",
              "      <td>Jenkins</td>\n",
              "      <td>52</td>\n",
              "      <td>Tulsa, OK MSA</td>\n",
              "      <td>2018-01-28</td>\n",
              "      <td>surf</td>\n",
              "      <td>NaN</td>\n",
              "    </tr>\n",
              "    <tr>\n",
              "      <th>4</th>\n",
              "      <td>1004</td>\n",
              "      <td>Leonila</td>\n",
              "      <td>Thompson</td>\n",
              "      <td>40</td>\n",
              "      <td>Seattle-Tacoma-Bellevue, WA MSA</td>\n",
              "      <td>2018-05-23</td>\n",
              "      <td>surf</td>\n",
              "      <td>NaN</td>\n",
              "    </tr>\n",
              "  </tbody>\n",
              "</table>\n",
              "</div>"
            ],
            "text/plain": [
              "   user_id first_name  last_name  age                                   city  \\\n",
              "0     1000   Anamaria      Bauer   45  Atlanta-Sandy Springs-Roswell, GA MSA   \n",
              "1     1001     Mickey  Wilkerson   28        Seattle-Tacoma-Bellevue, WA MSA   \n",
              "2     1002     Carlee    Hoffman   36   Las Vegas-Henderson-Paradise, NV MSA   \n",
              "3     1003   Reynaldo    Jenkins   52                          Tulsa, OK MSA   \n",
              "4     1004    Leonila   Thompson   40        Seattle-Tacoma-Bellevue, WA MSA   \n",
              "\n",
              "     reg_date      plan churn_date  \n",
              "0  2018-12-24  ultimate        NaN  \n",
              "1  2018-08-13      surf        NaN  \n",
              "2  2018-10-21      surf        NaN  \n",
              "3  2018-01-28      surf        NaN  \n",
              "4  2018-05-23      surf        NaN  "
            ]
          },
          "execution_count": 23,
          "metadata": {},
          "output_type": "execute_result"
        }
      ],
      "source": [
        "users.head()"
      ]
    },
    {
      "cell_type": "markdown",
      "metadata": {},
      "source": [
        "There are missing values (`NaN`) in the `churn_date` column, but before addressing them, it's prudent to verify whether all data types within the data frame align with the anticipated expectations."
      ]
    },
    {
      "cell_type": "code",
      "execution_count": 24,
      "metadata": {},
      "outputs": [
        {
          "name": "stdout",
          "output_type": "stream",
          "text": [
            "<class 'pandas.core.frame.DataFrame'>\n",
            "RangeIndex: 500 entries, 0 to 499\n",
            "Data columns (total 8 columns):\n",
            " #   Column      Non-Null Count  Dtype \n",
            "---  ------      --------------  ----- \n",
            " 0   user_id     500 non-null    int64 \n",
            " 1   first_name  500 non-null    object\n",
            " 2   last_name   500 non-null    object\n",
            " 3   age         500 non-null    int64 \n",
            " 4   city        500 non-null    object\n",
            " 5   reg_date    500 non-null    object\n",
            " 6   plan        500 non-null    object\n",
            " 7   churn_date  34 non-null     object\n",
            "dtypes: int64(2), object(6)\n",
            "memory usage: 31.4+ KB\n"
          ]
        }
      ],
      "source": [
        "users.info()"
      ]
    },
    {
      "cell_type": "markdown",
      "metadata": {},
      "source": [
        "As it stands, `user_id` requires conversion to an `object` data type, while both `reg_date` and `churn_date` need to be changed to `datetime` values."
      ]
    },
    {
      "cell_type": "code",
      "execution_count": 25,
      "metadata": {},
      "outputs": [
        {
          "name": "stdout",
          "output_type": "stream",
          "text": [
            "<class 'pandas.core.frame.DataFrame'>\n",
            "RangeIndex: 500 entries, 0 to 499\n",
            "Data columns (total 8 columns):\n",
            " #   Column      Non-Null Count  Dtype  \n",
            "---  ------      --------------  -----  \n",
            " 0   user_id     500 non-null    object \n",
            " 1   first_name  500 non-null    object \n",
            " 2   last_name   500 non-null    object \n",
            " 3   age         500 non-null    int64  \n",
            " 4   city        500 non-null    object \n",
            " 5   reg_date    500 non-null    object \n",
            " 6   plan        500 non-null    object \n",
            " 7   churn_date  34 non-null     float64\n",
            "dtypes: float64(1), int64(1), object(6)\n",
            "memory usage: 31.4+ KB\n"
          ]
        }
      ],
      "source": [
        "users['churn_date'] = pd.to_datetime(users['churn_date'], format='%Y-%m-%d').dt.month\n",
        "users['reg_date'] = pd.to_datetime(users['reg_date'], format='%Y-%m-%d').dt.month_name()\n",
        "users['user_id'] = users['user_id'].astype('str')\n",
        "users.info()"
      ]
    },
    {
      "cell_type": "markdown",
      "metadata": {},
      "source": [
        "We've fixed the data types as needed, so that's all sorted out.\n",
        "\n",
        "Before we deal with any missing values, it's a good idea to make sure there aren't any identical rows in the data table."
      ]
    },
    {
      "cell_type": "code",
      "execution_count": 26,
      "metadata": {},
      "outputs": [
        {
          "name": "stdout",
          "output_type": "stream",
          "text": [
            "There are 0 duplicate values.\n"
          ]
        }
      ],
      "source": [
        "users_dupl = users.duplicated().sum()\n",
        "print(f'There are {users_dupl} duplicate values.')"
      ]
    },
    {
      "cell_type": "markdown",
      "metadata": {},
      "source": [
        "With duplicates sorted out, the next thing to do is to look for any blank spots in the data columns except for `churn_date`."
      ]
    },
    {
      "cell_type": "code",
      "execution_count": 27,
      "metadata": {},
      "outputs": [
        {
          "data": {
            "text/plain": [
              "user_id         0\n",
              "first_name      0\n",
              "last_name       0\n",
              "age             0\n",
              "city            0\n",
              "reg_date        0\n",
              "plan            0\n",
              "churn_date    466\n",
              "dtype: int64"
            ]
          },
          "execution_count": 27,
          "metadata": {},
          "output_type": "execute_result"
        }
      ],
      "source": [
        "users.isna().sum()"
      ]
    },
    {
      "cell_type": "markdown",
      "metadata": {},
      "source": [
        "Considering that `churn_date` contains a value only when a plan is canceled, it's crucial to handle it appropriately to maintain clarity and data integrity. I could fill the missing values with an object like `active`, but that column consists of dates. We could fill it with a value like the first day of the following year, which could be good enough for this project. "
      ]
    },
    {
      "cell_type": "code",
      "execution_count": 28,
      "metadata": {},
      "outputs": [
        {
          "data": {
            "text/html": [
              "<div>\n",
              "<style scoped>\n",
              "    .dataframe tbody tr th:only-of-type {\n",
              "        vertical-align: middle;\n",
              "    }\n",
              "\n",
              "    .dataframe tbody tr th {\n",
              "        vertical-align: top;\n",
              "    }\n",
              "\n",
              "    .dataframe thead th {\n",
              "        text-align: right;\n",
              "    }\n",
              "</style>\n",
              "<table border=\"1\" class=\"dataframe\">\n",
              "  <thead>\n",
              "    <tr style=\"text-align: right;\">\n",
              "      <th></th>\n",
              "      <th>user_id</th>\n",
              "      <th>first_name</th>\n",
              "      <th>last_name</th>\n",
              "      <th>age</th>\n",
              "      <th>city</th>\n",
              "      <th>reg_date</th>\n",
              "      <th>plan</th>\n",
              "    </tr>\n",
              "  </thead>\n",
              "  <tbody>\n",
              "    <tr>\n",
              "      <th>0</th>\n",
              "      <td>1000</td>\n",
              "      <td>Anamaria</td>\n",
              "      <td>Bauer</td>\n",
              "      <td>45</td>\n",
              "      <td>Atlanta-Sandy Springs-Roswell, GA MSA</td>\n",
              "      <td>December</td>\n",
              "      <td>ultimate</td>\n",
              "    </tr>\n",
              "    <tr>\n",
              "      <th>1</th>\n",
              "      <td>1001</td>\n",
              "      <td>Mickey</td>\n",
              "      <td>Wilkerson</td>\n",
              "      <td>28</td>\n",
              "      <td>Seattle-Tacoma-Bellevue, WA MSA</td>\n",
              "      <td>August</td>\n",
              "      <td>surf</td>\n",
              "    </tr>\n",
              "    <tr>\n",
              "      <th>2</th>\n",
              "      <td>1002</td>\n",
              "      <td>Carlee</td>\n",
              "      <td>Hoffman</td>\n",
              "      <td>36</td>\n",
              "      <td>Las Vegas-Henderson-Paradise, NV MSA</td>\n",
              "      <td>October</td>\n",
              "      <td>surf</td>\n",
              "    </tr>\n",
              "    <tr>\n",
              "      <th>3</th>\n",
              "      <td>1003</td>\n",
              "      <td>Reynaldo</td>\n",
              "      <td>Jenkins</td>\n",
              "      <td>52</td>\n",
              "      <td>Tulsa, OK MSA</td>\n",
              "      <td>January</td>\n",
              "      <td>surf</td>\n",
              "    </tr>\n",
              "    <tr>\n",
              "      <th>4</th>\n",
              "      <td>1004</td>\n",
              "      <td>Leonila</td>\n",
              "      <td>Thompson</td>\n",
              "      <td>40</td>\n",
              "      <td>Seattle-Tacoma-Bellevue, WA MSA</td>\n",
              "      <td>May</td>\n",
              "      <td>surf</td>\n",
              "    </tr>\n",
              "    <tr>\n",
              "      <th>...</th>\n",
              "      <td>...</td>\n",
              "      <td>...</td>\n",
              "      <td>...</td>\n",
              "      <td>...</td>\n",
              "      <td>...</td>\n",
              "      <td>...</td>\n",
              "      <td>...</td>\n",
              "    </tr>\n",
              "    <tr>\n",
              "      <th>495</th>\n",
              "      <td>1495</td>\n",
              "      <td>Fidel</td>\n",
              "      <td>Sharpe</td>\n",
              "      <td>67</td>\n",
              "      <td>New York-Newark-Jersey City, NY-NJ-PA MSA</td>\n",
              "      <td>September</td>\n",
              "      <td>surf</td>\n",
              "    </tr>\n",
              "    <tr>\n",
              "      <th>496</th>\n",
              "      <td>1496</td>\n",
              "      <td>Ariel</td>\n",
              "      <td>Shepherd</td>\n",
              "      <td>49</td>\n",
              "      <td>New Orleans-Metairie, LA MSA</td>\n",
              "      <td>February</td>\n",
              "      <td>surf</td>\n",
              "    </tr>\n",
              "    <tr>\n",
              "      <th>497</th>\n",
              "      <td>1497</td>\n",
              "      <td>Donte</td>\n",
              "      <td>Barrera</td>\n",
              "      <td>49</td>\n",
              "      <td>Los Angeles-Long Beach-Anaheim, CA MSA</td>\n",
              "      <td>December</td>\n",
              "      <td>ultimate</td>\n",
              "    </tr>\n",
              "    <tr>\n",
              "      <th>498</th>\n",
              "      <td>1498</td>\n",
              "      <td>Scot</td>\n",
              "      <td>Williamson</td>\n",
              "      <td>51</td>\n",
              "      <td>New York-Newark-Jersey City, NY-NJ-PA MSA</td>\n",
              "      <td>February</td>\n",
              "      <td>surf</td>\n",
              "    </tr>\n",
              "    <tr>\n",
              "      <th>499</th>\n",
              "      <td>1499</td>\n",
              "      <td>Shena</td>\n",
              "      <td>Dickson</td>\n",
              "      <td>37</td>\n",
              "      <td>Orlando-Kissimmee-Sanford, FL MSA</td>\n",
              "      <td>May</td>\n",
              "      <td>surf</td>\n",
              "    </tr>\n",
              "  </tbody>\n",
              "</table>\n",
              "<p>500 rows × 7 columns</p>\n",
              "</div>"
            ],
            "text/plain": [
              "    user_id first_name   last_name  age  \\\n",
              "0      1000   Anamaria       Bauer   45   \n",
              "1      1001     Mickey   Wilkerson   28   \n",
              "2      1002     Carlee     Hoffman   36   \n",
              "3      1003   Reynaldo     Jenkins   52   \n",
              "4      1004    Leonila    Thompson   40   \n",
              "..      ...        ...         ...  ...   \n",
              "495    1495      Fidel      Sharpe   67   \n",
              "496    1496      Ariel    Shepherd   49   \n",
              "497    1497      Donte     Barrera   49   \n",
              "498    1498       Scot  Williamson   51   \n",
              "499    1499      Shena     Dickson   37   \n",
              "\n",
              "                                          city   reg_date      plan  \n",
              "0        Atlanta-Sandy Springs-Roswell, GA MSA   December  ultimate  \n",
              "1              Seattle-Tacoma-Bellevue, WA MSA     August      surf  \n",
              "2         Las Vegas-Henderson-Paradise, NV MSA    October      surf  \n",
              "3                                Tulsa, OK MSA    January      surf  \n",
              "4              Seattle-Tacoma-Bellevue, WA MSA        May      surf  \n",
              "..                                         ...        ...       ...  \n",
              "495  New York-Newark-Jersey City, NY-NJ-PA MSA  September      surf  \n",
              "496               New Orleans-Metairie, LA MSA   February      surf  \n",
              "497     Los Angeles-Long Beach-Anaheim, CA MSA   December  ultimate  \n",
              "498  New York-Newark-Jersey City, NY-NJ-PA MSA   February      surf  \n",
              "499          Orlando-Kissimmee-Sanford, FL MSA        May      surf  \n",
              "\n",
              "[500 rows x 7 columns]"
            ]
          },
          "execution_count": 28,
          "metadata": {},
          "output_type": "execute_result"
        }
      ],
      "source": [
        "users.drop(columns=['churn_date'], inplace=True)\n",
        "users"
      ]
    },
    {
      "cell_type": "markdown",
      "metadata": {},
      "source": [
        "After thinking it over, I think it's smarter and simpler to just get rid of that column. All I really care about is how much money we're making each month, and usually, I'll just be looking at the average overall.\n",
        "\n",
        "## 4 Study plan conditions\n",
        "\n",
        "Now is an ideal time to thoroughly analyze and gain a deeper understanding of the service plans provided by Megaline. Here's the information provided for our review and consideration:\n",
        "\n",
        "Megaline rounds seconds up to minutes and megabytes to gigabytes. For calls, each individual call is rounded up: even if the call lasted just one second, it will be counted as one minute. For web traffic, individual web sessions are not rounded up. Instead, the total for the month is rounded up. If someone uses 1025 megabytes this month, they will be charged for 2 gigabytes."
      ]
    },
    {
      "cell_type": "code",
      "execution_count": 29,
      "metadata": {},
      "outputs": [
        {
          "data": {
            "text/html": [
              "<div>\n",
              "<style scoped>\n",
              "    .dataframe tbody tr th:only-of-type {\n",
              "        vertical-align: middle;\n",
              "    }\n",
              "\n",
              "    .dataframe tbody tr th {\n",
              "        vertical-align: top;\n",
              "    }\n",
              "\n",
              "    .dataframe thead th {\n",
              "        text-align: right;\n",
              "    }\n",
              "</style>\n",
              "<table border=\"1\" class=\"dataframe\">\n",
              "  <thead>\n",
              "    <tr style=\"text-align: right;\">\n",
              "      <th></th>\n",
              "      <th>messages_included</th>\n",
              "      <th>mb_per_month_included</th>\n",
              "      <th>minutes_included</th>\n",
              "      <th>usd_monthly_pay</th>\n",
              "      <th>usd_per_gb</th>\n",
              "      <th>usd_per_message</th>\n",
              "      <th>usd_per_minute</th>\n",
              "      <th>plan</th>\n",
              "    </tr>\n",
              "  </thead>\n",
              "  <tbody>\n",
              "    <tr>\n",
              "      <th>0</th>\n",
              "      <td>50</td>\n",
              "      <td>15360</td>\n",
              "      <td>500</td>\n",
              "      <td>20</td>\n",
              "      <td>10</td>\n",
              "      <td>0.03</td>\n",
              "      <td>0.03</td>\n",
              "      <td>surf</td>\n",
              "    </tr>\n",
              "    <tr>\n",
              "      <th>1</th>\n",
              "      <td>1000</td>\n",
              "      <td>30720</td>\n",
              "      <td>3000</td>\n",
              "      <td>70</td>\n",
              "      <td>7</td>\n",
              "      <td>0.01</td>\n",
              "      <td>0.01</td>\n",
              "      <td>ultimate</td>\n",
              "    </tr>\n",
              "  </tbody>\n",
              "</table>\n",
              "</div>"
            ],
            "text/plain": [
              "   messages_included  mb_per_month_included  minutes_included  \\\n",
              "0                 50                  15360               500   \n",
              "1               1000                  30720              3000   \n",
              "\n",
              "   usd_monthly_pay  usd_per_gb  usd_per_message  usd_per_minute      plan  \n",
              "0               20          10             0.03            0.03      surf  \n",
              "1               70           7             0.01            0.01  ultimate  "
            ]
          },
          "execution_count": 29,
          "metadata": {},
          "output_type": "execute_result"
        }
      ],
      "source": [
        "plans"
      ]
    },
    {
      "cell_type": "markdown",
      "metadata": {},
      "source": [
        "As displayed the following shows:\n",
        "\n",
        "#### Surf\n",
        "\n",
        "- **Monthly charge:** $20\n",
        "- **500 monthly minutes, 50 texts, and 15 GB of data**\n",
        "- **After exceeding the package limits:**\n",
        "  - 1 minute: 3 cents\n",
        "  - 1 text message: 3 cents\n",
        "  - 1 GB of data: $10\n",
        "\n",
        "#### Ultimate\n",
        "\n",
        "- **Monthly charge:** $70\n",
        "- **3000 monthly minutes, 1000 text messages, and 30 GB of data**\n",
        "- **After exceeding the package limits:**\n",
        "  - 1 minute: 1 cent\n",
        "  - 1 text message: 1 cent\n",
        "  - 1 GB of data: $7\n",
        "\n",
        "### 4.1 Consolidating\n",
        "\n",
        "Thanks to the enhancements done earlier, we can further improve the usefulness of our data. By combining them into one data frame, we won't need to look elsewhere, and we're able to do so because they have `user_id` and `month` in common. This consolidation streamlines our analysis process."
      ]
    },
    {
      "cell_type": "code",
      "execution_count": 30,
      "metadata": {},
      "outputs": [
        {
          "data": {
            "text/html": [
              "<div>\n",
              "<style scoped>\n",
              "    .dataframe tbody tr th:only-of-type {\n",
              "        vertical-align: middle;\n",
              "    }\n",
              "\n",
              "    .dataframe tbody tr th {\n",
              "        vertical-align: top;\n",
              "    }\n",
              "\n",
              "    .dataframe thead th {\n",
              "        text-align: right;\n",
              "    }\n",
              "</style>\n",
              "<table border=\"1\" class=\"dataframe\">\n",
              "  <thead>\n",
              "    <tr style=\"text-align: right;\">\n",
              "      <th></th>\n",
              "      <th>user_id</th>\n",
              "      <th>month</th>\n",
              "      <th>total_calls</th>\n",
              "      <th>total_mins</th>\n",
              "      <th>total_internet</th>\n",
              "      <th>total_messages</th>\n",
              "    </tr>\n",
              "  </thead>\n",
              "  <tbody>\n",
              "    <tr>\n",
              "      <th>0</th>\n",
              "      <td>1000</td>\n",
              "      <td>12</td>\n",
              "      <td>16.0</td>\n",
              "      <td>124.0</td>\n",
              "      <td>1903.0</td>\n",
              "      <td>11.0</td>\n",
              "    </tr>\n",
              "    <tr>\n",
              "      <th>1</th>\n",
              "      <td>1001</td>\n",
              "      <td>8</td>\n",
              "      <td>27.0</td>\n",
              "      <td>182.0</td>\n",
              "      <td>6929.0</td>\n",
              "      <td>30.0</td>\n",
              "    </tr>\n",
              "    <tr>\n",
              "      <th>2</th>\n",
              "      <td>1001</td>\n",
              "      <td>9</td>\n",
              "      <td>49.0</td>\n",
              "      <td>315.0</td>\n",
              "      <td>13333.0</td>\n",
              "      <td>44.0</td>\n",
              "    </tr>\n",
              "    <tr>\n",
              "      <th>3</th>\n",
              "      <td>1001</td>\n",
              "      <td>10</td>\n",
              "      <td>65.0</td>\n",
              "      <td>393.0</td>\n",
              "      <td>22356.0</td>\n",
              "      <td>53.0</td>\n",
              "    </tr>\n",
              "    <tr>\n",
              "      <th>4</th>\n",
              "      <td>1001</td>\n",
              "      <td>11</td>\n",
              "      <td>64.0</td>\n",
              "      <td>426.0</td>\n",
              "      <td>18524.0</td>\n",
              "      <td>36.0</td>\n",
              "    </tr>\n",
              "  </tbody>\n",
              "</table>\n",
              "</div>"
            ],
            "text/plain": [
              "  user_id  month  total_calls  total_mins  total_internet  total_messages\n",
              "0    1000     12         16.0       124.0          1903.0            11.0\n",
              "1    1001      8         27.0       182.0          6929.0            30.0\n",
              "2    1001      9         49.0       315.0         13333.0            44.0\n",
              "3    1001     10         65.0       393.0         22356.0            53.0\n",
              "4    1001     11         64.0       426.0         18524.0            36.0"
            ]
          },
          "execution_count": 30,
          "metadata": {},
          "output_type": "execute_result"
        }
      ],
      "source": [
        "user_usage = pd.concat([calls_new, internet_new, messages_new]).groupby(['user_id', 'month']).sum().reset_index()\n",
        "user_usage.head()"
      ]
    },
    {
      "cell_type": "markdown",
      "metadata": {},
      "source": [
        "We'll keep going like this because consolidating all the necessary info will make things easier.\n",
        "\n",
        "Next up, I plan to combine the `plans` and `users` data so that each user is matched up with the right plan."
      ]
    },
    {
      "cell_type": "code",
      "execution_count": 31,
      "metadata": {},
      "outputs": [
        {
          "data": {
            "text/html": [
              "<div>\n",
              "<style scoped>\n",
              "    .dataframe tbody tr th:only-of-type {\n",
              "        vertical-align: middle;\n",
              "    }\n",
              "\n",
              "    .dataframe tbody tr th {\n",
              "        vertical-align: top;\n",
              "    }\n",
              "\n",
              "    .dataframe thead th {\n",
              "        text-align: right;\n",
              "    }\n",
              "</style>\n",
              "<table border=\"1\" class=\"dataframe\">\n",
              "  <thead>\n",
              "    <tr style=\"text-align: right;\">\n",
              "      <th></th>\n",
              "      <th>user_id</th>\n",
              "      <th>plan</th>\n",
              "      <th>city</th>\n",
              "      <th>messages_included</th>\n",
              "      <th>mb_per_month_included</th>\n",
              "      <th>minutes_included</th>\n",
              "      <th>usd_monthly_pay</th>\n",
              "      <th>usd_per_gb</th>\n",
              "      <th>usd_per_message</th>\n",
              "      <th>usd_per_minute</th>\n",
              "    </tr>\n",
              "  </thead>\n",
              "  <tbody>\n",
              "    <tr>\n",
              "      <th>0</th>\n",
              "      <td>1000</td>\n",
              "      <td>ultimate</td>\n",
              "      <td>Atlanta-Sandy Springs-Roswell, GA MSA</td>\n",
              "      <td>1000</td>\n",
              "      <td>30720</td>\n",
              "      <td>3000</td>\n",
              "      <td>70</td>\n",
              "      <td>7</td>\n",
              "      <td>0.01</td>\n",
              "      <td>0.01</td>\n",
              "    </tr>\n",
              "    <tr>\n",
              "      <th>1</th>\n",
              "      <td>1001</td>\n",
              "      <td>surf</td>\n",
              "      <td>Seattle-Tacoma-Bellevue, WA MSA</td>\n",
              "      <td>50</td>\n",
              "      <td>15360</td>\n",
              "      <td>500</td>\n",
              "      <td>20</td>\n",
              "      <td>10</td>\n",
              "      <td>0.03</td>\n",
              "      <td>0.03</td>\n",
              "    </tr>\n",
              "    <tr>\n",
              "      <th>2</th>\n",
              "      <td>1002</td>\n",
              "      <td>surf</td>\n",
              "      <td>Las Vegas-Henderson-Paradise, NV MSA</td>\n",
              "      <td>50</td>\n",
              "      <td>15360</td>\n",
              "      <td>500</td>\n",
              "      <td>20</td>\n",
              "      <td>10</td>\n",
              "      <td>0.03</td>\n",
              "      <td>0.03</td>\n",
              "    </tr>\n",
              "    <tr>\n",
              "      <th>3</th>\n",
              "      <td>1003</td>\n",
              "      <td>surf</td>\n",
              "      <td>Tulsa, OK MSA</td>\n",
              "      <td>50</td>\n",
              "      <td>15360</td>\n",
              "      <td>500</td>\n",
              "      <td>20</td>\n",
              "      <td>10</td>\n",
              "      <td>0.03</td>\n",
              "      <td>0.03</td>\n",
              "    </tr>\n",
              "    <tr>\n",
              "      <th>4</th>\n",
              "      <td>1004</td>\n",
              "      <td>surf</td>\n",
              "      <td>Seattle-Tacoma-Bellevue, WA MSA</td>\n",
              "      <td>50</td>\n",
              "      <td>15360</td>\n",
              "      <td>500</td>\n",
              "      <td>20</td>\n",
              "      <td>10</td>\n",
              "      <td>0.03</td>\n",
              "      <td>0.03</td>\n",
              "    </tr>\n",
              "  </tbody>\n",
              "</table>\n",
              "</div>"
            ],
            "text/plain": [
              "  user_id      plan                                   city  messages_included  \\\n",
              "0    1000  ultimate  Atlanta-Sandy Springs-Roswell, GA MSA               1000   \n",
              "1    1001      surf        Seattle-Tacoma-Bellevue, WA MSA                 50   \n",
              "2    1002      surf   Las Vegas-Henderson-Paradise, NV MSA                 50   \n",
              "3    1003      surf                          Tulsa, OK MSA                 50   \n",
              "4    1004      surf        Seattle-Tacoma-Bellevue, WA MSA                 50   \n",
              "\n",
              "   mb_per_month_included  minutes_included  usd_monthly_pay  usd_per_gb  \\\n",
              "0                  30720              3000               70           7   \n",
              "1                  15360               500               20          10   \n",
              "2                  15360               500               20          10   \n",
              "3                  15360               500               20          10   \n",
              "4                  15360               500               20          10   \n",
              "\n",
              "   usd_per_message  usd_per_minute  \n",
              "0             0.01            0.01  \n",
              "1             0.03            0.03  \n",
              "2             0.03            0.03  \n",
              "3             0.03            0.03  \n",
              "4             0.03            0.03  "
            ]
          },
          "execution_count": 31,
          "metadata": {},
          "output_type": "execute_result"
        }
      ],
      "source": [
        "user_plan = users[['user_id', 'plan', 'city']].merge(plans, on='plan', how='left')\n",
        "user_plan.head()"
      ]
    },
    {
      "cell_type": "markdown",
      "metadata": {},
      "source": [
        "Now that each user is connected to the appropriate plan, and we have all the following info, we can merge the `user_usage` data with the `user_plan`."
      ]
    },
    {
      "cell_type": "code",
      "execution_count": 32,
      "metadata": {},
      "outputs": [
        {
          "data": {
            "text/html": [
              "<div>\n",
              "<style scoped>\n",
              "    .dataframe tbody tr th:only-of-type {\n",
              "        vertical-align: middle;\n",
              "    }\n",
              "\n",
              "    .dataframe tbody tr th {\n",
              "        vertical-align: top;\n",
              "    }\n",
              "\n",
              "    .dataframe thead th {\n",
              "        text-align: right;\n",
              "    }\n",
              "</style>\n",
              "<table border=\"1\" class=\"dataframe\">\n",
              "  <thead>\n",
              "    <tr style=\"text-align: right;\">\n",
              "      <th></th>\n",
              "      <th>user_id</th>\n",
              "      <th>month</th>\n",
              "      <th>total_calls</th>\n",
              "      <th>total_mins</th>\n",
              "      <th>total_internet</th>\n",
              "      <th>total_messages</th>\n",
              "      <th>plan</th>\n",
              "      <th>city</th>\n",
              "      <th>messages_included</th>\n",
              "      <th>mb_per_month_included</th>\n",
              "      <th>minutes_included</th>\n",
              "      <th>usd_monthly_pay</th>\n",
              "      <th>usd_per_gb</th>\n",
              "      <th>usd_per_message</th>\n",
              "      <th>usd_per_minute</th>\n",
              "    </tr>\n",
              "  </thead>\n",
              "  <tbody>\n",
              "    <tr>\n",
              "      <th>0</th>\n",
              "      <td>1000</td>\n",
              "      <td>12</td>\n",
              "      <td>16.0</td>\n",
              "      <td>124.0</td>\n",
              "      <td>1903.0</td>\n",
              "      <td>11.0</td>\n",
              "      <td>ultimate</td>\n",
              "      <td>Atlanta-Sandy Springs-Roswell, GA MSA</td>\n",
              "      <td>1000</td>\n",
              "      <td>30720</td>\n",
              "      <td>3000</td>\n",
              "      <td>70</td>\n",
              "      <td>7</td>\n",
              "      <td>0.01</td>\n",
              "      <td>0.01</td>\n",
              "    </tr>\n",
              "    <tr>\n",
              "      <th>1</th>\n",
              "      <td>1001</td>\n",
              "      <td>8</td>\n",
              "      <td>27.0</td>\n",
              "      <td>182.0</td>\n",
              "      <td>6929.0</td>\n",
              "      <td>30.0</td>\n",
              "      <td>surf</td>\n",
              "      <td>Seattle-Tacoma-Bellevue, WA MSA</td>\n",
              "      <td>50</td>\n",
              "      <td>15360</td>\n",
              "      <td>500</td>\n",
              "      <td>20</td>\n",
              "      <td>10</td>\n",
              "      <td>0.03</td>\n",
              "      <td>0.03</td>\n",
              "    </tr>\n",
              "    <tr>\n",
              "      <th>2</th>\n",
              "      <td>1001</td>\n",
              "      <td>9</td>\n",
              "      <td>49.0</td>\n",
              "      <td>315.0</td>\n",
              "      <td>13333.0</td>\n",
              "      <td>44.0</td>\n",
              "      <td>surf</td>\n",
              "      <td>Seattle-Tacoma-Bellevue, WA MSA</td>\n",
              "      <td>50</td>\n",
              "      <td>15360</td>\n",
              "      <td>500</td>\n",
              "      <td>20</td>\n",
              "      <td>10</td>\n",
              "      <td>0.03</td>\n",
              "      <td>0.03</td>\n",
              "    </tr>\n",
              "    <tr>\n",
              "      <th>3</th>\n",
              "      <td>1001</td>\n",
              "      <td>10</td>\n",
              "      <td>65.0</td>\n",
              "      <td>393.0</td>\n",
              "      <td>22356.0</td>\n",
              "      <td>53.0</td>\n",
              "      <td>surf</td>\n",
              "      <td>Seattle-Tacoma-Bellevue, WA MSA</td>\n",
              "      <td>50</td>\n",
              "      <td>15360</td>\n",
              "      <td>500</td>\n",
              "      <td>20</td>\n",
              "      <td>10</td>\n",
              "      <td>0.03</td>\n",
              "      <td>0.03</td>\n",
              "    </tr>\n",
              "    <tr>\n",
              "      <th>4</th>\n",
              "      <td>1001</td>\n",
              "      <td>11</td>\n",
              "      <td>64.0</td>\n",
              "      <td>426.0</td>\n",
              "      <td>18524.0</td>\n",
              "      <td>36.0</td>\n",
              "      <td>surf</td>\n",
              "      <td>Seattle-Tacoma-Bellevue, WA MSA</td>\n",
              "      <td>50</td>\n",
              "      <td>15360</td>\n",
              "      <td>500</td>\n",
              "      <td>20</td>\n",
              "      <td>10</td>\n",
              "      <td>0.03</td>\n",
              "      <td>0.03</td>\n",
              "    </tr>\n",
              "  </tbody>\n",
              "</table>\n",
              "</div>"
            ],
            "text/plain": [
              "  user_id  month  total_calls  total_mins  total_internet  total_messages  \\\n",
              "0    1000     12         16.0       124.0          1903.0            11.0   \n",
              "1    1001      8         27.0       182.0          6929.0            30.0   \n",
              "2    1001      9         49.0       315.0         13333.0            44.0   \n",
              "3    1001     10         65.0       393.0         22356.0            53.0   \n",
              "4    1001     11         64.0       426.0         18524.0            36.0   \n",
              "\n",
              "       plan                                   city  messages_included  \\\n",
              "0  ultimate  Atlanta-Sandy Springs-Roswell, GA MSA               1000   \n",
              "1      surf        Seattle-Tacoma-Bellevue, WA MSA                 50   \n",
              "2      surf        Seattle-Tacoma-Bellevue, WA MSA                 50   \n",
              "3      surf        Seattle-Tacoma-Bellevue, WA MSA                 50   \n",
              "4      surf        Seattle-Tacoma-Bellevue, WA MSA                 50   \n",
              "\n",
              "   mb_per_month_included  minutes_included  usd_monthly_pay  usd_per_gb  \\\n",
              "0                  30720              3000               70           7   \n",
              "1                  15360               500               20          10   \n",
              "2                  15360               500               20          10   \n",
              "3                  15360               500               20          10   \n",
              "4                  15360               500               20          10   \n",
              "\n",
              "   usd_per_message  usd_per_minute  \n",
              "0             0.01            0.01  \n",
              "1             0.03            0.03  \n",
              "2             0.03            0.03  \n",
              "3             0.03            0.03  \n",
              "4             0.03            0.03  "
            ]
          },
          "execution_count": 32,
          "metadata": {},
          "output_type": "execute_result"
        }
      ],
      "source": [
        "new_analysis = user_usage.merge(user_plan, on='user_id')\n",
        "new_analysis.head()"
      ]
    },
    {
      "cell_type": "markdown",
      "metadata": {},
      "source": [
        "Now we've got one tidy data frame with nearly all the info we need to finish this project. Everything's nicely organized in one place.\n",
        "\n",
        "### 4.2 Enhancement\n",
        "\n",
        "The only thing we're missing now is the revenue numbers generated by each user every month."
      ]
    },
    {
      "cell_type": "code",
      "execution_count": 33,
      "metadata": {},
      "outputs": [
        {
          "data": {
            "text/html": [
              "<div>\n",
              "<style scoped>\n",
              "    .dataframe tbody tr th:only-of-type {\n",
              "        vertical-align: middle;\n",
              "    }\n",
              "\n",
              "    .dataframe tbody tr th {\n",
              "        vertical-align: top;\n",
              "    }\n",
              "\n",
              "    .dataframe thead th {\n",
              "        text-align: right;\n",
              "    }\n",
              "</style>\n",
              "<table border=\"1\" class=\"dataframe\">\n",
              "  <thead>\n",
              "    <tr style=\"text-align: right;\">\n",
              "      <th></th>\n",
              "      <th>user_id</th>\n",
              "      <th>month</th>\n",
              "      <th>total_revenue</th>\n",
              "    </tr>\n",
              "  </thead>\n",
              "  <tbody>\n",
              "    <tr>\n",
              "      <th>0</th>\n",
              "      <td>1000</td>\n",
              "      <td>12</td>\n",
              "      <td>70.00</td>\n",
              "    </tr>\n",
              "    <tr>\n",
              "      <th>1</th>\n",
              "      <td>1001</td>\n",
              "      <td>8</td>\n",
              "      <td>20.00</td>\n",
              "    </tr>\n",
              "    <tr>\n",
              "      <th>2</th>\n",
              "      <td>1001</td>\n",
              "      <td>9</td>\n",
              "      <td>20.00</td>\n",
              "    </tr>\n",
              "    <tr>\n",
              "      <th>3</th>\n",
              "      <td>1001</td>\n",
              "      <td>10</td>\n",
              "      <td>90.09</td>\n",
              "    </tr>\n",
              "    <tr>\n",
              "      <th>4</th>\n",
              "      <td>1001</td>\n",
              "      <td>11</td>\n",
              "      <td>60.00</td>\n",
              "    </tr>\n",
              "  </tbody>\n",
              "</table>\n",
              "</div>"
            ],
            "text/plain": [
              "  user_id  month  total_revenue\n",
              "0    1000     12          70.00\n",
              "1    1001      8          20.00\n",
              "2    1001      9          20.00\n",
              "3    1001     10          90.09\n",
              "4    1001     11          60.00"
            ]
          },
          "execution_count": 33,
          "metadata": {},
          "output_type": "execute_result"
        }
      ],
      "source": [
        "# Calculating the extra charges\n",
        "monthly_calls = (new_analysis['total_mins'] - new_analysis['minutes_included']).clip(lower=0) * new_analysis['usd_per_minute']\n",
        "monthly_internet = np.ceil(((new_analysis['total_internet'] - new_analysis['mb_per_month_included']).clip(lower=0)) / 1000) * new_analysis['usd_per_gb']\n",
        "monthly_messages = (new_analysis['total_messages'] - new_analysis['messages_included']).clip(lower=0) * new_analysis['usd_per_message']\n",
        "\n",
        "# Adding the extra charges to the monthly charge\n",
        "new_analysis['total_revenue'] = new_analysis['usd_monthly_pay'] + monthly_calls + monthly_internet + monthly_messages\n",
        "\n",
        "#Selecting the information need to test for accuracy \n",
        "revenue_check = new_analysis[['user_id', 'month', 'total_revenue']]\n",
        "\n",
        "# Turning new_analysis into a dataframe that can be share and reused with Megaline\n",
        "new_analysis.to_csv('./datasets/megaline_edit.csv', index=False)\n",
        "\n",
        "revenue_check.head()"
      ]
    },
    {
      "cell_type": "markdown",
      "metadata": {},
      "source": [
        "With everything done, it's clear that everything is functioning as planned and connected the way we wanted. We can verify this by using 'revenue_check' to access all the necessary information, however we need it.\n",
        "\n",
        "## 5 Study user behaviour\n",
        "\n",
        "Now, let's begin our initial comparison between `surf` and `ultimate`. We'll start by examining and comparing each method of revenue. This will provide us with a deeper understanding of the various methods each plan uses to generate revenue and their respective reliability.\n",
        "\n",
        "Before I dive in, I'll set up a function that will automatically sort and filter our data based on the plan we're focusing on."
      ]
    },
    {
      "cell_type": "code",
      "execution_count": 34,
      "metadata": {},
      "outputs": [],
      "source": [
        "def surf_plan(df):\n",
        "    return df[df['plan'] == 'surf']\n",
        "\n",
        "def ultimate_plan(df):\n",
        "    return df[df['plan'] == 'ultimate']"
      ]
    },
    {
      "cell_type": "markdown",
      "metadata": {},
      "source": [
        "Now we won't need to set any new variables to each plan manually. Instead, we can run everything through our function for cleaner and less repetitive code.\n",
        "\n",
        "### 5.1 `calls` study\n",
        "\n",
        "To start, I'll collect all the columns related to calls necessary for this analysis. Then, I'll process them to compare plans on a monthly basis."
      ]
    },
    {
      "cell_type": "code",
      "execution_count": 35,
      "metadata": {},
      "outputs": [
        {
          "data": {
            "text/html": [
              "<div>\n",
              "<style scoped>\n",
              "    .dataframe tbody tr th:only-of-type {\n",
              "        vertical-align: middle;\n",
              "    }\n",
              "\n",
              "    .dataframe tbody tr th {\n",
              "        vertical-align: top;\n",
              "    }\n",
              "\n",
              "    .dataframe thead th {\n",
              "        text-align: right;\n",
              "    }\n",
              "</style>\n",
              "<table border=\"1\" class=\"dataframe\">\n",
              "  <thead>\n",
              "    <tr style=\"text-align: right;\">\n",
              "      <th></th>\n",
              "      <th>plan</th>\n",
              "      <th>month</th>\n",
              "      <th>avg_call</th>\n",
              "      <th>required</th>\n",
              "    </tr>\n",
              "  </thead>\n",
              "  <tbody>\n",
              "    <tr>\n",
              "      <th>0</th>\n",
              "      <td>surf</td>\n",
              "      <td>January</td>\n",
              "      <td>6.642857</td>\n",
              "      <td>203.000000</td>\n",
              "    </tr>\n",
              "    <tr>\n",
              "      <th>12</th>\n",
              "      <td>ultimate</td>\n",
              "      <td>January</td>\n",
              "      <td>6.201915</td>\n",
              "      <td>193.500000</td>\n",
              "    </tr>\n",
              "    <tr>\n",
              "      <th>1</th>\n",
              "      <td>surf</td>\n",
              "      <td>February</td>\n",
              "      <td>6.814628</td>\n",
              "      <td>297.000000</td>\n",
              "    </tr>\n",
              "    <tr>\n",
              "      <th>13</th>\n",
              "      <td>ultimate</td>\n",
              "      <td>February</td>\n",
              "      <td>7.062303</td>\n",
              "      <td>403.142857</td>\n",
              "    </tr>\n",
              "    <tr>\n",
              "      <th>2</th>\n",
              "      <td>surf</td>\n",
              "      <td>March</td>\n",
              "      <td>7.199957</td>\n",
              "      <td>330.000000</td>\n",
              "    </tr>\n",
              "    <tr>\n",
              "      <th>14</th>\n",
              "      <td>ultimate</td>\n",
              "      <td>March</td>\n",
              "      <td>6.393757</td>\n",
              "      <td>304.250000</td>\n",
              "    </tr>\n",
              "    <tr>\n",
              "      <th>3</th>\n",
              "      <td>surf</td>\n",
              "      <td>April</td>\n",
              "      <td>7.040349</td>\n",
              "      <td>351.540000</td>\n",
              "    </tr>\n",
              "    <tr>\n",
              "      <th>15</th>\n",
              "      <td>ultimate</td>\n",
              "      <td>April</td>\n",
              "      <td>7.215266</td>\n",
              "      <td>336.857143</td>\n",
              "    </tr>\n",
              "    <tr>\n",
              "      <th>4</th>\n",
              "      <td>surf</td>\n",
              "      <td>May</td>\n",
              "      <td>7.182627</td>\n",
              "      <td>399.584416</td>\n",
              "    </tr>\n",
              "    <tr>\n",
              "      <th>16</th>\n",
              "      <td>ultimate</td>\n",
              "      <td>May</td>\n",
              "      <td>7.121973</td>\n",
              "      <td>406.241379</td>\n",
              "    </tr>\n",
              "    <tr>\n",
              "      <th>17</th>\n",
              "      <td>ultimate</td>\n",
              "      <td>June</td>\n",
              "      <td>7.110516</td>\n",
              "      <td>370.957447</td>\n",
              "    </tr>\n",
              "    <tr>\n",
              "      <th>5</th>\n",
              "      <td>surf</td>\n",
              "      <td>June</td>\n",
              "      <td>7.215501</td>\n",
              "      <td>431.298969</td>\n",
              "    </tr>\n",
              "    <tr>\n",
              "      <th>18</th>\n",
              "      <td>ultimate</td>\n",
              "      <td>July</td>\n",
              "      <td>7.324718</td>\n",
              "      <td>427.067797</td>\n",
              "    </tr>\n",
              "    <tr>\n",
              "      <th>6</th>\n",
              "      <td>surf</td>\n",
              "      <td>July</td>\n",
              "      <td>7.027745</td>\n",
              "      <td>449.983471</td>\n",
              "    </tr>\n",
              "    <tr>\n",
              "      <th>19</th>\n",
              "      <td>ultimate</td>\n",
              "      <td>August</td>\n",
              "      <td>7.018966</td>\n",
              "      <td>421.436620</td>\n",
              "    </tr>\n",
              "    <tr>\n",
              "      <th>7</th>\n",
              "      <td>surf</td>\n",
              "      <td>August</td>\n",
              "      <td>7.127926</td>\n",
              "      <td>410.111111</td>\n",
              "    </tr>\n",
              "    <tr>\n",
              "      <th>20</th>\n",
              "      <td>ultimate</td>\n",
              "      <td>September</td>\n",
              "      <td>7.117788</td>\n",
              "      <td>437.511628</td>\n",
              "    </tr>\n",
              "    <tr>\n",
              "      <th>8</th>\n",
              "      <td>surf</td>\n",
              "      <td>September</td>\n",
              "      <td>7.127642</td>\n",
              "      <td>414.226804</td>\n",
              "    </tr>\n",
              "    <tr>\n",
              "      <th>21</th>\n",
              "      <td>ultimate</td>\n",
              "      <td>October</td>\n",
              "      <td>7.091066</td>\n",
              "      <td>450.735849</td>\n",
              "    </tr>\n",
              "    <tr>\n",
              "      <th>9</th>\n",
              "      <td>surf</td>\n",
              "      <td>October</td>\n",
              "      <td>7.103434</td>\n",
              "      <td>429.729958</td>\n",
              "    </tr>\n",
              "    <tr>\n",
              "      <th>22</th>\n",
              "      <td>ultimate</td>\n",
              "      <td>November</td>\n",
              "      <td>7.024832</td>\n",
              "      <td>445.196850</td>\n",
              "    </tr>\n",
              "    <tr>\n",
              "      <th>10</th>\n",
              "      <td>surf</td>\n",
              "      <td>November</td>\n",
              "      <td>7.237324</td>\n",
              "      <td>423.325088</td>\n",
              "    </tr>\n",
              "    <tr>\n",
              "      <th>11</th>\n",
              "      <td>surf</td>\n",
              "      <td>December</td>\n",
              "      <td>7.218351</td>\n",
              "      <td>473.836478</td>\n",
              "    </tr>\n",
              "    <tr>\n",
              "      <th>23</th>\n",
              "      <td>ultimate</td>\n",
              "      <td>December</td>\n",
              "      <td>7.065425</td>\n",
              "      <td>459.099338</td>\n",
              "    </tr>\n",
              "  </tbody>\n",
              "</table>\n",
              "</div>"
            ],
            "text/plain": [
              "        plan      month  avg_call    required\n",
              "0       surf    January  6.642857  203.000000\n",
              "12  ultimate    January  6.201915  193.500000\n",
              "1       surf   February  6.814628  297.000000\n",
              "13  ultimate   February  7.062303  403.142857\n",
              "2       surf      March  7.199957  330.000000\n",
              "14  ultimate      March  6.393757  304.250000\n",
              "3       surf      April  7.040349  351.540000\n",
              "15  ultimate      April  7.215266  336.857143\n",
              "4       surf        May  7.182627  399.584416\n",
              "16  ultimate        May  7.121973  406.241379\n",
              "17  ultimate       June  7.110516  370.957447\n",
              "5       surf       June  7.215501  431.298969\n",
              "18  ultimate       July  7.324718  427.067797\n",
              "6       surf       July  7.027745  449.983471\n",
              "19  ultimate     August  7.018966  421.436620\n",
              "7       surf     August  7.127926  410.111111\n",
              "20  ultimate  September  7.117788  437.511628\n",
              "8       surf  September  7.127642  414.226804\n",
              "21  ultimate    October  7.091066  450.735849\n",
              "9       surf    October  7.103434  429.729958\n",
              "22  ultimate   November  7.024832  445.196850\n",
              "10      surf   November  7.237324  423.325088\n",
              "11      surf   December  7.218351  473.836478\n",
              "23  ultimate   December  7.065425  459.099338"
            ]
          },
          "execution_count": 35,
          "metadata": {},
          "output_type": "execute_result"
        }
      ],
      "source": [
        "# Extract the necessary columns.\n",
        "calls_study = new_analysis.loc[:, ['month', 'total_calls', 'total_mins', 'plan']]\n",
        "\n",
        "# Calculate the avgerage call lenght per user per month\n",
        "calls_study['avg_call'] = calls_study['total_mins'] / calls_study['total_calls']\n",
        "\n",
        "# Calculate the avgerage call lenght per month per plan\n",
        "calls_graph = calls_study.groupby(['plan', 'month']).agg(avg_call=('avg_call', 'mean'), required=('total_mins', 'mean')).reset_index()\n",
        "\n",
        "# Sort DataFrame by the 'month' column\n",
        "calls_graph = calls_graph.sort_values(by='month')\n",
        "calls_graph['month'] = pd.to_datetime(calls_graph['month'], format='%m').dt.month_name()\n",
        "\n",
        "calls_graph "
      ]
    },
    {
      "cell_type": "markdown",
      "metadata": {},
      "source": [
        "After displaying the updated data frame, you can see all the changes we made. It's exactly what we wanted, presented in the cleanest format. Now, we can easily visualize the information for comparison. "
      ]
    },
    {
      "cell_type": "code",
      "execution_count": 36,
      "metadata": {},
      "outputs": [
        {
          "data": {
            "image/png": "[encoded data removed]",
            "text/plain": [
              "<Figure size 640x480 with 1 Axes>"
            ]
          },
          "metadata": {},
          "output_type": "display_data"
        }
      ],
      "source": [
        "# Filter the data for 'surf' plan and plot\n",
        "surf_call = surf_plan(calls_graph)\n",
        "plt.bar(surf_call['month'], surf_call['avg_call'], color='blue', label='surf')\n",
        "\n",
        "# Filter the data for 'ultimate' plan and plot\n",
        "ultimate_call = ultimate_plan(calls_graph)\n",
        "plt.bar(ultimate_call['month'], ultimate_call['avg_call'], color='orange', label='ultimate', alpha=0.7)\n",
        "\n",
        "# Set labels and title\n",
        "plt.xlabel('Month')\n",
        "plt.ylabel('Average Calls')\n",
        "plt.title('Average Calls per Month')\n",
        "plt.xticks(rotation=45)\n",
        "plt.legend() \n",
        "\n",
        "plt.show()"
      ]
    },
    {
      "cell_type": "markdown",
      "metadata": {},
      "source": [
        "It seems that the call duration doesn't vary much between plans or even from month to month with either plan. Just from a glance, the difference seems negligible, especially considering it's only a matter of seconds.\n",
        "\n",
        "That said, since our main focus is revenue, let's shift our attention to the total usage per month in terms of minutes, instead of duration."
      ]
    },
    {
      "cell_type": "code",
      "execution_count": 37,
      "metadata": {},
      "outputs": [
        {
          "data": {
            "image/png": "[encoded data removed]",
            "text/plain": [
              "<Figure size 640x480 with 1 Axes>"
            ]
          },
          "metadata": {},
          "output_type": "display_data"
        }
      ],
      "source": [
        "# Plot the graphs \n",
        "surf_call['required'].plot(kind='hist', alpha=0.7, bins=25)\n",
        "ultimate_call['required'].plot(kind='hist', alpha=0.7, bins=25)\n",
        "\n",
        "# Add labels and title\n",
        "plt.xlabel('Required Calls')\n",
        "plt.ylabel('Frequency')\n",
        "plt.title('Histogram of Required Calls by Plan')\n",
        "plt.legend()\n",
        "\n",
        "plt.show()"
      ]
    },
    {
      "cell_type": "markdown",
      "metadata": {},
      "source": [
        "Up to this point, the difference between the number of minutes required per plan seems to remain fairly consistent.\n",
        "\n",
        "However, we can verify this mathematically:"
      ]
    },
    {
      "cell_type": "code",
      "execution_count": 38,
      "metadata": {},
      "outputs": [
        {
          "name": "stdout",
          "output_type": "stream",
          "text": [
            "Surf Mean: 7.08; Variance: 0.03\n",
            "Ultimate Mean: 6.98; Variance: 0.1\n"
          ]
        }
      ],
      "source": [
        "# Setting the mean and variaction for Surf\n",
        "calls_graph_mean_surf = round(surf_call['avg_call'].mean(), 2)\n",
        "calls_graph_var_surf = round(np.var(surf_call['avg_call']), 2)\n",
        "\n",
        "# Setting the mean and variaction for Ultimate\n",
        "calls_graph_mean_ultimate = round(ultimate_call['avg_call'].mean(), 2)\n",
        "calls_graph_var_ultimate = round(np.var(ultimate_call['avg_call']), 2)\n",
        "\n",
        "print(f'Surf Mean: {calls_graph_mean_surf}; Variance: {calls_graph_var_surf}')\n",
        "print(f'Ultimate Mean: {calls_graph_mean_ultimate}; Variance: {calls_graph_var_ultimate}')"
      ]
    },
    {
      "cell_type": "markdown",
      "metadata": {},
      "source": [
        "From the values provided in the previous code, statistically speaking, I can confidently say that Surf has a higher mean and greater consistency. This conclusion is drawn from its significantly smaller variance, making it a lot more reliable.\n",
        "\n",
        "Finally, I'd like to plot the values over a longer period of time to visually illustrate this."
      ]
    },
    {
      "cell_type": "code",
      "execution_count": 39,
      "metadata": {},
      "outputs": [
        {
          "data": {
            "image/png": "[encoded data removed]",
            "text/plain": [
              "<Figure size 640x480 with 1 Axes>"
            ]
          },
          "metadata": {},
          "output_type": "display_data"
        }
      ],
      "source": [
        "plt.boxplot([surf_call['avg_call'], \n",
        "            ultimate_call['avg_call']], \n",
        "            labels=['Surf', 'Ultimate'])\n",
        "\n",
        "plt.xlabel('Plan')\n",
        "plt.ylabel('Monthly Minutes Duration')\n",
        "plt.title('Distribution of Monthly Call Duration')\n",
        "plt.grid(True)\n",
        "plt.show()"
      ]
    },
    {
      "cell_type": "markdown",
      "metadata": {},
      "source": [
        "As demonstrated by the box plots, the line indicating the mean within the box is higher in `surf`. Upon closer inspection, you'll notice circles that mark outliers not consistent with the box plot. The `ultimate` plan has a greater number of outliers, which also extend further away from the box plot, indicating why it's less consistent.\n",
        "\n",
        "### 5.2 `internet`\n",
        "\n",
        "Now, we'll move on to the internet usage for both plans and see how they compare.First, let's extract all the data we need from the updated analysis data frame."
      ]
    },
    {
      "cell_type": "code",
      "execution_count": 40,
      "metadata": {},
      "outputs": [],
      "source": [
        "# Extract the necessary columns.\n",
        "internet_study = new_analysis.loc[:, ['plan', 'month', 'total_internet']]\n",
        "\n",
        "# Calculate the avgerage call lenght per month per plan\n",
        "internet_graph = internet_study.groupby(['plan', 'month']).agg(avg_internet=('total_internet', 'mean')).reset_index()\n",
        "\n",
        "# Sort DataFrame by the 'month' column\n",
        "internet_graph = internet_graph.sort_values(by='month')\n",
        "internet_graph['month'] = pd.to_datetime(internet_graph['month'], format='%m').dt.month_name()"
      ]
    },
    {
      "cell_type": "markdown",
      "metadata": {},
      "source": [
        "All the necessary steps from the call study were replicated, as shown above, so that we can evaluate the data in the same manner.\n",
        "\n",
        "That said, I'd like to compare how both plans perform month to month in terms of internet usage."
      ]
    },
    {
      "cell_type": "code",
      "execution_count": 41,
      "metadata": {},
      "outputs": [
        {
          "data": {
            "image/png": "[encoded data removed]",
            "text/plain": [
              "<Figure size 640x480 with 1 Axes>"
            ]
          },
          "metadata": {},
          "output_type": "display_data"
        }
      ],
      "source": [
        "# Filter the data for 'surf' plan and plot\n",
        "surf_internet = surf_plan(internet_graph)\n",
        "plt.bar(surf_internet['month'], surf_internet['avg_internet'], label='surf')\n",
        "\n",
        "# Filter the data for 'ultimate' plan and plot\n",
        "ultimate_internet = ultimate_plan(internet_graph)\n",
        "plt.bar(ultimate_internet['month'], ultimate_internet['avg_internet'], label='ultimate', alpha=0.7)\n",
        "\n",
        "# Set labels and title\n",
        "plt.xlabel('Month')\n",
        "plt.ylabel('Internet')\n",
        "plt.title('Internet per Month')\n",
        "plt.xticks(rotation=45)\n",
        "plt.legend() \n",
        "\n",
        "plt.show()"
      ]
    },
    {
      "cell_type": "markdown",
      "metadata": {},
      "source": [
        "This time, it appears that the Ultimate plan tends to have greater usage, but for internet per month. However, once again, we can verify this mathematically using mean and variance. "
      ]
    },
    {
      "cell_type": "code",
      "execution_count": 42,
      "metadata": {},
      "outputs": [
        {
          "name": "stdout",
          "output_type": "stream",
          "text": [
            "Surf Mean: 14481.58; Variance: 12192739.37\n",
            "Ultimate Mean: 16231.18; Variance: 8590954.01\n"
          ]
        }
      ],
      "source": [
        "# Setting the mean and variaction for Surf\n",
        "internet_graph_mean_surf = round(surf_internet['avg_internet'].mean(), 2)\n",
        "internet_graph_var_surf = round(np.var(surf_internet['avg_internet']), 2)\n",
        "\n",
        "# Setting the mean and variaction for Ultimate\n",
        "internet_graph_mean_ultimate = round(ultimate_internet['avg_internet'].mean(), 2)\n",
        "internet_graph_var_ultimate = round(np.var(ultimate_internet['avg_internet']), 2)\n",
        "\n",
        "print(f'Surf Mean: {internet_graph_mean_surf}; Variance: {internet_graph_var_surf}')\n",
        "print(f'Ultimate Mean: {internet_graph_mean_ultimate}; Variance: {internet_graph_var_ultimate}')"
      ]
    },
    {
      "cell_type": "markdown",
      "metadata": {},
      "source": [
        "Based on the calculations performed, it appears that this time the Ultimate plan has both the higher mean and the least variation, although both plans show a considerable amount of variation.\n",
        "\n",
        "Next, I'd like to visualize this so that it's easier to see."
      ]
    },
    {
      "cell_type": "code",
      "execution_count": 43,
      "metadata": {},
      "outputs": [
        {
          "data": {
            "image/png": "[encoded data removed]",
            "text/plain": [
              "<Figure size 640x480 with 1 Axes>"
            ]
          },
          "metadata": {},
          "output_type": "display_data"
        }
      ],
      "source": [
        "plt.boxplot([surf_internet['avg_internet'], \n",
        "            ultimate_internet['avg_internet']], \n",
        "            labels=['Surf', 'Ultimate'])\n",
        "\n",
        "plt.xlabel('Plan')\n",
        "plt.ylabel('Monthly Internet Usage')\n",
        "plt.title('Distribution of Monthly Internet Usage')\n",
        "plt.grid(True)\n",
        "plt.show()"
      ]
    },
    {
      "cell_type": "markdown",
      "metadata": {},
      "source": [
        "When visually examining the data with a box plot, we can see that both plans have outliers pointing in the same direction. Notably, the Ultimate plan exhibits smaller variance, as indicated by the spacing on the visualization grid. Additionally, both the mean and median of the Ultimate plan consistently appear higher, and you can also observe that they are much closer together compared to the Surf plan.\n",
        "\n",
        "### 5.3 `messages`\n",
        "\n",
        "Now, we'll move on to the message usage for both plans and see how they compare. Let's extract all the data we need from the updated analysis data frame."
      ]
    },
    {
      "cell_type": "code",
      "execution_count": 44,
      "metadata": {},
      "outputs": [],
      "source": [
        "# Extract the necessary columns.\n",
        "message_study = new_analysis.loc[:,['plan', 'month', 'total_messages']]\n",
        "\n",
        "# Calculate the avgerage call lenght per month per plan\n",
        "message_graph = message_study.groupby(['plan', 'month']).agg(avg_message=('total_messages', 'mean')).reset_index()\n",
        "\n",
        "# Sort DataFrame by the 'month' column\n",
        "message_graph = message_graph.sort_values(by='month')\n",
        "message_graph['month'] = pd.to_datetime(message_graph['month'], format='%m').dt.month_name()"
      ]
    },
    {
      "cell_type": "markdown",
      "metadata": {},
      "source": [
        "Now that we've gathered all the necessary information, let's take a visual look at the data provided and evaluate what we can see."
      ]
    },
    {
      "cell_type": "code",
      "execution_count": 45,
      "metadata": {},
      "outputs": [
        {
          "data": {
            "image/png": "[encoded data removed]",
            "text/plain": [
              "<Figure size 640x480 with 1 Axes>"
            ]
          },
          "metadata": {},
          "output_type": "display_data"
        }
      ],
      "source": [
        "# Filter the data for 'surf' plan and plot\n",
        "surf_message = surf_plan(message_graph)\n",
        "\n",
        "plt.bar(surf_message['month'], surf_message['avg_message'], label='surf')\n",
        "\n",
        "# Filter the data for 'ultimate' plan and plot\n",
        "ultimate_message = ultimate_plan(message_graph)\n",
        "plt.bar(ultimate_message['month'], ultimate_message['avg_message'], label='ultimate', alpha=0.7)\n",
        "\n",
        "# Set labels and title\n",
        "plt.xlabel('Month')\n",
        "plt.ylabel('Message')\n",
        "plt.title('Message per Month')\n",
        "plt.xticks(rotation=45)\n",
        "plt.legend() \n",
        "\n",
        "plt.show()"
      ]
    },
    {
      "cell_type": "markdown",
      "metadata": {},
      "source": [
        "Based on the previous graphs, my understanding suggests that Ultimate would once again have a higher mean and median with lower variance, potentially with one outlier trending towards zero.\n",
        "\n",
        "Let's start to verify this mathematically."
      ]
    },
    {
      "cell_type": "code",
      "execution_count": 46,
      "metadata": {},
      "outputs": [
        {
          "name": "stdout",
          "output_type": "stream",
          "text": [
            "Surf Mean: 24.66; Variance: 75.06\n",
            "Ultimate Mean: 31.09; Variance: 80.07\n"
          ]
        }
      ],
      "source": [
        "# Setting the mean and variaction for Surf\n",
        "message_graph_mean_surf = round(surf_message['avg_message'].mean(), 2)\n",
        "message_graph_var_surf = round(np.var(surf_message['avg_message']), 2)\n",
        "\n",
        "# Setting the mean and variaction for Ultimate\n",
        "message_graph_mean_ultimate = round(ultimate_message['avg_message'].mean(), 2)\n",
        "message_graph_var_ultimate = round(np.var(ultimate_message['avg_message']), 2)\n",
        "\n",
        "print(f'Surf Mean: {message_graph_mean_surf}; Variance: {message_graph_var_surf}')\n",
        "print(f'Ultimate Mean: {message_graph_mean_ultimate}; Variance: {message_graph_var_ultimate}')"
      ]
    },
    {
      "cell_type": "markdown",
      "metadata": {},
      "source": [
        "It looks like I was close, but not entirely correct. This highlights the importance of understanding the numbers and being able to substantiate what you believe you see. Just as we did before, I'll illustrate these values more effectively with a box plot."
      ]
    },
    {
      "cell_type": "code",
      "execution_count": 47,
      "metadata": {},
      "outputs": [
        {
          "data": {
            "image/png": "[encoded data removed]",
            "text/plain": [
              "<Figure size 640x480 with 1 Axes>"
            ]
          },
          "metadata": {},
          "output_type": "display_data"
        }
      ],
      "source": [
        "plt.boxplot([surf_message['avg_message'], \n",
        "            ultimate_message['avg_message']], \n",
        "            labels=['Surf', 'Ultimate'])\n",
        "\n",
        "plt.xlabel('Plan')\n",
        "plt.ylabel('Monthly Message Usage')\n",
        "plt.title('Distribution of Monthly Message Usage')\n",
        "plt.grid(True)\n",
        "plt.show()"
      ]
    },
    {
      "cell_type": "markdown",
      "metadata": {},
      "source": [
        "I stand corrected; there don't appear to be any outliers in the graph. Nonetheless, this graph effectively displays what we noted mathematically. \n",
        "\n",
        "As far as I can see, in terms of the different methods of revenue, Ultimate generally has higher overall usage, while Surf tends to exhibit tighter variance.\n",
        "\n",
        "## 6 Revenue \n",
        "\n",
        "Now that we have a better understanding of the various components that contribute to the revenue for each plan, we'll proceed with analyzing the revenue to determine which plan is better to advertise."
      ]
    },
    {
      "cell_type": "code",
      "execution_count": 48,
      "metadata": {},
      "outputs": [],
      "source": [
        "# Set up the data for the comparison\n",
        "revenue = new_analysis.groupby(['plan', 'month'])['total_revenue'].mean().reset_index()\n",
        "\n",
        "# Sort DataFrame by the 'month' column\n",
        "revenue = revenue.sort_values(by='month')\n",
        "revenue['month'] = pd.to_datetime(revenue['month'], format='%m').dt.month_name()"
      ]
    },
    {
      "cell_type": "markdown",
      "metadata": {},
      "source": [
        "Now that we have the Revenue data frame set up, we can visualize each plan and observe how they differ per month in terms of their revenue, similar to what we've done before. "
      ]
    },
    {
      "cell_type": "code",
      "execution_count": 49,
      "metadata": {},
      "outputs": [
        {
          "data": {
            "image/png": "[encoded data removed]",
            "text/plain": [
              "<Figure size 640x480 with 1 Axes>"
            ]
          },
          "metadata": {},
          "output_type": "display_data"
        }
      ],
      "source": [
        "# Filter the data for 'surf' plan and plot\n",
        "surf_revenue = surf_plan(revenue)\n",
        "plt.bar(surf_revenue['month'], surf_revenue['total_revenue'], label='surf')\n",
        "\n",
        "# Filter the data for 'ultimate' plan and plot\n",
        "ultimate_revenue = ultimate_plan(revenue)\n",
        "plt.bar(ultimate_revenue['month'], ultimate_revenue['total_revenue'], label='ultimate', alpha=0.7)\n",
        "\n",
        "# Set labels and title\n",
        "plt.xlabel('Month')\n",
        "plt.ylabel('Revenue')\n",
        "plt.title('Revenue per Month')\n",
        "plt.xticks(rotation=45)\n",
        "plt.legend() \n",
        "\n",
        "plt.show()"
      ]
    },
    {
      "cell_type": "markdown",
      "metadata": {},
      "source": [
        "After visually observing how the plans compare, it's evident that regardless of any consistencies we may have noticed in our case studies, the Ultimate plan consistently appears to have a higher mean and median, with virtually no outliers and the smallest spread in variation.\n",
        "\n",
        "\n",
        "Regardless of what we observe in the graphs, it's prudent to double-check mathematically to ensure that this is indeed the case."
      ]
    },
    {
      "cell_type": "code",
      "execution_count": 50,
      "metadata": {},
      "outputs": [
        {
          "name": "stdout",
          "output_type": "stream",
          "text": [
            "Surf Mean: 52.16; Variance: 203.19\n",
            "Ultimate Mean: 72.08; Variance: 1.81\n"
          ]
        }
      ],
      "source": [
        "# Setting the mean and variaction for Surf\n",
        "revenue_surf_mean = round(surf_revenue['total_revenue'].mean(), 2)\n",
        "revenue_surf_var = round(np.var(surf_revenue['total_revenue']), 2)\n",
        "\n",
        "# Setting the mean and variaction for Ultimate\n",
        "revenue_ultimate_mean = round(ultimate_revenue['total_revenue'].mean(), 2)\n",
        "revenue_ultimate_var = round(np.var(ultimate_revenue['total_revenue']), 2)\n",
        "\n",
        "print(f'Surf Mean: {revenue_surf_mean}; Variance: {revenue_surf_var}')\n",
        "print(f'Ultimate Mean: {revenue_ultimate_mean}; Variance: {revenue_ultimate_var}')"
      ]
    },
    {
      "cell_type": "markdown",
      "metadata": {},
      "source": [
        "After examining the calculations, it seems to be exactly as I thought. The graphs strongly suggest this outcome, and the calculations have once again provided strong support. To gain a better visual understanding, I'd like to display how this looks."
      ]
    },
    {
      "cell_type": "code",
      "execution_count": 51,
      "metadata": {},
      "outputs": [
        {
          "data": {
            "image/png": "[encoded data removed]",
            "text/plain": [
              "<Figure size 640x480 with 1 Axes>"
            ]
          },
          "metadata": {},
          "output_type": "display_data"
        }
      ],
      "source": [
        "plt.boxplot([surf_revenue['total_revenue'], \n",
        "            ultimate_revenue['total_revenue']], \n",
        "            labels=['Surf', 'Ultimate'])\n",
        "\n",
        "plt.xlabel('Plan')\n",
        "plt.ylabel('Average Monthly Revenue')\n",
        "plt.title('Distribution of Average Monthly Revenue')\n",
        "plt.grid(True)\n",
        "plt.show()"
      ]
    },
    {
      "cell_type": "markdown",
      "metadata": {},
      "source": [
        "With this, it becomes very apparent that the Ultimate plan generates higher revenue compared to the Surf plan. While earlier we observed that Surf had a tighter variance in terms of the different revenue-generating methods, it's clear from what we see that this is not the case when it comes to revenue.\n",
        "\n",
        "## 7 Test statistical hypotheses\n",
        "\n",
        "Despite all the information we've gathered up until this point, we can further solidify whether the Ultimate plan would indeed be the best plan to invest more marketing resources into. While we can see that it brings in higher revenue, we can also test to see if this difference is statistically significant. \n",
        "\n",
        "### 7.1 Ultimate Revenue Significant\n",
        "\n",
        "1. **Null Hypothesis (H₀):** There is no significant difference in revenue between Plan 1 (Ultimate) and Plan 2 (Surf).\n",
        "2. **Alternative Hypothesis (H₁):** Plan 1 (Ultimate) has significantly more revenue than Plan 2 (Surf)."
      ]
    },
    {
      "cell_type": "code",
      "execution_count": 52,
      "metadata": {},
      "outputs": [
        {
          "name": "stdout",
          "output_type": "stream",
          "text": [
            "Null hypothesis rejected: Plan 1 (Ultimate) has significantly more revenue than Plan 2 (Surf).\n"
          ]
        }
      ],
      "source": [
        "revenue_surf = surf_plan(new_analysis)['total_revenue']\n",
        "revenue_ultimate = ultimate_plan(new_analysis)['total_revenue']\n",
        "\n",
        "results = st.ttest_ind(revenue_ultimate, revenue_surf)\n",
        "\n",
        "alpha = 0.05\n",
        "\n",
        "if results.pvalue / 2 < alpha and results.statistic > 0:\n",
        "    print(\"Null hypothesis rejected: Plan 1 (Ultimate) has significantly more revenue than Plan 2 (Surf).\")\n",
        "else:\n",
        "    print(\"Null hypothesis cannot be rejected.\")"
      ]
    },
    {
      "cell_type": "markdown",
      "metadata": {},
      "source": [
        "There's a meaningful difference in revenue between the two plans.\n",
        "\n",
        "### 7.2 Does Area Make The Difference \n",
        "\n",
        "Even though there's a significant difference in revenue between the two plans across different user locations, I'm curious to see if the user's location makes a difference. For this analysis, I'd like to focus on the area I grew up in (NY-NJ).\n",
        "\n",
        "1. **Null Hypothesis (H₀):** There is no significant difference in revenue between NJ-NY and pther areas.\n",
        "2. **Alternative Hypothesis (H₁):** There is a significant difference in revenue between NJ-NY and pther areas."
      ]
    },
    {
      "cell_type": "code",
      "execution_count": 53,
      "metadata": {},
      "outputs": [
        {
          "name": "stdout",
          "output_type": "stream",
          "text": [
            "We can't reject the null hypothesis\n"
          ]
        }
      ],
      "source": [
        "hometown = new_analysis[new_analysis['city'].isin(['NJ', 'NY'])]['total_revenue']\n",
        "other_areas = new_analysis[~new_analysis['city'].isin(['NJ', 'NY'])]['total_revenue']\n",
        "\n",
        "results = st.ttest_ind(hometown, other_areas)\n",
        "\n",
        "if results.pvalue < alpha:\n",
        "    print(\"We reject the null hypothesis\")\n",
        "else:\n",
        "    print(\"We can't reject the null hypothesis\")"
      ]
    },
    {
      "cell_type": "markdown",
      "metadata": {},
      "source": [
        "It appears that the revenue from one state compared to another may indeed be vastly different. It might explain why our previous calculation showed no significance. The variation in revenue between states could be a significant factor influencing the overall results.\n",
        "\n",
        "## Conclusion\n",
        "\n",
        "With all calculations completed, we can see that not all areas are equal in terms of the revenue they generated. So, even though the Ultimate plan is significantly better than the Surf plan outright, it may depend on the location. Leaving me inclined to believe we may need to be more selective in the areas that we choose to advertise for and perform the analysis state by state."
      ]
    }
  ],
  "metadata": {
    "colab": {
      "include_colab_link": true,
      "provenance": []
    },
    "kernelspec": {
      "display_name": "base",
      "language": "python",
      "name": "python3"
    },
    "language_info": {
      "codemirror_mode": {
        "name": "ipython",
        "version": 3
      },
      "file_extension": ".py",
      "mimetype": "text/x-python",
      "name": "python",
      "nbconvert_exporter": "python",
      "pygments_lexer": "ipython3",
      "version": "3.11.7"
    }
  },
  "nbformat": 4,
  "nbformat_minor": 0
}
