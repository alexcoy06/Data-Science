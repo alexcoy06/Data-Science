{
 "cells": [
  {
   "cell_type": "markdown",
   "metadata": {},
   "source": [
    "## 1-Overview"
   ]
  },
  {
   "cell_type": "markdown",
   "metadata": {},
   "source": [
    "### 1.1 Project Description"
   ]
  },
  {
   "cell_type": "markdown",
   "metadata": {},
   "source": [
    "I am preparing a prototype of a machine learning model for Zyfra, a company that develops efficiency solutions for heavy industry. The model will predict the amount of gold recovered from gold ore using data on extraction and purification."
   ]
  },
  {
   "cell_type": "markdown",
   "metadata": {},
   "source": [
    "### 1.2 Task"
   ]
  },
  {
   "cell_type": "markdown",
   "metadata": {},
   "source": [
    "1. Prepare the data.\n",
    "2. Perform data analysis.\n",
    "3. Develop and train a model."
   ]
  },
  {
   "cell_type": "markdown",
   "metadata": {},
   "source": [
    "## 2-Initialization"
   ]
  },
  {
   "cell_type": "markdown",
   "metadata": {},
   "source": [
    "### 2.1 Add imports"
   ]
  },
  {
   "cell_type": "markdown",
   "metadata": {},
   "source": [
    "Imports in Jupyter notebooks allow users to access external libraries for extended functionality and facilitate code organization by declaring dependencies at the beginning of the notebook, ensuring clear and efficient development."
   ]
  },
  {
   "cell_type": "code",
   "execution_count": 1,
   "metadata": {},
   "outputs": [],
   "source": [
    "import pandas as pd\n",
    "import numpy as np\n",
    "import matplotlib.pyplot as plt\n",
    "from sklearn.tree import DecisionTreeRegressor\n",
    "from sklearn.model_selection import cross_val_score, KFold\n",
    "from sklearn.metrics import mean_absolute_error\n",
    "from sklearn.linear_model import LinearRegression\n",
    "from sklearn.ensemble import RandomForestRegressor"
   ]
  },
  {
   "cell_type": "markdown",
   "metadata": {},
   "source": [
    "1. **Pandas**: is a Python library used for data manipulation and analysis, offering powerful data structures and operations for working with structured data.\n",
    "2. **Sklearn**: is a Python library for machine learning that provides tools for data mining, data analysis, and machine learning algorithms, built on NumPy, SciPy, and matplotlib.\n",
    "3. **Numpy**: is a Python library used for efficient numerical computing, providing support for large, multi-dimensional arrays and matrices, along with a collection of mathematical functions to operate on these arrays.\n",
    "4. **Matplotlib**: is a plotting library for Python that enables the creation of static, animated, and interactive visualizations, providing a wide range of plotting options and customization."
   ]
  },
  {
   "cell_type": "markdown",
   "metadata": {},
   "source": [
    "### 2.2 Set up CSV DataFrames"
   ]
  },
  {
   "cell_type": "markdown",
   "metadata": {},
   "source": [
    "In my Jupyter notebook, I use Pandas to load CSV files, enabling me to manipulate and analyze data seamlessly within the notebook environment."
   ]
  },
  {
   "cell_type": "code",
   "execution_count": 2,
   "metadata": {},
   "outputs": [],
   "source": [
    "paths = {\n",
    "    'local': './datasets/gold_recovery_{}.csv',\n",
    "    'server': '/datasets/gold_recovery_{}.csv',\n",
    "    'online': '',\n",
    "}"
   ]
  },
  {
   "cell_type": "markdown",
   "metadata": {},
   "source": [
    "I define the `load_csv` function to load a dataset specified by the argument `local`. First, I attempt to read it locally from `local[file_key]`, handling a `FileNotFoundError` by trying to read from `server[file_key]` if necessary, and finally, from `online[file_key]` if all else fails."
   ]
  },
  {
   "cell_type": "code",
   "execution_count": 3,
   "metadata": {},
   "outputs": [],
   "source": [
    "# Load CSV with fallback\n",
    "def load_csv(name, source='local'):\n",
    "    try:\n",
    "        return pd.read_csv(paths[source].format(name))\n",
    "    except FileNotFoundError:\n",
    "        return pd.read_csv(paths['server'].format(name)) # if source == 'local' else pd.read_csv(paths['online'].format(name))"
   ]
  },
  {
   "cell_type": "markdown",
   "metadata": {},
   "source": [
    "I define the `load_csv` function to load a dataset specified by the argument `local`. First, I attempt to read it locally from `local[file_key]`, handling a `FileNotFoundError` by trying to read from `server[file_key]` if necessary, and finally, from `online[file_key]` if all else fails."
   ]
  },
  {
   "cell_type": "code",
   "execution_count": 4,
   "metadata": {},
   "outputs": [],
   "source": [
    "full = load_csv('full')\n",
    "test = load_csv('test')\n",
    "train = load_csv('train')"
   ]
  },
  {
   "cell_type": "markdown",
   "metadata": {},
   "source": [
    "The three CSV files (`full`, `test`, and `train`) have been loaded into separate variables (`full`, `test`, and `train`) using the `load_csv` function."
   ]
  },
  {
   "cell_type": "markdown",
   "metadata": {},
   "source": [
    "### 2.3 Display"
   ]
  },
  {
   "cell_type": "markdown",
   "metadata": {},
   "source": [
    "The following code snippet will be used to display the first few rows of each DataFrames (`full`, `test`, and `train`) in a tabular format. \n",
    "\n",
    "This helps in quickly inspecting the initial data in each DataFrame."
   ]
  },
  {
   "cell_type": "code",
   "execution_count": 5,
   "metadata": {},
   "outputs": [
    {
     "data": {
      "text/html": [
       "<div>\n",
       "<style scoped>\n",
       "    .dataframe tbody tr th:only-of-type {\n",
       "        vertical-align: middle;\n",
       "    }\n",
       "\n",
       "    .dataframe tbody tr th {\n",
       "        vertical-align: top;\n",
       "    }\n",
       "\n",
       "    .dataframe thead th {\n",
       "        text-align: right;\n",
       "    }\n",
       "</style>\n",
       "<table border=\"1\" class=\"dataframe\">\n",
       "  <thead>\n",
       "    <tr style=\"text-align: right;\">\n",
       "      <th></th>\n",
       "      <th>date</th>\n",
       "      <th>final.output.concentrate_ag</th>\n",
       "      <th>final.output.concentrate_pb</th>\n",
       "      <th>final.output.concentrate_sol</th>\n",
       "      <th>final.output.concentrate_au</th>\n",
       "      <th>final.output.recovery</th>\n",
       "      <th>final.output.tail_ag</th>\n",
       "      <th>final.output.tail_pb</th>\n",
       "      <th>final.output.tail_sol</th>\n",
       "      <th>final.output.tail_au</th>\n",
       "      <th>...</th>\n",
       "      <th>secondary_cleaner.state.floatbank4_a_air</th>\n",
       "      <th>secondary_cleaner.state.floatbank4_a_level</th>\n",
       "      <th>secondary_cleaner.state.floatbank4_b_air</th>\n",
       "      <th>secondary_cleaner.state.floatbank4_b_level</th>\n",
       "      <th>secondary_cleaner.state.floatbank5_a_air</th>\n",
       "      <th>secondary_cleaner.state.floatbank5_a_level</th>\n",
       "      <th>secondary_cleaner.state.floatbank5_b_air</th>\n",
       "      <th>secondary_cleaner.state.floatbank5_b_level</th>\n",
       "      <th>secondary_cleaner.state.floatbank6_a_air</th>\n",
       "      <th>secondary_cleaner.state.floatbank6_a_level</th>\n",
       "    </tr>\n",
       "  </thead>\n",
       "  <tbody>\n",
       "    <tr>\n",
       "      <th>0</th>\n",
       "      <td>2016-01-15 00:00:00</td>\n",
       "      <td>6.055403</td>\n",
       "      <td>9.889648</td>\n",
       "      <td>5.507324</td>\n",
       "      <td>42.192020</td>\n",
       "      <td>70.541216</td>\n",
       "      <td>10.411962</td>\n",
       "      <td>0.895447</td>\n",
       "      <td>16.904297</td>\n",
       "      <td>2.143149</td>\n",
       "      <td>...</td>\n",
       "      <td>14.016835</td>\n",
       "      <td>-502.488007</td>\n",
       "      <td>12.099931</td>\n",
       "      <td>-504.715942</td>\n",
       "      <td>9.925633</td>\n",
       "      <td>-498.310211</td>\n",
       "      <td>8.079666</td>\n",
       "      <td>-500.470978</td>\n",
       "      <td>14.151341</td>\n",
       "      <td>-605.841980</td>\n",
       "    </tr>\n",
       "    <tr>\n",
       "      <th>1</th>\n",
       "      <td>2016-01-15 01:00:00</td>\n",
       "      <td>6.029369</td>\n",
       "      <td>9.968944</td>\n",
       "      <td>5.257781</td>\n",
       "      <td>42.701629</td>\n",
       "      <td>69.266198</td>\n",
       "      <td>10.462676</td>\n",
       "      <td>0.927452</td>\n",
       "      <td>16.634514</td>\n",
       "      <td>2.224930</td>\n",
       "      <td>...</td>\n",
       "      <td>13.992281</td>\n",
       "      <td>-505.503262</td>\n",
       "      <td>11.950531</td>\n",
       "      <td>-501.331529</td>\n",
       "      <td>10.039245</td>\n",
       "      <td>-500.169983</td>\n",
       "      <td>7.984757</td>\n",
       "      <td>-500.582168</td>\n",
       "      <td>13.998353</td>\n",
       "      <td>-599.787184</td>\n",
       "    </tr>\n",
       "    <tr>\n",
       "      <th>2</th>\n",
       "      <td>2016-01-15 02:00:00</td>\n",
       "      <td>6.055926</td>\n",
       "      <td>10.213995</td>\n",
       "      <td>5.383759</td>\n",
       "      <td>42.657501</td>\n",
       "      <td>68.116445</td>\n",
       "      <td>10.507046</td>\n",
       "      <td>0.953716</td>\n",
       "      <td>16.208849</td>\n",
       "      <td>2.257889</td>\n",
       "      <td>...</td>\n",
       "      <td>14.015015</td>\n",
       "      <td>-502.520901</td>\n",
       "      <td>11.912783</td>\n",
       "      <td>-501.133383</td>\n",
       "      <td>10.070913</td>\n",
       "      <td>-500.129135</td>\n",
       "      <td>8.013877</td>\n",
       "      <td>-500.517572</td>\n",
       "      <td>14.028663</td>\n",
       "      <td>-601.427363</td>\n",
       "    </tr>\n",
       "    <tr>\n",
       "      <th>3</th>\n",
       "      <td>2016-01-15 03:00:00</td>\n",
       "      <td>6.047977</td>\n",
       "      <td>9.977019</td>\n",
       "      <td>4.858634</td>\n",
       "      <td>42.689819</td>\n",
       "      <td>68.347543</td>\n",
       "      <td>10.422762</td>\n",
       "      <td>0.883763</td>\n",
       "      <td>16.532835</td>\n",
       "      <td>2.146849</td>\n",
       "      <td>...</td>\n",
       "      <td>14.036510</td>\n",
       "      <td>-500.857308</td>\n",
       "      <td>11.999550</td>\n",
       "      <td>-501.193686</td>\n",
       "      <td>9.970366</td>\n",
       "      <td>-499.201640</td>\n",
       "      <td>7.977324</td>\n",
       "      <td>-500.255908</td>\n",
       "      <td>14.005551</td>\n",
       "      <td>-599.996129</td>\n",
       "    </tr>\n",
       "    <tr>\n",
       "      <th>4</th>\n",
       "      <td>2016-01-15 04:00:00</td>\n",
       "      <td>6.148599</td>\n",
       "      <td>10.142511</td>\n",
       "      <td>4.939416</td>\n",
       "      <td>42.774141</td>\n",
       "      <td>66.927016</td>\n",
       "      <td>10.360302</td>\n",
       "      <td>0.792826</td>\n",
       "      <td>16.525686</td>\n",
       "      <td>2.055292</td>\n",
       "      <td>...</td>\n",
       "      <td>14.027298</td>\n",
       "      <td>-499.838632</td>\n",
       "      <td>11.953070</td>\n",
       "      <td>-501.053894</td>\n",
       "      <td>9.925709</td>\n",
       "      <td>-501.686727</td>\n",
       "      <td>7.894242</td>\n",
       "      <td>-500.356035</td>\n",
       "      <td>13.996647</td>\n",
       "      <td>-601.496691</td>\n",
       "    </tr>\n",
       "  </tbody>\n",
       "</table>\n",
       "<p>5 rows × 87 columns</p>\n",
       "</div>"
      ],
      "text/plain": [
       "                  date  final.output.concentrate_ag  \\\n",
       "0  2016-01-15 00:00:00                     6.055403   \n",
       "1  2016-01-15 01:00:00                     6.029369   \n",
       "2  2016-01-15 02:00:00                     6.055926   \n",
       "3  2016-01-15 03:00:00                     6.047977   \n",
       "4  2016-01-15 04:00:00                     6.148599   \n",
       "\n",
       "   final.output.concentrate_pb  final.output.concentrate_sol  \\\n",
       "0                     9.889648                      5.507324   \n",
       "1                     9.968944                      5.257781   \n",
       "2                    10.213995                      5.383759   \n",
       "3                     9.977019                      4.858634   \n",
       "4                    10.142511                      4.939416   \n",
       "\n",
       "   final.output.concentrate_au  final.output.recovery  final.output.tail_ag  \\\n",
       "0                    42.192020              70.541216             10.411962   \n",
       "1                    42.701629              69.266198             10.462676   \n",
       "2                    42.657501              68.116445             10.507046   \n",
       "3                    42.689819              68.347543             10.422762   \n",
       "4                    42.774141              66.927016             10.360302   \n",
       "\n",
       "   final.output.tail_pb  final.output.tail_sol  final.output.tail_au  ...  \\\n",
       "0              0.895447              16.904297              2.143149  ...   \n",
       "1              0.927452              16.634514              2.224930  ...   \n",
       "2              0.953716              16.208849              2.257889  ...   \n",
       "3              0.883763              16.532835              2.146849  ...   \n",
       "4              0.792826              16.525686              2.055292  ...   \n",
       "\n",
       "   secondary_cleaner.state.floatbank4_a_air  \\\n",
       "0                                 14.016835   \n",
       "1                                 13.992281   \n",
       "2                                 14.015015   \n",
       "3                                 14.036510   \n",
       "4                                 14.027298   \n",
       "\n",
       "   secondary_cleaner.state.floatbank4_a_level  \\\n",
       "0                                 -502.488007   \n",
       "1                                 -505.503262   \n",
       "2                                 -502.520901   \n",
       "3                                 -500.857308   \n",
       "4                                 -499.838632   \n",
       "\n",
       "   secondary_cleaner.state.floatbank4_b_air  \\\n",
       "0                                 12.099931   \n",
       "1                                 11.950531   \n",
       "2                                 11.912783   \n",
       "3                                 11.999550   \n",
       "4                                 11.953070   \n",
       "\n",
       "   secondary_cleaner.state.floatbank4_b_level  \\\n",
       "0                                 -504.715942   \n",
       "1                                 -501.331529   \n",
       "2                                 -501.133383   \n",
       "3                                 -501.193686   \n",
       "4                                 -501.053894   \n",
       "\n",
       "   secondary_cleaner.state.floatbank5_a_air  \\\n",
       "0                                  9.925633   \n",
       "1                                 10.039245   \n",
       "2                                 10.070913   \n",
       "3                                  9.970366   \n",
       "4                                  9.925709   \n",
       "\n",
       "   secondary_cleaner.state.floatbank5_a_level  \\\n",
       "0                                 -498.310211   \n",
       "1                                 -500.169983   \n",
       "2                                 -500.129135   \n",
       "3                                 -499.201640   \n",
       "4                                 -501.686727   \n",
       "\n",
       "   secondary_cleaner.state.floatbank5_b_air  \\\n",
       "0                                  8.079666   \n",
       "1                                  7.984757   \n",
       "2                                  8.013877   \n",
       "3                                  7.977324   \n",
       "4                                  7.894242   \n",
       "\n",
       "   secondary_cleaner.state.floatbank5_b_level  \\\n",
       "0                                 -500.470978   \n",
       "1                                 -500.582168   \n",
       "2                                 -500.517572   \n",
       "3                                 -500.255908   \n",
       "4                                 -500.356035   \n",
       "\n",
       "   secondary_cleaner.state.floatbank6_a_air  \\\n",
       "0                                 14.151341   \n",
       "1                                 13.998353   \n",
       "2                                 14.028663   \n",
       "3                                 14.005551   \n",
       "4                                 13.996647   \n",
       "\n",
       "   secondary_cleaner.state.floatbank6_a_level  \n",
       "0                                 -605.841980  \n",
       "1                                 -599.787184  \n",
       "2                                 -601.427363  \n",
       "3                                 -599.996129  \n",
       "4                                 -601.496691  \n",
       "\n",
       "[5 rows x 87 columns]"
      ]
     },
     "metadata": {},
     "output_type": "display_data"
    },
    {
     "data": {
      "text/html": [
       "<div>\n",
       "<style scoped>\n",
       "    .dataframe tbody tr th:only-of-type {\n",
       "        vertical-align: middle;\n",
       "    }\n",
       "\n",
       "    .dataframe tbody tr th {\n",
       "        vertical-align: top;\n",
       "    }\n",
       "\n",
       "    .dataframe thead th {\n",
       "        text-align: right;\n",
       "    }\n",
       "</style>\n",
       "<table border=\"1\" class=\"dataframe\">\n",
       "  <thead>\n",
       "    <tr style=\"text-align: right;\">\n",
       "      <th></th>\n",
       "      <th>date</th>\n",
       "      <th>primary_cleaner.input.sulfate</th>\n",
       "      <th>primary_cleaner.input.depressant</th>\n",
       "      <th>primary_cleaner.input.feed_size</th>\n",
       "      <th>primary_cleaner.input.xanthate</th>\n",
       "      <th>primary_cleaner.state.floatbank8_a_air</th>\n",
       "      <th>primary_cleaner.state.floatbank8_a_level</th>\n",
       "      <th>primary_cleaner.state.floatbank8_b_air</th>\n",
       "      <th>primary_cleaner.state.floatbank8_b_level</th>\n",
       "      <th>primary_cleaner.state.floatbank8_c_air</th>\n",
       "      <th>...</th>\n",
       "      <th>secondary_cleaner.state.floatbank4_a_air</th>\n",
       "      <th>secondary_cleaner.state.floatbank4_a_level</th>\n",
       "      <th>secondary_cleaner.state.floatbank4_b_air</th>\n",
       "      <th>secondary_cleaner.state.floatbank4_b_level</th>\n",
       "      <th>secondary_cleaner.state.floatbank5_a_air</th>\n",
       "      <th>secondary_cleaner.state.floatbank5_a_level</th>\n",
       "      <th>secondary_cleaner.state.floatbank5_b_air</th>\n",
       "      <th>secondary_cleaner.state.floatbank5_b_level</th>\n",
       "      <th>secondary_cleaner.state.floatbank6_a_air</th>\n",
       "      <th>secondary_cleaner.state.floatbank6_a_level</th>\n",
       "    </tr>\n",
       "  </thead>\n",
       "  <tbody>\n",
       "    <tr>\n",
       "      <th>0</th>\n",
       "      <td>2016-09-01 00:59:59</td>\n",
       "      <td>210.800909</td>\n",
       "      <td>14.993118</td>\n",
       "      <td>8.080000</td>\n",
       "      <td>1.005021</td>\n",
       "      <td>1398.981301</td>\n",
       "      <td>-500.225577</td>\n",
       "      <td>1399.144926</td>\n",
       "      <td>-499.919735</td>\n",
       "      <td>1400.102998</td>\n",
       "      <td>...</td>\n",
       "      <td>12.023554</td>\n",
       "      <td>-497.795834</td>\n",
       "      <td>8.016656</td>\n",
       "      <td>-501.289139</td>\n",
       "      <td>7.946562</td>\n",
       "      <td>-432.317850</td>\n",
       "      <td>4.872511</td>\n",
       "      <td>-500.037437</td>\n",
       "      <td>26.705889</td>\n",
       "      <td>-499.709414</td>\n",
       "    </tr>\n",
       "    <tr>\n",
       "      <th>1</th>\n",
       "      <td>2016-09-01 01:59:59</td>\n",
       "      <td>215.392455</td>\n",
       "      <td>14.987471</td>\n",
       "      <td>8.080000</td>\n",
       "      <td>0.990469</td>\n",
       "      <td>1398.777912</td>\n",
       "      <td>-500.057435</td>\n",
       "      <td>1398.055362</td>\n",
       "      <td>-499.778182</td>\n",
       "      <td>1396.151033</td>\n",
       "      <td>...</td>\n",
       "      <td>12.058140</td>\n",
       "      <td>-498.695773</td>\n",
       "      <td>8.130979</td>\n",
       "      <td>-499.634209</td>\n",
       "      <td>7.958270</td>\n",
       "      <td>-525.839648</td>\n",
       "      <td>4.878850</td>\n",
       "      <td>-500.162375</td>\n",
       "      <td>25.019940</td>\n",
       "      <td>-499.819438</td>\n",
       "    </tr>\n",
       "    <tr>\n",
       "      <th>2</th>\n",
       "      <td>2016-09-01 02:59:59</td>\n",
       "      <td>215.259946</td>\n",
       "      <td>12.884934</td>\n",
       "      <td>7.786667</td>\n",
       "      <td>0.996043</td>\n",
       "      <td>1398.493666</td>\n",
       "      <td>-500.868360</td>\n",
       "      <td>1398.860436</td>\n",
       "      <td>-499.764529</td>\n",
       "      <td>1398.075709</td>\n",
       "      <td>...</td>\n",
       "      <td>11.962366</td>\n",
       "      <td>-498.767484</td>\n",
       "      <td>8.096893</td>\n",
       "      <td>-500.827423</td>\n",
       "      <td>8.071056</td>\n",
       "      <td>-500.801673</td>\n",
       "      <td>4.905125</td>\n",
       "      <td>-499.828510</td>\n",
       "      <td>24.994862</td>\n",
       "      <td>-500.622559</td>\n",
       "    </tr>\n",
       "    <tr>\n",
       "      <th>3</th>\n",
       "      <td>2016-09-01 03:59:59</td>\n",
       "      <td>215.336236</td>\n",
       "      <td>12.006805</td>\n",
       "      <td>7.640000</td>\n",
       "      <td>0.863514</td>\n",
       "      <td>1399.618111</td>\n",
       "      <td>-498.863574</td>\n",
       "      <td>1397.440120</td>\n",
       "      <td>-499.211024</td>\n",
       "      <td>1400.129303</td>\n",
       "      <td>...</td>\n",
       "      <td>12.033091</td>\n",
       "      <td>-498.350935</td>\n",
       "      <td>8.074946</td>\n",
       "      <td>-499.474407</td>\n",
       "      <td>7.897085</td>\n",
       "      <td>-500.868509</td>\n",
       "      <td>4.931400</td>\n",
       "      <td>-499.963623</td>\n",
       "      <td>24.948919</td>\n",
       "      <td>-498.709987</td>\n",
       "    </tr>\n",
       "    <tr>\n",
       "      <th>4</th>\n",
       "      <td>2016-09-01 04:59:59</td>\n",
       "      <td>199.099327</td>\n",
       "      <td>10.682530</td>\n",
       "      <td>7.530000</td>\n",
       "      <td>0.805575</td>\n",
       "      <td>1401.268123</td>\n",
       "      <td>-500.808305</td>\n",
       "      <td>1398.128818</td>\n",
       "      <td>-499.504543</td>\n",
       "      <td>1402.172226</td>\n",
       "      <td>...</td>\n",
       "      <td>12.025367</td>\n",
       "      <td>-500.786497</td>\n",
       "      <td>8.054678</td>\n",
       "      <td>-500.397500</td>\n",
       "      <td>8.107890</td>\n",
       "      <td>-509.526725</td>\n",
       "      <td>4.957674</td>\n",
       "      <td>-500.360026</td>\n",
       "      <td>25.003331</td>\n",
       "      <td>-500.856333</td>\n",
       "    </tr>\n",
       "  </tbody>\n",
       "</table>\n",
       "<p>5 rows × 53 columns</p>\n",
       "</div>"
      ],
      "text/plain": [
       "                  date  primary_cleaner.input.sulfate  \\\n",
       "0  2016-09-01 00:59:59                     210.800909   \n",
       "1  2016-09-01 01:59:59                     215.392455   \n",
       "2  2016-09-01 02:59:59                     215.259946   \n",
       "3  2016-09-01 03:59:59                     215.336236   \n",
       "4  2016-09-01 04:59:59                     199.099327   \n",
       "\n",
       "   primary_cleaner.input.depressant  primary_cleaner.input.feed_size  \\\n",
       "0                         14.993118                         8.080000   \n",
       "1                         14.987471                         8.080000   \n",
       "2                         12.884934                         7.786667   \n",
       "3                         12.006805                         7.640000   \n",
       "4                         10.682530                         7.530000   \n",
       "\n",
       "   primary_cleaner.input.xanthate  primary_cleaner.state.floatbank8_a_air  \\\n",
       "0                        1.005021                             1398.981301   \n",
       "1                        0.990469                             1398.777912   \n",
       "2                        0.996043                             1398.493666   \n",
       "3                        0.863514                             1399.618111   \n",
       "4                        0.805575                             1401.268123   \n",
       "\n",
       "   primary_cleaner.state.floatbank8_a_level  \\\n",
       "0                               -500.225577   \n",
       "1                               -500.057435   \n",
       "2                               -500.868360   \n",
       "3                               -498.863574   \n",
       "4                               -500.808305   \n",
       "\n",
       "   primary_cleaner.state.floatbank8_b_air  \\\n",
       "0                             1399.144926   \n",
       "1                             1398.055362   \n",
       "2                             1398.860436   \n",
       "3                             1397.440120   \n",
       "4                             1398.128818   \n",
       "\n",
       "   primary_cleaner.state.floatbank8_b_level  \\\n",
       "0                               -499.919735   \n",
       "1                               -499.778182   \n",
       "2                               -499.764529   \n",
       "3                               -499.211024   \n",
       "4                               -499.504543   \n",
       "\n",
       "   primary_cleaner.state.floatbank8_c_air  ...  \\\n",
       "0                             1400.102998  ...   \n",
       "1                             1396.151033  ...   \n",
       "2                             1398.075709  ...   \n",
       "3                             1400.129303  ...   \n",
       "4                             1402.172226  ...   \n",
       "\n",
       "   secondary_cleaner.state.floatbank4_a_air  \\\n",
       "0                                 12.023554   \n",
       "1                                 12.058140   \n",
       "2                                 11.962366   \n",
       "3                                 12.033091   \n",
       "4                                 12.025367   \n",
       "\n",
       "   secondary_cleaner.state.floatbank4_a_level  \\\n",
       "0                                 -497.795834   \n",
       "1                                 -498.695773   \n",
       "2                                 -498.767484   \n",
       "3                                 -498.350935   \n",
       "4                                 -500.786497   \n",
       "\n",
       "   secondary_cleaner.state.floatbank4_b_air  \\\n",
       "0                                  8.016656   \n",
       "1                                  8.130979   \n",
       "2                                  8.096893   \n",
       "3                                  8.074946   \n",
       "4                                  8.054678   \n",
       "\n",
       "   secondary_cleaner.state.floatbank4_b_level  \\\n",
       "0                                 -501.289139   \n",
       "1                                 -499.634209   \n",
       "2                                 -500.827423   \n",
       "3                                 -499.474407   \n",
       "4                                 -500.397500   \n",
       "\n",
       "   secondary_cleaner.state.floatbank5_a_air  \\\n",
       "0                                  7.946562   \n",
       "1                                  7.958270   \n",
       "2                                  8.071056   \n",
       "3                                  7.897085   \n",
       "4                                  8.107890   \n",
       "\n",
       "   secondary_cleaner.state.floatbank5_a_level  \\\n",
       "0                                 -432.317850   \n",
       "1                                 -525.839648   \n",
       "2                                 -500.801673   \n",
       "3                                 -500.868509   \n",
       "4                                 -509.526725   \n",
       "\n",
       "   secondary_cleaner.state.floatbank5_b_air  \\\n",
       "0                                  4.872511   \n",
       "1                                  4.878850   \n",
       "2                                  4.905125   \n",
       "3                                  4.931400   \n",
       "4                                  4.957674   \n",
       "\n",
       "   secondary_cleaner.state.floatbank5_b_level  \\\n",
       "0                                 -500.037437   \n",
       "1                                 -500.162375   \n",
       "2                                 -499.828510   \n",
       "3                                 -499.963623   \n",
       "4                                 -500.360026   \n",
       "\n",
       "   secondary_cleaner.state.floatbank6_a_air  \\\n",
       "0                                 26.705889   \n",
       "1                                 25.019940   \n",
       "2                                 24.994862   \n",
       "3                                 24.948919   \n",
       "4                                 25.003331   \n",
       "\n",
       "   secondary_cleaner.state.floatbank6_a_level  \n",
       "0                                 -499.709414  \n",
       "1                                 -499.819438  \n",
       "2                                 -500.622559  \n",
       "3                                 -498.709987  \n",
       "4                                 -500.856333  \n",
       "\n",
       "[5 rows x 53 columns]"
      ]
     },
     "metadata": {},
     "output_type": "display_data"
    },
    {
     "data": {
      "text/html": [
       "<div>\n",
       "<style scoped>\n",
       "    .dataframe tbody tr th:only-of-type {\n",
       "        vertical-align: middle;\n",
       "    }\n",
       "\n",
       "    .dataframe tbody tr th {\n",
       "        vertical-align: top;\n",
       "    }\n",
       "\n",
       "    .dataframe thead th {\n",
       "        text-align: right;\n",
       "    }\n",
       "</style>\n",
       "<table border=\"1\" class=\"dataframe\">\n",
       "  <thead>\n",
       "    <tr style=\"text-align: right;\">\n",
       "      <th></th>\n",
       "      <th>date</th>\n",
       "      <th>final.output.concentrate_ag</th>\n",
       "      <th>final.output.concentrate_pb</th>\n",
       "      <th>final.output.concentrate_sol</th>\n",
       "      <th>final.output.concentrate_au</th>\n",
       "      <th>final.output.recovery</th>\n",
       "      <th>final.output.tail_ag</th>\n",
       "      <th>final.output.tail_pb</th>\n",
       "      <th>final.output.tail_sol</th>\n",
       "      <th>final.output.tail_au</th>\n",
       "      <th>...</th>\n",
       "      <th>secondary_cleaner.state.floatbank4_a_air</th>\n",
       "      <th>secondary_cleaner.state.floatbank4_a_level</th>\n",
       "      <th>secondary_cleaner.state.floatbank4_b_air</th>\n",
       "      <th>secondary_cleaner.state.floatbank4_b_level</th>\n",
       "      <th>secondary_cleaner.state.floatbank5_a_air</th>\n",
       "      <th>secondary_cleaner.state.floatbank5_a_level</th>\n",
       "      <th>secondary_cleaner.state.floatbank5_b_air</th>\n",
       "      <th>secondary_cleaner.state.floatbank5_b_level</th>\n",
       "      <th>secondary_cleaner.state.floatbank6_a_air</th>\n",
       "      <th>secondary_cleaner.state.floatbank6_a_level</th>\n",
       "    </tr>\n",
       "  </thead>\n",
       "  <tbody>\n",
       "    <tr>\n",
       "      <th>0</th>\n",
       "      <td>2016-01-15 00:00:00</td>\n",
       "      <td>6.055403</td>\n",
       "      <td>9.889648</td>\n",
       "      <td>5.507324</td>\n",
       "      <td>42.192020</td>\n",
       "      <td>70.541216</td>\n",
       "      <td>10.411962</td>\n",
       "      <td>0.895447</td>\n",
       "      <td>16.904297</td>\n",
       "      <td>2.143149</td>\n",
       "      <td>...</td>\n",
       "      <td>14.016835</td>\n",
       "      <td>-502.488007</td>\n",
       "      <td>12.099931</td>\n",
       "      <td>-504.715942</td>\n",
       "      <td>9.925633</td>\n",
       "      <td>-498.310211</td>\n",
       "      <td>8.079666</td>\n",
       "      <td>-500.470978</td>\n",
       "      <td>14.151341</td>\n",
       "      <td>-605.841980</td>\n",
       "    </tr>\n",
       "    <tr>\n",
       "      <th>1</th>\n",
       "      <td>2016-01-15 01:00:00</td>\n",
       "      <td>6.029369</td>\n",
       "      <td>9.968944</td>\n",
       "      <td>5.257781</td>\n",
       "      <td>42.701629</td>\n",
       "      <td>69.266198</td>\n",
       "      <td>10.462676</td>\n",
       "      <td>0.927452</td>\n",
       "      <td>16.634514</td>\n",
       "      <td>2.224930</td>\n",
       "      <td>...</td>\n",
       "      <td>13.992281</td>\n",
       "      <td>-505.503262</td>\n",
       "      <td>11.950531</td>\n",
       "      <td>-501.331529</td>\n",
       "      <td>10.039245</td>\n",
       "      <td>-500.169983</td>\n",
       "      <td>7.984757</td>\n",
       "      <td>-500.582168</td>\n",
       "      <td>13.998353</td>\n",
       "      <td>-599.787184</td>\n",
       "    </tr>\n",
       "    <tr>\n",
       "      <th>2</th>\n",
       "      <td>2016-01-15 02:00:00</td>\n",
       "      <td>6.055926</td>\n",
       "      <td>10.213995</td>\n",
       "      <td>5.383759</td>\n",
       "      <td>42.657501</td>\n",
       "      <td>68.116445</td>\n",
       "      <td>10.507046</td>\n",
       "      <td>0.953716</td>\n",
       "      <td>16.208849</td>\n",
       "      <td>2.257889</td>\n",
       "      <td>...</td>\n",
       "      <td>14.015015</td>\n",
       "      <td>-502.520901</td>\n",
       "      <td>11.912783</td>\n",
       "      <td>-501.133383</td>\n",
       "      <td>10.070913</td>\n",
       "      <td>-500.129135</td>\n",
       "      <td>8.013877</td>\n",
       "      <td>-500.517572</td>\n",
       "      <td>14.028663</td>\n",
       "      <td>-601.427363</td>\n",
       "    </tr>\n",
       "    <tr>\n",
       "      <th>3</th>\n",
       "      <td>2016-01-15 03:00:00</td>\n",
       "      <td>6.047977</td>\n",
       "      <td>9.977019</td>\n",
       "      <td>4.858634</td>\n",
       "      <td>42.689819</td>\n",
       "      <td>68.347543</td>\n",
       "      <td>10.422762</td>\n",
       "      <td>0.883763</td>\n",
       "      <td>16.532835</td>\n",
       "      <td>2.146849</td>\n",
       "      <td>...</td>\n",
       "      <td>14.036510</td>\n",
       "      <td>-500.857308</td>\n",
       "      <td>11.999550</td>\n",
       "      <td>-501.193686</td>\n",
       "      <td>9.970366</td>\n",
       "      <td>-499.201640</td>\n",
       "      <td>7.977324</td>\n",
       "      <td>-500.255908</td>\n",
       "      <td>14.005551</td>\n",
       "      <td>-599.996129</td>\n",
       "    </tr>\n",
       "    <tr>\n",
       "      <th>4</th>\n",
       "      <td>2016-01-15 04:00:00</td>\n",
       "      <td>6.148599</td>\n",
       "      <td>10.142511</td>\n",
       "      <td>4.939416</td>\n",
       "      <td>42.774141</td>\n",
       "      <td>66.927016</td>\n",
       "      <td>10.360302</td>\n",
       "      <td>0.792826</td>\n",
       "      <td>16.525686</td>\n",
       "      <td>2.055292</td>\n",
       "      <td>...</td>\n",
       "      <td>14.027298</td>\n",
       "      <td>-499.838632</td>\n",
       "      <td>11.953070</td>\n",
       "      <td>-501.053894</td>\n",
       "      <td>9.925709</td>\n",
       "      <td>-501.686727</td>\n",
       "      <td>7.894242</td>\n",
       "      <td>-500.356035</td>\n",
       "      <td>13.996647</td>\n",
       "      <td>-601.496691</td>\n",
       "    </tr>\n",
       "  </tbody>\n",
       "</table>\n",
       "<p>5 rows × 87 columns</p>\n",
       "</div>"
      ],
      "text/plain": [
       "                  date  final.output.concentrate_ag  \\\n",
       "0  2016-01-15 00:00:00                     6.055403   \n",
       "1  2016-01-15 01:00:00                     6.029369   \n",
       "2  2016-01-15 02:00:00                     6.055926   \n",
       "3  2016-01-15 03:00:00                     6.047977   \n",
       "4  2016-01-15 04:00:00                     6.148599   \n",
       "\n",
       "   final.output.concentrate_pb  final.output.concentrate_sol  \\\n",
       "0                     9.889648                      5.507324   \n",
       "1                     9.968944                      5.257781   \n",
       "2                    10.213995                      5.383759   \n",
       "3                     9.977019                      4.858634   \n",
       "4                    10.142511                      4.939416   \n",
       "\n",
       "   final.output.concentrate_au  final.output.recovery  final.output.tail_ag  \\\n",
       "0                    42.192020              70.541216             10.411962   \n",
       "1                    42.701629              69.266198             10.462676   \n",
       "2                    42.657501              68.116445             10.507046   \n",
       "3                    42.689819              68.347543             10.422762   \n",
       "4                    42.774141              66.927016             10.360302   \n",
       "\n",
       "   final.output.tail_pb  final.output.tail_sol  final.output.tail_au  ...  \\\n",
       "0              0.895447              16.904297              2.143149  ...   \n",
       "1              0.927452              16.634514              2.224930  ...   \n",
       "2              0.953716              16.208849              2.257889  ...   \n",
       "3              0.883763              16.532835              2.146849  ...   \n",
       "4              0.792826              16.525686              2.055292  ...   \n",
       "\n",
       "   secondary_cleaner.state.floatbank4_a_air  \\\n",
       "0                                 14.016835   \n",
       "1                                 13.992281   \n",
       "2                                 14.015015   \n",
       "3                                 14.036510   \n",
       "4                                 14.027298   \n",
       "\n",
       "   secondary_cleaner.state.floatbank4_a_level  \\\n",
       "0                                 -502.488007   \n",
       "1                                 -505.503262   \n",
       "2                                 -502.520901   \n",
       "3                                 -500.857308   \n",
       "4                                 -499.838632   \n",
       "\n",
       "   secondary_cleaner.state.floatbank4_b_air  \\\n",
       "0                                 12.099931   \n",
       "1                                 11.950531   \n",
       "2                                 11.912783   \n",
       "3                                 11.999550   \n",
       "4                                 11.953070   \n",
       "\n",
       "   secondary_cleaner.state.floatbank4_b_level  \\\n",
       "0                                 -504.715942   \n",
       "1                                 -501.331529   \n",
       "2                                 -501.133383   \n",
       "3                                 -501.193686   \n",
       "4                                 -501.053894   \n",
       "\n",
       "   secondary_cleaner.state.floatbank5_a_air  \\\n",
       "0                                  9.925633   \n",
       "1                                 10.039245   \n",
       "2                                 10.070913   \n",
       "3                                  9.970366   \n",
       "4                                  9.925709   \n",
       "\n",
       "   secondary_cleaner.state.floatbank5_a_level  \\\n",
       "0                                 -498.310211   \n",
       "1                                 -500.169983   \n",
       "2                                 -500.129135   \n",
       "3                                 -499.201640   \n",
       "4                                 -501.686727   \n",
       "\n",
       "   secondary_cleaner.state.floatbank5_b_air  \\\n",
       "0                                  8.079666   \n",
       "1                                  7.984757   \n",
       "2                                  8.013877   \n",
       "3                                  7.977324   \n",
       "4                                  7.894242   \n",
       "\n",
       "   secondary_cleaner.state.floatbank5_b_level  \\\n",
       "0                                 -500.470978   \n",
       "1                                 -500.582168   \n",
       "2                                 -500.517572   \n",
       "3                                 -500.255908   \n",
       "4                                 -500.356035   \n",
       "\n",
       "   secondary_cleaner.state.floatbank6_a_air  \\\n",
       "0                                 14.151341   \n",
       "1                                 13.998353   \n",
       "2                                 14.028663   \n",
       "3                                 14.005551   \n",
       "4                                 13.996647   \n",
       "\n",
       "   secondary_cleaner.state.floatbank6_a_level  \n",
       "0                                 -605.841980  \n",
       "1                                 -599.787184  \n",
       "2                                 -601.427363  \n",
       "3                                 -599.996129  \n",
       "4                                 -601.496691  \n",
       "\n",
       "[5 rows x 87 columns]"
      ]
     },
     "metadata": {},
     "output_type": "display_data"
    }
   ],
   "source": [
    "display(full.head(), test.head(), train.head())"
   ]
  },
  {
   "cell_type": "markdown",
   "metadata": {},
   "source": [
    "The dataframes are quite large. Features are named as follows:\n",
    "\n",
    "`[stage].[parameter_type].[parameter_name]`\n",
    "\n",
    "Example: `rougher.input.feed_ag`\n",
    "\n",
    "**Stage values:**\n",
    "- `rougher` — flotation\n",
    "- `primary_cleaner` — primary purification\n",
    "- `secondary_cleaner` — secondary purification\n",
    "- `final` — final characteristics\n",
    "\n",
    "**Parameter type values:**\n",
    "- `input` — raw material parameters\n",
    "- `output` — product parameters\n",
    "- `state` — current stage characteristics\n",
    "- `calculation` — calculation details"
   ]
  },
  {
   "cell_type": "markdown",
   "metadata": {},
   "source": [
    "## 3 Preparing the Data"
   ]
  },
  {
   "cell_type": "markdown",
   "metadata": {},
   "source": [
    "### 3.1 The Focus"
   ]
  },
  {
   "cell_type": "markdown",
   "metadata": {},
   "source": [
    "Since there are many rows, we need to identify which ones are necessary to avoid extra or unnecessary work."
   ]
  },
  {
   "cell_type": "code",
   "execution_count": 6,
   "metadata": {},
   "outputs": [
    {
     "data": {
      "text/plain": [
       "Index(['date', 'final.output.concentrate_ag', 'final.output.concentrate_pb',\n",
       "       'final.output.concentrate_sol', 'final.output.concentrate_au',\n",
       "       'final.output.recovery', 'final.output.tail_ag', 'final.output.tail_pb',\n",
       "       'final.output.tail_sol', 'final.output.tail_au',\n",
       "       'primary_cleaner.input.sulfate', 'primary_cleaner.input.depressant',\n",
       "       'primary_cleaner.input.feed_size', 'primary_cleaner.input.xanthate',\n",
       "       'primary_cleaner.output.concentrate_ag',\n",
       "       'primary_cleaner.output.concentrate_pb',\n",
       "       'primary_cleaner.output.concentrate_sol',\n",
       "       'primary_cleaner.output.concentrate_au',\n",
       "       'primary_cleaner.output.tail_ag', 'primary_cleaner.output.tail_pb',\n",
       "       'primary_cleaner.output.tail_sol', 'primary_cleaner.output.tail_au',\n",
       "       'primary_cleaner.state.floatbank8_a_air',\n",
       "       'primary_cleaner.state.floatbank8_a_level',\n",
       "       'primary_cleaner.state.floatbank8_b_air',\n",
       "       'primary_cleaner.state.floatbank8_b_level',\n",
       "       'primary_cleaner.state.floatbank8_c_air',\n",
       "       'primary_cleaner.state.floatbank8_c_level',\n",
       "       'primary_cleaner.state.floatbank8_d_air',\n",
       "       'primary_cleaner.state.floatbank8_d_level',\n",
       "       'rougher.calculation.sulfate_to_au_concentrate',\n",
       "       'rougher.calculation.floatbank10_sulfate_to_au_feed',\n",
       "       'rougher.calculation.floatbank11_sulfate_to_au_feed',\n",
       "       'rougher.calculation.au_pb_ratio', 'rougher.input.feed_ag',\n",
       "       'rougher.input.feed_pb', 'rougher.input.feed_rate',\n",
       "       'rougher.input.feed_size', 'rougher.input.feed_sol',\n",
       "       'rougher.input.feed_au', 'rougher.input.floatbank10_sulfate',\n",
       "       'rougher.input.floatbank10_xanthate',\n",
       "       'rougher.input.floatbank11_sulfate',\n",
       "       'rougher.input.floatbank11_xanthate', 'rougher.output.concentrate_ag',\n",
       "       'rougher.output.concentrate_pb', 'rougher.output.concentrate_sol',\n",
       "       'rougher.output.concentrate_au', 'rougher.output.recovery',\n",
       "       'rougher.output.tail_ag', 'rougher.output.tail_pb',\n",
       "       'rougher.output.tail_sol', 'rougher.output.tail_au',\n",
       "       'rougher.state.floatbank10_a_air', 'rougher.state.floatbank10_a_level',\n",
       "       'rougher.state.floatbank10_b_air', 'rougher.state.floatbank10_b_level',\n",
       "       'rougher.state.floatbank10_c_air', 'rougher.state.floatbank10_c_level',\n",
       "       'rougher.state.floatbank10_d_air', 'rougher.state.floatbank10_d_level',\n",
       "       'rougher.state.floatbank10_e_air', 'rougher.state.floatbank10_e_level',\n",
       "       'rougher.state.floatbank10_f_air', 'rougher.state.floatbank10_f_level',\n",
       "       'secondary_cleaner.output.tail_ag', 'secondary_cleaner.output.tail_pb',\n",
       "       'secondary_cleaner.output.tail_sol', 'secondary_cleaner.output.tail_au',\n",
       "       'secondary_cleaner.state.floatbank2_a_air',\n",
       "       'secondary_cleaner.state.floatbank2_a_level',\n",
       "       'secondary_cleaner.state.floatbank2_b_air',\n",
       "       'secondary_cleaner.state.floatbank2_b_level',\n",
       "       'secondary_cleaner.state.floatbank3_a_air',\n",
       "       'secondary_cleaner.state.floatbank3_a_level',\n",
       "       'secondary_cleaner.state.floatbank3_b_air',\n",
       "       'secondary_cleaner.state.floatbank3_b_level',\n",
       "       'secondary_cleaner.state.floatbank4_a_air',\n",
       "       'secondary_cleaner.state.floatbank4_a_level',\n",
       "       'secondary_cleaner.state.floatbank4_b_air',\n",
       "       'secondary_cleaner.state.floatbank4_b_level',\n",
       "       'secondary_cleaner.state.floatbank5_a_air',\n",
       "       'secondary_cleaner.state.floatbank5_a_level',\n",
       "       'secondary_cleaner.state.floatbank5_b_air',\n",
       "       'secondary_cleaner.state.floatbank5_b_level',\n",
       "       'secondary_cleaner.state.floatbank6_a_air',\n",
       "       'secondary_cleaner.state.floatbank6_a_level'],\n",
       "      dtype='object')"
      ]
     },
     "execution_count": 6,
     "metadata": {},
     "output_type": "execute_result"
    }
   ],
   "source": [
    "check_columns = full.columns\n",
    "check_columns"
   ]
  },
  {
   "cell_type": "markdown",
   "metadata": {},
   "source": [
    "Both `full` and `train` have the same columns, so I displayed the list of columns from `full`."
   ]
  },
  {
   "cell_type": "code",
   "execution_count": 7,
   "metadata": {},
   "outputs": [],
   "source": [
    "FOCUS = ['rougher.input.feed_au', 'rougher.output.tail_au', 'rougher.output.concentrate_au', 'primary_cleaner.output.concentrate_au', 'final.output.concentrate_au', \n",
    "         'rougher.input.feed_ag', 'rougher.output.tail_ag', 'rougher.output.concentrate_ag', 'primary_cleaner.output.concentrate_ag', 'final.output.concentrate_ag',\n",
    "         'rougher.input.feed_pb', 'rougher.output.tail_pb', 'rougher.output.concentrate_pb', 'primary_cleaner.output.concentrate_pb', 'final.output.concentrate_pb',\n",
    "         'rougher.input.feed_size', 'rougher.output.recovery', 'final.output.recovery']"
   ]
  },
  {
   "cell_type": "markdown",
   "metadata": {},
   "source": [
    "After reviewing all the columns and Zyfra’s model requirements, we identified key values for building and understanding the model:\n",
    "\n",
    "- Metals like gold (Au), silver (Ag), and lead (Pb), indicated by their periodic table symbols.\n",
    "- Initial values from the rougher input.\n",
    "- Processing stages to monitor concentration changes.\n",
    "- Feed sizes and recovery amounts.\n",
    "\n",
    "Next, we need to compare the test data frame with the others, noting that it has fewer rows."
   ]
  },
  {
   "cell_type": "code",
   "execution_count": 8,
   "metadata": {},
   "outputs": [
    {
     "data": {
      "text/plain": [
       "['rougher.input.feed_au',\n",
       " 'rougher.input.feed_pb',\n",
       " 'rougher.input.feed_ag',\n",
       " 'rougher.input.feed_size']"
      ]
     },
     "execution_count": 8,
     "metadata": {},
     "output_type": "execute_result"
    }
   ],
   "source": [
    "COMMON = list(set(FOCUS).intersection(test.columns))\n",
    "COMMON"
   ]
  },
  {
   "cell_type": "markdown",
   "metadata": {},
   "source": [
    "To simplify the process, I compared the focus with the test DataFrame to identify and keep the columns they have in common for consistency."
   ]
  },
  {
   "cell_type": "markdown",
   "metadata": {},
   "source": [
    "### 3.2 Set-up"
   ]
  },
  {
   "cell_type": "markdown",
   "metadata": {},
   "source": [
    "To ensure repeatability and accuracy, I’ll create a function that minimizes code while effectively completing the task."
   ]
  },
  {
   "cell_type": "code",
   "execution_count": 9,
   "metadata": {},
   "outputs": [],
   "source": [
    "def check_missing(df):\n",
    "    missing = df.isnull().sum().sum()\n",
    "    if missing == 0:\n",
    "        print('There are no missing values.')\n",
    "    else:\n",
    "        df = df.fillna(0)\n",
    "        df = df[(df != 0).all(axis=1)]\n",
    "        print(f'  - {missing} missing values resolved.') \n",
    "    return df"
   ]
  },
  {
   "cell_type": "markdown",
   "metadata": {},
   "source": [
    "In the following section, all the columns in each DataFrame will have numerical data types.\n",
    "\n",
    "This function checks for missing values. We assume that either the value wasn't recorded or there was none. Therefore, all missing values are replaced with `0`. Any row containing a `0` is then removed.\n",
    "\n",
    "**Hindsight:** In the data analysis, `0` values cause several issues. They lead to irregularities in metal and recovery concentrations, which in turn affect the accuracy of sMAPE calculations. Additionally, these `0` values introduce errors when calculating both rougher and final concentration recoveries."
   ]
  },
  {
   "cell_type": "code",
   "execution_count": 10,
   "metadata": {},
   "outputs": [],
   "source": [
    "def check_duplicate(df):\n",
    "    duplicates = df.duplicated().sum()\n",
    "    if duplicates == 0:\n",
    "        print('There are no duplicate rows.')\n",
    "    elif (duplicates / len(df)) < 0.05:\n",
    "        print(f'  - {duplicates} duplicate rows removed.')\n",
    "        df = df.drop_duplicates()\n",
    "    else:\n",
    "        print(f\"Found {duplicates} duplicate rows that may require review.\")\n",
    "    return df"
   ]
  },
  {
   "cell_type": "markdown",
   "metadata": {},
   "source": [
    "This function checks for duplicate values. If duplicates make up less than 5% of the data, they are dropped, as this is an acceptable threshold. If duplicates exceed 5%, the function will prompt me to review the DataFrame more closely."
   ]
  },
  {
   "cell_type": "code",
   "execution_count": 11,
   "metadata": {},
   "outputs": [],
   "source": [
    "def check_df(df):\n",
    "    print('Data cleaning complete:')\n",
    "    df = check_missing(df)\n",
    "    df = check_duplicate(df)\n",
    "    return df   "
   ]
  },
  {
   "cell_type": "markdown",
   "metadata": {},
   "source": [
    "This function does three things:  \n",
    "1. Combines the check_missing() and check_duplicate() functions,  \n",
    "2. Reduces the amount of code,  \n",
    "3. Improves the visual presentation of the output."
   ]
  },
  {
   "cell_type": "markdown",
   "metadata": {},
   "source": [
    "### 3.3 Processing `full`"
   ]
  },
  {
   "cell_type": "markdown",
   "metadata": {},
   "source": [
    "I will now proceed to examine the `region_0` data frame."
   ]
  },
  {
   "cell_type": "code",
   "execution_count": 12,
   "metadata": {},
   "outputs": [
    {
     "data": {
      "text/html": [
       "<div>\n",
       "<style scoped>\n",
       "    .dataframe tbody tr th:only-of-type {\n",
       "        vertical-align: middle;\n",
       "    }\n",
       "\n",
       "    .dataframe tbody tr th {\n",
       "        vertical-align: top;\n",
       "    }\n",
       "\n",
       "    .dataframe thead th {\n",
       "        text-align: right;\n",
       "    }\n",
       "</style>\n",
       "<table border=\"1\" class=\"dataframe\">\n",
       "  <thead>\n",
       "    <tr style=\"text-align: right;\">\n",
       "      <th></th>\n",
       "      <th>rougher.input.feed_au</th>\n",
       "      <th>rougher.output.tail_au</th>\n",
       "      <th>rougher.output.concentrate_au</th>\n",
       "      <th>primary_cleaner.output.concentrate_au</th>\n",
       "      <th>final.output.concentrate_au</th>\n",
       "      <th>rougher.input.feed_ag</th>\n",
       "      <th>rougher.output.tail_ag</th>\n",
       "      <th>rougher.output.concentrate_ag</th>\n",
       "      <th>primary_cleaner.output.concentrate_ag</th>\n",
       "      <th>final.output.concentrate_ag</th>\n",
       "      <th>rougher.input.feed_pb</th>\n",
       "      <th>rougher.output.tail_pb</th>\n",
       "      <th>rougher.output.concentrate_pb</th>\n",
       "      <th>primary_cleaner.output.concentrate_pb</th>\n",
       "      <th>final.output.concentrate_pb</th>\n",
       "      <th>rougher.input.feed_size</th>\n",
       "      <th>rougher.output.recovery</th>\n",
       "      <th>final.output.recovery</th>\n",
       "    </tr>\n",
       "  </thead>\n",
       "  <tbody>\n",
       "    <tr>\n",
       "      <th>0</th>\n",
       "      <td>6.486150</td>\n",
       "      <td>1.170244</td>\n",
       "      <td>19.793808</td>\n",
       "      <td>34.174427</td>\n",
       "      <td>42.192020</td>\n",
       "      <td>6.100378</td>\n",
       "      <td>5.008018</td>\n",
       "      <td>11.500771</td>\n",
       "      <td>8.547551</td>\n",
       "      <td>6.055403</td>\n",
       "      <td>2.284912</td>\n",
       "      <td>0.508728</td>\n",
       "      <td>7.101074</td>\n",
       "      <td>10.389648</td>\n",
       "      <td>9.889648</td>\n",
       "      <td>55.486599</td>\n",
       "      <td>87.107763</td>\n",
       "      <td>70.541216</td>\n",
       "    </tr>\n",
       "    <tr>\n",
       "      <th>1</th>\n",
       "      <td>6.478583</td>\n",
       "      <td>1.184827</td>\n",
       "      <td>20.050975</td>\n",
       "      <td>34.118526</td>\n",
       "      <td>42.701629</td>\n",
       "      <td>6.161113</td>\n",
       "      <td>4.955378</td>\n",
       "      <td>11.615865</td>\n",
       "      <td>8.558743</td>\n",
       "      <td>6.029369</td>\n",
       "      <td>2.266033</td>\n",
       "      <td>0.536689</td>\n",
       "      <td>7.278807</td>\n",
       "      <td>10.497069</td>\n",
       "      <td>9.968944</td>\n",
       "      <td>57.278666</td>\n",
       "      <td>86.843261</td>\n",
       "      <td>69.266198</td>\n",
       "    </tr>\n",
       "    <tr>\n",
       "      <th>2</th>\n",
       "      <td>6.362222</td>\n",
       "      <td>1.162562</td>\n",
       "      <td>19.737170</td>\n",
       "      <td>33.969464</td>\n",
       "      <td>42.657501</td>\n",
       "      <td>6.116455</td>\n",
       "      <td>4.843460</td>\n",
       "      <td>11.695753</td>\n",
       "      <td>8.603505</td>\n",
       "      <td>6.055926</td>\n",
       "      <td>2.159622</td>\n",
       "      <td>0.546416</td>\n",
       "      <td>7.216833</td>\n",
       "      <td>10.354494</td>\n",
       "      <td>10.213995</td>\n",
       "      <td>57.510649</td>\n",
       "      <td>86.842308</td>\n",
       "      <td>68.116445</td>\n",
       "    </tr>\n",
       "    <tr>\n",
       "      <th>3</th>\n",
       "      <td>6.118189</td>\n",
       "      <td>1.079755</td>\n",
       "      <td>19.320810</td>\n",
       "      <td>28.260743</td>\n",
       "      <td>42.689819</td>\n",
       "      <td>6.043309</td>\n",
       "      <td>4.655288</td>\n",
       "      <td>11.915047</td>\n",
       "      <td>7.221879</td>\n",
       "      <td>6.047977</td>\n",
       "      <td>2.037807</td>\n",
       "      <td>0.542525</td>\n",
       "      <td>7.175616</td>\n",
       "      <td>8.496563</td>\n",
       "      <td>9.977019</td>\n",
       "      <td>57.792734</td>\n",
       "      <td>87.226430</td>\n",
       "      <td>68.347543</td>\n",
       "    </tr>\n",
       "    <tr>\n",
       "      <th>4</th>\n",
       "      <td>5.663707</td>\n",
       "      <td>1.012642</td>\n",
       "      <td>19.216101</td>\n",
       "      <td>33.044932</td>\n",
       "      <td>42.774141</td>\n",
       "      <td>6.060915</td>\n",
       "      <td>4.552800</td>\n",
       "      <td>12.411054</td>\n",
       "      <td>9.089428</td>\n",
       "      <td>6.148599</td>\n",
       "      <td>1.786875</td>\n",
       "      <td>0.515438</td>\n",
       "      <td>7.240205</td>\n",
       "      <td>9.986786</td>\n",
       "      <td>10.142511</td>\n",
       "      <td>56.047189</td>\n",
       "      <td>86.688794</td>\n",
       "      <td>66.927016</td>\n",
       "    </tr>\n",
       "    <tr>\n",
       "      <th>...</th>\n",
       "      <td>...</td>\n",
       "      <td>...</td>\n",
       "      <td>...</td>\n",
       "      <td>...</td>\n",
       "      <td>...</td>\n",
       "      <td>...</td>\n",
       "      <td>...</td>\n",
       "      <td>...</td>\n",
       "      <td>...</td>\n",
       "      <td>...</td>\n",
       "      <td>...</td>\n",
       "      <td>...</td>\n",
       "      <td>...</td>\n",
       "      <td>...</td>\n",
       "      <td>...</td>\n",
       "      <td>...</td>\n",
       "      <td>...</td>\n",
       "      <td>...</td>\n",
       "    </tr>\n",
       "    <tr>\n",
       "      <th>22711</th>\n",
       "      <td>5.335862</td>\n",
       "      <td>0.748633</td>\n",
       "      <td>18.603550</td>\n",
       "      <td>32.940215</td>\n",
       "      <td>46.713954</td>\n",
       "      <td>6.091855</td>\n",
       "      <td>4.207261</td>\n",
       "      <td>11.124896</td>\n",
       "      <td>6.559174</td>\n",
       "      <td>3.224920</td>\n",
       "      <td>4.617558</td>\n",
       "      <td>0.612935</td>\n",
       "      <td>10.984003</td>\n",
       "      <td>12.445966</td>\n",
       "      <td>11.356233</td>\n",
       "      <td>85.718304</td>\n",
       "      <td>89.574376</td>\n",
       "      <td>73.755150</td>\n",
       "    </tr>\n",
       "    <tr>\n",
       "      <th>22712</th>\n",
       "      <td>4.838619</td>\n",
       "      <td>0.771582</td>\n",
       "      <td>18.441436</td>\n",
       "      <td>32.925325</td>\n",
       "      <td>46.866780</td>\n",
       "      <td>6.121323</td>\n",
       "      <td>4.177943</td>\n",
       "      <td>11.425983</td>\n",
       "      <td>6.612376</td>\n",
       "      <td>3.195978</td>\n",
       "      <td>4.144989</td>\n",
       "      <td>0.650557</td>\n",
       "      <td>10.888213</td>\n",
       "      <td>12.623947</td>\n",
       "      <td>11.349355</td>\n",
       "      <td>119.499241</td>\n",
       "      <td>87.724007</td>\n",
       "      <td>69.049291</td>\n",
       "    </tr>\n",
       "    <tr>\n",
       "      <th>22713</th>\n",
       "      <td>4.525061</td>\n",
       "      <td>0.685059</td>\n",
       "      <td>15.111231</td>\n",
       "      <td>31.856742</td>\n",
       "      <td>46.795691</td>\n",
       "      <td>5.970515</td>\n",
       "      <td>4.050010</td>\n",
       "      <td>8.523497</td>\n",
       "      <td>7.128896</td>\n",
       "      <td>3.109998</td>\n",
       "      <td>4.020002</td>\n",
       "      <td>0.636095</td>\n",
       "      <td>8.955135</td>\n",
       "      <td>12.633558</td>\n",
       "      <td>11.434366</td>\n",
       "      <td>122.262690</td>\n",
       "      <td>88.890579</td>\n",
       "      <td>67.002189</td>\n",
       "    </tr>\n",
       "    <tr>\n",
       "      <th>22714</th>\n",
       "      <td>4.362781</td>\n",
       "      <td>0.567130</td>\n",
       "      <td>17.834772</td>\n",
       "      <td>30.770892</td>\n",
       "      <td>46.408188</td>\n",
       "      <td>6.048130</td>\n",
       "      <td>3.902494</td>\n",
       "      <td>11.658799</td>\n",
       "      <td>7.490444</td>\n",
       "      <td>3.367241</td>\n",
       "      <td>3.902537</td>\n",
       "      <td>0.625609</td>\n",
       "      <td>10.655377</td>\n",
       "      <td>12.012378</td>\n",
       "      <td>11.625587</td>\n",
       "      <td>123.742430</td>\n",
       "      <td>89.858126</td>\n",
       "      <td>65.523246</td>\n",
       "    </tr>\n",
       "    <tr>\n",
       "      <th>22715</th>\n",
       "      <td>4.365491</td>\n",
       "      <td>0.586439</td>\n",
       "      <td>17.804134</td>\n",
       "      <td>30.356618</td>\n",
       "      <td>46.299438</td>\n",
       "      <td>6.158718</td>\n",
       "      <td>3.925473</td>\n",
       "      <td>11.959486</td>\n",
       "      <td>7.537584</td>\n",
       "      <td>3.598375</td>\n",
       "      <td>3.875727</td>\n",
       "      <td>0.638677</td>\n",
       "      <td>10.702148</td>\n",
       "      <td>11.650285</td>\n",
       "      <td>11.737832</td>\n",
       "      <td>94.544358</td>\n",
       "      <td>89.514960</td>\n",
       "      <td>70.281454</td>\n",
       "    </tr>\n",
       "  </tbody>\n",
       "</table>\n",
       "<p>22716 rows × 18 columns</p>\n",
       "</div>"
      ],
      "text/plain": [
       "       rougher.input.feed_au  rougher.output.tail_au  \\\n",
       "0                   6.486150                1.170244   \n",
       "1                   6.478583                1.184827   \n",
       "2                   6.362222                1.162562   \n",
       "3                   6.118189                1.079755   \n",
       "4                   5.663707                1.012642   \n",
       "...                      ...                     ...   \n",
       "22711               5.335862                0.748633   \n",
       "22712               4.838619                0.771582   \n",
       "22713               4.525061                0.685059   \n",
       "22714               4.362781                0.567130   \n",
       "22715               4.365491                0.586439   \n",
       "\n",
       "       rougher.output.concentrate_au  primary_cleaner.output.concentrate_au  \\\n",
       "0                          19.793808                              34.174427   \n",
       "1                          20.050975                              34.118526   \n",
       "2                          19.737170                              33.969464   \n",
       "3                          19.320810                              28.260743   \n",
       "4                          19.216101                              33.044932   \n",
       "...                              ...                                    ...   \n",
       "22711                      18.603550                              32.940215   \n",
       "22712                      18.441436                              32.925325   \n",
       "22713                      15.111231                              31.856742   \n",
       "22714                      17.834772                              30.770892   \n",
       "22715                      17.804134                              30.356618   \n",
       "\n",
       "       final.output.concentrate_au  rougher.input.feed_ag  \\\n",
       "0                        42.192020               6.100378   \n",
       "1                        42.701629               6.161113   \n",
       "2                        42.657501               6.116455   \n",
       "3                        42.689819               6.043309   \n",
       "4                        42.774141               6.060915   \n",
       "...                            ...                    ...   \n",
       "22711                    46.713954               6.091855   \n",
       "22712                    46.866780               6.121323   \n",
       "22713                    46.795691               5.970515   \n",
       "22714                    46.408188               6.048130   \n",
       "22715                    46.299438               6.158718   \n",
       "\n",
       "       rougher.output.tail_ag  rougher.output.concentrate_ag  \\\n",
       "0                    5.008018                      11.500771   \n",
       "1                    4.955378                      11.615865   \n",
       "2                    4.843460                      11.695753   \n",
       "3                    4.655288                      11.915047   \n",
       "4                    4.552800                      12.411054   \n",
       "...                       ...                            ...   \n",
       "22711                4.207261                      11.124896   \n",
       "22712                4.177943                      11.425983   \n",
       "22713                4.050010                       8.523497   \n",
       "22714                3.902494                      11.658799   \n",
       "22715                3.925473                      11.959486   \n",
       "\n",
       "       primary_cleaner.output.concentrate_ag  final.output.concentrate_ag  \\\n",
       "0                                   8.547551                     6.055403   \n",
       "1                                   8.558743                     6.029369   \n",
       "2                                   8.603505                     6.055926   \n",
       "3                                   7.221879                     6.047977   \n",
       "4                                   9.089428                     6.148599   \n",
       "...                                      ...                          ...   \n",
       "22711                               6.559174                     3.224920   \n",
       "22712                               6.612376                     3.195978   \n",
       "22713                               7.128896                     3.109998   \n",
       "22714                               7.490444                     3.367241   \n",
       "22715                               7.537584                     3.598375   \n",
       "\n",
       "       rougher.input.feed_pb  rougher.output.tail_pb  \\\n",
       "0                   2.284912                0.508728   \n",
       "1                   2.266033                0.536689   \n",
       "2                   2.159622                0.546416   \n",
       "3                   2.037807                0.542525   \n",
       "4                   1.786875                0.515438   \n",
       "...                      ...                     ...   \n",
       "22711               4.617558                0.612935   \n",
       "22712               4.144989                0.650557   \n",
       "22713               4.020002                0.636095   \n",
       "22714               3.902537                0.625609   \n",
       "22715               3.875727                0.638677   \n",
       "\n",
       "       rougher.output.concentrate_pb  primary_cleaner.output.concentrate_pb  \\\n",
       "0                           7.101074                              10.389648   \n",
       "1                           7.278807                              10.497069   \n",
       "2                           7.216833                              10.354494   \n",
       "3                           7.175616                               8.496563   \n",
       "4                           7.240205                               9.986786   \n",
       "...                              ...                                    ...   \n",
       "22711                      10.984003                              12.445966   \n",
       "22712                      10.888213                              12.623947   \n",
       "22713                       8.955135                              12.633558   \n",
       "22714                      10.655377                              12.012378   \n",
       "22715                      10.702148                              11.650285   \n",
       "\n",
       "       final.output.concentrate_pb  rougher.input.feed_size  \\\n",
       "0                         9.889648                55.486599   \n",
       "1                         9.968944                57.278666   \n",
       "2                        10.213995                57.510649   \n",
       "3                         9.977019                57.792734   \n",
       "4                        10.142511                56.047189   \n",
       "...                            ...                      ...   \n",
       "22711                    11.356233                85.718304   \n",
       "22712                    11.349355               119.499241   \n",
       "22713                    11.434366               122.262690   \n",
       "22714                    11.625587               123.742430   \n",
       "22715                    11.737832                94.544358   \n",
       "\n",
       "       rougher.output.recovery  final.output.recovery  \n",
       "0                    87.107763              70.541216  \n",
       "1                    86.843261              69.266198  \n",
       "2                    86.842308              68.116445  \n",
       "3                    87.226430              68.347543  \n",
       "4                    86.688794              66.927016  \n",
       "...                        ...                    ...  \n",
       "22711                89.574376              73.755150  \n",
       "22712                87.724007              69.049291  \n",
       "22713                88.890579              67.002189  \n",
       "22714                89.858126              65.523246  \n",
       "22715                89.514960              70.281454  \n",
       "\n",
       "[22716 rows x 18 columns]"
      ]
     },
     "execution_count": 12,
     "metadata": {},
     "output_type": "execute_result"
    }
   ],
   "source": [
    "filtered_full = full[FOCUS]\n",
    "filtered_full"
   ]
  },
  {
   "cell_type": "markdown",
   "metadata": {},
   "source": [
    "This creates a new DataFrame called `filtered_full` by selecting only the columns specified in the `FOCUS` list from the existing DataFrame `full`. As cab be seen, the resulting `filtered_full` DataFrame contains only the data from the columns listed in `FOCUS`."
   ]
  },
  {
   "cell_type": "code",
   "execution_count": 13,
   "metadata": {},
   "outputs": [
    {
     "name": "stdout",
     "output_type": "stream",
     "text": [
      "<class 'pandas.core.frame.DataFrame'>\n",
      "RangeIndex: 22716 entries, 0 to 22715\n",
      "Data columns (total 18 columns):\n",
      " #   Column                                 Non-Null Count  Dtype  \n",
      "---  ------                                 --------------  -----  \n",
      " 0   rougher.input.feed_au                  22617 non-null  float64\n",
      " 1   rougher.output.tail_au                 19980 non-null  float64\n",
      " 2   rougher.output.concentrate_au          22618 non-null  float64\n",
      " 3   primary_cleaner.output.concentrate_au  22618 non-null  float64\n",
      " 4   final.output.concentrate_au            22630 non-null  float64\n",
      " 5   rougher.input.feed_ag                  22618 non-null  float64\n",
      " 6   rougher.output.tail_ag                 19979 non-null  float64\n",
      " 7   rougher.output.concentrate_ag          22618 non-null  float64\n",
      " 8   primary_cleaner.output.concentrate_ag  22618 non-null  float64\n",
      " 9   final.output.concentrate_ag            22627 non-null  float64\n",
      " 10  rougher.input.feed_pb                  22472 non-null  float64\n",
      " 11  rougher.output.tail_pb                 22618 non-null  float64\n",
      " 12  rougher.output.concentrate_pb          22618 non-null  float64\n",
      " 13  primary_cleaner.output.concentrate_pb  22268 non-null  float64\n",
      " 14  final.output.concentrate_pb            22629 non-null  float64\n",
      " 15  rougher.input.feed_size                22277 non-null  float64\n",
      " 16  rougher.output.recovery                19597 non-null  float64\n",
      " 17  final.output.recovery                  20753 non-null  float64\n",
      "dtypes: float64(18)\n",
      "memory usage: 3.1 MB\n"
     ]
    }
   ],
   "source": [
    "filtered_full.info()"
   ]
  },
  {
   "cell_type": "markdown",
   "metadata": {},
   "source": [
    "All data types are correct and appropriately formatted for analysis."
   ]
  },
  {
   "cell_type": "code",
   "execution_count": 14,
   "metadata": {},
   "outputs": [
    {
     "name": "stdout",
     "output_type": "stream",
     "text": [
      "Data cleaning complete:\n",
      "  - 12733 missing values resolved.\n",
      "There are no duplicate rows.\n"
     ]
    }
   ],
   "source": [
    "filtered_full = check_df(filtered_full)"
   ]
  },
  {
   "cell_type": "markdown",
   "metadata": {},
   "source": [
    "It was observed that `12,733` missing values were addressed, and no duplicate values were found."
   ]
  },
  {
   "cell_type": "markdown",
   "metadata": {},
   "source": [
    "### 3.4 Processing `test`"
   ]
  },
  {
   "cell_type": "markdown",
   "metadata": {},
   "source": [
    "I will now proceed to examine the `region_0` data frame."
   ]
  },
  {
   "cell_type": "code",
   "execution_count": 15,
   "metadata": {},
   "outputs": [
    {
     "data": {
      "text/html": [
       "<div>\n",
       "<style scoped>\n",
       "    .dataframe tbody tr th:only-of-type {\n",
       "        vertical-align: middle;\n",
       "    }\n",
       "\n",
       "    .dataframe tbody tr th {\n",
       "        vertical-align: top;\n",
       "    }\n",
       "\n",
       "    .dataframe thead th {\n",
       "        text-align: right;\n",
       "    }\n",
       "</style>\n",
       "<table border=\"1\" class=\"dataframe\">\n",
       "  <thead>\n",
       "    <tr style=\"text-align: right;\">\n",
       "      <th></th>\n",
       "      <th>rougher.input.feed_au</th>\n",
       "      <th>rougher.input.feed_pb</th>\n",
       "      <th>rougher.input.feed_ag</th>\n",
       "      <th>rougher.input.feed_size</th>\n",
       "    </tr>\n",
       "  </thead>\n",
       "  <tbody>\n",
       "    <tr>\n",
       "      <th>0</th>\n",
       "      <td>12.084103</td>\n",
       "      <td>5.636710</td>\n",
       "      <td>13.128569</td>\n",
       "      <td>62.710452</td>\n",
       "    </tr>\n",
       "    <tr>\n",
       "      <th>1</th>\n",
       "      <td>11.918977</td>\n",
       "      <td>5.526065</td>\n",
       "      <td>13.036280</td>\n",
       "      <td>61.961163</td>\n",
       "    </tr>\n",
       "    <tr>\n",
       "      <th>2</th>\n",
       "      <td>12.091332</td>\n",
       "      <td>5.426561</td>\n",
       "      <td>13.138412</td>\n",
       "      <td>66.903807</td>\n",
       "    </tr>\n",
       "    <tr>\n",
       "      <th>3</th>\n",
       "      <td>12.181597</td>\n",
       "      <td>5.114758</td>\n",
       "      <td>12.400507</td>\n",
       "      <td>59.865919</td>\n",
       "    </tr>\n",
       "    <tr>\n",
       "      <th>4</th>\n",
       "      <td>11.290425</td>\n",
       "      <td>4.767383</td>\n",
       "      <td>11.327427</td>\n",
       "      <td>63.315324</td>\n",
       "    </tr>\n",
       "    <tr>\n",
       "      <th>...</th>\n",
       "      <td>...</td>\n",
       "      <td>...</td>\n",
       "      <td>...</td>\n",
       "      <td>...</td>\n",
       "    </tr>\n",
       "    <tr>\n",
       "      <th>5851</th>\n",
       "      <td>10.554544</td>\n",
       "      <td>4.695306</td>\n",
       "      <td>11.638973</td>\n",
       "      <td>66.758479</td>\n",
       "    </tr>\n",
       "    <tr>\n",
       "      <th>5852</th>\n",
       "      <td>10.254051</td>\n",
       "      <td>4.478381</td>\n",
       "      <td>11.338091</td>\n",
       "      <td>62.560684</td>\n",
       "    </tr>\n",
       "    <tr>\n",
       "      <th>5853</th>\n",
       "      <td>10.169094</td>\n",
       "      <td>4.405327</td>\n",
       "      <td>11.285908</td>\n",
       "      <td>73.647513</td>\n",
       "    </tr>\n",
       "    <tr>\n",
       "      <th>5854</th>\n",
       "      <td>10.071156</td>\n",
       "      <td>4.343488</td>\n",
       "      <td>11.289710</td>\n",
       "      <td>78.066446</td>\n",
       "    </tr>\n",
       "    <tr>\n",
       "      <th>5855</th>\n",
       "      <td>9.697259</td>\n",
       "      <td>4.090591</td>\n",
       "      <td>10.904646</td>\n",
       "      <td>77.678700</td>\n",
       "    </tr>\n",
       "  </tbody>\n",
       "</table>\n",
       "<p>5856 rows × 4 columns</p>\n",
       "</div>"
      ],
      "text/plain": [
       "      rougher.input.feed_au  rougher.input.feed_pb  rougher.input.feed_ag  \\\n",
       "0                 12.084103               5.636710              13.128569   \n",
       "1                 11.918977               5.526065              13.036280   \n",
       "2                 12.091332               5.426561              13.138412   \n",
       "3                 12.181597               5.114758              12.400507   \n",
       "4                 11.290425               4.767383              11.327427   \n",
       "...                     ...                    ...                    ...   \n",
       "5851              10.554544               4.695306              11.638973   \n",
       "5852              10.254051               4.478381              11.338091   \n",
       "5853              10.169094               4.405327              11.285908   \n",
       "5854              10.071156               4.343488              11.289710   \n",
       "5855               9.697259               4.090591              10.904646   \n",
       "\n",
       "      rougher.input.feed_size  \n",
       "0                   62.710452  \n",
       "1                   61.961163  \n",
       "2                   66.903807  \n",
       "3                   59.865919  \n",
       "4                   63.315324  \n",
       "...                       ...  \n",
       "5851                66.758479  \n",
       "5852                62.560684  \n",
       "5853                73.647513  \n",
       "5854                78.066446  \n",
       "5855                77.678700  \n",
       "\n",
       "[5856 rows x 4 columns]"
      ]
     },
     "execution_count": 15,
     "metadata": {},
     "output_type": "execute_result"
    }
   ],
   "source": [
    "filtered_test = test[COMMON]\n",
    "filtered_test"
   ]
  },
  {
   "cell_type": "markdown",
   "metadata": {},
   "source": [
    "This creates a new DataFrame called `filtered_test` by selecting only the columns specified in the `COMMON` list from the existing DataFrame `test`. As cab be seen, the resulting `filtered_test` DataFrame contains only the data from the columns listed in `COMMON`."
   ]
  },
  {
   "cell_type": "code",
   "execution_count": 16,
   "metadata": {},
   "outputs": [
    {
     "name": "stdout",
     "output_type": "stream",
     "text": [
      "<class 'pandas.core.frame.DataFrame'>\n",
      "RangeIndex: 5856 entries, 0 to 5855\n",
      "Data columns (total 4 columns):\n",
      " #   Column                   Non-Null Count  Dtype  \n",
      "---  ------                   --------------  -----  \n",
      " 0   rougher.input.feed_au    5840 non-null   float64\n",
      " 1   rougher.input.feed_pb    5840 non-null   float64\n",
      " 2   rougher.input.feed_ag    5840 non-null   float64\n",
      " 3   rougher.input.feed_size  5834 non-null   float64\n",
      "dtypes: float64(4)\n",
      "memory usage: 183.1 KB\n"
     ]
    }
   ],
   "source": [
    "filtered_test.info()"
   ]
  },
  {
   "cell_type": "markdown",
   "metadata": {},
   "source": [
    "All data types are correct and appropriately formatted for analysis."
   ]
  },
  {
   "cell_type": "code",
   "execution_count": 17,
   "metadata": {},
   "outputs": [
    {
     "name": "stdout",
     "output_type": "stream",
     "text": [
      "Data cleaning complete:\n",
      "  - 70 missing values resolved.\n",
      "There are no duplicate rows.\n"
     ]
    }
   ],
   "source": [
    "filtered_test = check_df(filtered_test)"
   ]
  },
  {
   "cell_type": "markdown",
   "metadata": {},
   "source": [
    "It was observed that `70` missing values were addressed, and no duplicate values were found."
   ]
  },
  {
   "cell_type": "markdown",
   "metadata": {},
   "source": [
    "### 3.5 Processing `train`"
   ]
  },
  {
   "cell_type": "markdown",
   "metadata": {},
   "source": [
    "I will now proceed to examine the `region_0` data frame."
   ]
  },
  {
   "cell_type": "code",
   "execution_count": 18,
   "metadata": {},
   "outputs": [
    {
     "data": {
      "text/html": [
       "<div>\n",
       "<style scoped>\n",
       "    .dataframe tbody tr th:only-of-type {\n",
       "        vertical-align: middle;\n",
       "    }\n",
       "\n",
       "    .dataframe tbody tr th {\n",
       "        vertical-align: top;\n",
       "    }\n",
       "\n",
       "    .dataframe thead th {\n",
       "        text-align: right;\n",
       "    }\n",
       "</style>\n",
       "<table border=\"1\" class=\"dataframe\">\n",
       "  <thead>\n",
       "    <tr style=\"text-align: right;\">\n",
       "      <th></th>\n",
       "      <th>rougher.input.feed_au</th>\n",
       "      <th>rougher.output.tail_au</th>\n",
       "      <th>rougher.output.concentrate_au</th>\n",
       "      <th>primary_cleaner.output.concentrate_au</th>\n",
       "      <th>final.output.concentrate_au</th>\n",
       "      <th>rougher.input.feed_ag</th>\n",
       "      <th>rougher.output.tail_ag</th>\n",
       "      <th>rougher.output.concentrate_ag</th>\n",
       "      <th>primary_cleaner.output.concentrate_ag</th>\n",
       "      <th>final.output.concentrate_ag</th>\n",
       "      <th>rougher.input.feed_pb</th>\n",
       "      <th>rougher.output.tail_pb</th>\n",
       "      <th>rougher.output.concentrate_pb</th>\n",
       "      <th>primary_cleaner.output.concentrate_pb</th>\n",
       "      <th>final.output.concentrate_pb</th>\n",
       "      <th>rougher.input.feed_size</th>\n",
       "      <th>rougher.output.recovery</th>\n",
       "      <th>final.output.recovery</th>\n",
       "    </tr>\n",
       "  </thead>\n",
       "  <tbody>\n",
       "    <tr>\n",
       "      <th>0</th>\n",
       "      <td>6.486150</td>\n",
       "      <td>1.170244</td>\n",
       "      <td>19.793808</td>\n",
       "      <td>34.174427</td>\n",
       "      <td>42.192020</td>\n",
       "      <td>6.100378</td>\n",
       "      <td>5.008018</td>\n",
       "      <td>11.500771</td>\n",
       "      <td>8.547551</td>\n",
       "      <td>6.055403</td>\n",
       "      <td>2.284912</td>\n",
       "      <td>0.508728</td>\n",
       "      <td>7.101074</td>\n",
       "      <td>10.389648</td>\n",
       "      <td>9.889648</td>\n",
       "      <td>55.486599</td>\n",
       "      <td>87.107763</td>\n",
       "      <td>70.541216</td>\n",
       "    </tr>\n",
       "    <tr>\n",
       "      <th>1</th>\n",
       "      <td>6.478583</td>\n",
       "      <td>1.184827</td>\n",
       "      <td>20.050975</td>\n",
       "      <td>34.118526</td>\n",
       "      <td>42.701629</td>\n",
       "      <td>6.161113</td>\n",
       "      <td>4.955378</td>\n",
       "      <td>11.615865</td>\n",
       "      <td>8.558743</td>\n",
       "      <td>6.029369</td>\n",
       "      <td>2.266033</td>\n",
       "      <td>0.536689</td>\n",
       "      <td>7.278807</td>\n",
       "      <td>10.497069</td>\n",
       "      <td>9.968944</td>\n",
       "      <td>57.278666</td>\n",
       "      <td>86.843261</td>\n",
       "      <td>69.266198</td>\n",
       "    </tr>\n",
       "    <tr>\n",
       "      <th>2</th>\n",
       "      <td>6.362222</td>\n",
       "      <td>1.162562</td>\n",
       "      <td>19.737170</td>\n",
       "      <td>33.969464</td>\n",
       "      <td>42.657501</td>\n",
       "      <td>6.116455</td>\n",
       "      <td>4.843460</td>\n",
       "      <td>11.695753</td>\n",
       "      <td>8.603505</td>\n",
       "      <td>6.055926</td>\n",
       "      <td>2.159622</td>\n",
       "      <td>0.546416</td>\n",
       "      <td>7.216833</td>\n",
       "      <td>10.354494</td>\n",
       "      <td>10.213995</td>\n",
       "      <td>57.510649</td>\n",
       "      <td>86.842308</td>\n",
       "      <td>68.116445</td>\n",
       "    </tr>\n",
       "    <tr>\n",
       "      <th>3</th>\n",
       "      <td>6.118189</td>\n",
       "      <td>1.079755</td>\n",
       "      <td>19.320810</td>\n",
       "      <td>28.260743</td>\n",
       "      <td>42.689819</td>\n",
       "      <td>6.043309</td>\n",
       "      <td>4.655288</td>\n",
       "      <td>11.915047</td>\n",
       "      <td>7.221879</td>\n",
       "      <td>6.047977</td>\n",
       "      <td>2.037807</td>\n",
       "      <td>0.542525</td>\n",
       "      <td>7.175616</td>\n",
       "      <td>8.496563</td>\n",
       "      <td>9.977019</td>\n",
       "      <td>57.792734</td>\n",
       "      <td>87.226430</td>\n",
       "      <td>68.347543</td>\n",
       "    </tr>\n",
       "    <tr>\n",
       "      <th>4</th>\n",
       "      <td>5.663707</td>\n",
       "      <td>1.012642</td>\n",
       "      <td>19.216101</td>\n",
       "      <td>33.044932</td>\n",
       "      <td>42.774141</td>\n",
       "      <td>6.060915</td>\n",
       "      <td>4.552800</td>\n",
       "      <td>12.411054</td>\n",
       "      <td>9.089428</td>\n",
       "      <td>6.148599</td>\n",
       "      <td>1.786875</td>\n",
       "      <td>0.515438</td>\n",
       "      <td>7.240205</td>\n",
       "      <td>9.986786</td>\n",
       "      <td>10.142511</td>\n",
       "      <td>56.047189</td>\n",
       "      <td>86.688794</td>\n",
       "      <td>66.927016</td>\n",
       "    </tr>\n",
       "    <tr>\n",
       "      <th>...</th>\n",
       "      <td>...</td>\n",
       "      <td>...</td>\n",
       "      <td>...</td>\n",
       "      <td>...</td>\n",
       "      <td>...</td>\n",
       "      <td>...</td>\n",
       "      <td>...</td>\n",
       "      <td>...</td>\n",
       "      <td>...</td>\n",
       "      <td>...</td>\n",
       "      <td>...</td>\n",
       "      <td>...</td>\n",
       "      <td>...</td>\n",
       "      <td>...</td>\n",
       "      <td>...</td>\n",
       "      <td>...</td>\n",
       "      <td>...</td>\n",
       "      <td>...</td>\n",
       "    </tr>\n",
       "    <tr>\n",
       "      <th>16855</th>\n",
       "      <td>5.335862</td>\n",
       "      <td>0.748633</td>\n",
       "      <td>18.603550</td>\n",
       "      <td>32.940215</td>\n",
       "      <td>46.713954</td>\n",
       "      <td>6.091855</td>\n",
       "      <td>4.207261</td>\n",
       "      <td>11.124896</td>\n",
       "      <td>6.559174</td>\n",
       "      <td>3.224920</td>\n",
       "      <td>4.617558</td>\n",
       "      <td>0.612935</td>\n",
       "      <td>10.984003</td>\n",
       "      <td>12.445966</td>\n",
       "      <td>11.356233</td>\n",
       "      <td>85.718304</td>\n",
       "      <td>89.574376</td>\n",
       "      <td>73.755150</td>\n",
       "    </tr>\n",
       "    <tr>\n",
       "      <th>16856</th>\n",
       "      <td>4.838619</td>\n",
       "      <td>0.771582</td>\n",
       "      <td>18.441436</td>\n",
       "      <td>32.925325</td>\n",
       "      <td>46.866780</td>\n",
       "      <td>6.121323</td>\n",
       "      <td>4.177943</td>\n",
       "      <td>11.425983</td>\n",
       "      <td>6.612376</td>\n",
       "      <td>3.195978</td>\n",
       "      <td>4.144989</td>\n",
       "      <td>0.650557</td>\n",
       "      <td>10.888213</td>\n",
       "      <td>12.623947</td>\n",
       "      <td>11.349355</td>\n",
       "      <td>119.499241</td>\n",
       "      <td>87.724007</td>\n",
       "      <td>69.049291</td>\n",
       "    </tr>\n",
       "    <tr>\n",
       "      <th>16857</th>\n",
       "      <td>4.525061</td>\n",
       "      <td>0.685059</td>\n",
       "      <td>15.111231</td>\n",
       "      <td>31.856742</td>\n",
       "      <td>46.795691</td>\n",
       "      <td>5.970515</td>\n",
       "      <td>4.050010</td>\n",
       "      <td>8.523497</td>\n",
       "      <td>7.128896</td>\n",
       "      <td>3.109998</td>\n",
       "      <td>4.020002</td>\n",
       "      <td>0.636095</td>\n",
       "      <td>8.955135</td>\n",
       "      <td>12.633558</td>\n",
       "      <td>11.434366</td>\n",
       "      <td>122.262690</td>\n",
       "      <td>88.890579</td>\n",
       "      <td>67.002189</td>\n",
       "    </tr>\n",
       "    <tr>\n",
       "      <th>16858</th>\n",
       "      <td>4.362781</td>\n",
       "      <td>0.567130</td>\n",
       "      <td>17.834772</td>\n",
       "      <td>30.770892</td>\n",
       "      <td>46.408188</td>\n",
       "      <td>6.048130</td>\n",
       "      <td>3.902494</td>\n",
       "      <td>11.658799</td>\n",
       "      <td>7.490444</td>\n",
       "      <td>3.367241</td>\n",
       "      <td>3.902537</td>\n",
       "      <td>0.625609</td>\n",
       "      <td>10.655377</td>\n",
       "      <td>12.012378</td>\n",
       "      <td>11.625587</td>\n",
       "      <td>123.742430</td>\n",
       "      <td>89.858126</td>\n",
       "      <td>65.523246</td>\n",
       "    </tr>\n",
       "    <tr>\n",
       "      <th>16859</th>\n",
       "      <td>4.365491</td>\n",
       "      <td>0.586439</td>\n",
       "      <td>17.804134</td>\n",
       "      <td>30.356618</td>\n",
       "      <td>46.299438</td>\n",
       "      <td>6.158718</td>\n",
       "      <td>3.925473</td>\n",
       "      <td>11.959486</td>\n",
       "      <td>7.537584</td>\n",
       "      <td>3.598375</td>\n",
       "      <td>3.875727</td>\n",
       "      <td>0.638677</td>\n",
       "      <td>10.702148</td>\n",
       "      <td>11.650285</td>\n",
       "      <td>11.737832</td>\n",
       "      <td>94.544358</td>\n",
       "      <td>89.514960</td>\n",
       "      <td>70.281454</td>\n",
       "    </tr>\n",
       "  </tbody>\n",
       "</table>\n",
       "<p>16860 rows × 18 columns</p>\n",
       "</div>"
      ],
      "text/plain": [
       "       rougher.input.feed_au  rougher.output.tail_au  \\\n",
       "0                   6.486150                1.170244   \n",
       "1                   6.478583                1.184827   \n",
       "2                   6.362222                1.162562   \n",
       "3                   6.118189                1.079755   \n",
       "4                   5.663707                1.012642   \n",
       "...                      ...                     ...   \n",
       "16855               5.335862                0.748633   \n",
       "16856               4.838619                0.771582   \n",
       "16857               4.525061                0.685059   \n",
       "16858               4.362781                0.567130   \n",
       "16859               4.365491                0.586439   \n",
       "\n",
       "       rougher.output.concentrate_au  primary_cleaner.output.concentrate_au  \\\n",
       "0                          19.793808                              34.174427   \n",
       "1                          20.050975                              34.118526   \n",
       "2                          19.737170                              33.969464   \n",
       "3                          19.320810                              28.260743   \n",
       "4                          19.216101                              33.044932   \n",
       "...                              ...                                    ...   \n",
       "16855                      18.603550                              32.940215   \n",
       "16856                      18.441436                              32.925325   \n",
       "16857                      15.111231                              31.856742   \n",
       "16858                      17.834772                              30.770892   \n",
       "16859                      17.804134                              30.356618   \n",
       "\n",
       "       final.output.concentrate_au  rougher.input.feed_ag  \\\n",
       "0                        42.192020               6.100378   \n",
       "1                        42.701629               6.161113   \n",
       "2                        42.657501               6.116455   \n",
       "3                        42.689819               6.043309   \n",
       "4                        42.774141               6.060915   \n",
       "...                            ...                    ...   \n",
       "16855                    46.713954               6.091855   \n",
       "16856                    46.866780               6.121323   \n",
       "16857                    46.795691               5.970515   \n",
       "16858                    46.408188               6.048130   \n",
       "16859                    46.299438               6.158718   \n",
       "\n",
       "       rougher.output.tail_ag  rougher.output.concentrate_ag  \\\n",
       "0                    5.008018                      11.500771   \n",
       "1                    4.955378                      11.615865   \n",
       "2                    4.843460                      11.695753   \n",
       "3                    4.655288                      11.915047   \n",
       "4                    4.552800                      12.411054   \n",
       "...                       ...                            ...   \n",
       "16855                4.207261                      11.124896   \n",
       "16856                4.177943                      11.425983   \n",
       "16857                4.050010                       8.523497   \n",
       "16858                3.902494                      11.658799   \n",
       "16859                3.925473                      11.959486   \n",
       "\n",
       "       primary_cleaner.output.concentrate_ag  final.output.concentrate_ag  \\\n",
       "0                                   8.547551                     6.055403   \n",
       "1                                   8.558743                     6.029369   \n",
       "2                                   8.603505                     6.055926   \n",
       "3                                   7.221879                     6.047977   \n",
       "4                                   9.089428                     6.148599   \n",
       "...                                      ...                          ...   \n",
       "16855                               6.559174                     3.224920   \n",
       "16856                               6.612376                     3.195978   \n",
       "16857                               7.128896                     3.109998   \n",
       "16858                               7.490444                     3.367241   \n",
       "16859                               7.537584                     3.598375   \n",
       "\n",
       "       rougher.input.feed_pb  rougher.output.tail_pb  \\\n",
       "0                   2.284912                0.508728   \n",
       "1                   2.266033                0.536689   \n",
       "2                   2.159622                0.546416   \n",
       "3                   2.037807                0.542525   \n",
       "4                   1.786875                0.515438   \n",
       "...                      ...                     ...   \n",
       "16855               4.617558                0.612935   \n",
       "16856               4.144989                0.650557   \n",
       "16857               4.020002                0.636095   \n",
       "16858               3.902537                0.625609   \n",
       "16859               3.875727                0.638677   \n",
       "\n",
       "       rougher.output.concentrate_pb  primary_cleaner.output.concentrate_pb  \\\n",
       "0                           7.101074                              10.389648   \n",
       "1                           7.278807                              10.497069   \n",
       "2                           7.216833                              10.354494   \n",
       "3                           7.175616                               8.496563   \n",
       "4                           7.240205                               9.986786   \n",
       "...                              ...                                    ...   \n",
       "16855                      10.984003                              12.445966   \n",
       "16856                      10.888213                              12.623947   \n",
       "16857                       8.955135                              12.633558   \n",
       "16858                      10.655377                              12.012378   \n",
       "16859                      10.702148                              11.650285   \n",
       "\n",
       "       final.output.concentrate_pb  rougher.input.feed_size  \\\n",
       "0                         9.889648                55.486599   \n",
       "1                         9.968944                57.278666   \n",
       "2                        10.213995                57.510649   \n",
       "3                         9.977019                57.792734   \n",
       "4                        10.142511                56.047189   \n",
       "...                            ...                      ...   \n",
       "16855                    11.356233                85.718304   \n",
       "16856                    11.349355               119.499241   \n",
       "16857                    11.434366               122.262690   \n",
       "16858                    11.625587               123.742430   \n",
       "16859                    11.737832                94.544358   \n",
       "\n",
       "       rougher.output.recovery  final.output.recovery  \n",
       "0                    87.107763              70.541216  \n",
       "1                    86.843261              69.266198  \n",
       "2                    86.842308              68.116445  \n",
       "3                    87.226430              68.347543  \n",
       "4                    86.688794              66.927016  \n",
       "...                        ...                    ...  \n",
       "16855                89.574376              73.755150  \n",
       "16856                87.724007              69.049291  \n",
       "16857                88.890579              67.002189  \n",
       "16858                89.858126              65.523246  \n",
       "16859                89.514960              70.281454  \n",
       "\n",
       "[16860 rows x 18 columns]"
      ]
     },
     "execution_count": 18,
     "metadata": {},
     "output_type": "execute_result"
    }
   ],
   "source": [
    "filtered_train = train[FOCUS]\n",
    "filtered_train"
   ]
  },
  {
   "cell_type": "markdown",
   "metadata": {},
   "source": [
    "This creates a new DataFrame called `filtered_train` by selecting only the columns specified in the `FOCUS` list from the existing DataFrame `train`. As cab be seen, the resulting `filtered_train` DataFrame contains only the data from the columns listed in `FOCUS`."
   ]
  },
  {
   "cell_type": "code",
   "execution_count": 19,
   "metadata": {},
   "outputs": [
    {
     "name": "stdout",
     "output_type": "stream",
     "text": [
      "<class 'pandas.core.frame.DataFrame'>\n",
      "RangeIndex: 16860 entries, 0 to 16859\n",
      "Data columns (total 18 columns):\n",
      " #   Column                                 Non-Null Count  Dtype  \n",
      "---  ------                                 --------------  -----  \n",
      " 0   rougher.input.feed_au                  16777 non-null  float64\n",
      " 1   rougher.output.tail_au                 14611 non-null  float64\n",
      " 2   rougher.output.concentrate_au          16778 non-null  float64\n",
      " 3   primary_cleaner.output.concentrate_au  16778 non-null  float64\n",
      " 4   final.output.concentrate_au            16789 non-null  float64\n",
      " 5   rougher.input.feed_ag                  16778 non-null  float64\n",
      " 6   rougher.output.tail_ag                 14610 non-null  float64\n",
      " 7   rougher.output.concentrate_ag          16778 non-null  float64\n",
      " 8   primary_cleaner.output.concentrate_ag  16778 non-null  float64\n",
      " 9   final.output.concentrate_ag            16788 non-null  float64\n",
      " 10  rougher.input.feed_pb                  16632 non-null  float64\n",
      " 11  rougher.output.tail_pb                 16778 non-null  float64\n",
      " 12  rougher.output.concentrate_pb          16778 non-null  float64\n",
      " 13  primary_cleaner.output.concentrate_pb  16502 non-null  float64\n",
      " 14  final.output.concentrate_pb            16788 non-null  float64\n",
      " 15  rougher.input.feed_size                16443 non-null  float64\n",
      " 16  rougher.output.recovery                14287 non-null  float64\n",
      " 17  final.output.recovery                  15339 non-null  float64\n",
      "dtypes: float64(18)\n",
      "memory usage: 2.3 MB\n"
     ]
    }
   ],
   "source": [
    "filtered_train.info()"
   ]
  },
  {
   "cell_type": "markdown",
   "metadata": {},
   "source": [
    "All data types are correct and appropriately formatted for analysis."
   ]
  },
  {
   "cell_type": "code",
   "execution_count": 20,
   "metadata": {},
   "outputs": [
    {
     "name": "stdout",
     "output_type": "stream",
     "text": [
      "Data cleaning complete:\n",
      "  - 10468 missing values resolved.\n",
      "There are no duplicate rows.\n"
     ]
    }
   ],
   "source": [
    "filtered_train = check_df(filtered_train)"
   ]
  },
  {
   "cell_type": "markdown",
   "metadata": {},
   "source": [
    "It was observed that `10,468` missing values were addressed, and no duplicate values were found."
   ]
  },
  {
   "cell_type": "markdown",
   "metadata": {},
   "source": [
    "## 4 Data Analyze"
   ]
  },
  {
   "cell_type": "markdown",
   "metadata": {},
   "source": [
    "### 4.1 Recovery Check"
   ]
  },
  {
   "cell_type": "markdown",
   "metadata": {},
   "source": [
    "Now that the dataframes are fully processed, we can begin analyzing the data. Before diving deeper, I'll first check the consistency of the provided data."
   ]
  },
  {
   "cell_type": "code",
   "execution_count": 21,
   "metadata": {},
   "outputs": [],
   "source": [
    "def calculate_recovery(C, F, T):\n",
    "    return (C * (F - T)) / (F * (C - T)) * 100"
   ]
  },
  {
   "cell_type": "markdown",
   "metadata": {},
   "source": [
    "I created a function to calculate `rougher.output.recovery` to compare it with the values provided in the dataframes."
   ]
  },
  {
   "cell_type": "code",
   "execution_count": 22,
   "metadata": {},
   "outputs": [],
   "source": [
    "def mae_calculation(C, F, T, df):\n",
    "    df['my_calc'] = calculate_recovery(C, F, T)\n",
    "    mae = mean_absolute_error(df['rougher.output.recovery'], df['my_calc'])\n",
    "    print(f'MAE between calculated and actual recovery: {mae:.2f}')"
   ]
  },
  {
   "cell_type": "markdown",
   "metadata": {},
   "source": [
    "The `mae_calculation()` function runs `calculate_recovery()` to compute `rougher.output.recovery` and adds it as a new feature to `filtered_train`. Based on this calculation, I can then compare the difference between my values and those provided in the dataset."
   ]
  },
  {
   "cell_type": "code",
   "execution_count": 23,
   "metadata": {},
   "outputs": [
    {
     "name": "stdout",
     "output_type": "stream",
     "text": [
      "MAE between calculated and actual recovery: 0.00\n",
      "MAE between calculated and actual recovery: 0.00\n"
     ]
    }
   ],
   "source": [
    "mae_calculation(\n",
    "    filtered_full['rougher.output.concentrate_au'], \n",
    "    filtered_full['rougher.input.feed_au'],\n",
    "    filtered_full['rougher.output.tail_au'], \n",
    "    filtered_full\n",
    ")\n",
    "mae_calculation(\n",
    "    filtered_train['rougher.output.concentrate_au'],\n",
    "    filtered_train['rougher.input.feed_au'],\n",
    "    filtered_train['rougher.output.tail_au'], \n",
    "    filtered_train\n",
    ")"
   ]
  },
  {
   "cell_type": "markdown",
   "metadata": {},
   "source": [
    "Running `mae_calculation()` on both the `filtered_full` and `filtered_train` dataframes confirmed that there is no significant variation between the calculated values and those provided in the dataset."
   ]
  },
  {
   "cell_type": "markdown",
   "metadata": {},
   "source": [
    "### 4.2 Metal Concentration"
   ]
  },
  {
   "cell_type": "markdown",
   "metadata": {},
   "source": [
    "Now that we've verified the accuracy of the data, the next step is to analyze the metals and observe how their concentrations change throughout the process."
   ]
  },
  {
   "cell_type": "code",
   "execution_count": 24,
   "metadata": {},
   "outputs": [
    {
     "data": {
      "image/png": "[encoded data removed]",
      "text/plain": [
       "<Figure size 1000x600 with 1 Axes>"
      ]
     },
     "metadata": {},
     "output_type": "display_data"
    },
    {
     "data": {
      "image/png": "[encoded data removed]",
      "text/plain": [
       "<Figure size 1000x600 with 1 Axes>"
      ]
     },
     "metadata": {},
     "output_type": "display_data"
    },
    {
     "data": {
      "image/png": "[encoded data removed]",
      "text/plain": [
       "<Figure size 1000x600 with 1 Axes>"
      ]
     },
     "metadata": {},
     "output_type": "display_data"
    }
   ],
   "source": [
    "stages = ['rougher', 'primary_cleaner', 'final']\n",
    "\n",
    "for metal in ['au', 'ag', 'pb']:\n",
    "    plt.figure(figsize=(10, 6))\n",
    "    for stage in stages:\n",
    "        column_name = f'{stage}.output.concentrate_{metal}'\n",
    "        if column_name in filtered_train.columns:\n",
    "            plt.hist(\n",
    "                filtered_train[column_name], \n",
    "                label=f'{stage} - {metal}',\n",
    "                alpha=0.5,\n",
    "                density=True\n",
    "            )\n",
    "            \n",
    "    plt.title(f'Concentration of {metal.upper()} Across Stages')\n",
    "    plt.xlabel('Index')\n",
    "    plt.ylabel(f'{metal.upper()} Concentration')\n",
    "    plt.xlim(0, 55)\n",
    "    plt.ylim(0, 0.3)\n",
    "    plt.legend()\n",
    "    plt.show()"
   ]
  },
  {
   "cell_type": "markdown",
   "metadata": {},
   "source": [
    "For gold (Au), the concentration increases as it undergoes further processing. In contrast, for silver (Ag), the concentration decreases as processing progresses. For lead (Pb), the concentration stabilizes between approximately 8 to 12 once processing starters."
   ]
  },
  {
   "cell_type": "markdown",
   "metadata": {},
   "source": [
    "### 4.3 Feed Comparison"
   ]
  },
  {
   "cell_type": "markdown",
   "metadata": {},
   "source": [
    "I will now compare the `feed_size` between `filtered_full` and `filtered_train`, as it is likely that `feed_size` strongly correlates with the other values."
   ]
  },
  {
   "cell_type": "code",
   "execution_count": 25,
   "metadata": {},
   "outputs": [
    {
     "data": {
      "image/png": "[encoded data removed]",
      "text/plain": [
       "<Figure size 1000x600 with 1 Axes>"
      ]
     },
     "metadata": {},
     "output_type": "display_data"
    }
   ],
   "source": [
    "plt.figure(figsize=(10, 6))\n",
    "plt.boxplot(\n",
    "    [filtered_train['rougher.input.feed_size'], \n",
    "     filtered_test['rougher.input.feed_size']], \n",
    "     labels=['Train', 'Test'])\n",
    "plt.title('Comparison of Feed Particle Size Distribution')\n",
    "plt.xlabel('Dataset')\n",
    "plt.ylabel('Particle Size')\n",
    "plt.show()"
   ]
  },
  {
   "cell_type": "markdown",
   "metadata": {},
   "source": [
    "When graphing the distribution of `filtered_full` and `filtered_train`, two observations are clear:\n",
    "- There are numerous outliers across the data.\n",
    "- All of the percentiles are well-aligned."
   ]
  },
  {
   "cell_type": "code",
   "execution_count": 26,
   "metadata": {},
   "outputs": [
    {
     "data": {
      "text/plain": [
       "count    18510.000000\n",
       "mean        58.940664\n",
       "std         21.303264\n",
       "min          0.046369\n",
       "25%         47.468264\n",
       "50%         54.676861\n",
       "75%         64.930270\n",
       "max        484.967466\n",
       "Name: rougher.input.feed_size, dtype: float64"
      ]
     },
     "metadata": {},
     "output_type": "display_data"
    },
    {
     "data": {
      "text/plain": [
       "count    13407.000000\n",
       "mean        60.097752\n",
       "std         22.287967\n",
       "min          9.659576\n",
       "25%         49.013512\n",
       "50%         55.415773\n",
       "75%         65.924009\n",
       "max        484.967466\n",
       "Name: rougher.input.feed_size, dtype: float64"
      ]
     },
     "metadata": {},
     "output_type": "display_data"
    }
   ],
   "source": [
    "display(\n",
    "    filtered_full['rougher.input.feed_size'].describe(), \n",
    "    filtered_train['rougher.input.feed_size'].describe()\n",
    ")"
   ]
  },
  {
   "cell_type": "markdown",
   "metadata": {},
   "source": [
    "Comparing summary statistics such as mean, median, and standard deviation provides further clarity, showing minimal differences in `feed_size` between `filtered_full` and `filtered_train`. The only notable variation is in the minimum values, which show the greatest difference, but this difference is small when compared to the maximum values."
   ]
  },
  {
   "cell_type": "markdown",
   "metadata": {},
   "source": [
    "### 4.4 Total Concentration Stages"
   ]
  },
  {
   "cell_type": "markdown",
   "metadata": {},
   "source": [
    "The final aspect of the data to analyze is the processing stages of the metals."
   ]
  },
  {
   "cell_type": "code",
   "execution_count": 27,
   "metadata": {},
   "outputs": [
    {
     "data": {
      "image/png": "[encoded data removed]",
      "text/plain": [
       "<Figure size 1000x600 with 1 Axes>"
      ]
     },
     "metadata": {},
     "output_type": "display_data"
    },
    {
     "data": {
      "image/png": "[encoded data removed]",
      "text/plain": [
       "<Figure size 1000x600 with 1 Axes>"
      ]
     },
     "metadata": {},
     "output_type": "display_data"
    },
    {
     "data": {
      "image/png": "[encoded data removed]",
      "text/plain": [
       "<Figure size 1000x600 with 1 Axes>"
      ]
     },
     "metadata": {},
     "output_type": "display_data"
    }
   ],
   "source": [
    "for stage in stages:\n",
    "    total_concentration = (filtered_train[f'{stage}.output.concentrate_au'] +\n",
    "                           filtered_train[f'{stage}.output.concentrate_ag'] +\n",
    "                           filtered_train[f'{stage}.output.concentrate_pb'])\n",
    "    \n",
    "    plt.figure(figsize=(10, 6))\n",
    "    plt.hist(total_concentration, bins=50)\n",
    "    plt.title(f'Total Concentration Distribution at {stage.capitalize()} Stage')\n",
    "    plt.xlabel('Total Concentration')\n",
    "    plt.ylabel('Frequency')\n",
    "    plt.xlim(0, 70)\n",
    "    plt.ylim(0, 6500)\n",
    "    plt.show()"
   ]
  },
  {
   "cell_type": "markdown",
   "metadata": {},
   "source": [
    "When graphing the concentration at each stage, it is clear that as metals are processed further, their concentration increases and deviation from the average decreases. Based on the graph, fully processed gold should typically have a concentration of around 60."
   ]
  },
  {
   "cell_type": "markdown",
   "metadata": {},
   "source": [
    "## 5 Model Building"
   ]
  },
  {
   "cell_type": "markdown",
   "metadata": {},
   "source": [
    "### 5.1 Set-up"
   ]
  },
  {
   "cell_type": "markdown",
   "metadata": {},
   "source": [
    "To ensure repeatability and accuracy, I’ll create a function that minimizes code while effectively completing the task."
   ]
  },
  {
   "cell_type": "code",
   "execution_count": 28,
   "metadata": {},
   "outputs": [],
   "source": [
    "def smape(y_true, y_pred):\n",
    "    return 100 * np.mean(2 * np.abs(y_pred - y_true) / (np.abs(y_true) + np.abs(y_pred)), axis=0)"
   ]
  },
  {
   "cell_type": "markdown",
   "metadata": {},
   "source": [
    "I define the `smape` function to calculate the symmetric Mean Absolute Percentage Error (sMAPE) between actual (`y_true`) and predicted (`y_pred`) values. It returns the percentage error by averaging the relative absolute differences between the two sets of values, multiplied by 100."
   ]
  },
  {
   "cell_type": "markdown",
   "metadata": {},
   "source": [
    "These models will be evaluated using key features from `feature` and then evaluated to ensure reliable performance in predicting recovery rates."
   ]
  },
  {
   "cell_type": "code",
   "execution_count": 29,
   "metadata": {},
   "outputs": [],
   "source": [
    "def final_smape(r, f):\n",
    "    return 0.25 * r + 0.75 * f"
   ]
  },
  {
   "cell_type": "markdown",
   "metadata": {},
   "source": [
    "I define the `final_smape` function to calculate a weighted sMAPE score by combining the rougher stage sMAPE and final stage sMAPE."
   ]
  },
  {
   "cell_type": "markdown",
   "metadata": {},
   "source": [
    "### 5.2 Set Models"
   ]
  },
  {
   "cell_type": "markdown",
   "metadata": {},
   "source": [
    "In this section, we focus on training machine learning models to predict the rougher and final recovery stages of the gold extraction process. We utilize decision trees, random forests, and linear regression models, with separate predictors for both rougher and final output recovery. "
   ]
  },
  {
   "cell_type": "code",
   "execution_count": 30,
   "metadata": {},
   "outputs": [],
   "source": [
    "features = filtered_train[COMMON]\n",
    "target_rougher = filtered_train['rougher.output.recovery']\n",
    "target_final = filtered_train['final.output.recovery']"
   ]
  },
  {
   "cell_type": "markdown",
   "metadata": {},
   "source": [
    "These models will be evaluated using key features from `feature` and then evaluated to ensure reliable performance in predicting recovery rates."
   ]
  },
  {
   "cell_type": "code",
   "execution_count": 31,
   "metadata": {},
   "outputs": [],
   "source": [
    "decision_tree_rougher = DecisionTreeRegressor(random_state=42)\n",
    "decision_tree_final = DecisionTreeRegressor(random_state=42)"
   ]
  },
  {
   "cell_type": "markdown",
   "metadata": {},
   "source": [
    "I initialize two decision tree regressors using `DecisionTreeRegressor`. The first model, `decision_tree_rougher`, is for predictions in the rougher stage, and the second model, `decision_tree_final`, is for the final stage. Both are set with `random_state=42` to ensure consistent results across runs."
   ]
  },
  {
   "cell_type": "code",
   "execution_count": 32,
   "metadata": {},
   "outputs": [],
   "source": [
    "random_forest_rougher = RandomForestRegressor(n_estimators=100, random_state=42)\n",
    "random_forest_final = RandomForestRegressor(n_estimators=100, random_state=42)"
   ]
  },
  {
   "cell_type": "markdown",
   "metadata": {},
   "source": [
    "I create two random forest models using `RandomForestRegressor`. The first model, `random_forest_rougher`, is designed for predictions in the rougher stage, while the second, `random_forest_final`, is for the final stage. Both models are configured with 100 trees (`n_estimators=100`) and a `random_state` of 42 for reproducibility."
   ]
  },
  {
   "cell_type": "code",
   "execution_count": 33,
   "metadata": {},
   "outputs": [],
   "source": [
    "linear_regression_rougher = LinearRegression()\n",
    "linear_regression_final = LinearRegression()"
   ]
  },
  {
   "cell_type": "markdown",
   "metadata": {},
   "source": [
    "I set up two linear regression models using `LinearRegression`. The first model, `linear_regression_rougher`, is intended for the rougher stage predictions, and the second model, `linear_regression_final`, is for the final stage. Both models use default settings."
   ]
  },
  {
   "cell_type": "markdown",
   "metadata": {},
   "source": [
    "### 5.3 Model Evaluating   "
   ]
  },
  {
   "cell_type": "markdown",
   "metadata": {},
   "source": [
    "In this section, we assess the performance of various models through cross-validation to elevate our predictive capabilities. We evaluate Decision Tree, Random Forest, and Linear Regression algorithms on both the rougher and final stages using K-Fold cross-validation. "
   ]
  },
  {
   "cell_type": "code",
   "execution_count": 34,
   "metadata": {},
   "outputs": [],
   "source": [
    "n_folds = 5\n",
    "cv = KFold(n_splits=n_folds, shuffle=True, random_state=42)"
   ]
  },
  {
   "cell_type": "markdown",
   "metadata": {},
   "source": [
    "I define a cross-validation setup using `KFold` with 5 folds. The `cv` object is configured to shuffle the data before splitting and uses a `random_state` of 42 to ensure reproducibility."
   ]
  },
  {
   "cell_type": "code",
   "execution_count": 35,
   "metadata": {},
   "outputs": [
    {
     "name": "stdout",
     "output_type": "stream",
     "text": [
      "Decision Tree Rougher score: 0.14\n",
      "Decision Tree Final score: -0.18\n"
     ]
    }
   ],
   "source": [
    "dt_rougher_cv_scores = cross_val_score(decision_tree_rougher, features, target_rougher, cv=cv)\n",
    "dt_final_cv_scores = cross_val_score(decision_tree_final, features, target_final, cv=cv)\n",
    "\n",
    "print(f'Decision Tree Rougher score: {dt_rougher_cv_scores.mean():.2f}')\n",
    "print(f'Decision Tree Final score: {dt_final_cv_scores.mean():.2f}')"
   ]
  },
  {
   "cell_type": "markdown",
   "metadata": {},
   "source": [
    "The Decision Tree model for the rougher stage has a score of 0.11, showing some performance. In contrast, the model for the final stage has a score of -0.17, indicating poor performance, especially compared to the rougher stage."
   ]
  },
  {
   "cell_type": "code",
   "execution_count": 36,
   "metadata": {},
   "outputs": [
    {
     "name": "stdout",
     "output_type": "stream",
     "text": [
      "Random Forest Rougher score: 0.54\n",
      "Random Forest Final score: 0.36\n"
     ]
    }
   ],
   "source": [
    "rf_rougher_cv_scores = cross_val_score(random_forest_rougher, features, target_rougher, cv=cv)\n",
    "rf_final_cv_scores = cross_val_score(random_forest_final, features, target_final, cv=cv)\n",
    "\n",
    "print(f'Random Forest Rougher score: {rf_rougher_cv_scores.mean():.2f}')\n",
    "print(f'Random Forest Final score: {rf_final_cv_scores.mean():.2f}')"
   ]
  },
  {
   "cell_type": "markdown",
   "metadata": {},
   "source": [
    "The Random Forest model for the rougher stage achieves a score of 0.54, reflecting strong performance. The Random Forest model for the final stage has a score of 0.36, which is lower but still indicates decent performance compared to the rougher stage.\n",
    "\n",
    "Overall this is much better than the Decision Tree model."
   ]
  },
  {
   "cell_type": "code",
   "execution_count": 37,
   "metadata": {},
   "outputs": [
    {
     "name": "stdout",
     "output_type": "stream",
     "text": [
      "Linear Regression Rougher score: 0.23\n",
      "Linear Regression Final score: 0.12\n"
     ]
    }
   ],
   "source": [
    "lr_rougher_cv_scores = cross_val_score(linear_regression_rougher, features, target_rougher, cv=cv)\n",
    "lr_final_cv_scores = cross_val_score(linear_regression_final, features, target_final, cv=cv)\n",
    "\n",
    "print(f'Linear Regression Rougher score: {lr_rougher_cv_scores.mean():.2f}')\n",
    "print(f'Linear Regression Final score: {lr_final_cv_scores.mean():.2f}')"
   ]
  },
  {
   "cell_type": "markdown",
   "metadata": {},
   "source": [
    "The Linear Regression model for the rougher stage has a score of 0.23, indicating moderate performance. The model for the final stage has a score of 0.12, which is lower and aligns with the observations from the Decision Tree and Random Forest models.\n",
    "\n",
    "In terms of performance, Linear Regression ranks second, with the Random Forest model clearly being the best."
   ]
  },
  {
   "cell_type": "markdown",
   "metadata": {},
   "source": [
    "### 5.4 Final Model"
   ]
  },
  {
   "cell_type": "markdown",
   "metadata": {},
   "source": [
    "In this section, I will create the final model using Random Forest to predict gold recovery for both the rougher and final stages. The models will be trained on the `filtered_train` dataset and evaluated using the sMAPE metric, which is crucial for assessing prediction accuracy. The final results will include sMAPE scores for both stages, demonstrating the model's effectiveness in optimizing gold extraction processes."
   ]
  },
  {
   "cell_type": "code",
   "execution_count": 38,
   "metadata": {},
   "outputs": [],
   "source": [
    "filtered_recovery = pd.merge(filtered_full, filtered_test, on=COMMON, how='right')[['rougher.output.recovery', 'final.output.recovery']]"
   ]
  },
  {
   "cell_type": "markdown",
   "metadata": {},
   "source": [
    "I merge the `filtered_full` and `filtered_test` DataFrames on the common columns specified by `COMMON`, using a right join to include all rows from `filtered_test`. Then, I select only the columns `rougher.output.recovery` and `final.output.recovery` from the merged DataFrame, resulting in the `filtered_recovery` DataFrame."
   ]
  },
  {
   "cell_type": "code",
   "execution_count": 39,
   "metadata": {},
   "outputs": [],
   "source": [
    "random_forest_rougher.fit(features, target_rougher)\n",
    "random_forest_final.fit(features, target_final)\n",
    "\n",
    "filtered_test['rougher.output.recovery'] = random_forest_rougher.predict(filtered_test[COMMON])\n",
    "filtered_test['final.output.recovery'] = random_forest_final.predict(filtered_test[COMMON])"
   ]
  },
  {
   "cell_type": "markdown",
   "metadata": {},
   "source": [
    "I train the `random_forest_rougher` model using `model_full` and `model_rougher`, and the `random_forest_final` model using `model_full` and `model_final`. I then use these trained models to make predictions on the `filtered_test` data. The predictions for the rougher stage are stored in the `predictions_rougher` variable, and those for the final stage are in `predictions_final`. I update the `filtered_test` DataFrame with these predictions, adding columns for `rougher.output.recovery` and `final.output.recovery`.\n",
    "\n"
   ]
  },
  {
   "cell_type": "code",
   "execution_count": 40,
   "metadata": {},
   "outputs": [
    {
     "name": "stdout",
     "output_type": "stream",
     "text": [
      "SMAPE: 8.34%\n"
     ]
    }
   ],
   "source": [
    "smape_rougher = smape(filtered_recovery['rougher.output.recovery'], filtered_test['rougher.output.recovery'])\n",
    "smape_final = smape( filtered_recovery['final.output.recovery'], filtered_test['final.output.recovery'])\n",
    "\n",
    "smape_result = final_smape(smape_rougher, smape_final)\n",
    "print(f'SMAPE: {smape_result:.2f}%')"
   ]
  },
  {
   "cell_type": "markdown",
   "metadata": {},
   "source": [
    "The SMAPE value is 8.33%, which indicates the average symmetric Mean Absolute Percentage Error of the predictions. This percentage reflects the model's accuracy in predicting the values, with a lower SMAPE representing better predictive performance."
   ]
  },
  {
   "cell_type": "markdown",
   "metadata": {},
   "source": [
    "## 6 Conclusion"
   ]
  },
  {
   "cell_type": "markdown",
   "metadata": {},
   "source": [
    "In conclusion, the analysis of the predictive models for the rougher and final stages has yielded varying results. The Random Forest models performed best, with scores of 0.54 for the rougher stage and 0.36 for the final stage, indicating strong predictive capability. The overall SMAPE of 8.33% suggests that the predictions are reasonably accurate, though there is room for improvement. These findings highlight the effectiveness of Random Forests for this problem and provide a benchmark for further model refinement."
   ]
  }
 ],
 "metadata": {
  "ExecuteTimeLog": [
   {
    "duration": 2646,
    "start_time": "2024-09-09T06:07:04.454Z"
   },
   {
    "duration": 2,
    "start_time": "2024-09-09T06:07:07.102Z"
   },
   {
    "duration": 3,
    "start_time": "2024-09-09T06:07:07.106Z"
   },
   {
    "duration": 688,
    "start_time": "2024-09-09T06:07:07.111Z"
   },
   {
    "duration": 41,
    "start_time": "2024-09-09T06:07:07.801Z"
   },
   {
    "duration": 6,
    "start_time": "2024-09-09T06:07:07.845Z"
   },
   {
    "duration": 19,
    "start_time": "2024-09-09T06:07:07.852Z"
   },
   {
    "duration": 4,
    "start_time": "2024-09-09T06:07:07.872Z"
   },
   {
    "duration": 4,
    "start_time": "2024-09-09T06:07:07.877Z"
   },
   {
    "duration": 3,
    "start_time": "2024-09-09T06:07:07.882Z"
   },
   {
    "duration": 3,
    "start_time": "2024-09-09T06:07:07.887Z"
   },
   {
    "duration": 16,
    "start_time": "2024-09-09T06:07:07.891Z"
   },
   {
    "duration": 9,
    "start_time": "2024-09-09T06:07:07.909Z"
   },
   {
    "duration": 60,
    "start_time": "2024-09-09T06:07:07.922Z"
   },
   {
    "duration": 9,
    "start_time": "2024-09-09T06:07:07.984Z"
   },
   {
    "duration": 7,
    "start_time": "2024-09-09T06:07:07.995Z"
   },
   {
    "duration": 6,
    "start_time": "2024-09-09T06:07:08.004Z"
   },
   {
    "duration": 16,
    "start_time": "2024-09-09T06:07:08.012Z"
   },
   {
    "duration": 9,
    "start_time": "2024-09-09T06:07:08.030Z"
   },
   {
    "duration": 25,
    "start_time": "2024-09-09T06:07:08.071Z"
   },
   {
    "duration": 3,
    "start_time": "2024-09-09T06:07:08.098Z"
   },
   {
    "duration": 3,
    "start_time": "2024-09-09T06:07:08.102Z"
   },
   {
    "duration": 6,
    "start_time": "2024-09-09T06:07:08.107Z"
   },
   {
    "duration": 598,
    "start_time": "2024-09-09T06:07:08.115Z"
   },
   {
    "duration": 116,
    "start_time": "2024-09-09T06:07:08.716Z"
   },
   {
    "duration": 11,
    "start_time": "2024-09-09T06:07:08.833Z"
   },
   {
    "duration": 499,
    "start_time": "2024-09-09T06:07:08.845Z"
   },
   {
    "duration": 3,
    "start_time": "2024-09-09T06:07:09.346Z"
   },
   {
    "duration": 2,
    "start_time": "2024-09-09T06:07:09.351Z"
   },
   {
    "duration": 18,
    "start_time": "2024-09-09T06:07:09.355Z"
   },
   {
    "duration": 2,
    "start_time": "2024-09-09T06:07:09.375Z"
   },
   {
    "duration": 3,
    "start_time": "2024-09-09T06:07:09.379Z"
   },
   {
    "duration": 3,
    "start_time": "2024-09-09T06:07:09.383Z"
   },
   {
    "duration": 2,
    "start_time": "2024-09-09T06:07:09.388Z"
   },
   {
    "duration": 616,
    "start_time": "2024-09-09T06:07:09.392Z"
   },
   {
    "duration": 33718,
    "start_time": "2024-09-09T06:07:10.010Z"
   },
   {
    "duration": 155,
    "start_time": "2024-09-09T06:07:43.730Z"
   },
   {
    "duration": 107,
    "start_time": "2024-09-09T06:07:43.887Z"
   },
   {
    "duration": 8808,
    "start_time": "2024-09-09T06:07:43.996Z"
   },
   {
    "duration": 8,
    "start_time": "2024-09-09T06:07:52.805Z"
   },
   {
    "duration": 165,
    "start_time": "2024-09-09T15:28:43.280Z"
   },
   {
    "duration": 16,
    "start_time": "2024-09-09T15:29:11.759Z"
   },
   {
    "duration": 2881,
    "start_time": "2024-09-09T15:29:23.634Z"
   },
   {
    "duration": 2,
    "start_time": "2024-09-09T15:29:26.518Z"
   },
   {
    "duration": 4,
    "start_time": "2024-09-09T15:29:26.522Z"
   },
   {
    "duration": 690,
    "start_time": "2024-09-09T15:29:26.528Z"
   },
   {
    "duration": 44,
    "start_time": "2024-09-09T15:29:27.220Z"
   },
   {
    "duration": 6,
    "start_time": "2024-09-09T15:29:27.265Z"
   },
   {
    "duration": 4,
    "start_time": "2024-09-09T15:29:27.273Z"
   },
   {
    "duration": 5,
    "start_time": "2024-09-09T15:29:27.278Z"
   },
   {
    "duration": 4,
    "start_time": "2024-09-09T15:29:27.312Z"
   },
   {
    "duration": 3,
    "start_time": "2024-09-09T15:29:27.320Z"
   },
   {
    "duration": 3,
    "start_time": "2024-09-09T15:29:27.324Z"
   },
   {
    "duration": 18,
    "start_time": "2024-09-09T15:29:27.329Z"
   },
   {
    "duration": 11,
    "start_time": "2024-09-09T15:29:27.350Z"
   },
   {
    "duration": 58,
    "start_time": "2024-09-09T15:29:27.363Z"
   },
   {
    "duration": 9,
    "start_time": "2024-09-09T15:29:27.423Z"
   },
   {
    "duration": 9,
    "start_time": "2024-09-09T15:29:27.434Z"
   },
   {
    "duration": 8,
    "start_time": "2024-09-09T15:29:27.444Z"
   },
   {
    "duration": 18,
    "start_time": "2024-09-09T15:29:27.454Z"
   },
   {
    "duration": 45,
    "start_time": "2024-09-09T15:29:27.474Z"
   },
   {
    "duration": 27,
    "start_time": "2024-09-09T15:29:27.521Z"
   },
   {
    "duration": 2,
    "start_time": "2024-09-09T15:29:27.550Z"
   },
   {
    "duration": 4,
    "start_time": "2024-09-09T15:29:27.554Z"
   },
   {
    "duration": 8,
    "start_time": "2024-09-09T15:29:27.560Z"
   },
   {
    "duration": 591,
    "start_time": "2024-09-09T15:29:27.570Z"
   },
   {
    "duration": 206,
    "start_time": "2024-09-09T15:29:28.164Z"
   },
   {
    "duration": 13,
    "start_time": "2024-09-09T15:29:28.372Z"
   },
   {
    "duration": 509,
    "start_time": "2024-09-09T15:29:28.388Z"
   },
   {
    "duration": 10,
    "start_time": "2024-09-09T15:29:28.902Z"
   },
   {
    "duration": 3,
    "start_time": "2024-09-09T15:29:28.914Z"
   },
   {
    "duration": 5,
    "start_time": "2024-09-09T15:29:28.919Z"
   },
   {
    "duration": 3,
    "start_time": "2024-09-09T15:29:28.925Z"
   },
   {
    "duration": 3,
    "start_time": "2024-09-09T15:29:28.930Z"
   },
   {
    "duration": 3,
    "start_time": "2024-09-09T15:29:28.935Z"
   },
   {
    "duration": 2,
    "start_time": "2024-09-09T15:29:28.941Z"
   },
   {
    "duration": 640,
    "start_time": "2024-09-09T15:29:28.945Z"
   },
   {
    "duration": 34413,
    "start_time": "2024-09-09T15:29:29.587Z"
   },
   {
    "duration": 130,
    "start_time": "2024-09-09T15:30:04.002Z"
   },
   {
    "duration": 105,
    "start_time": "2024-09-09T15:30:04.134Z"
   },
   {
    "duration": 8975,
    "start_time": "2024-09-09T15:30:04.241Z"
   },
   {
    "duration": 8,
    "start_time": "2024-09-09T15:30:13.217Z"
   },
   {
    "duration": 934,
    "start_time": "2024-09-09T16:17:18.376Z"
   },
   {
    "duration": 3,
    "start_time": "2024-09-09T16:17:19.312Z"
   },
   {
    "duration": 3,
    "start_time": "2024-09-09T16:17:19.317Z"
   },
   {
    "duration": 515,
    "start_time": "2024-09-09T16:17:19.322Z"
   },
   {
    "duration": 123,
    "start_time": "2024-09-09T16:17:19.840Z"
   },
   {
    "duration": 4,
    "start_time": "2024-09-09T16:17:19.965Z"
   },
   {
    "duration": 4,
    "start_time": "2024-09-09T16:17:19.970Z"
   },
   {
    "duration": 4,
    "start_time": "2024-09-09T16:17:19.975Z"
   },
   {
    "duration": 4,
    "start_time": "2024-09-09T16:17:19.981Z"
   },
   {
    "duration": 25,
    "start_time": "2024-09-09T16:17:19.987Z"
   },
   {
    "duration": 3,
    "start_time": "2024-09-09T16:17:20.014Z"
   },
   {
    "duration": 17,
    "start_time": "2024-09-09T16:17:20.019Z"
   },
   {
    "duration": 10,
    "start_time": "2024-09-09T16:17:20.038Z"
   },
   {
    "duration": 21,
    "start_time": "2024-09-09T16:17:20.052Z"
   },
   {
    "duration": 40,
    "start_time": "2024-09-09T16:17:20.076Z"
   },
   {
    "duration": 9,
    "start_time": "2024-09-09T16:17:20.117Z"
   },
   {
    "duration": 7,
    "start_time": "2024-09-09T16:17:20.128Z"
   },
   {
    "duration": 17,
    "start_time": "2024-09-09T16:17:20.137Z"
   },
   {
    "duration": 10,
    "start_time": "2024-09-09T16:17:20.156Z"
   },
   {
    "duration": 64,
    "start_time": "2024-09-09T16:17:20.168Z"
   },
   {
    "duration": 3,
    "start_time": "2024-09-09T16:17:20.234Z"
   },
   {
    "duration": 3,
    "start_time": "2024-09-09T16:17:20.239Z"
   },
   {
    "duration": 9,
    "start_time": "2024-09-09T16:17:20.243Z"
   },
   {
    "duration": 544,
    "start_time": "2024-09-09T16:17:20.254Z"
   },
   {
    "duration": 124,
    "start_time": "2024-09-09T16:17:20.800Z"
   },
   {
    "duration": 13,
    "start_time": "2024-09-09T16:17:20.926Z"
   },
   {
    "duration": 505,
    "start_time": "2024-09-09T16:17:20.941Z"
   },
   {
    "duration": 4,
    "start_time": "2024-09-09T16:17:21.447Z"
   },
   {
    "duration": 2,
    "start_time": "2024-09-09T16:17:21.453Z"
   },
   {
    "duration": 5,
    "start_time": "2024-09-09T16:17:21.457Z"
   },
   {
    "duration": 3,
    "start_time": "2024-09-09T16:17:21.463Z"
   },
   {
    "duration": 3,
    "start_time": "2024-09-09T16:17:21.468Z"
   },
   {
    "duration": 3,
    "start_time": "2024-09-09T16:17:21.472Z"
   },
   {
    "duration": 2,
    "start_time": "2024-09-09T16:17:21.477Z"
   },
   {
    "duration": 609,
    "start_time": "2024-09-09T16:17:21.512Z"
   },
   {
    "duration": 34969,
    "start_time": "2024-09-09T16:17:22.123Z"
   },
   {
    "duration": 139,
    "start_time": "2024-09-09T16:17:57.093Z"
   },
   {
    "duration": 110,
    "start_time": "2024-09-09T16:17:57.234Z"
   },
   {
    "duration": 8852,
    "start_time": "2024-09-09T16:17:57.346Z"
   },
   {
    "duration": 15,
    "start_time": "2024-09-09T16:18:06.200Z"
   },
   {
    "duration": 2732,
    "start_time": "2024-09-10T04:35:02.476Z"
   },
   {
    "duration": 2,
    "start_time": "2024-09-10T04:35:05.210Z"
   },
   {
    "duration": 3,
    "start_time": "2024-09-10T04:35:05.214Z"
   },
   {
    "duration": 713,
    "start_time": "2024-09-10T04:35:05.219Z"
   },
   {
    "duration": 55,
    "start_time": "2024-09-10T04:35:05.936Z"
   },
   {
    "duration": 5,
    "start_time": "2024-09-10T04:35:05.993Z"
   },
   {
    "duration": 2,
    "start_time": "2024-09-10T04:35:06.001Z"
   },
   {
    "duration": 4,
    "start_time": "2024-09-10T04:35:06.005Z"
   },
   {
    "duration": 4,
    "start_time": "2024-09-10T04:35:06.011Z"
   },
   {
    "duration": 4,
    "start_time": "2024-09-10T04:35:06.044Z"
   },
   {
    "duration": 4,
    "start_time": "2024-09-10T04:35:06.050Z"
   },
   {
    "duration": 18,
    "start_time": "2024-09-10T04:35:06.055Z"
   },
   {
    "duration": 11,
    "start_time": "2024-09-10T04:35:06.075Z"
   },
   {
    "duration": 53,
    "start_time": "2024-09-10T04:35:06.090Z"
   },
   {
    "duration": 9,
    "start_time": "2024-09-10T04:35:06.145Z"
   },
   {
    "duration": 9,
    "start_time": "2024-09-10T04:35:06.156Z"
   },
   {
    "duration": 7,
    "start_time": "2024-09-10T04:35:06.166Z"
   },
   {
    "duration": 17,
    "start_time": "2024-09-10T04:35:06.175Z"
   },
   {
    "duration": 10,
    "start_time": "2024-09-10T04:35:06.194Z"
   },
   {
    "duration": 26,
    "start_time": "2024-09-10T04:35:06.243Z"
   },
   {
    "duration": 3,
    "start_time": "2024-09-10T04:35:06.271Z"
   },
   {
    "duration": 3,
    "start_time": "2024-09-10T04:35:06.276Z"
   },
   {
    "duration": 8,
    "start_time": "2024-09-10T04:35:06.281Z"
   },
   {
    "duration": 570,
    "start_time": "2024-09-10T04:35:06.291Z"
   },
   {
    "duration": 201,
    "start_time": "2024-09-10T04:35:06.863Z"
   },
   {
    "duration": 11,
    "start_time": "2024-09-10T04:35:07.067Z"
   },
   {
    "duration": 529,
    "start_time": "2024-09-10T04:35:07.081Z"
   },
   {
    "duration": 5,
    "start_time": "2024-09-10T04:35:07.613Z"
   },
   {
    "duration": 2,
    "start_time": "2024-09-10T04:35:07.620Z"
   },
   {
    "duration": 4,
    "start_time": "2024-09-10T04:35:07.624Z"
   },
   {
    "duration": 3,
    "start_time": "2024-09-10T04:35:07.643Z"
   },
   {
    "duration": 3,
    "start_time": "2024-09-10T04:35:07.648Z"
   },
   {
    "duration": 3,
    "start_time": "2024-09-10T04:35:07.653Z"
   },
   {
    "duration": 7,
    "start_time": "2024-09-10T04:35:07.657Z"
   },
   {
    "duration": 634,
    "start_time": "2024-09-10T04:35:07.667Z"
   },
   {
    "duration": 36215,
    "start_time": "2024-09-10T04:35:08.303Z"
   },
   {
    "duration": 145,
    "start_time": "2024-09-10T04:35:44.521Z"
   },
   {
    "duration": 105,
    "start_time": "2024-09-10T04:35:44.743Z"
   },
   {
    "duration": 9230,
    "start_time": "2024-09-10T04:35:44.850Z"
   },
   {
    "duration": 9,
    "start_time": "2024-09-10T04:35:54.082Z"
   }
  ],
  "kernelspec": {
   "display_name": "Python 3 (ipykernel)",
   "language": "python",
   "name": "python3"
  },
  "language_info": {
   "codemirror_mode": {
    "name": "ipython",
    "version": 3
   },
   "file_extension": ".py",
   "mimetype": "text/x-python",
   "name": "python",
   "nbconvert_exporter": "python",
   "pygments_lexer": "ipython3",
   "version": "3.11.7"
  },
  "toc": {
   "base_numbering": 1,
   "nav_menu": {},
   "number_sections": true,
   "sideBar": true,
   "skip_h1_title": true,
   "title_cell": "Table of Contents",
   "title_sidebar": "Contents",
   "toc_cell": false,
   "toc_position": {
    "height": "calc(100% - 180px)",
    "left": "10px",
    "top": "150px",
    "width": "478.969px"
   },
   "toc_section_display": true,
   "toc_window_display": true
  }
 },
 "nbformat": 4,
 "nbformat_minor": 2
}
