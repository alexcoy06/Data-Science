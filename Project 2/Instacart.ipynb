{
  "cells": [
    {
      "cell_type": "markdown",
      "metadata": {
        "colab_type": "text",
        "id": "view-in-github"
      },
      "source": [
        "<a href=\"https://colab.research.google.com/github/alexcoy06/Data-Science/blob/main/Project%202/Instacart.ipynb\" target=\"_parent\"><img src=\"https://colab.research.google.com/assets/colab-badge.svg\" alt=\"Open In Colab\"/></a>"
      ]
    },
    {
      "cell_type": "markdown",
      "metadata": {
        "id": "DKyd_crXf3p5"
      },
      "source": [
        "## 1 Project Overview and Setup: Understanding the Purpose\n",
        "\n",
        "Instacart is a grocery delivery platform where customers can place a grocery order and have it delivered to them. The dataset was publicly released by Instacart in 2017 for a Kaggle competition. The CSV files provided to me contain a modified version of that data. The dataset has a reduced size so that calculations run faster, and missing and duplicate values have been included. The distributions of the original data were carefully preserved in the changes made.\n",
        "\n",
        "My task is to clean up the data and prepare a report that gives insight into the shopping habits of Instacart customers. Along the way, I will be answering very important questions about the data. Additionally, I will be writing brief explanations of my results in a Jupyter notebook.\n",
        "\n",
        "This project will require me to display all the skills I have acquired so far, such as:\n",
        "\n",
        "- Creating graphs that display results\n",
        "- Knowledge of Python and Pandas\n",
        "- Testing both analytical and critical thinking\n",
        "## 2 Project Setup\n",
        "\n",
        "### 2.1 Add imports\n",
        "\n",
        "First, I'm going to start with the basics by importing Pandas and Matplotlib."
      ]
    },
    {
      "cell_type": "code",
      "execution_count": 1,
      "metadata": {
        "id": "e60Jh0zSf3p6"
      },
      "outputs": [],
      "source": [
        "import pandas as pd\n",
        "import matplotlib.pyplot as plt"
      ]
    },
    {
      "cell_type": "markdown",
      "metadata": {
        "id": "vBmLA2gUf3p6"
      },
      "source": [
        "### 2.2 Set up DataFrames\n",
        "\n",
        "Now, variables will be created to make the code usable for anyone who wants to try or take a closer look at the following code."
      ]
    },
    {
      "cell_type": "code",
      "execution_count": 2,
      "metadata": {
        "id": "CPV6DQ9jzNp-"
      },
      "outputs": [],
      "source": [
        "# For those that have either forked or copied my repository.\n",
        "order_loc = './datasets/instacart_orders.csv'\n",
        "products_loc = './datasets/products.csv'\n",
        "order_products_loc = './datasets/order_products.csv'\n",
        "aisles_loc = './datasets/aisles.csv'\n",
        "departments_loc = './datasets/departments.csv'\n",
        "\n",
        "# For those that will use the Google Colab link\n",
        "order_url = 'https://raw.githubusercontent.com/alexcoy06/Data-Science/main/Project%202/datasets/instacart_orders.csv'\n",
        "products_url = 'https://raw.githubusercontent.com/alexcoy06/Data-Science/main/Project%202/datasets/products.csv'\n",
        "order_products_url = 'https://raw.githubusercontent.com/alexcoy06/Data-Science/main/Project%202/datasets/order_products.csv'\n",
        "aisles_url = 'https://raw.githubusercontent.com/alexcoy06/Data-Science/main/Project%202/datasets/aisles.csv'\n",
        "departments_url = 'https://raw.githubusercontent.com/alexcoy06/Data-Science/main/Project%202/datasets/departments.csv'"
      ]
    },
    {
      "cell_type": "markdown",
      "metadata": {
        "id": "ff2-v_o3zNp-"
      },
      "source": [
        "Next, I will assign each CSV file to a variable so that it becomes an accessible DataFrame.\n",
        "\n",
        "Within my variables, you may notice that in the res_csv method, I have added the sep parameter. This parameter allows the columns to be correctly displayed. Otherwise, the outputs would look like this:\n",
        "\n",
        "```\n",
        "  order_id;user_id;order_number;order_dow;order_hour_of_day;days_since_prior_order\n",
        "0                        1515936;183418;11;6;13;30.0                              \n",
        "1                          1690866;163593;5;5;12;9.0  \n",
        "```\n",
        "\n",
        "Instead of the following, as seen below:"
      ]
    },
    {
      "cell_type": "code",
      "execution_count": 3,
      "metadata": {
        "id": "N8RBAMQof3p7"
      },
      "outputs": [],
      "source": [
        "# Change this to the appropriate variable per your situation\n",
        "orders = pd.read_csv(order_loc, sep=';')\n",
        "products = pd.read_csv(products_loc, sep=';')\n",
        "order_products = pd.read_csv(order_products_loc, sep=';')\n",
        "aisles = pd.read_csv(aisles_loc, sep=';')\n",
        "departments = pd.read_csv(departments_loc, sep=';')"
      ]
    },
    {
      "cell_type": "markdown",
      "metadata": {
        "id": "PWry0YLvf3p7"
      },
      "source": [
        "### 2.3 CSV File Inspection\n",
        "\n",
        "I will verify that each DataFrame is being accessed correctly by displaying just a sample of the first couple of rows. For this, I will be using the `orders` DataFrame as an example, what I will also apply to all of the other DataFrames."
      ]
    },
    {
      "cell_type": "code",
      "execution_count": 4,
      "metadata": {
        "id": "xDHVD9fCf3p7",
        "outputId": "c0dd627a-6b88-4ddf-9b90-b03b4959a7fc"
      },
      "outputs": [
        {
          "data": {
            "text/html": [
              "<div>\n",
              "<style scoped>\n",
              "    .dataframe tbody tr th:only-of-type {\n",
              "        vertical-align: middle;\n",
              "    }\n",
              "\n",
              "    .dataframe tbody tr th {\n",
              "        vertical-align: top;\n",
              "    }\n",
              "\n",
              "    .dataframe thead th {\n",
              "        text-align: right;\n",
              "    }\n",
              "</style>\n",
              "<table border=\"1\" class=\"dataframe\">\n",
              "  <thead>\n",
              "    <tr style=\"text-align: right;\">\n",
              "      <th></th>\n",
              "      <th>order_id</th>\n",
              "      <th>user_id</th>\n",
              "      <th>order_number</th>\n",
              "      <th>order_dow</th>\n",
              "      <th>order_hour_of_day</th>\n",
              "      <th>days_since_prior_order</th>\n",
              "    </tr>\n",
              "  </thead>\n",
              "  <tbody>\n",
              "    <tr>\n",
              "      <th>0</th>\n",
              "      <td>1515936</td>\n",
              "      <td>183418</td>\n",
              "      <td>11</td>\n",
              "      <td>6</td>\n",
              "      <td>13</td>\n",
              "      <td>30.0</td>\n",
              "    </tr>\n",
              "    <tr>\n",
              "      <th>1</th>\n",
              "      <td>1690866</td>\n",
              "      <td>163593</td>\n",
              "      <td>5</td>\n",
              "      <td>5</td>\n",
              "      <td>12</td>\n",
              "      <td>9.0</td>\n",
              "    </tr>\n",
              "    <tr>\n",
              "      <th>2</th>\n",
              "      <td>1454967</td>\n",
              "      <td>39980</td>\n",
              "      <td>4</td>\n",
              "      <td>5</td>\n",
              "      <td>19</td>\n",
              "      <td>2.0</td>\n",
              "    </tr>\n",
              "    <tr>\n",
              "      <th>3</th>\n",
              "      <td>1768857</td>\n",
              "      <td>82516</td>\n",
              "      <td>56</td>\n",
              "      <td>0</td>\n",
              "      <td>20</td>\n",
              "      <td>10.0</td>\n",
              "    </tr>\n",
              "    <tr>\n",
              "      <th>4</th>\n",
              "      <td>3007858</td>\n",
              "      <td>196724</td>\n",
              "      <td>2</td>\n",
              "      <td>4</td>\n",
              "      <td>12</td>\n",
              "      <td>17.0</td>\n",
              "    </tr>\n",
              "  </tbody>\n",
              "</table>\n",
              "</div>"
            ],
            "text/plain": [
              "   order_id  user_id  order_number  order_dow  order_hour_of_day  \\\n",
              "0   1515936   183418            11          6                 13   \n",
              "1   1690866   163593             5          5                 12   \n",
              "2   1454967    39980             4          5                 19   \n",
              "3   1768857    82516            56          0                 20   \n",
              "4   3007858   196724             2          4                 12   \n",
              "\n",
              "   days_since_prior_order  \n",
              "0                    30.0  \n",
              "1                     9.0  \n",
              "2                     2.0  \n",
              "3                    10.0  \n",
              "4                    17.0  "
            ]
          },
          "execution_count": 4,
          "metadata": {},
          "output_type": "execute_result"
        }
      ],
      "source": [
        "# the line below is my sep correction example from above\n",
        "orders.head()"
      ]
    },
    {
      "cell_type": "markdown",
      "metadata": {
        "id": "5gSX9YDzf3p7"
      },
      "source": [
        "### 2.4 Correcting data values\n",
        "\n",
        "Now, we want to take a moment to correct data types within our data frames to avoid unexpected errors or calculations. Essentially, we want to ensure that if we're parsing through the data, and it's meant to represent something like a user ID, it doesn't undergo mathematical operations but rather registers as a string, retaining its original value.\n",
        "\n",
        "#### 2.4.1 `aisles` data frame"
      ]
    },
    {
      "cell_type": "code",
      "execution_count": 5,
      "metadata": {
        "id": "gAIB3REHf3p7",
        "outputId": "44754d24-3a16-411b-ac83-ad079d7f0267"
      },
      "outputs": [
        {
          "name": "stdout",
          "output_type": "stream",
          "text": [
            "<class 'pandas.core.frame.DataFrame'>\n",
            "RangeIndex: 134 entries, 0 to 133\n",
            "Data columns (total 2 columns):\n",
            " #   Column    Non-Null Count  Dtype \n",
            "---  ------    --------------  ----- \n",
            " 0   aisle_id  134 non-null    int64 \n",
            " 1   aisle     134 non-null    object\n",
            "dtypes: int64(1), object(1)\n",
            "memory usage: 2.2+ KB\n"
          ]
        }
      ],
      "source": [
        "aisles.info()"
      ]
    },
    {
      "cell_type": "markdown",
      "metadata": {
        "id": "dLco1fihf3p7"
      },
      "source": [
        "In this case, when we run `info()` to check the data types of all the different Callisters, we notice that `aisle_id` registers as an integer, or `int64`. I'll be changing that to a string since it's not intended to represent a mathematical number."
      ]
    },
    {
      "cell_type": "code",
      "execution_count": 6,
      "metadata": {
        "id": "FwfSTy2if3p7",
        "outputId": "9776f3a3-79dd-4e70-a69f-3f5dea22a87a"
      },
      "outputs": [
        {
          "name": "stdout",
          "output_type": "stream",
          "text": [
            "<class 'pandas.core.frame.DataFrame'>\n",
            "RangeIndex: 134 entries, 0 to 133\n",
            "Data columns (total 2 columns):\n",
            " #   Column    Non-Null Count  Dtype \n",
            "---  ------    --------------  ----- \n",
            " 0   aisle_id  134 non-null    object\n",
            " 1   aisle     134 non-null    object\n",
            "dtypes: object(2)\n",
            "memory usage: 2.2+ KB\n"
          ]
        }
      ],
      "source": [
        "aisles['aisle_id'] = aisles['aisle_id'].astype('str')\n",
        "aisles.info()"
      ]
    },
    {
      "cell_type": "markdown",
      "metadata": {
        "id": "jUq09SfBf3p8"
      },
      "source": [
        "#### 2.4.2 `departments` data frame"
      ]
    },
    {
      "cell_type": "code",
      "execution_count": 7,
      "metadata": {
        "id": "_yDVkyHlf3p8",
        "outputId": "21bf100a-a299-4e36-a5d0-375b5daabde1"
      },
      "outputs": [
        {
          "name": "stdout",
          "output_type": "stream",
          "text": [
            "<class 'pandas.core.frame.DataFrame'>\n",
            "RangeIndex: 21 entries, 0 to 20\n",
            "Data columns (total 2 columns):\n",
            " #   Column         Non-Null Count  Dtype \n",
            "---  ------         --------------  ----- \n",
            " 0   department_id  21 non-null     int64 \n",
            " 1   department     21 non-null     object\n",
            "dtypes: int64(1), object(1)\n",
            "memory usage: 468.0+ bytes\n"
          ]
        }
      ],
      "source": [
        "departments.info()"
      ]
    },
    {
      "cell_type": "markdown",
      "metadata": {
        "id": "5ZZcfmKKf3p8"
      },
      "source": [
        "The same applies to the departments data frame with the `department_id` column. When we check the data types, we find that it registers as an integer. I'll also convert it to a string."
      ]
    },
    {
      "cell_type": "code",
      "execution_count": 8,
      "metadata": {
        "id": "7-ZxnZuZf3p8",
        "outputId": "6832f6aa-f8af-482f-e952-0ffdb1837ef0"
      },
      "outputs": [
        {
          "name": "stdout",
          "output_type": "stream",
          "text": [
            "<class 'pandas.core.frame.DataFrame'>\n",
            "RangeIndex: 21 entries, 0 to 20\n",
            "Data columns (total 2 columns):\n",
            " #   Column         Non-Null Count  Dtype \n",
            "---  ------         --------------  ----- \n",
            " 0   department_id  21 non-null     object\n",
            " 1   department     21 non-null     object\n",
            "dtypes: object(2)\n",
            "memory usage: 468.0+ bytes\n"
          ]
        }
      ],
      "source": [
        "departments['department_id'] = departments['department_id'].astype('str')\n",
        "departments.info()"
      ]
    },
    {
      "cell_type": "markdown",
      "metadata": {
        "id": "vcQIHUVAf3p8"
      },
      "source": [
        "#### 2.4.3 `orders` data frame"
      ]
    },
    {
      "cell_type": "code",
      "execution_count": 9,
      "metadata": {
        "id": "DnwwwMGJf3p8",
        "outputId": "fe8b8079-26c7-46f0-c156-45a9eda35b0a"
      },
      "outputs": [
        {
          "name": "stdout",
          "output_type": "stream",
          "text": [
            "<class 'pandas.core.frame.DataFrame'>\n",
            "RangeIndex: 478967 entries, 0 to 478966\n",
            "Data columns (total 6 columns):\n",
            " #   Column                  Non-Null Count   Dtype  \n",
            "---  ------                  --------------   -----  \n",
            " 0   order_id                478967 non-null  int64  \n",
            " 1   user_id                 478967 non-null  int64  \n",
            " 2   order_number            478967 non-null  int64  \n",
            " 3   order_dow               478967 non-null  int64  \n",
            " 4   order_hour_of_day       478967 non-null  int64  \n",
            " 5   days_since_prior_order  450148 non-null  float64\n",
            "dtypes: float64(1), int64(5)\n",
            "memory usage: 21.9 MB\n"
          ]
        }
      ],
      "source": [
        "orders.info()"
      ]
    },
    {
      "cell_type": "markdown",
      "metadata": {
        "id": "0jRnS3_Jf3p8"
      },
      "source": [
        "Now I am starting to see that all of the data frames have multiple instances of columns containing some form of ID, and some of these different types of IDs seem to overlap from one data frame to another. This would further justify turning them into objects, showing that these are specific, matchable objects."
      ]
    },
    {
      "cell_type": "code",
      "execution_count": 10,
      "metadata": {
        "id": "BG5dufmFf3p8",
        "outputId": "24b2be33-392c-4681-f6e6-15851d3c21ff"
      },
      "outputs": [
        {
          "name": "stdout",
          "output_type": "stream",
          "text": [
            "<class 'pandas.core.frame.DataFrame'>\n",
            "RangeIndex: 478967 entries, 0 to 478966\n",
            "Data columns (total 6 columns):\n",
            " #   Column                  Non-Null Count   Dtype  \n",
            "---  ------                  --------------   -----  \n",
            " 0   order_id                478967 non-null  object \n",
            " 1   user_id                 478967 non-null  object \n",
            " 2   order_number            478967 non-null  int64  \n",
            " 3   order_dow               478967 non-null  int64  \n",
            " 4   order_hour_of_day       478967 non-null  int64  \n",
            " 5   days_since_prior_order  450148 non-null  float64\n",
            "dtypes: float64(1), int64(3), object(2)\n",
            "memory usage: 21.9+ MB\n"
          ]
        }
      ],
      "source": [
        "orders['order_id'] = orders['order_id'].astype('str')\n",
        "orders['user_id'] = orders['user_id'].astype('str')\n",
        "\n",
        "orders.info()"
      ]
    },
    {
      "cell_type": "markdown",
      "metadata": {
        "id": "IAyUfYJSf3p9"
      },
      "source": [
        "#### 2.4.4 `order_products` data frame"
      ]
    },
    {
      "cell_type": "code",
      "execution_count": 11,
      "metadata": {
        "id": "scIY6Hkuf3p9",
        "outputId": "10addd7c-8fc6-4b08-c66b-b79c76145611"
      },
      "outputs": [
        {
          "name": "stdout",
          "output_type": "stream",
          "text": [
            "<class 'pandas.core.frame.DataFrame'>\n",
            "RangeIndex: 4545007 entries, 0 to 4545006\n",
            "Data columns (total 4 columns):\n",
            " #   Column             Dtype  \n",
            "---  ------             -----  \n",
            " 0   order_id           int64  \n",
            " 1   product_id         int64  \n",
            " 2   add_to_cart_order  float64\n",
            " 3   reordered          int64  \n",
            "dtypes: float64(1), int64(3)\n",
            "memory usage: 138.7 MB\n"
          ]
        }
      ],
      "source": [
        "order_products.info()"
      ]
    },
    {
      "cell_type": "markdown",
      "metadata": {
        "id": "F8e-BbQKf3p9"
      },
      "source": [
        "Both `order_id` and `product_id` need to be changed to objects."
      ]
    },
    {
      "cell_type": "code",
      "execution_count": 12,
      "metadata": {
        "id": "SeTHUBNvf3p9",
        "outputId": "fae879c5-1591-4824-a400-8ebaae6ba882"
      },
      "outputs": [
        {
          "name": "stdout",
          "output_type": "stream",
          "text": [
            "<class 'pandas.core.frame.DataFrame'>\n",
            "RangeIndex: 4545007 entries, 0 to 4545006\n",
            "Data columns (total 4 columns):\n",
            " #   Column             Dtype  \n",
            "---  ------             -----  \n",
            " 0   order_id           object \n",
            " 1   product_id         object \n",
            " 2   add_to_cart_order  float64\n",
            " 3   reordered          int64  \n",
            "dtypes: float64(1), int64(1), object(2)\n",
            "memory usage: 138.7+ MB\n"
          ]
        }
      ],
      "source": [
        "order_products['order_id'] = order_products['order_id'].astype('str')\n",
        "order_products['product_id'] = order_products['product_id'].astype('str')\n",
        "\n",
        "order_products.info()"
      ]
    },
    {
      "cell_type": "markdown",
      "metadata": {
        "id": "NEGzshlDf3p9"
      },
      "source": [
        "#### 2.4.5 `products` data frame"
      ]
    },
    {
      "cell_type": "code",
      "execution_count": 13,
      "metadata": {
        "id": "OQTDELYjf3p9",
        "outputId": "79389da2-0c25-43a1-823e-a2df3fb7b952"
      },
      "outputs": [
        {
          "name": "stdout",
          "output_type": "stream",
          "text": [
            "<class 'pandas.core.frame.DataFrame'>\n",
            "RangeIndex: 49694 entries, 0 to 49693\n",
            "Data columns (total 4 columns):\n",
            " #   Column         Non-Null Count  Dtype \n",
            "---  ------         --------------  ----- \n",
            " 0   product_id     49694 non-null  int64 \n",
            " 1   product_name   48436 non-null  object\n",
            " 2   aisle_id       49694 non-null  int64 \n",
            " 3   department_id  49694 non-null  int64 \n",
            "dtypes: int64(3), object(1)\n",
            "memory usage: 1.5+ MB\n"
          ]
        }
      ],
      "source": [
        "products.info()"
      ]
    },
    {
      "cell_type": "markdown",
      "metadata": {
        "id": "IaRflvEWf3p9"
      },
      "source": [
        "Based on the names of each column in the `products` DataFrame, I believe that all of the values should be objects; none of these values should have any mathematical value. So, just like above, the column with integer values will be changed to objects. This will allow us to safely use this data frame as a reference for understanding other data frames, without fear of changing these values."
      ]
    },
    {
      "cell_type": "code",
      "execution_count": 14,
      "metadata": {
        "id": "ZxWPUP89f3p9",
        "outputId": "8d347c9c-da12-4984-a943-7045df1377e3"
      },
      "outputs": [
        {
          "name": "stdout",
          "output_type": "stream",
          "text": [
            "<class 'pandas.core.frame.DataFrame'>\n",
            "RangeIndex: 49694 entries, 0 to 49693\n",
            "Data columns (total 4 columns):\n",
            " #   Column         Non-Null Count  Dtype \n",
            "---  ------         --------------  ----- \n",
            " 0   product_id     49694 non-null  object\n",
            " 1   product_name   48436 non-null  object\n",
            " 2   aisle_id       49694 non-null  object\n",
            " 3   department_id  49694 non-null  object\n",
            "dtypes: object(4)\n",
            "memory usage: 1.5+ MB\n"
          ]
        }
      ],
      "source": [
        "products['aisle_id'] = products['aisle_id'].astype('str')\n",
        "products['department_id'] = products['department_id'].astype('str')\n",
        "products['product_id'] = products['product_id'].astype('str')\n",
        "\n",
        "products.info()"
      ]
    },
    {
      "cell_type": "markdown",
      "metadata": {
        "id": "l4-yqe7gf3p9"
      },
      "source": [
        "## 3 Find and remove duplicate values\n",
        "\n",
        "Now that I've confirmed that my dataframes are displaying correctly, I can start processing and cleaning the data frames. I'll begin by looking for all duplicate values. I'm going to mainly use the `.duplicated().count()` method to identify and count the duplicate rows.\n",
        "\n",
        "### 3.1 `orders` data frame"
      ]
    },
    {
      "cell_type": "code",
      "execution_count": 15,
      "metadata": {
        "id": "0s6ocxoIf3p9",
        "outputId": "787079dd-3211-49ab-b9c0-8ea9503264e9"
      },
      "outputs": [
        {
          "name": "stdout",
          "output_type": "stream",
          "text": [
            "Their are 15 duplicates!\n"
          ]
        }
      ],
      "source": [
        "print(f'Their are {orders.duplicated().sum()} duplicates!')"
      ]
    },
    {
      "cell_type": "markdown",
      "metadata": {
        "id": "zPNuxNl5f3p9"
      },
      "source": [
        "There are a few duplicates, which will be handled later. But for now, I would like to see all orders that were placed on **Wednesday** at **2:00 A.M.**\n",
        "\n",
        "> 💡 **Note:**<br>\n",
        "> By deductive reasoning, I have noticed that Instacart does employ data scientists. Many data scientists tend to use Pandas, as observed. According to the Pandas [documentation](https://pandas.pydata.org/docs/reference/api/pandas.DatetimeIndex.dayofweek.html), days of the week are numerically ordered from zero to six, corresponding to Monday to Sunday. This leads me to believe that it was intentionally left this way."
      ]
    },
    {
      "cell_type": "code",
      "execution_count": 16,
      "metadata": {
        "id": "-Go9Dqfdf3p-",
        "outputId": "656f6e3e-267f-445b-973c-29a6fb01d37a"
      },
      "outputs": [
        {
          "data": {
            "text/html": [
              "<div>\n",
              "<style scoped>\n",
              "    .dataframe tbody tr th:only-of-type {\n",
              "        vertical-align: middle;\n",
              "    }\n",
              "\n",
              "    .dataframe tbody tr th {\n",
              "        vertical-align: top;\n",
              "    }\n",
              "\n",
              "    .dataframe thead th {\n",
              "        text-align: right;\n",
              "    }\n",
              "</style>\n",
              "<table border=\"1\" class=\"dataframe\">\n",
              "  <thead>\n",
              "    <tr style=\"text-align: right;\">\n",
              "      <th></th>\n",
              "      <th>order_id</th>\n",
              "      <th>user_id</th>\n",
              "      <th>order_number</th>\n",
              "      <th>order_dow</th>\n",
              "      <th>order_hour_of_day</th>\n",
              "      <th>days_since_prior_order</th>\n",
              "    </tr>\n",
              "  </thead>\n",
              "  <tbody>\n",
              "    <tr>\n",
              "      <th>1295</th>\n",
              "      <td>1474941</td>\n",
              "      <td>115569</td>\n",
              "      <td>5</td>\n",
              "      <td>2</td>\n",
              "      <td>2</td>\n",
              "      <td>28.0</td>\n",
              "    </tr>\n",
              "    <tr>\n",
              "      <th>2391</th>\n",
              "      <td>1640269</td>\n",
              "      <td>173965</td>\n",
              "      <td>15</td>\n",
              "      <td>2</td>\n",
              "      <td>2</td>\n",
              "      <td>2.0</td>\n",
              "    </tr>\n",
              "    <tr>\n",
              "      <th>2550</th>\n",
              "      <td>1223696</td>\n",
              "      <td>55276</td>\n",
              "      <td>11</td>\n",
              "      <td>2</td>\n",
              "      <td>2</td>\n",
              "      <td>30.0</td>\n",
              "    </tr>\n",
              "    <tr>\n",
              "      <th>5965</th>\n",
              "      <td>579194</td>\n",
              "      <td>85018</td>\n",
              "      <td>14</td>\n",
              "      <td>2</td>\n",
              "      <td>2</td>\n",
              "      <td>11.0</td>\n",
              "    </tr>\n",
              "    <tr>\n",
              "      <th>17680</th>\n",
              "      <td>2004230</td>\n",
              "      <td>203121</td>\n",
              "      <td>4</td>\n",
              "      <td>2</td>\n",
              "      <td>2</td>\n",
              "      <td>8.0</td>\n",
              "    </tr>\n",
              "    <tr>\n",
              "      <th>...</th>\n",
              "      <td>...</td>\n",
              "      <td>...</td>\n",
              "      <td>...</td>\n",
              "      <td>...</td>\n",
              "      <td>...</td>\n",
              "      <td>...</td>\n",
              "    </tr>\n",
              "    <tr>\n",
              "      <th>457660</th>\n",
              "      <td>1562381</td>\n",
              "      <td>19378</td>\n",
              "      <td>5</td>\n",
              "      <td>2</td>\n",
              "      <td>2</td>\n",
              "      <td>6.0</td>\n",
              "    </tr>\n",
              "    <tr>\n",
              "      <th>460316</th>\n",
              "      <td>1986084</td>\n",
              "      <td>117453</td>\n",
              "      <td>81</td>\n",
              "      <td>2</td>\n",
              "      <td>2</td>\n",
              "      <td>8.0</td>\n",
              "    </tr>\n",
              "    <tr>\n",
              "      <th>462676</th>\n",
              "      <td>1362113</td>\n",
              "      <td>19654</td>\n",
              "      <td>20</td>\n",
              "      <td>2</td>\n",
              "      <td>2</td>\n",
              "      <td>21.0</td>\n",
              "    </tr>\n",
              "    <tr>\n",
              "      <th>472800</th>\n",
              "      <td>1746383</td>\n",
              "      <td>88484</td>\n",
              "      <td>19</td>\n",
              "      <td>2</td>\n",
              "      <td>2</td>\n",
              "      <td>5.0</td>\n",
              "    </tr>\n",
              "    <tr>\n",
              "      <th>472923</th>\n",
              "      <td>1519815</td>\n",
              "      <td>149345</td>\n",
              "      <td>1</td>\n",
              "      <td>2</td>\n",
              "      <td>2</td>\n",
              "      <td>NaN</td>\n",
              "    </tr>\n",
              "  </tbody>\n",
              "</table>\n",
              "<p>136 rows × 6 columns</p>\n",
              "</div>"
            ],
            "text/plain": [
              "       order_id user_id  order_number  order_dow  order_hour_of_day  \\\n",
              "1295    1474941  115569             5          2                  2   \n",
              "2391    1640269  173965            15          2                  2   \n",
              "2550    1223696   55276            11          2                  2   \n",
              "5965     579194   85018            14          2                  2   \n",
              "17680   2004230  203121             4          2                  2   \n",
              "...         ...     ...           ...        ...                ...   \n",
              "457660  1562381   19378             5          2                  2   \n",
              "460316  1986084  117453            81          2                  2   \n",
              "462676  1362113   19654            20          2                  2   \n",
              "472800  1746383   88484            19          2                  2   \n",
              "472923  1519815  149345             1          2                  2   \n",
              "\n",
              "        days_since_prior_order  \n",
              "1295                      28.0  \n",
              "2391                       2.0  \n",
              "2550                      30.0  \n",
              "5965                      11.0  \n",
              "17680                      8.0  \n",
              "...                        ...  \n",
              "457660                     6.0  \n",
              "460316                     8.0  \n",
              "462676                    21.0  \n",
              "472800                     5.0  \n",
              "472923                     NaN  \n",
              "\n",
              "[136 rows x 6 columns]"
            ]
          },
          "execution_count": 16,
          "metadata": {},
          "output_type": "execute_result"
        }
      ],
      "source": [
        "wednesday_at_2 = orders[(orders['order_dow'] == 2) & (orders['order_hour_of_day'] == 2)]\n",
        "wednesday_at_2"
      ]
    },
    {
      "cell_type": "markdown",
      "metadata": {
        "id": "bnrt0rUVf3p-"
      },
      "source": [
        "Now I will drop the duplicates using the `drop_duplicates()` method to get rid of all duplicates."
      ]
    },
    {
      "cell_type": "code",
      "execution_count": 17,
      "metadata": {
        "id": "LoIaiIjwf3p-"
      },
      "outputs": [],
      "source": [
        "orders = orders.drop_duplicates()"
      ]
    },
    {
      "cell_type": "markdown",
      "metadata": {
        "id": "OPcGyk0Bf3p-"
      },
      "source": [
        "To ensure that I no longer have any duplicates, I'm going to verify it again using the `.duplicated().sum()` method."
      ]
    },
    {
      "cell_type": "code",
      "execution_count": 18,
      "metadata": {
        "id": "IreAAv-rf3p-",
        "outputId": "1137a42a-c8a3-4122-f709-72208844ad7e"
      },
      "outputs": [
        {
          "name": "stdout",
          "output_type": "stream",
          "text": [
            "Their are 0 duplicates!\n"
          ]
        }
      ],
      "source": [
        "print(f'Their are {orders.duplicated().sum()} duplicates!')"
      ]
    },
    {
      "cell_type": "markdown",
      "metadata": {
        "id": "ieDf97ZNf3p-"
      },
      "source": [
        "To be thorough, I just want to double-check to ensure there are no duplicates in `order_id`."
      ]
    },
    {
      "cell_type": "code",
      "execution_count": 19,
      "metadata": {
        "id": "kCw8KUsnf3p-",
        "outputId": "bd3775d6-77ca-455f-ee32-a1656754be5c"
      },
      "outputs": [
        {
          "name": "stdout",
          "output_type": "stream",
          "text": [
            "Their are 0 duplicates!\n"
          ]
        }
      ],
      "source": [
        "print(f\"Their are {orders['order_id'].duplicated().sum()} duplicates!\")"
      ]
    },
    {
      "cell_type": "markdown",
      "metadata": {
        "id": "tr4fTHa4f3p-"
      },
      "source": [
        "### 3.2 `products` data frame"
      ]
    },
    {
      "cell_type": "code",
      "execution_count": 20,
      "metadata": {
        "id": "hneBKzarf3p_",
        "outputId": "9fe0c237-4ebd-441a-8d61-899dedf6de05"
      },
      "outputs": [
        {
          "name": "stdout",
          "output_type": "stream",
          "text": [
            "Their are 0 duplicates!\n"
          ]
        }
      ],
      "source": [
        "print(f\"Their are {products.duplicated().sum()} duplicates!\")"
      ]
    },
    {
      "cell_type": "markdown",
      "metadata": {
        "id": "TKsDwg7Rf3p_"
      },
      "source": [
        "So far, I haven't found any duplicates, which is great. However, now I want to check if there are any duplicates in the 'product_id' column."
      ]
    },
    {
      "cell_type": "code",
      "execution_count": 21,
      "metadata": {
        "id": "k1mUx_WMf3p_",
        "outputId": "99ed7b0a-b5e1-464c-fd75-474844b20075"
      },
      "outputs": [
        {
          "name": "stdout",
          "output_type": "stream",
          "text": [
            "Their are 0 duplicates in the `product_id`!\n"
          ]
        }
      ],
      "source": [
        "print(f\"Their are {products['product_id'].duplicated().sum()} duplicates in the `product_id`!\")"
      ]
    },
    {
      "cell_type": "markdown",
      "metadata": {
        "id": "RdCWAtDMf3p_"
      },
      "source": [
        "So far, there continue to be no duplicates, but to better understand the data, I want to check for duplicates in the 'product_name' column. However, to ensure accuracy, I'll need to standardize all product names by converting them to lowercase. I'll be using `value_counts` in this instance to sample my data and see if any duplicates emerge."
      ]
    },
    {
      "cell_type": "code",
      "execution_count": 22,
      "metadata": {
        "id": "GAyKumeXf3p_",
        "outputId": "ca815c29-ffbb-4fc9-81f2-979d3a1aef3a"
      },
      "outputs": [
        {
          "data": {
            "text/plain": [
              "product_name\n",
              "green tea with ginseng and honey                                        3\n",
              "carrot and celery sticks                                                2\n",
              "apricot energy bar                                                      2\n",
              "top the tater chive & onion sour cream                                  2\n",
              "proactive health indoor weight & hairball care with chicken cat food    2\n",
              "                                                                       ..\n",
              "cauliflower head                                                        2\n",
              "half and half                                                           2\n",
              "original bbq sauce                                                      2\n",
              "spreadable butter with canola oil                                       2\n",
              "mandarin oranges in light syrup                                         2\n",
              "Name: count, Length: 103, dtype: int64"
            ]
          },
          "execution_count": 22,
          "metadata": {},
          "output_type": "execute_result"
        }
      ],
      "source": [
        "products['product_name'] = products['product_name'].str.lower()\n",
        "duplicate_names = products['product_name'].value_counts()\n",
        "duplicate_names[duplicate_names > 1]"
      ]
    },
    {
      "cell_type": "markdown",
      "metadata": {
        "id": "61uXVfNMf3p_"
      },
      "source": [
        "While reviewing the data, I noticed some duplicate values, notably with `green tea with ginseng and honey,` which has the highest number of duplicates. Reflecting on my experience at Home Depot, I realized that despite having different product IDs, these duplicates likely refer to the same product but in varying quantities. Considering this, I would suggest notifying Instacart to ensure this information is included in the next update.\n",
        "\n",
        "But to continue being thorough, I will check for duplicate product names that aren't missing."
      ]
    },
    {
      "cell_type": "code",
      "execution_count": 23,
      "metadata": {
        "id": "Ug0EXu3Jf3p_",
        "outputId": "31714598-e524-4056-dbb5-40344fd855f7"
      },
      "outputs": [
        {
          "data": {
            "text/plain": [
              "product_name\n",
              "green tea with ginseng and honey    2\n",
              "Name: count, dtype: int64"
            ]
          },
          "execution_count": 23,
          "metadata": {},
          "output_type": "execute_result"
        }
      ],
      "source": [
        "products_names = products[products['product_name'].duplicated() & ~products['product_name'].isnull()]\n",
        "products_names = products_names['product_name'].value_counts()\n",
        "products_names[products_names > 1]"
      ]
    },
    {
      "cell_type": "markdown",
      "metadata": {
        "id": "627V9ftCf3p_"
      },
      "source": [
        "### 3.3 `departments` data frame\n",
        "\n",
        "I also want to check the `departments` data for duplicates. However, upon inspection, it appears small enough to confirm that there are no errors present or corrections needed."
      ]
    },
    {
      "cell_type": "code",
      "execution_count": 24,
      "metadata": {
        "id": "KnikHLpkf3qA",
        "outputId": "cc585f2f-7a47-4948-fcfe-39dee9095b59"
      },
      "outputs": [
        {
          "data": {
            "text/html": [
              "<div>\n",
              "<style scoped>\n",
              "    .dataframe tbody tr th:only-of-type {\n",
              "        vertical-align: middle;\n",
              "    }\n",
              "\n",
              "    .dataframe tbody tr th {\n",
              "        vertical-align: top;\n",
              "    }\n",
              "\n",
              "    .dataframe thead th {\n",
              "        text-align: right;\n",
              "    }\n",
              "</style>\n",
              "<table border=\"1\" class=\"dataframe\">\n",
              "  <thead>\n",
              "    <tr style=\"text-align: right;\">\n",
              "      <th></th>\n",
              "      <th>department_id</th>\n",
              "      <th>department</th>\n",
              "    </tr>\n",
              "  </thead>\n",
              "  <tbody>\n",
              "    <tr>\n",
              "      <th>0</th>\n",
              "      <td>1</td>\n",
              "      <td>frozen</td>\n",
              "    </tr>\n",
              "    <tr>\n",
              "      <th>1</th>\n",
              "      <td>2</td>\n",
              "      <td>other</td>\n",
              "    </tr>\n",
              "    <tr>\n",
              "      <th>2</th>\n",
              "      <td>3</td>\n",
              "      <td>bakery</td>\n",
              "    </tr>\n",
              "    <tr>\n",
              "      <th>3</th>\n",
              "      <td>4</td>\n",
              "      <td>produce</td>\n",
              "    </tr>\n",
              "    <tr>\n",
              "      <th>4</th>\n",
              "      <td>5</td>\n",
              "      <td>alcohol</td>\n",
              "    </tr>\n",
              "    <tr>\n",
              "      <th>5</th>\n",
              "      <td>6</td>\n",
              "      <td>international</td>\n",
              "    </tr>\n",
              "    <tr>\n",
              "      <th>6</th>\n",
              "      <td>7</td>\n",
              "      <td>beverages</td>\n",
              "    </tr>\n",
              "    <tr>\n",
              "      <th>7</th>\n",
              "      <td>8</td>\n",
              "      <td>pets</td>\n",
              "    </tr>\n",
              "    <tr>\n",
              "      <th>8</th>\n",
              "      <td>9</td>\n",
              "      <td>dry goods pasta</td>\n",
              "    </tr>\n",
              "    <tr>\n",
              "      <th>9</th>\n",
              "      <td>10</td>\n",
              "      <td>bulk</td>\n",
              "    </tr>\n",
              "    <tr>\n",
              "      <th>10</th>\n",
              "      <td>11</td>\n",
              "      <td>personal care</td>\n",
              "    </tr>\n",
              "    <tr>\n",
              "      <th>11</th>\n",
              "      <td>12</td>\n",
              "      <td>meat seafood</td>\n",
              "    </tr>\n",
              "    <tr>\n",
              "      <th>12</th>\n",
              "      <td>13</td>\n",
              "      <td>pantry</td>\n",
              "    </tr>\n",
              "    <tr>\n",
              "      <th>13</th>\n",
              "      <td>14</td>\n",
              "      <td>breakfast</td>\n",
              "    </tr>\n",
              "    <tr>\n",
              "      <th>14</th>\n",
              "      <td>15</td>\n",
              "      <td>canned goods</td>\n",
              "    </tr>\n",
              "    <tr>\n",
              "      <th>15</th>\n",
              "      <td>16</td>\n",
              "      <td>dairy eggs</td>\n",
              "    </tr>\n",
              "    <tr>\n",
              "      <th>16</th>\n",
              "      <td>17</td>\n",
              "      <td>household</td>\n",
              "    </tr>\n",
              "    <tr>\n",
              "      <th>17</th>\n",
              "      <td>18</td>\n",
              "      <td>babies</td>\n",
              "    </tr>\n",
              "    <tr>\n",
              "      <th>18</th>\n",
              "      <td>19</td>\n",
              "      <td>snacks</td>\n",
              "    </tr>\n",
              "    <tr>\n",
              "      <th>19</th>\n",
              "      <td>20</td>\n",
              "      <td>deli</td>\n",
              "    </tr>\n",
              "    <tr>\n",
              "      <th>20</th>\n",
              "      <td>21</td>\n",
              "      <td>missing</td>\n",
              "    </tr>\n",
              "  </tbody>\n",
              "</table>\n",
              "</div>"
            ],
            "text/plain": [
              "   department_id       department\n",
              "0              1           frozen\n",
              "1              2            other\n",
              "2              3           bakery\n",
              "3              4          produce\n",
              "4              5          alcohol\n",
              "5              6    international\n",
              "6              7        beverages\n",
              "7              8             pets\n",
              "8              9  dry goods pasta\n",
              "9             10             bulk\n",
              "10            11    personal care\n",
              "11            12     meat seafood\n",
              "12            13           pantry\n",
              "13            14        breakfast\n",
              "14            15     canned goods\n",
              "15            16       dairy eggs\n",
              "16            17        household\n",
              "17            18           babies\n",
              "18            19           snacks\n",
              "19            20             deli\n",
              "20            21          missing"
            ]
          },
          "execution_count": 24,
          "metadata": {},
          "output_type": "execute_result"
        }
      ],
      "source": [
        "departments"
      ]
    },
    {
      "cell_type": "markdown",
      "metadata": {
        "id": "i3ndeM1Wf3qA"
      },
      "source": [
        "### 3.4  `aisles` data frame\n",
        "\n",
        "For similar reasons as the `departments` dataframe, the same can be said for `aisles,` as it only has two columns, and neither of them repeats, as seen below."
      ]
    },
    {
      "cell_type": "code",
      "execution_count": 25,
      "metadata": {
        "id": "NbwycvFTf3qA",
        "outputId": "012e79d3-f1ca-4387-bb84-f8114b97865a"
      },
      "outputs": [
        {
          "name": "stdout",
          "output_type": "stream",
          "text": [
            "There are 0 duplicates in the aisles columm and 0 in the aisles_id column.\n"
          ]
        }
      ],
      "source": [
        "print(f\"There are {aisles['aisle'].duplicated().sum()} duplicates in the aisles columm and {aisles['aisle_id'].duplicated().sum()} in the aisles_id column.\")"
      ]
    },
    {
      "cell_type": "markdown",
      "metadata": {
        "id": "kwnLJ3RZf3qA"
      },
      "source": [
        "### 3.5 `order_products` data frame"
      ]
    },
    {
      "cell_type": "code",
      "execution_count": 26,
      "metadata": {
        "id": "yM6Jdsxdf3qA",
        "outputId": "0cc38bd0-0366-4255-c137-b2d4b2349817"
      },
      "outputs": [
        {
          "name": "stdout",
          "output_type": "stream",
          "text": [
            "Their are 0 duplicates!\n"
          ]
        }
      ],
      "source": [
        "print(f\"Their are {order_products.duplicated().sum()} duplicates!\")"
      ]
    },
    {
      "cell_type": "markdown",
      "metadata": {
        "id": "9h0JcV2Wf3qA"
      },
      "source": [
        "There are no duplicated rows, which is great. However, I would like to be thorough and ensure there are no duplicate values elsewhere. Upon further inspection, the only significant duplicates that could potentially lead to errors might occur in the `order_id`, where there are multiple instances of the same `product_id`. Especially considering the `add_to_cart_order` column, should indicate the number of times a product is needed for each order."
      ]
    },
    {
      "cell_type": "code",
      "execution_count": 27,
      "metadata": {
        "id": "uxxv7LL7f3qA",
        "outputId": "c93a3981-ca74-4f27-fc61-3984c6120277"
      },
      "outputs": [
        {
          "name": "stdout",
          "output_type": "stream",
          "text": [
            "Their are 0 duplicates!\n"
          ]
        }
      ],
      "source": [
        "multi_op = order_products.duplicated(subset=['order_id', 'product_id']).sum()\n",
        "print(f\"Their are {multi_op} duplicates!\")"
      ]
    },
    {
      "cell_type": "markdown",
      "metadata": {
        "id": "CpD6I8WIf3qA"
      },
      "source": [
        "## 4  Find and remove missing values\n",
        "\n",
        "Next, I will be handling missing values. With that said, the method you will see me using throughout this section is `.isna().sum()`, similar to the `.duplicated().sum()`. This method identifies the targeted value, which is a None value, and sums up, counting the total number of occurrences.\n",
        "\n",
        "### 4.1 `products` data frame"
      ]
    },
    {
      "cell_type": "code",
      "execution_count": 28,
      "metadata": {
        "id": "Y5vvJ_VKf3qA",
        "outputId": "bffeffa9-e53a-4acd-e3c3-4eb18939e7eb"
      },
      "outputs": [
        {
          "data": {
            "text/plain": [
              "product_id          0\n",
              "product_name     1258\n",
              "aisle_id            0\n",
              "department_id       0\n",
              "dtype: int64"
            ]
          },
          "execution_count": 28,
          "metadata": {},
          "output_type": "execute_result"
        }
      ],
      "source": [
        "products.isna().sum()"
      ]
    },
    {
      "cell_type": "markdown",
      "metadata": {
        "id": "y3qqAtXzf3qB"
      },
      "source": [
        "It seems that all of the missing data is in the `product_name` column. I don't know what these products are, but I can see what `department_id` and `aisles` they come from to help narrow down what they could be."
      ]
    },
    {
      "cell_type": "code",
      "execution_count": 29,
      "metadata": {
        "id": "_u4xAsEZf3qB",
        "outputId": "e0a89b3f-991e-4d04-899f-148ea6a01ea9"
      },
      "outputs": [
        {
          "data": {
            "text/plain": [
              "department_id\n",
              "21    1258\n",
              "Name: count, dtype: int64"
            ]
          },
          "execution_count": 29,
          "metadata": {},
          "output_type": "execute_result"
        }
      ],
      "source": [
        "products_missing = products[products['product_name'].isnull()]\n",
        "missing_department = products_missing['department_id'].value_counts()\n",
        "missing_department"
      ]
    },
    {
      "cell_type": "markdown",
      "metadata": {
        "id": "Uh5d0pudf3qB"
      },
      "source": [
        "It seems that all the products with missing data are coming from one department, and now I need to see which aisles they are coming from in that department."
      ]
    },
    {
      "cell_type": "code",
      "execution_count": 30,
      "metadata": {
        "id": "j5grfgTxf3qB",
        "outputId": "fdb1ad63-ea0e-4720-a850-30e630113144"
      },
      "outputs": [
        {
          "data": {
            "text/plain": [
              "aisle_id\n",
              "100    1258\n",
              "Name: count, dtype: int64"
            ]
          },
          "execution_count": 30,
          "metadata": {},
          "output_type": "execute_result"
        }
      ],
      "source": [
        "missing_aisle = products_missing['aisle_id'].value_counts()\n",
        "missing_aisle"
      ]
    },
    {
      "cell_type": "markdown",
      "metadata": {
        "id": "-VusC4ISf3qB"
      },
      "source": [
        "After going through the dataframe and taking the time to check the other dataframes, it seems as though all of the missing values are intentional. Every product with a missing product name belongs to the missing department in the missing aisle. With that in mind, we can't leave these values empty, so we will replace them with `Unknown` for a product name."
      ]
    },
    {
      "cell_type": "code",
      "execution_count": 31,
      "metadata": {
        "id": "bW8w877df3qB",
        "outputId": "d8316098-81a9-4d6c-869d-3c37312f1b84"
      },
      "outputs": [
        {
          "name": "stdout",
          "output_type": "stream",
          "text": [
            "Their are 0 missing values!\n"
          ]
        }
      ],
      "source": [
        "products['product_name'] = products['product_name'].fillna('Unkown')\n",
        "print(f\"Their are {products['product_name'].isna().sum()} missing values!\")"
      ]
    },
    {
      "cell_type": "markdown",
      "metadata": {
        "id": "tDgcHChAf3qC"
      },
      "source": [
        "### 4.2 `orders` data frame"
      ]
    },
    {
      "cell_type": "code",
      "execution_count": 32,
      "metadata": {
        "id": "GBtVvEh4f3qC",
        "outputId": "d874da63-9442-4d1e-e7a5-ab237a51da23"
      },
      "outputs": [
        {
          "data": {
            "text/plain": [
              "order_id                      0\n",
              "user_id                       0\n",
              "order_number                  0\n",
              "order_dow                     0\n",
              "order_hour_of_day             0\n",
              "days_since_prior_order    28817\n",
              "dtype: int64"
            ]
          },
          "execution_count": 32,
          "metadata": {},
          "output_type": "execute_result"
        }
      ],
      "source": [
        "orders.isna().sum()"
      ]
    },
    {
      "cell_type": "markdown",
      "metadata": {
        "id": "YhEG4GwOf3qC"
      },
      "source": [
        "I believe that the 'days_since_prior_order' should be closely related to the 'order_number', as you can have a prior order even if it's your first order. That's what I'll be checking for—instances when that is not the case."
      ]
    },
    {
      "cell_type": "code",
      "execution_count": 33,
      "metadata": {
        "id": "WAD_tc58f3qC",
        "outputId": "b187708d-8897-496a-e5de-513c3e5002f6"
      },
      "outputs": [
        {
          "name": "stdout",
          "output_type": "stream",
          "text": [
            "Their are 0 missing values!\n"
          ]
        }
      ],
      "source": [
        "missing_prior = orders[orders['days_since_prior_order'].isnull()]\n",
        "not_first = missing_prior[missing_prior['order_number'] != 1]\n",
        "print(f\"Their are {not_first['order_number'].sum()} missing values!\")"
      ]
    },
    {
      "cell_type": "markdown",
      "metadata": {
        "id": "WVJhcFzrf3qC"
      },
      "source": [
        "\"It seems that my educated guess was correct.\"\n",
        "\n",
        "### 4.3 `order_products` data frame"
      ]
    },
    {
      "cell_type": "code",
      "execution_count": 34,
      "metadata": {
        "id": "nZmiuFJAf3qC",
        "outputId": "700f694e-ef7f-4ee2-d8c6-108dd2a42274"
      },
      "outputs": [
        {
          "data": {
            "text/plain": [
              "order_id               0\n",
              "product_id             0\n",
              "add_to_cart_order    836\n",
              "reordered              0\n",
              "dtype: int64"
            ]
          },
          "execution_count": 34,
          "metadata": {},
          "output_type": "execute_result"
        }
      ],
      "source": [
        "order_products.isna().sum()"
      ]
    },
    {
      "cell_type": "markdown",
      "metadata": {
        "id": "niwHv322f3qC"
      },
      "source": [
        "Because I noticed that the `add_to_cart_order` has many different numbers, I would like to investigate if there are any outlier reasons for the missing values by examining the minimum and maximum numbers."
      ]
    },
    {
      "cell_type": "code",
      "execution_count": 35,
      "metadata": {
        "id": "14CeTRdCf3qD",
        "outputId": "6081072b-630d-4f81-91f9-15dc2d8446d1"
      },
      "outputs": [
        {
          "name": "stdout",
          "output_type": "stream",
          "text": [
            "In the `add_to_cart_order` column the min is 1.0 and the max is 64.0.\n"
          ]
        }
      ],
      "source": [
        "print(f\"In the `add_to_cart_order` column the min is {order_products['add_to_cart_order'].min()} and the max is {order_products['add_to_cart_order'].max()}.\")"
      ]
    },
    {
      "cell_type": "markdown",
      "metadata": {
        "id": "skRhcFJ3f3qD"
      },
      "source": [
        "Now, I would like to investigate if there is any correlation between `order_id` and the total number of items being added to the cart for each order. I want to identify which orders have the `add_to_cart_order` missing value."
      ]
    },
    {
      "cell_type": "code",
      "execution_count": 36,
      "metadata": {
        "id": "7EcVdnuEf3qD",
        "outputId": "032af0df-8a23-4de8-e692-195d66bb2e9e"
      },
      "outputs": [
        {
          "data": {
            "text/plain": [
              "array(['2449164', '1968313', '2926893', '1717990', '1959075', '844733',\n",
              "       '61355', '936852', '264710', '1564093', '129627', '293169',\n",
              "       '2849370', '1386261', '3308010', '903110', '2136777', '3347453',\n",
              "       '1888628', '165801', '2094761', '1038146', '2997021', '813364',\n",
              "       '2256933', '171934', '2409109', '1730767', '1169835', '733526',\n",
              "       '404157', '3125735', '747668', '1800005', '1961723', '871281',\n",
              "       '388234', '1648217', '1477139', '102236', '1021563', '1832957',\n",
              "       '2721963', '678116', '1220886', '1673227', '2999801', '1633337',\n",
              "       '2470674', '2625444', '1677118', '2479011', '3383594', '1183255',\n",
              "       '1713430', '2652650', '1598369', '1916118', '854647', '1302315',\n",
              "       '888470', '180546', '2621907', '1308785', '2729254', '9310',\n",
              "       '2170451', '2979697', '1625713', '1529171'], dtype=object)"
            ]
          },
          "execution_count": 36,
          "metadata": {},
          "output_type": "execute_result"
        }
      ],
      "source": [
        "missing_cart = order_products[order_products['add_to_cart_order'].isnull()]['order_id'].unique()\n",
        "missing_cart"
      ]
    },
    {
      "cell_type": "markdown",
      "metadata": {
        "id": "l9YM1ENAf3qD"
      },
      "source": [
        "Now, I want to determine if the error is related to the maximum number of items being added to the cart."
      ]
    },
    {
      "cell_type": "code",
      "execution_count": 37,
      "metadata": {
        "id": "0fBUbx5Uf3qD",
        "outputId": "98b7345e-92f5-422b-d103-e0f07fc2e8a5"
      },
      "outputs": [
        {
          "data": {
            "text/plain": [
              "False"
            ]
          },
          "execution_count": 37,
          "metadata": {},
          "output_type": "execute_result"
        }
      ],
      "source": [
        "missing_cart = order_products[order_products['order_id'].isin(missing_cart)]\n",
        "grouped_sum = (missing_cart.groupby('order_id')['add_to_cart_order'].sum() <= 64).any()\n",
        "grouped_sum"
      ]
    },
    {
      "cell_type": "markdown",
      "metadata": {
        "id": "JxPL-tadf3qD"
      },
      "source": [
        "Since the return of 'false', there is a strong indication that we have missing errors due to the number of items added to an order. With that in mind, I would like to assign a default value of 999 to the missing values."
      ]
    },
    {
      "cell_type": "code",
      "execution_count": 38,
      "metadata": {
        "id": "zuI5roHuf3qE",
        "outputId": "a706abea-889c-4ba7-dd56-931259d76fdf"
      },
      "outputs": [
        {
          "data": {
            "text/plain": [
              "order_id             0\n",
              "product_id           0\n",
              "add_to_cart_order    0\n",
              "reordered            0\n",
              "dtype: int64"
            ]
          },
          "execution_count": 38,
          "metadata": {},
          "output_type": "execute_result"
        }
      ],
      "source": [
        "order_products['add_to_cart_order'] = order_products['add_to_cart_order'].astype('Int64').fillna(0)\n",
        "order_products.isna().sum()"
      ]
    },
    {
      "cell_type": "markdown",
      "metadata": {
        "id": "X0NJ-VKpf3qE"
      },
      "source": [
        "## [A] Easy (must complete all to pass)\n",
        "\n",
        "### [A1] Verify that the `'order_hour_of_day'` and `'order_dow'` values in the `orders` tables are sensible (i.e. `'order_hour_of_day'` ranges from 0 to 23 and `'order_dow'` ranges from 0 to 6)"
      ]
    },
    {
      "cell_type": "code",
      "execution_count": 39,
      "metadata": {
        "id": "3n7r-soUf3qE",
        "outputId": "47753001-8ad9-4c83-ceee-bc63c5264440"
      },
      "outputs": [
        {
          "data": {
            "text/plain": [
              "order_hour_of_day    int64\n",
              "order_dow            int64\n",
              "dtype: object"
            ]
          },
          "execution_count": 39,
          "metadata": {},
          "output_type": "execute_result"
        }
      ],
      "source": [
        "orders_info = orders.dtypes.loc[['order_hour_of_day', 'order_dow']]\n",
        "orders_info"
      ]
    },
    {
      "cell_type": "markdown",
      "metadata": {
        "id": "QEsxT9aZf3qE"
      },
      "source": [
        "Both `'order_hour_of_day'` and `'order_dow'` are currently integers. I would like to convert them into date-time objects, representing hours (`%H`) and weekdays (`%w`) respectively."
      ]
    },
    {
      "cell_type": "code",
      "execution_count": 40,
      "metadata": {
        "id": "HnNBlfSQf3qE",
        "outputId": "556c0a69-8b7f-40d4-d34a-031b6bf8e2fa"
      },
      "outputs": [
        {
          "data": {
            "text/html": [
              "<div>\n",
              "<style scoped>\n",
              "    .dataframe tbody tr th:only-of-type {\n",
              "        vertical-align: middle;\n",
              "    }\n",
              "\n",
              "    .dataframe tbody tr th {\n",
              "        vertical-align: top;\n",
              "    }\n",
              "\n",
              "    .dataframe thead th {\n",
              "        text-align: right;\n",
              "    }\n",
              "</style>\n",
              "<table border=\"1\" class=\"dataframe\">\n",
              "  <thead>\n",
              "    <tr style=\"text-align: right;\">\n",
              "      <th></th>\n",
              "      <th>order_dow</th>\n",
              "      <th>order_hour_of_day</th>\n",
              "    </tr>\n",
              "  </thead>\n",
              "  <tbody>\n",
              "    <tr>\n",
              "      <th>min</th>\n",
              "      <td>0.0</td>\n",
              "      <td>0.0</td>\n",
              "    </tr>\n",
              "    <tr>\n",
              "      <th>max</th>\n",
              "      <td>6.0</td>\n",
              "      <td>23.0</td>\n",
              "    </tr>\n",
              "  </tbody>\n",
              "</table>\n",
              "</div>"
            ],
            "text/plain": [
              "     order_dow  order_hour_of_day\n",
              "min        0.0                0.0\n",
              "max        6.0               23.0"
            ]
          },
          "execution_count": 40,
          "metadata": {},
          "output_type": "execute_result"
        }
      ],
      "source": [
        "orders_details = orders[['order_dow', 'order_hour_of_day']].describe().loc[['min', 'max']]\n",
        "orders_details"
      ]
    },
    {
      "cell_type": "markdown",
      "metadata": {
        "id": "N8unRqVpf3qE"
      },
      "source": [
        "### [A2] What time of day do people shop for groceries?\n",
        "\n",
        "For this, I would like to rely on the median, which would provide a more accurate representation of the time of day. Unlike the average, the median takes into account different peaks in the day and how often people visit at a specific time, which is what I am interested in."
      ]
    },
    {
      "cell_type": "code",
      "execution_count": 41,
      "metadata": {
        "id": "6CdFHBt_f3qE",
        "outputId": "b0dd7bfd-08d2-4be0-f42d-2c93de753034"
      },
      "outputs": [
        {
          "data": {
            "text/plain": [
              "order_hour_of_day\n",
              "10    40578\n",
              "11    40032\n",
              "15    39789\n",
              "14    39631\n",
              "13    39007\n",
              "Name: count, dtype: int64"
            ]
          },
          "execution_count": 41,
          "metadata": {},
          "output_type": "execute_result"
        }
      ],
      "source": [
        "orders['order_hour_of_day'].value_counts().head()"
      ]
    },
    {
      "cell_type": "markdown",
      "metadata": {
        "id": "WGvWJGIVf3qE"
      },
      "source": [
        "After taking a moment to display the median for the hour of the day, it can be noted that 10 is the busiest time of day. However, by using value_counts and displaying the top 5 busiest hours of the day, we can see that not only does the adjacent hour of 11 closely follow behind at less than a 2% difference, but it continues to be busy consistently until the 15th hour of the day.\n",
        "\n",
        "Based on what I found, the period from 10 to 11 is definitely the busiest portion of the day, consistently, regardless of the day.\n",
        "\n",
        "### [A3] What day of the week do people shop for groceries?"
      ]
    },
    {
      "cell_type": "code",
      "execution_count": 42,
      "metadata": {
        "id": "LGA_TJtCf3qF",
        "outputId": "46b65e88-881b-4585-eae1-6717c94b2d79"
      },
      "outputs": [
        {
          "data": {
            "text/plain": [
              "order_dow\n",
              "0    84090\n",
              "1    82185\n",
              "2    65833\n",
              "5    63488\n",
              "6    62649\n",
              "Name: count, dtype: int64"
            ]
          },
          "execution_count": 42,
          "metadata": {},
          "output_type": "execute_result"
        }
      ],
      "source": [
        "# I need help with changing the order_dow\n",
        "orders['order_dow'].value_counts().head()"
      ]
    },
    {
      "cell_type": "markdown",
      "metadata": {
        "id": "STLFzdt0f3qF"
      },
      "source": [
        "Based on the median, we can see that the busiest day of the week tends to be Monday, represented by the number 0. The following values listed in the value count show that the busiest days are centered around Monday, starting with Saturday, which for most would be the day following 'payday.' For the most part, all of this makes sense, and the logic follows.\n",
        "\n",
        "### [A4] How long do people wait until placing another order?\n",
        "\n",
        "For this, I will need to calculate the average time people place an order, excluding individuals who have only ordered once."
      ]
    },
    {
      "cell_type": "code",
      "execution_count": 43,
      "metadata": {
        "id": "Fscg8JPDf3qF",
        "outputId": "72d64ec9-0139-416b-ddc2-78363a8f180c"
      },
      "outputs": [
        {
          "name": "stdout",
          "output_type": "stream",
          "text": [
            "The average number of days would be 11\n"
          ]
        }
      ],
      "source": [
        "ave_prior = orders['days_since_prior_order'].mean()\n",
        "print(f'The average number of days would be {ave_prior:.0f}')"
      ]
    },
    {
      "cell_type": "markdown",
      "metadata": {
        "id": "es638k-Kf3qF"
      },
      "source": [
        "## [B] Medium (must complete all to pass)\n",
        "\n",
        "### [B1] Is there a difference in `'order_hour_of_day'` distributions on Wednesdays and Saturdays? Plot the histograms for both days and describe the differences that you see."
      ]
    },
    {
      "cell_type": "code",
      "execution_count": 44,
      "metadata": {
        "id": "Pk-Nk9Hef3qF",
        "outputId": "92cbb8a6-f470-486f-fb7d-0c8ee3728897"
      },
      "outputs": [
        {
          "data": {
            "image/png": "[encoded data removed]",
            "text/plain": [
              "<Figure size 640x480 with 1 Axes>"
            ]
          },
          "metadata": {},
          "output_type": "display_data"
        }
      ],
      "source": [
        "wednesday_orders = orders[orders['order_dow'] == 2]\n",
        "saturday_orders = orders[orders['order_dow'] == 5]\n",
        "\n",
        "wednesday_orders['order_hour_of_day'].hist(\n",
        "    alpha=0.8,\n",
        "    bins=20\n",
        ")\n",
        "saturday_orders['order_hour_of_day'].hist(\n",
        "    alpha=0.4,\n",
        "    bins=20\n",
        ")\n",
        "\n",
        "plt.show()"
      ]
    },
    {
      "cell_type": "markdown",
      "metadata": {
        "id": "OEIvFfqWf3qF"
      },
      "source": [
        "Wendsday looks like it gets more traffic, but they both seem to carry the same pattern thought the day.\n",
        "\n",
        "### [B2] What's the distribution for the number of orders per customer?"
      ]
    },
    {
      "cell_type": "code",
      "execution_count": 45,
      "metadata": {
        "id": "S_1YZJSUf3qF",
        "outputId": "dc24b9e7-6ef1-4246-cd1b-523379e1fa16"
      },
      "outputs": [
        {
          "name": "stdout",
          "output_type": "stream",
          "text": [
            "10 per person\n"
          ]
        }
      ],
      "source": [
        "order_per_person = orders.groupby('user_id')['order_number'].mean()\n",
        "order_per_person = order_per_person.mean()\n",
        "print(f\"{order_per_person:.0f} per person\")"
      ]
    },
    {
      "cell_type": "markdown",
      "metadata": {
        "id": "bfaFqKW1f3qF"
      },
      "source": [
        "### [B3] What are the top 20 popular products (display their id and name)?"
      ]
    },
    {
      "cell_type": "code",
      "execution_count": 46,
      "metadata": {
        "id": "Apjm3U1ef3qG",
        "outputId": "3399127c-7238-4a9a-8e52-27187249476c"
      },
      "outputs": [
        {
          "data": {
            "text/html": [
              "<div>\n",
              "<style scoped>\n",
              "    .dataframe tbody tr th:only-of-type {\n",
              "        vertical-align: middle;\n",
              "    }\n",
              "\n",
              "    .dataframe tbody tr th {\n",
              "        vertical-align: top;\n",
              "    }\n",
              "\n",
              "    .dataframe thead th {\n",
              "        text-align: right;\n",
              "    }\n",
              "</style>\n",
              "<table border=\"1\" class=\"dataframe\">\n",
              "  <thead>\n",
              "    <tr style=\"text-align: right;\">\n",
              "      <th></th>\n",
              "      <th>product_id</th>\n",
              "      <th>add_to_cart_order</th>\n",
              "      <th>product_name</th>\n",
              "      <th>aisle_id</th>\n",
              "      <th>department_id</th>\n",
              "    </tr>\n",
              "  </thead>\n",
              "  <tbody>\n",
              "    <tr>\n",
              "      <th>0</th>\n",
              "      <td>24852</td>\n",
              "      <td>321962</td>\n",
              "      <td>banana</td>\n",
              "      <td>24</td>\n",
              "      <td>4</td>\n",
              "    </tr>\n",
              "    <tr>\n",
              "      <th>1</th>\n",
              "      <td>13176</td>\n",
              "      <td>271774</td>\n",
              "      <td>bag of organic bananas</td>\n",
              "      <td>24</td>\n",
              "      <td>4</td>\n",
              "    </tr>\n",
              "    <tr>\n",
              "      <th>2</th>\n",
              "      <td>21137</td>\n",
              "      <td>268494</td>\n",
              "      <td>organic strawberries</td>\n",
              "      <td>24</td>\n",
              "      <td>4</td>\n",
              "    </tr>\n",
              "    <tr>\n",
              "      <th>3</th>\n",
              "      <td>21903</td>\n",
              "      <td>254234</td>\n",
              "      <td>organic baby spinach</td>\n",
              "      <td>123</td>\n",
              "      <td>4</td>\n",
              "    </tr>\n",
              "    <tr>\n",
              "      <th>4</th>\n",
              "      <td>47209</td>\n",
              "      <td>201977</td>\n",
              "      <td>organic hass avocado</td>\n",
              "      <td>24</td>\n",
              "      <td>4</td>\n",
              "    </tr>\n",
              "    <tr>\n",
              "      <th>5</th>\n",
              "      <td>47626</td>\n",
              "      <td>171731</td>\n",
              "      <td>large lemon</td>\n",
              "      <td>24</td>\n",
              "      <td>4</td>\n",
              "    </tr>\n",
              "    <tr>\n",
              "      <th>6</th>\n",
              "      <td>26209</td>\n",
              "      <td>170864</td>\n",
              "      <td>limes</td>\n",
              "      <td>24</td>\n",
              "      <td>4</td>\n",
              "    </tr>\n",
              "    <tr>\n",
              "      <th>7</th>\n",
              "      <td>47766</td>\n",
              "      <td>160678</td>\n",
              "      <td>organic avocado</td>\n",
              "      <td>24</td>\n",
              "      <td>4</td>\n",
              "    </tr>\n",
              "    <tr>\n",
              "      <th>8</th>\n",
              "      <td>16797</td>\n",
              "      <td>141625</td>\n",
              "      <td>strawberries</td>\n",
              "      <td>24</td>\n",
              "      <td>4</td>\n",
              "    </tr>\n",
              "    <tr>\n",
              "      <th>9</th>\n",
              "      <td>27966</td>\n",
              "      <td>138046</td>\n",
              "      <td>organic raspberries</td>\n",
              "      <td>123</td>\n",
              "      <td>4</td>\n",
              "    </tr>\n",
              "    <tr>\n",
              "      <th>10</th>\n",
              "      <td>22935</td>\n",
              "      <td>135630</td>\n",
              "      <td>organic yellow onion</td>\n",
              "      <td>83</td>\n",
              "      <td>4</td>\n",
              "    </tr>\n",
              "    <tr>\n",
              "      <th>11</th>\n",
              "      <td>24964</td>\n",
              "      <td>133601</td>\n",
              "      <td>organic garlic</td>\n",
              "      <td>83</td>\n",
              "      <td>4</td>\n",
              "    </tr>\n",
              "    <tr>\n",
              "      <th>12</th>\n",
              "      <td>45007</td>\n",
              "      <td>131134</td>\n",
              "      <td>organic zucchini</td>\n",
              "      <td>83</td>\n",
              "      <td>4</td>\n",
              "    </tr>\n",
              "    <tr>\n",
              "      <th>13</th>\n",
              "      <td>39275</td>\n",
              "      <td>112502</td>\n",
              "      <td>organic blueberries</td>\n",
              "      <td>123</td>\n",
              "      <td>4</td>\n",
              "    </tr>\n",
              "    <tr>\n",
              "      <th>14</th>\n",
              "      <td>40706</td>\n",
              "      <td>111363</td>\n",
              "      <td>organic grape tomatoes</td>\n",
              "      <td>123</td>\n",
              "      <td>4</td>\n",
              "    </tr>\n",
              "    <tr>\n",
              "      <th>15</th>\n",
              "      <td>27845</td>\n",
              "      <td>106867</td>\n",
              "      <td>organic whole milk</td>\n",
              "      <td>84</td>\n",
              "      <td>16</td>\n",
              "    </tr>\n",
              "    <tr>\n",
              "      <th>16</th>\n",
              "      <td>49683</td>\n",
              "      <td>105291</td>\n",
              "      <td>cucumber kirby</td>\n",
              "      <td>83</td>\n",
              "      <td>4</td>\n",
              "    </tr>\n",
              "    <tr>\n",
              "      <th>17</th>\n",
              "      <td>5876</td>\n",
              "      <td>99616</td>\n",
              "      <td>organic lemon</td>\n",
              "      <td>24</td>\n",
              "      <td>4</td>\n",
              "    </tr>\n",
              "    <tr>\n",
              "      <th>18</th>\n",
              "      <td>4920</td>\n",
              "      <td>96152</td>\n",
              "      <td>seedless red grapes</td>\n",
              "      <td>123</td>\n",
              "      <td>4</td>\n",
              "    </tr>\n",
              "    <tr>\n",
              "      <th>19</th>\n",
              "      <td>30391</td>\n",
              "      <td>95983</td>\n",
              "      <td>organic cucumber</td>\n",
              "      <td>83</td>\n",
              "      <td>4</td>\n",
              "    </tr>\n",
              "  </tbody>\n",
              "</table>\n",
              "</div>"
            ],
            "text/plain": [
              "   product_id  add_to_cart_order            product_name aisle_id  \\\n",
              "0       24852             321962                  banana       24   \n",
              "1       13176             271774  bag of organic bananas       24   \n",
              "2       21137             268494    organic strawberries       24   \n",
              "3       21903             254234    organic baby spinach      123   \n",
              "4       47209             201977    organic hass avocado       24   \n",
              "5       47626             171731             large lemon       24   \n",
              "6       26209             170864                   limes       24   \n",
              "7       47766             160678         organic avocado       24   \n",
              "8       16797             141625            strawberries       24   \n",
              "9       27966             138046     organic raspberries      123   \n",
              "10      22935             135630    organic yellow onion       83   \n",
              "11      24964             133601          organic garlic       83   \n",
              "12      45007             131134        organic zucchini       83   \n",
              "13      39275             112502     organic blueberries      123   \n",
              "14      40706             111363  organic grape tomatoes      123   \n",
              "15      27845             106867      organic whole milk       84   \n",
              "16      49683             105291          cucumber kirby       83   \n",
              "17       5876              99616           organic lemon       24   \n",
              "18       4920              96152     seedless red grapes      123   \n",
              "19      30391              95983        organic cucumber       83   \n",
              "\n",
              "   department_id  \n",
              "0              4  \n",
              "1              4  \n",
              "2              4  \n",
              "3              4  \n",
              "4              4  \n",
              "5              4  \n",
              "6              4  \n",
              "7              4  \n",
              "8              4  \n",
              "9              4  \n",
              "10             4  \n",
              "11             4  \n",
              "12             4  \n",
              "13             4  \n",
              "14             4  \n",
              "15            16  \n",
              "16             4  \n",
              "17             4  \n",
              "18             4  \n",
              "19             4  "
            ]
          },
          "execution_count": 46,
          "metadata": {},
          "output_type": "execute_result"
        }
      ],
      "source": [
        "# this finds the sum of each product\n",
        "hot_item = order_products.groupby('product_id')['add_to_cart_order'].sum()\n",
        "\n",
        "# now we order them greatest to least and only show the top 20\n",
        "hot_item = hot_item.sort_values(ascending=False).head(20)\n",
        "\n",
        "# final we take are new dataframe and merge it with the products to see the names\n",
        "hot_item = pd.merge(hot_item, products, on='product_id', how='inner')\n",
        "hot_item"
      ]
    },
    {
      "cell_type": "markdown",
      "metadata": {
        "id": "Bu8b3qsZf3qG"
      },
      "source": [
        "## [C] Hard (must complete at least two to pass)\n",
        "\n",
        "### [C1] How many items do people typically buy in one order? What does the distribution look like?"
      ]
    },
    {
      "cell_type": "code",
      "execution_count": 47,
      "metadata": {
        "id": "vbKtguPmf3qG",
        "outputId": "59a76849-a694-464e-a7dc-fa20abb8bc3c"
      },
      "outputs": [
        {
          "name": "stdout",
          "output_type": "stream",
          "text": [
            "People tend to order 17 items per order.\n"
          ]
        }
      ],
      "source": [
        "typical_buy = orders.groupby('order_id')['order_number'].mean()\n",
        "print(f\"People tend to order {typical_buy.mean():.0f} items per order.\")"
      ]
    },
    {
      "cell_type": "markdown",
      "metadata": {
        "id": "-oYPqdvrf3qG"
      },
      "source": [
        "### [C2] What are the top 20 items that are reordered most frequently (display their names and product IDs)?"
      ]
    },
    {
      "cell_type": "code",
      "execution_count": 48,
      "metadata": {
        "id": "slEjlnbPf3qG",
        "outputId": "02a6376b-f558-4efe-85f3-9bd37a23663c"
      },
      "outputs": [
        {
          "data": {
            "text/html": [
              "<div>\n",
              "<style scoped>\n",
              "    .dataframe tbody tr th:only-of-type {\n",
              "        vertical-align: middle;\n",
              "    }\n",
              "\n",
              "    .dataframe tbody tr th {\n",
              "        vertical-align: top;\n",
              "    }\n",
              "\n",
              "    .dataframe thead th {\n",
              "        text-align: right;\n",
              "    }\n",
              "</style>\n",
              "<table border=\"1\" class=\"dataframe\">\n",
              "  <thead>\n",
              "    <tr style=\"text-align: right;\">\n",
              "      <th></th>\n",
              "      <th>product_id</th>\n",
              "      <th>reordered</th>\n",
              "      <th>product_name</th>\n",
              "      <th>aisle_id</th>\n",
              "      <th>department_id</th>\n",
              "    </tr>\n",
              "  </thead>\n",
              "  <tbody>\n",
              "    <tr>\n",
              "      <th>0</th>\n",
              "      <td>24852</td>\n",
              "      <td>55763</td>\n",
              "      <td>banana</td>\n",
              "      <td>24</td>\n",
              "      <td>4</td>\n",
              "    </tr>\n",
              "    <tr>\n",
              "      <th>1</th>\n",
              "      <td>13176</td>\n",
              "      <td>44450</td>\n",
              "      <td>bag of organic bananas</td>\n",
              "      <td>24</td>\n",
              "      <td>4</td>\n",
              "    </tr>\n",
              "    <tr>\n",
              "      <th>2</th>\n",
              "      <td>21137</td>\n",
              "      <td>28639</td>\n",
              "      <td>organic strawberries</td>\n",
              "      <td>24</td>\n",
              "      <td>4</td>\n",
              "    </tr>\n",
              "    <tr>\n",
              "      <th>3</th>\n",
              "      <td>21903</td>\n",
              "      <td>26233</td>\n",
              "      <td>organic baby spinach</td>\n",
              "      <td>123</td>\n",
              "      <td>4</td>\n",
              "    </tr>\n",
              "    <tr>\n",
              "      <th>4</th>\n",
              "      <td>47209</td>\n",
              "      <td>23629</td>\n",
              "      <td>organic hass avocado</td>\n",
              "      <td>24</td>\n",
              "      <td>4</td>\n",
              "    </tr>\n",
              "    <tr>\n",
              "      <th>5</th>\n",
              "      <td>47766</td>\n",
              "      <td>18743</td>\n",
              "      <td>organic avocado</td>\n",
              "      <td>24</td>\n",
              "      <td>4</td>\n",
              "    </tr>\n",
              "    <tr>\n",
              "      <th>6</th>\n",
              "      <td>27845</td>\n",
              "      <td>16251</td>\n",
              "      <td>organic whole milk</td>\n",
              "      <td>84</td>\n",
              "      <td>16</td>\n",
              "    </tr>\n",
              "    <tr>\n",
              "      <th>7</th>\n",
              "      <td>47626</td>\n",
              "      <td>15044</td>\n",
              "      <td>large lemon</td>\n",
              "      <td>24</td>\n",
              "      <td>4</td>\n",
              "    </tr>\n",
              "    <tr>\n",
              "      <th>8</th>\n",
              "      <td>27966</td>\n",
              "      <td>14748</td>\n",
              "      <td>organic raspberries</td>\n",
              "      <td>123</td>\n",
              "      <td>4</td>\n",
              "    </tr>\n",
              "    <tr>\n",
              "      <th>9</th>\n",
              "      <td>16797</td>\n",
              "      <td>13945</td>\n",
              "      <td>strawberries</td>\n",
              "      <td>24</td>\n",
              "      <td>4</td>\n",
              "    </tr>\n",
              "    <tr>\n",
              "      <th>10</th>\n",
              "      <td>26209</td>\n",
              "      <td>13327</td>\n",
              "      <td>limes</td>\n",
              "      <td>24</td>\n",
              "      <td>4</td>\n",
              "    </tr>\n",
              "    <tr>\n",
              "      <th>11</th>\n",
              "      <td>22935</td>\n",
              "      <td>11145</td>\n",
              "      <td>organic yellow onion</td>\n",
              "      <td>83</td>\n",
              "      <td>4</td>\n",
              "    </tr>\n",
              "    <tr>\n",
              "      <th>12</th>\n",
              "      <td>24964</td>\n",
              "      <td>10411</td>\n",
              "      <td>organic garlic</td>\n",
              "      <td>83</td>\n",
              "      <td>4</td>\n",
              "    </tr>\n",
              "    <tr>\n",
              "      <th>13</th>\n",
              "      <td>45007</td>\n",
              "      <td>10076</td>\n",
              "      <td>organic zucchini</td>\n",
              "      <td>83</td>\n",
              "      <td>4</td>\n",
              "    </tr>\n",
              "    <tr>\n",
              "      <th>14</th>\n",
              "      <td>49683</td>\n",
              "      <td>9538</td>\n",
              "      <td>cucumber kirby</td>\n",
              "      <td>83</td>\n",
              "      <td>4</td>\n",
              "    </tr>\n",
              "    <tr>\n",
              "      <th>15</th>\n",
              "      <td>28204</td>\n",
              "      <td>8989</td>\n",
              "      <td>organic fuji apple</td>\n",
              "      <td>24</td>\n",
              "      <td>4</td>\n",
              "    </tr>\n",
              "    <tr>\n",
              "      <th>16</th>\n",
              "      <td>8277</td>\n",
              "      <td>8836</td>\n",
              "      <td>apple honeycrisp organic</td>\n",
              "      <td>24</td>\n",
              "      <td>4</td>\n",
              "    </tr>\n",
              "    <tr>\n",
              "      <th>17</th>\n",
              "      <td>39275</td>\n",
              "      <td>8799</td>\n",
              "      <td>organic blueberries</td>\n",
              "      <td>123</td>\n",
              "      <td>4</td>\n",
              "    </tr>\n",
              "    <tr>\n",
              "      <th>18</th>\n",
              "      <td>5876</td>\n",
              "      <td>8412</td>\n",
              "      <td>organic lemon</td>\n",
              "      <td>24</td>\n",
              "      <td>4</td>\n",
              "    </tr>\n",
              "    <tr>\n",
              "      <th>19</th>\n",
              "      <td>49235</td>\n",
              "      <td>8389</td>\n",
              "      <td>organic half &amp; half</td>\n",
              "      <td>53</td>\n",
              "      <td>16</td>\n",
              "    </tr>\n",
              "  </tbody>\n",
              "</table>\n",
              "</div>"
            ],
            "text/plain": [
              "   product_id  reordered              product_name aisle_id department_id\n",
              "0       24852      55763                    banana       24             4\n",
              "1       13176      44450    bag of organic bananas       24             4\n",
              "2       21137      28639      organic strawberries       24             4\n",
              "3       21903      26233      organic baby spinach      123             4\n",
              "4       47209      23629      organic hass avocado       24             4\n",
              "5       47766      18743           organic avocado       24             4\n",
              "6       27845      16251        organic whole milk       84            16\n",
              "7       47626      15044               large lemon       24             4\n",
              "8       27966      14748       organic raspberries      123             4\n",
              "9       16797      13945              strawberries       24             4\n",
              "10      26209      13327                     limes       24             4\n",
              "11      22935      11145      organic yellow onion       83             4\n",
              "12      24964      10411            organic garlic       83             4\n",
              "13      45007      10076          organic zucchini       83             4\n",
              "14      49683       9538            cucumber kirby       83             4\n",
              "15      28204       8989        organic fuji apple       24             4\n",
              "16       8277       8836  apple honeycrisp organic       24             4\n",
              "17      39275       8799       organic blueberries      123             4\n",
              "18       5876       8412             organic lemon       24             4\n",
              "19      49235       8389       organic half & half       53            16"
            ]
          },
          "execution_count": 48,
          "metadata": {},
          "output_type": "execute_result"
        }
      ],
      "source": [
        "most_reordered = order_products.groupby('product_id')['reordered'].sum()\n",
        "most_reordered = most_reordered.sort_values(ascending=False).head(20)\n",
        "most_reordered = pd.merge(most_reordered, products, on='product_id', how='inner')\n",
        "most_reordered"
      ]
    },
    {
      "cell_type": "markdown",
      "metadata": {
        "id": "6aG2soScf3qG"
      },
      "source": [
        "### [C3] For each product, what proportion of its orders are reorders?"
      ]
    },
    {
      "cell_type": "code",
      "execution_count": null,
      "metadata": {
        "id": "1pimfE99f3qG"
      },
      "outputs": [],
      "source": []
    },
    {
      "cell_type": "markdown",
      "metadata": {
        "id": "h-OJyPW6f3qG"
      },
      "source": [
        "### [C4] For each customer, what proportion of their products ordered are reorders?"
      ]
    },
    {
      "cell_type": "code",
      "execution_count": null,
      "metadata": {
        "id": "DvA-ht3sf3qG"
      },
      "outputs": [],
      "source": []
    },
    {
      "cell_type": "markdown",
      "metadata": {
        "id": "v3vhTGq5f3qG"
      },
      "source": [
        "### [C5] What are the top 20 items that people put in their carts first?"
      ]
    },
    {
      "cell_type": "code",
      "execution_count": null,
      "metadata": {
        "id": "lT-MRn4xf3qH"
      },
      "outputs": [],
      "source": []
    },
    {
      "cell_type": "markdown",
      "metadata": {
        "id": "6WA_xOgYf3qH"
      },
      "source": [
        "## Overall observation\n",
        "\n",
        "Based on the data provided, numerous patterns and consistencies are evident throughout the data frames. It's noticeable that:\n",
        "- The busiest days of the week coincide with the days following Friday. This makes sense considered payday for many tends to be right before the weekend.\n",
        "- Additionally, Instacart appears to be primarily utilized for its healthy food choices in the Produce department, with aisle 24 experiencing the highest traffic.\n",
        "\n",
        "This information proves invaluable at every stage of the business. It allows for informed scheduling, indicating when peak staffing is required and providing insights into why specific times may be more advantageous for employee shifts. By identifying the busiest work hours, we can optimize staff allocation and suggest optimal times for restocking shelves. Moreover, we can pinpoint which aisles require the most attention and utilize trending patterns to predict demand accurately, ensuring adequate stock levels."
      ]
    }
  ],
  "metadata": {
    "colab": {
      "include_colab_link": true,
      "provenance": []
    },
    "kernelspec": {
      "display_name": "Python 3",
      "language": "python",
      "name": "python3"
    },
    "language_info": {
      "codemirror_mode": {
        "name": "ipython",
        "version": 3
      },
      "file_extension": ".py",
      "mimetype": "text/x-python",
      "name": "python",
      "nbconvert_exporter": "python",
      "pygments_lexer": "ipython3",
      "version": "3.11.7"
    }
  },
  "nbformat": 4,
  "nbformat_minor": 0
}
