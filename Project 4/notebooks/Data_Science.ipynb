{
 "cells": [
  {
   "cell_type": "markdown",
   "metadata": {
    "colab_type": "text",
    "id": "view-in-github"
   },
   "source": [
    "<a href=\"https://colab.research.google.com/github/alexcoy06/Data-Science/blob/main/Project%204/notebooks/Data_Science.ipynb\" target=\"_parent\"><img src=\"https://colab.research.google.com/assets/colab-badge.svg\" alt=\"Open In Colab\"/></a>"
   ]
  },
  {
   "cell_type": "markdown",
   "metadata": {
    "id": "wiPKabxuG9H-"
   },
   "source": [
    "## 1 Project Overview and Setup: Understanding the Purpose"
   ]
  },
  {
   "cell_type": "markdown",
   "metadata": {
    "id": "CRuY0gw9G9H_"
   },
   "source": [
    "The primary objective of this project is to leverage a comprehensive dataset extracted from the [Glassdoor website](https://www.kaggle.com/datasets/fahadrehman07/data-science-jobs-and-salary-glassdoor), which includes detailed information on data science jobs and salaries. This dataset provides a rich source of information, covering job titles, estimated salaries, job descriptions, company ratings, and essential company details such as location, size, and industry. By conducting a thorough analysis of this dataset, we aim to gain valuable insights into the job market, identify key trends, and understand what to expect when job hunting or researching career opportunities in the data science field.\n",
    "\n",
    "To make these insights accessible and actionable, the analysis will be visually represented on a self-made website. This approach ensures that the findings are not only informative but also easily interpretable, catering to a wide audience ranging from job seekers to industry analysts. The goal is to provide a clear and comprehensive overview of job market trends, helping users make informed career decisions based on reliable data.\n",
    "\n",
    "<u>Note: this file will be converted to a python file using `jupyter nbconvert --to script Data_Science.ipynb` in the terminal.<u>\n"
   ]
  },
  {
   "cell_type": "markdown",
   "metadata": {
    "id": "wThJwqlqG9IA"
   },
   "source": [
    "## 2 Initialization"
   ]
  },
  {
   "cell_type": "markdown",
   "metadata": {
    "id": "2aZh2m18G9IA"
   },
   "source": [
    "### 2.1 Add imports"
   ]
  },
  {
   "cell_type": "markdown",
   "metadata": {
    "id": "c6wo7UtiG9IA"
   },
   "source": [
    "To begin our analysis, we first need to set up our Jupyter Notebook environment and import the necessary libraries."
   ]
  },
  {
   "cell_type": "code",
   "execution_count": 1,
   "metadata": {
    "id": "11m9gr0JG9IA"
   },
   "outputs": [],
   "source": [
    "import pandas as pd \n",
    "import plotly.express as px "
   ]
  },
  {
   "cell_type": "markdown",
   "metadata": {
    "id": "HbaA4csPG9IB"
   },
   "source": [
    "- Pandas simplifies data organization, converting messy CSV files into tidy, easy-to-handle formats, simplifying analysis.\n",
    "- And `plotly.express` is a high-level, easy-to-use interface for creating interactive and complex visualizations in Python using Plotly."
   ]
  },
  {
   "cell_type": "markdown",
   "metadata": {
    "id": "viCnaIpnG9IB"
   },
   "source": [
    "### 2.2 Set up DataFrames"
   ]
  },
  {
   "cell_type": "markdown",
   "metadata": {
    "id": "Sjx8f9ynG9IB"
   },
   "source": [
    "To ensure the Jupyter notebook works in all environments, I will configure the necessary paths, using a `dictionary`."
   ]
  },
  {
   "cell_type": "code",
   "execution_count": 2,
   "metadata": {
    "id": "i5CyJqgrG9IC"
   },
   "outputs": [],
   "source": [
    "path = {\n",
    "    'local': '../datasets/Glassdoor_Salary.csv',\n",
    "    'online': 'https://raw.githubusercontent.com/alexcoy06/Data-Science/main/Project%204/datasets/Glassdoor_Salary.csv'\n",
    "}"
   ]
  },
  {
   "cell_type": "markdown",
   "metadata": {
    "id": "aVmnbClOG9IC"
   },
   "source": [
    "With all paths set, I will now create a function that selects the correct path regardless of the current environment, using `exception handling`."
   ]
  },
  {
   "cell_type": "code",
   "execution_count": 3,
   "metadata": {
    "id": "swTs8av4G9IC"
   },
   "outputs": [],
   "source": [
    "def load_csv(file_path):\n",
    "    try:\n",
    "        df = pd.read_csv(file_path['local'])\n",
    "    except FileNotFoundError:\n",
    "            df = pd.read_csv(file_path['online'])\n",
    "    return df"
   ]
  },
  {
   "cell_type": "markdown",
   "metadata": {
    "id": "onsvel3_G9IC"
   },
   "source": [
    "Now that `load_csv` is created, I can run the `path` dictionary through it to generate the main dataframe for this project. To store and access this dataframe, I will initialize it and assign it to a variable of my choosing."
   ]
  },
  {
   "cell_type": "code",
   "execution_count": 4,
   "metadata": {
    "id": "p4ClnoPxG9IC"
   },
   "outputs": [],
   "source": [
    "ds = load_csv(path)"
   ]
  },
  {
   "cell_type": "markdown",
   "metadata": {
    "id": "cKs91gNQG9IC"
   },
   "source": [
    "The variable `ds` is now initialized, abbreviated for Data Science."
   ]
  },
  {
   "cell_type": "markdown",
   "metadata": {
    "id": "tRoCtgaBG9IC"
   },
   "source": [
    "## 3 Preparing the Data"
   ]
  },
  {
   "cell_type": "markdown",
   "metadata": {
    "id": "zSO32kokG9IC"
   },
   "source": [
    "To effectively utilize the data frame, it's crucial to inspect it first. Addressing any issues found is necessary to ensure the accuracy and usability of the data."
   ]
  },
  {
   "cell_type": "markdown",
   "metadata": {
    "id": "zkgbX9XhG9IC"
   },
   "source": [
    "### 3.1 Initial Inspect"
   ]
  },
  {
   "cell_type": "markdown",
   "metadata": {
    "id": "w1GbiU0KG9ID"
   },
   "source": [
    "First, we need to examine `ds` to determine the type of information it contains."
   ]
  },
  {
   "cell_type": "code",
   "execution_count": 5,
   "metadata": {
    "colab": {
     "base_uri": "https://localhost:8080/",
     "height": 929
    },
    "id": "cXW93s-NG9ID",
    "outputId": "d44a857f-1516-4f90-a0a7-e5bc605eb061"
   },
   "outputs": [
    {
     "data": {
      "text/html": [
       "<div>\n",
       "<style scoped>\n",
       "    .dataframe tbody tr th:only-of-type {\n",
       "        vertical-align: middle;\n",
       "    }\n",
       "\n",
       "    .dataframe tbody tr th {\n",
       "        vertical-align: top;\n",
       "    }\n",
       "\n",
       "    .dataframe thead th {\n",
       "        text-align: right;\n",
       "    }\n",
       "</style>\n",
       "<table border=\"1\" class=\"dataframe\">\n",
       "  <thead>\n",
       "    <tr style=\"text-align: right;\">\n",
       "      <th></th>\n",
       "      <th>Job Title</th>\n",
       "      <th>Salary Estimate</th>\n",
       "      <th>Job Description</th>\n",
       "      <th>Rating</th>\n",
       "      <th>Company Name</th>\n",
       "      <th>Location</th>\n",
       "      <th>Headquarters</th>\n",
       "      <th>Size</th>\n",
       "      <th>Founded</th>\n",
       "      <th>Type of ownership</th>\n",
       "      <th>...</th>\n",
       "      <th>avg_salary</th>\n",
       "      <th>company_txt</th>\n",
       "      <th>job_state</th>\n",
       "      <th>same_state</th>\n",
       "      <th>age</th>\n",
       "      <th>python_yn</th>\n",
       "      <th>R_yn</th>\n",
       "      <th>spark</th>\n",
       "      <th>aws</th>\n",
       "      <th>excel</th>\n",
       "    </tr>\n",
       "  </thead>\n",
       "  <tbody>\n",
       "    <tr>\n",
       "      <th>0</th>\n",
       "      <td>Data Scientist</td>\n",
       "      <td>$53K-$91K (Glassdoor est.)</td>\n",
       "      <td>Data Scientist\\r\\nLocation: Albuquerque, NM\\r\\...</td>\n",
       "      <td>3.8</td>\n",
       "      <td>Tecolote Research\\r\\n3.8</td>\n",
       "      <td>Albuquerque, NM</td>\n",
       "      <td>Goleta, CA</td>\n",
       "      <td>501 to 1000 employees</td>\n",
       "      <td>1973</td>\n",
       "      <td>Company - Private</td>\n",
       "      <td>...</td>\n",
       "      <td>72.0</td>\n",
       "      <td>Tecolote Research\\r\\n</td>\n",
       "      <td>NM</td>\n",
       "      <td>0</td>\n",
       "      <td>47</td>\n",
       "      <td>1</td>\n",
       "      <td>0</td>\n",
       "      <td>0</td>\n",
       "      <td>0</td>\n",
       "      <td>1</td>\n",
       "    </tr>\n",
       "    <tr>\n",
       "      <th>1</th>\n",
       "      <td>Healthcare Data Scientist</td>\n",
       "      <td>$63K-$112K (Glassdoor est.)</td>\n",
       "      <td>What You Will Do:\\r\\n\\r\\nI. General Summary\\r\\...</td>\n",
       "      <td>3.4</td>\n",
       "      <td>University of Maryland Medical System\\r\\n3.4</td>\n",
       "      <td>Linthicum, MD</td>\n",
       "      <td>Baltimore, MD</td>\n",
       "      <td>10000+ employees</td>\n",
       "      <td>1984</td>\n",
       "      <td>Other Organization</td>\n",
       "      <td>...</td>\n",
       "      <td>87.5</td>\n",
       "      <td>University of Maryland Medical System\\r\\n</td>\n",
       "      <td>MD</td>\n",
       "      <td>0</td>\n",
       "      <td>36</td>\n",
       "      <td>1</td>\n",
       "      <td>0</td>\n",
       "      <td>0</td>\n",
       "      <td>0</td>\n",
       "      <td>0</td>\n",
       "    </tr>\n",
       "    <tr>\n",
       "      <th>2</th>\n",
       "      <td>Data Scientist</td>\n",
       "      <td>$80K-$90K (Glassdoor est.)</td>\n",
       "      <td>KnowBe4, Inc. is a high growth information sec...</td>\n",
       "      <td>4.8</td>\n",
       "      <td>KnowBe4\\r\\n4.8</td>\n",
       "      <td>Clearwater, FL</td>\n",
       "      <td>Clearwater, FL</td>\n",
       "      <td>501 to 1000 employees</td>\n",
       "      <td>2010</td>\n",
       "      <td>Company - Private</td>\n",
       "      <td>...</td>\n",
       "      <td>85.0</td>\n",
       "      <td>KnowBe4\\r\\n</td>\n",
       "      <td>FL</td>\n",
       "      <td>1</td>\n",
       "      <td>10</td>\n",
       "      <td>1</td>\n",
       "      <td>0</td>\n",
       "      <td>1</td>\n",
       "      <td>0</td>\n",
       "      <td>1</td>\n",
       "    </tr>\n",
       "    <tr>\n",
       "      <th>3</th>\n",
       "      <td>Data Scientist</td>\n",
       "      <td>$56K-$97K (Glassdoor est.)</td>\n",
       "      <td>*Organization and Job ID**\\r\\nJob ID: 310709\\r...</td>\n",
       "      <td>3.8</td>\n",
       "      <td>PNNL\\r\\n3.8</td>\n",
       "      <td>Richland, WA</td>\n",
       "      <td>Richland, WA</td>\n",
       "      <td>1001 to 5000 employees</td>\n",
       "      <td>1965</td>\n",
       "      <td>Government</td>\n",
       "      <td>...</td>\n",
       "      <td>76.5</td>\n",
       "      <td>PNNL\\r\\n</td>\n",
       "      <td>WA</td>\n",
       "      <td>1</td>\n",
       "      <td>55</td>\n",
       "      <td>1</td>\n",
       "      <td>0</td>\n",
       "      <td>0</td>\n",
       "      <td>0</td>\n",
       "      <td>0</td>\n",
       "    </tr>\n",
       "    <tr>\n",
       "      <th>4</th>\n",
       "      <td>Data Scientist</td>\n",
       "      <td>$86K-$143K (Glassdoor est.)</td>\n",
       "      <td>Data Scientist\\r\\nAffinity Solutions / Marketi...</td>\n",
       "      <td>2.9</td>\n",
       "      <td>Affinity Solutions\\r\\n2.9</td>\n",
       "      <td>New York, NY</td>\n",
       "      <td>New York, NY</td>\n",
       "      <td>51 to 200 employees</td>\n",
       "      <td>1998</td>\n",
       "      <td>Company - Private</td>\n",
       "      <td>...</td>\n",
       "      <td>114.5</td>\n",
       "      <td>Affinity Solutions\\r\\n</td>\n",
       "      <td>NY</td>\n",
       "      <td>1</td>\n",
       "      <td>22</td>\n",
       "      <td>1</td>\n",
       "      <td>0</td>\n",
       "      <td>0</td>\n",
       "      <td>0</td>\n",
       "      <td>1</td>\n",
       "    </tr>\n",
       "    <tr>\n",
       "      <th>...</th>\n",
       "      <td>...</td>\n",
       "      <td>...</td>\n",
       "      <td>...</td>\n",
       "      <td>...</td>\n",
       "      <td>...</td>\n",
       "      <td>...</td>\n",
       "      <td>...</td>\n",
       "      <td>...</td>\n",
       "      <td>...</td>\n",
       "      <td>...</td>\n",
       "      <td>...</td>\n",
       "      <td>...</td>\n",
       "      <td>...</td>\n",
       "      <td>...</td>\n",
       "      <td>...</td>\n",
       "      <td>...</td>\n",
       "      <td>...</td>\n",
       "      <td>...</td>\n",
       "      <td>...</td>\n",
       "      <td>...</td>\n",
       "      <td>...</td>\n",
       "    </tr>\n",
       "    <tr>\n",
       "      <th>737</th>\n",
       "      <td>Sr Scientist, Immuno-Oncology - Oncology</td>\n",
       "      <td>$58K-$111K (Glassdoor est.)</td>\n",
       "      <td>Site Name: USA - Massachusetts - Cambridge\\r\\n...</td>\n",
       "      <td>3.9</td>\n",
       "      <td>GSK\\r\\n3.9</td>\n",
       "      <td>Cambridge, MA</td>\n",
       "      <td>Brentford, United Kingdom</td>\n",
       "      <td>10000+ employees</td>\n",
       "      <td>1830</td>\n",
       "      <td>Company - Public</td>\n",
       "      <td>...</td>\n",
       "      <td>84.5</td>\n",
       "      <td>GSK\\r\\n</td>\n",
       "      <td>MA</td>\n",
       "      <td>0</td>\n",
       "      <td>190</td>\n",
       "      <td>0</td>\n",
       "      <td>0</td>\n",
       "      <td>0</td>\n",
       "      <td>1</td>\n",
       "      <td>0</td>\n",
       "    </tr>\n",
       "    <tr>\n",
       "      <th>738</th>\n",
       "      <td>Senior Data Engineer</td>\n",
       "      <td>$72K-$133K (Glassdoor est.)</td>\n",
       "      <td>THE CHALLENGE\\r\\nEventbrite has a world-class ...</td>\n",
       "      <td>4.4</td>\n",
       "      <td>Eventbrite\\r\\n4.4</td>\n",
       "      <td>Nashville, TN</td>\n",
       "      <td>San Francisco, CA</td>\n",
       "      <td>1001 to 5000 employees</td>\n",
       "      <td>2006</td>\n",
       "      <td>Company - Public</td>\n",
       "      <td>...</td>\n",
       "      <td>102.5</td>\n",
       "      <td>Eventbrite\\r\\n</td>\n",
       "      <td>TN</td>\n",
       "      <td>0</td>\n",
       "      <td>14</td>\n",
       "      <td>1</td>\n",
       "      <td>0</td>\n",
       "      <td>1</td>\n",
       "      <td>1</td>\n",
       "      <td>0</td>\n",
       "    </tr>\n",
       "    <tr>\n",
       "      <th>739</th>\n",
       "      <td>Project Scientist - Auton Lab, Robotics Institute</td>\n",
       "      <td>$56K-$91K (Glassdoor est.)</td>\n",
       "      <td>The Auton Lab at Carnegie Mellon University is...</td>\n",
       "      <td>2.6</td>\n",
       "      <td>Software Engineering Institute\\r\\n2.6</td>\n",
       "      <td>Pittsburgh, PA</td>\n",
       "      <td>Pittsburgh, PA</td>\n",
       "      <td>501 to 1000 employees</td>\n",
       "      <td>1984</td>\n",
       "      <td>College / University</td>\n",
       "      <td>...</td>\n",
       "      <td>73.5</td>\n",
       "      <td>Software Engineering Institute\\r\\n</td>\n",
       "      <td>PA</td>\n",
       "      <td>1</td>\n",
       "      <td>36</td>\n",
       "      <td>0</td>\n",
       "      <td>0</td>\n",
       "      <td>0</td>\n",
       "      <td>0</td>\n",
       "      <td>1</td>\n",
       "    </tr>\n",
       "    <tr>\n",
       "      <th>740</th>\n",
       "      <td>Data Science Manager</td>\n",
       "      <td>$95K-$160K (Glassdoor est.)</td>\n",
       "      <td>Data Science ManagerResponsibilities:\\r\\n\\r\\nO...</td>\n",
       "      <td>3.2</td>\n",
       "      <td>Numeric, LLC\\r\\n3.2</td>\n",
       "      <td>Allentown, PA</td>\n",
       "      <td>Chadds Ford, PA</td>\n",
       "      <td>1 to 50 employees</td>\n",
       "      <td>-1</td>\n",
       "      <td>Company - Private</td>\n",
       "      <td>...</td>\n",
       "      <td>127.5</td>\n",
       "      <td>Numeric, LLC\\r\\n</td>\n",
       "      <td>PA</td>\n",
       "      <td>0</td>\n",
       "      <td>-1</td>\n",
       "      <td>0</td>\n",
       "      <td>0</td>\n",
       "      <td>0</td>\n",
       "      <td>0</td>\n",
       "      <td>1</td>\n",
       "    </tr>\n",
       "    <tr>\n",
       "      <th>741</th>\n",
       "      <td>Research Scientist – Security and Privacy</td>\n",
       "      <td>$61K-$126K (Glassdoor est.)</td>\n",
       "      <td>Returning Candidate? Log back in to the Career...</td>\n",
       "      <td>3.6</td>\n",
       "      <td>Riverside Research Institute\\r\\n3.6</td>\n",
       "      <td>Beavercreek, OH</td>\n",
       "      <td>Arlington, VA</td>\n",
       "      <td>501 to 1000 employees</td>\n",
       "      <td>1967</td>\n",
       "      <td>Nonprofit Organization</td>\n",
       "      <td>...</td>\n",
       "      <td>93.5</td>\n",
       "      <td>Riverside Research Institute\\r\\n</td>\n",
       "      <td>OH</td>\n",
       "      <td>0</td>\n",
       "      <td>53</td>\n",
       "      <td>1</td>\n",
       "      <td>0</td>\n",
       "      <td>0</td>\n",
       "      <td>0</td>\n",
       "      <td>0</td>\n",
       "    </tr>\n",
       "  </tbody>\n",
       "</table>\n",
       "<p>742 rows × 28 columns</p>\n",
       "</div>"
      ],
      "text/plain": [
       "                                             Job Title  \\\n",
       "0                                       Data Scientist   \n",
       "1                            Healthcare Data Scientist   \n",
       "2                                       Data Scientist   \n",
       "3                                       Data Scientist   \n",
       "4                                       Data Scientist   \n",
       "..                                                 ...   \n",
       "737           Sr Scientist, Immuno-Oncology - Oncology   \n",
       "738                               Senior Data Engineer   \n",
       "739  Project Scientist - Auton Lab, Robotics Institute   \n",
       "740                               Data Science Manager   \n",
       "741          Research Scientist – Security and Privacy   \n",
       "\n",
       "                 Salary Estimate  \\\n",
       "0     $53K-$91K (Glassdoor est.)   \n",
       "1    $63K-$112K (Glassdoor est.)   \n",
       "2     $80K-$90K (Glassdoor est.)   \n",
       "3     $56K-$97K (Glassdoor est.)   \n",
       "4    $86K-$143K (Glassdoor est.)   \n",
       "..                           ...   \n",
       "737  $58K-$111K (Glassdoor est.)   \n",
       "738  $72K-$133K (Glassdoor est.)   \n",
       "739   $56K-$91K (Glassdoor est.)   \n",
       "740  $95K-$160K (Glassdoor est.)   \n",
       "741  $61K-$126K (Glassdoor est.)   \n",
       "\n",
       "                                       Job Description  Rating  \\\n",
       "0    Data Scientist\\r\\nLocation: Albuquerque, NM\\r\\...     3.8   \n",
       "1    What You Will Do:\\r\\n\\r\\nI. General Summary\\r\\...     3.4   \n",
       "2    KnowBe4, Inc. is a high growth information sec...     4.8   \n",
       "3    *Organization and Job ID**\\r\\nJob ID: 310709\\r...     3.8   \n",
       "4    Data Scientist\\r\\nAffinity Solutions / Marketi...     2.9   \n",
       "..                                                 ...     ...   \n",
       "737  Site Name: USA - Massachusetts - Cambridge\\r\\n...     3.9   \n",
       "738  THE CHALLENGE\\r\\nEventbrite has a world-class ...     4.4   \n",
       "739  The Auton Lab at Carnegie Mellon University is...     2.6   \n",
       "740  Data Science ManagerResponsibilities:\\r\\n\\r\\nO...     3.2   \n",
       "741  Returning Candidate? Log back in to the Career...     3.6   \n",
       "\n",
       "                                     Company Name         Location  \\\n",
       "0                        Tecolote Research\\r\\n3.8  Albuquerque, NM   \n",
       "1    University of Maryland Medical System\\r\\n3.4    Linthicum, MD   \n",
       "2                                  KnowBe4\\r\\n4.8   Clearwater, FL   \n",
       "3                                     PNNL\\r\\n3.8     Richland, WA   \n",
       "4                       Affinity Solutions\\r\\n2.9     New York, NY   \n",
       "..                                            ...              ...   \n",
       "737                                    GSK\\r\\n3.9    Cambridge, MA   \n",
       "738                             Eventbrite\\r\\n4.4    Nashville, TN   \n",
       "739         Software Engineering Institute\\r\\n2.6   Pittsburgh, PA   \n",
       "740                           Numeric, LLC\\r\\n3.2    Allentown, PA   \n",
       "741           Riverside Research Institute\\r\\n3.6  Beavercreek, OH   \n",
       "\n",
       "                  Headquarters                    Size  Founded  \\\n",
       "0                   Goleta, CA   501 to 1000 employees     1973   \n",
       "1                Baltimore, MD        10000+ employees     1984   \n",
       "2               Clearwater, FL   501 to 1000 employees     2010   \n",
       "3                 Richland, WA  1001 to 5000 employees     1965   \n",
       "4                 New York, NY     51 to 200 employees     1998   \n",
       "..                         ...                     ...      ...   \n",
       "737  Brentford, United Kingdom        10000+ employees     1830   \n",
       "738          San Francisco, CA  1001 to 5000 employees     2006   \n",
       "739             Pittsburgh, PA   501 to 1000 employees     1984   \n",
       "740            Chadds Ford, PA       1 to 50 employees       -1   \n",
       "741              Arlington, VA   501 to 1000 employees     1967   \n",
       "\n",
       "          Type of ownership  ... avg_salary  \\\n",
       "0         Company - Private  ...       72.0   \n",
       "1        Other Organization  ...       87.5   \n",
       "2         Company - Private  ...       85.0   \n",
       "3                Government  ...       76.5   \n",
       "4         Company - Private  ...      114.5   \n",
       "..                      ...  ...        ...   \n",
       "737        Company - Public  ...       84.5   \n",
       "738        Company - Public  ...      102.5   \n",
       "739    College / University  ...       73.5   \n",
       "740       Company - Private  ...      127.5   \n",
       "741  Nonprofit Organization  ...       93.5   \n",
       "\n",
       "                                   company_txt job_state same_state  age  \\\n",
       "0                        Tecolote Research\\r\\n        NM          0   47   \n",
       "1    University of Maryland Medical System\\r\\n        MD          0   36   \n",
       "2                                  KnowBe4\\r\\n        FL          1   10   \n",
       "3                                     PNNL\\r\\n        WA          1   55   \n",
       "4                       Affinity Solutions\\r\\n        NY          1   22   \n",
       "..                                         ...       ...        ...  ...   \n",
       "737                                    GSK\\r\\n        MA          0  190   \n",
       "738                             Eventbrite\\r\\n        TN          0   14   \n",
       "739         Software Engineering Institute\\r\\n        PA          1   36   \n",
       "740                           Numeric, LLC\\r\\n        PA          0   -1   \n",
       "741           Riverside Research Institute\\r\\n        OH          0   53   \n",
       "\n",
       "     python_yn  R_yn  spark  aws excel  \n",
       "0            1     0      0    0     1  \n",
       "1            1     0      0    0     0  \n",
       "2            1     0      1    0     1  \n",
       "3            1     0      0    0     0  \n",
       "4            1     0      0    0     1  \n",
       "..         ...   ...    ...  ...   ...  \n",
       "737          0     0      0    1     0  \n",
       "738          1     0      1    1     0  \n",
       "739          0     0      0    0     1  \n",
       "740          0     0      0    0     1  \n",
       "741          1     0      0    0     0  \n",
       "\n",
       "[742 rows x 28 columns]"
      ]
     },
     "execution_count": 5,
     "metadata": {},
     "output_type": "execute_result"
    }
   ],
   "source": [
    "ds"
   ]
  },
  {
   "cell_type": "markdown",
   "metadata": {
    "id": "wujLwRJ6G9ID"
   },
   "source": [
    "The initial step I'd like to take is to remove the `\\n` characters, as they likely signify new lines but serve no purpose in `ds`."
   ]
  },
  {
   "cell_type": "code",
   "execution_count": 6,
   "metadata": {
    "colab": {
     "base_uri": "https://localhost:8080/",
     "height": 929
    },
    "id": "HnTWwSaRG9ID",
    "outputId": "fef81c2c-16cb-489c-af97-f939feb6486d"
   },
   "outputs": [
    {
     "data": {
      "text/html": [
       "<div>\n",
       "<style scoped>\n",
       "    .dataframe tbody tr th:only-of-type {\n",
       "        vertical-align: middle;\n",
       "    }\n",
       "\n",
       "    .dataframe tbody tr th {\n",
       "        vertical-align: top;\n",
       "    }\n",
       "\n",
       "    .dataframe thead th {\n",
       "        text-align: right;\n",
       "    }\n",
       "</style>\n",
       "<table border=\"1\" class=\"dataframe\">\n",
       "  <thead>\n",
       "    <tr style=\"text-align: right;\">\n",
       "      <th></th>\n",
       "      <th>Job Title</th>\n",
       "      <th>Salary Estimate</th>\n",
       "      <th>Job Description</th>\n",
       "      <th>Rating</th>\n",
       "      <th>Company Name</th>\n",
       "      <th>Location</th>\n",
       "      <th>Headquarters</th>\n",
       "      <th>Size</th>\n",
       "      <th>Founded</th>\n",
       "      <th>Type of ownership</th>\n",
       "      <th>...</th>\n",
       "      <th>avg_salary</th>\n",
       "      <th>company_txt</th>\n",
       "      <th>job_state</th>\n",
       "      <th>same_state</th>\n",
       "      <th>age</th>\n",
       "      <th>python_yn</th>\n",
       "      <th>R_yn</th>\n",
       "      <th>spark</th>\n",
       "      <th>aws</th>\n",
       "      <th>excel</th>\n",
       "    </tr>\n",
       "  </thead>\n",
       "  <tbody>\n",
       "    <tr>\n",
       "      <th>0</th>\n",
       "      <td>Data Scientist</td>\n",
       "      <td>$53K-$91K (Glassdoor est.)</td>\n",
       "      <td>Data Scientist\\r Location: Albuquerque, NM\\r E...</td>\n",
       "      <td>3.8</td>\n",
       "      <td>Tecolote Research\\r 3.8</td>\n",
       "      <td>Albuquerque, NM</td>\n",
       "      <td>Goleta, CA</td>\n",
       "      <td>501 to 1000 employees</td>\n",
       "      <td>1973</td>\n",
       "      <td>Company - Private</td>\n",
       "      <td>...</td>\n",
       "      <td>72.0</td>\n",
       "      <td>Tecolote Research\\r</td>\n",
       "      <td>NM</td>\n",
       "      <td>0</td>\n",
       "      <td>47</td>\n",
       "      <td>1</td>\n",
       "      <td>0</td>\n",
       "      <td>0</td>\n",
       "      <td>0</td>\n",
       "      <td>1</td>\n",
       "    </tr>\n",
       "    <tr>\n",
       "      <th>1</th>\n",
       "      <td>Healthcare Data Scientist</td>\n",
       "      <td>$63K-$112K (Glassdoor est.)</td>\n",
       "      <td>What You Will Do:\\r \\r I. General Summary\\r \\r...</td>\n",
       "      <td>3.4</td>\n",
       "      <td>University of Maryland Medical System\\r 3.4</td>\n",
       "      <td>Linthicum, MD</td>\n",
       "      <td>Baltimore, MD</td>\n",
       "      <td>10000+ employees</td>\n",
       "      <td>1984</td>\n",
       "      <td>Other Organization</td>\n",
       "      <td>...</td>\n",
       "      <td>87.5</td>\n",
       "      <td>University of Maryland Medical System\\r</td>\n",
       "      <td>MD</td>\n",
       "      <td>0</td>\n",
       "      <td>36</td>\n",
       "      <td>1</td>\n",
       "      <td>0</td>\n",
       "      <td>0</td>\n",
       "      <td>0</td>\n",
       "      <td>0</td>\n",
       "    </tr>\n",
       "    <tr>\n",
       "      <th>2</th>\n",
       "      <td>Data Scientist</td>\n",
       "      <td>$80K-$90K (Glassdoor est.)</td>\n",
       "      <td>KnowBe4, Inc. is a high growth information sec...</td>\n",
       "      <td>4.8</td>\n",
       "      <td>KnowBe4\\r 4.8</td>\n",
       "      <td>Clearwater, FL</td>\n",
       "      <td>Clearwater, FL</td>\n",
       "      <td>501 to 1000 employees</td>\n",
       "      <td>2010</td>\n",
       "      <td>Company - Private</td>\n",
       "      <td>...</td>\n",
       "      <td>85.0</td>\n",
       "      <td>KnowBe4\\r</td>\n",
       "      <td>FL</td>\n",
       "      <td>1</td>\n",
       "      <td>10</td>\n",
       "      <td>1</td>\n",
       "      <td>0</td>\n",
       "      <td>1</td>\n",
       "      <td>0</td>\n",
       "      <td>1</td>\n",
       "    </tr>\n",
       "    <tr>\n",
       "      <th>3</th>\n",
       "      <td>Data Scientist</td>\n",
       "      <td>$56K-$97K (Glassdoor est.)</td>\n",
       "      <td>*Organization and Job ID**\\r Job ID: 310709\\r ...</td>\n",
       "      <td>3.8</td>\n",
       "      <td>PNNL\\r 3.8</td>\n",
       "      <td>Richland, WA</td>\n",
       "      <td>Richland, WA</td>\n",
       "      <td>1001 to 5000 employees</td>\n",
       "      <td>1965</td>\n",
       "      <td>Government</td>\n",
       "      <td>...</td>\n",
       "      <td>76.5</td>\n",
       "      <td>PNNL\\r</td>\n",
       "      <td>WA</td>\n",
       "      <td>1</td>\n",
       "      <td>55</td>\n",
       "      <td>1</td>\n",
       "      <td>0</td>\n",
       "      <td>0</td>\n",
       "      <td>0</td>\n",
       "      <td>0</td>\n",
       "    </tr>\n",
       "    <tr>\n",
       "      <th>4</th>\n",
       "      <td>Data Scientist</td>\n",
       "      <td>$86K-$143K (Glassdoor est.)</td>\n",
       "      <td>Data Scientist\\r Affinity Solutions / Marketin...</td>\n",
       "      <td>2.9</td>\n",
       "      <td>Affinity Solutions\\r 2.9</td>\n",
       "      <td>New York, NY</td>\n",
       "      <td>New York, NY</td>\n",
       "      <td>51 to 200 employees</td>\n",
       "      <td>1998</td>\n",
       "      <td>Company - Private</td>\n",
       "      <td>...</td>\n",
       "      <td>114.5</td>\n",
       "      <td>Affinity Solutions\\r</td>\n",
       "      <td>NY</td>\n",
       "      <td>1</td>\n",
       "      <td>22</td>\n",
       "      <td>1</td>\n",
       "      <td>0</td>\n",
       "      <td>0</td>\n",
       "      <td>0</td>\n",
       "      <td>1</td>\n",
       "    </tr>\n",
       "    <tr>\n",
       "      <th>...</th>\n",
       "      <td>...</td>\n",
       "      <td>...</td>\n",
       "      <td>...</td>\n",
       "      <td>...</td>\n",
       "      <td>...</td>\n",
       "      <td>...</td>\n",
       "      <td>...</td>\n",
       "      <td>...</td>\n",
       "      <td>...</td>\n",
       "      <td>...</td>\n",
       "      <td>...</td>\n",
       "      <td>...</td>\n",
       "      <td>...</td>\n",
       "      <td>...</td>\n",
       "      <td>...</td>\n",
       "      <td>...</td>\n",
       "      <td>...</td>\n",
       "      <td>...</td>\n",
       "      <td>...</td>\n",
       "      <td>...</td>\n",
       "      <td>...</td>\n",
       "    </tr>\n",
       "    <tr>\n",
       "      <th>737</th>\n",
       "      <td>Sr Scientist, Immuno-Oncology - Oncology</td>\n",
       "      <td>$58K-$111K (Glassdoor est.)</td>\n",
       "      <td>Site Name: USA - Massachusetts - Cambridge\\r P...</td>\n",
       "      <td>3.9</td>\n",
       "      <td>GSK\\r 3.9</td>\n",
       "      <td>Cambridge, MA</td>\n",
       "      <td>Brentford, United Kingdom</td>\n",
       "      <td>10000+ employees</td>\n",
       "      <td>1830</td>\n",
       "      <td>Company - Public</td>\n",
       "      <td>...</td>\n",
       "      <td>84.5</td>\n",
       "      <td>GSK\\r</td>\n",
       "      <td>MA</td>\n",
       "      <td>0</td>\n",
       "      <td>190</td>\n",
       "      <td>0</td>\n",
       "      <td>0</td>\n",
       "      <td>0</td>\n",
       "      <td>1</td>\n",
       "      <td>0</td>\n",
       "    </tr>\n",
       "    <tr>\n",
       "      <th>738</th>\n",
       "      <td>Senior Data Engineer</td>\n",
       "      <td>$72K-$133K (Glassdoor est.)</td>\n",
       "      <td>THE CHALLENGE\\r Eventbrite has a world-class d...</td>\n",
       "      <td>4.4</td>\n",
       "      <td>Eventbrite\\r 4.4</td>\n",
       "      <td>Nashville, TN</td>\n",
       "      <td>San Francisco, CA</td>\n",
       "      <td>1001 to 5000 employees</td>\n",
       "      <td>2006</td>\n",
       "      <td>Company - Public</td>\n",
       "      <td>...</td>\n",
       "      <td>102.5</td>\n",
       "      <td>Eventbrite\\r</td>\n",
       "      <td>TN</td>\n",
       "      <td>0</td>\n",
       "      <td>14</td>\n",
       "      <td>1</td>\n",
       "      <td>0</td>\n",
       "      <td>1</td>\n",
       "      <td>1</td>\n",
       "      <td>0</td>\n",
       "    </tr>\n",
       "    <tr>\n",
       "      <th>739</th>\n",
       "      <td>Project Scientist - Auton Lab, Robotics Institute</td>\n",
       "      <td>$56K-$91K (Glassdoor est.)</td>\n",
       "      <td>The Auton Lab at Carnegie Mellon University is...</td>\n",
       "      <td>2.6</td>\n",
       "      <td>Software Engineering Institute\\r 2.6</td>\n",
       "      <td>Pittsburgh, PA</td>\n",
       "      <td>Pittsburgh, PA</td>\n",
       "      <td>501 to 1000 employees</td>\n",
       "      <td>1984</td>\n",
       "      <td>College / University</td>\n",
       "      <td>...</td>\n",
       "      <td>73.5</td>\n",
       "      <td>Software Engineering Institute\\r</td>\n",
       "      <td>PA</td>\n",
       "      <td>1</td>\n",
       "      <td>36</td>\n",
       "      <td>0</td>\n",
       "      <td>0</td>\n",
       "      <td>0</td>\n",
       "      <td>0</td>\n",
       "      <td>1</td>\n",
       "    </tr>\n",
       "    <tr>\n",
       "      <th>740</th>\n",
       "      <td>Data Science Manager</td>\n",
       "      <td>$95K-$160K (Glassdoor est.)</td>\n",
       "      <td>Data Science ManagerResponsibilities:\\r \\r Ove...</td>\n",
       "      <td>3.2</td>\n",
       "      <td>Numeric, LLC\\r 3.2</td>\n",
       "      <td>Allentown, PA</td>\n",
       "      <td>Chadds Ford, PA</td>\n",
       "      <td>1 to 50 employees</td>\n",
       "      <td>-1</td>\n",
       "      <td>Company - Private</td>\n",
       "      <td>...</td>\n",
       "      <td>127.5</td>\n",
       "      <td>Numeric, LLC\\r</td>\n",
       "      <td>PA</td>\n",
       "      <td>0</td>\n",
       "      <td>-1</td>\n",
       "      <td>0</td>\n",
       "      <td>0</td>\n",
       "      <td>0</td>\n",
       "      <td>0</td>\n",
       "      <td>1</td>\n",
       "    </tr>\n",
       "    <tr>\n",
       "      <th>741</th>\n",
       "      <td>Research Scientist – Security and Privacy</td>\n",
       "      <td>$61K-$126K (Glassdoor est.)</td>\n",
       "      <td>Returning Candidate? Log back in to the Career...</td>\n",
       "      <td>3.6</td>\n",
       "      <td>Riverside Research Institute\\r 3.6</td>\n",
       "      <td>Beavercreek, OH</td>\n",
       "      <td>Arlington, VA</td>\n",
       "      <td>501 to 1000 employees</td>\n",
       "      <td>1967</td>\n",
       "      <td>Nonprofit Organization</td>\n",
       "      <td>...</td>\n",
       "      <td>93.5</td>\n",
       "      <td>Riverside Research Institute\\r</td>\n",
       "      <td>OH</td>\n",
       "      <td>0</td>\n",
       "      <td>53</td>\n",
       "      <td>1</td>\n",
       "      <td>0</td>\n",
       "      <td>0</td>\n",
       "      <td>0</td>\n",
       "      <td>0</td>\n",
       "    </tr>\n",
       "  </tbody>\n",
       "</table>\n",
       "<p>742 rows × 28 columns</p>\n",
       "</div>"
      ],
      "text/plain": [
       "                                             Job Title  \\\n",
       "0                                       Data Scientist   \n",
       "1                            Healthcare Data Scientist   \n",
       "2                                       Data Scientist   \n",
       "3                                       Data Scientist   \n",
       "4                                       Data Scientist   \n",
       "..                                                 ...   \n",
       "737           Sr Scientist, Immuno-Oncology - Oncology   \n",
       "738                               Senior Data Engineer   \n",
       "739  Project Scientist - Auton Lab, Robotics Institute   \n",
       "740                               Data Science Manager   \n",
       "741          Research Scientist – Security and Privacy   \n",
       "\n",
       "                 Salary Estimate  \\\n",
       "0     $53K-$91K (Glassdoor est.)   \n",
       "1    $63K-$112K (Glassdoor est.)   \n",
       "2     $80K-$90K (Glassdoor est.)   \n",
       "3     $56K-$97K (Glassdoor est.)   \n",
       "4    $86K-$143K (Glassdoor est.)   \n",
       "..                           ...   \n",
       "737  $58K-$111K (Glassdoor est.)   \n",
       "738  $72K-$133K (Glassdoor est.)   \n",
       "739   $56K-$91K (Glassdoor est.)   \n",
       "740  $95K-$160K (Glassdoor est.)   \n",
       "741  $61K-$126K (Glassdoor est.)   \n",
       "\n",
       "                                       Job Description  Rating  \\\n",
       "0    Data Scientist\\r Location: Albuquerque, NM\\r E...     3.8   \n",
       "1    What You Will Do:\\r \\r I. General Summary\\r \\r...     3.4   \n",
       "2    KnowBe4, Inc. is a high growth information sec...     4.8   \n",
       "3    *Organization and Job ID**\\r Job ID: 310709\\r ...     3.8   \n",
       "4    Data Scientist\\r Affinity Solutions / Marketin...     2.9   \n",
       "..                                                 ...     ...   \n",
       "737  Site Name: USA - Massachusetts - Cambridge\\r P...     3.9   \n",
       "738  THE CHALLENGE\\r Eventbrite has a world-class d...     4.4   \n",
       "739  The Auton Lab at Carnegie Mellon University is...     2.6   \n",
       "740  Data Science ManagerResponsibilities:\\r \\r Ove...     3.2   \n",
       "741  Returning Candidate? Log back in to the Career...     3.6   \n",
       "\n",
       "                                    Company Name         Location  \\\n",
       "0                        Tecolote Research\\r 3.8  Albuquerque, NM   \n",
       "1    University of Maryland Medical System\\r 3.4    Linthicum, MD   \n",
       "2                                  KnowBe4\\r 4.8   Clearwater, FL   \n",
       "3                                     PNNL\\r 3.8     Richland, WA   \n",
       "4                       Affinity Solutions\\r 2.9     New York, NY   \n",
       "..                                           ...              ...   \n",
       "737                                    GSK\\r 3.9    Cambridge, MA   \n",
       "738                             Eventbrite\\r 4.4    Nashville, TN   \n",
       "739         Software Engineering Institute\\r 2.6   Pittsburgh, PA   \n",
       "740                           Numeric, LLC\\r 3.2    Allentown, PA   \n",
       "741           Riverside Research Institute\\r 3.6  Beavercreek, OH   \n",
       "\n",
       "                  Headquarters                    Size  Founded  \\\n",
       "0                   Goleta, CA   501 to 1000 employees     1973   \n",
       "1                Baltimore, MD        10000+ employees     1984   \n",
       "2               Clearwater, FL   501 to 1000 employees     2010   \n",
       "3                 Richland, WA  1001 to 5000 employees     1965   \n",
       "4                 New York, NY     51 to 200 employees     1998   \n",
       "..                         ...                     ...      ...   \n",
       "737  Brentford, United Kingdom        10000+ employees     1830   \n",
       "738          San Francisco, CA  1001 to 5000 employees     2006   \n",
       "739             Pittsburgh, PA   501 to 1000 employees     1984   \n",
       "740            Chadds Ford, PA       1 to 50 employees       -1   \n",
       "741              Arlington, VA   501 to 1000 employees     1967   \n",
       "\n",
       "          Type of ownership  ... avg_salary  \\\n",
       "0         Company - Private  ...       72.0   \n",
       "1        Other Organization  ...       87.5   \n",
       "2         Company - Private  ...       85.0   \n",
       "3                Government  ...       76.5   \n",
       "4         Company - Private  ...      114.5   \n",
       "..                      ...  ...        ...   \n",
       "737        Company - Public  ...       84.5   \n",
       "738        Company - Public  ...      102.5   \n",
       "739    College / University  ...       73.5   \n",
       "740       Company - Private  ...      127.5   \n",
       "741  Nonprofit Organization  ...       93.5   \n",
       "\n",
       "                                  company_txt job_state same_state  age  \\\n",
       "0                        Tecolote Research\\r         NM          0   47   \n",
       "1    University of Maryland Medical System\\r         MD          0   36   \n",
       "2                                  KnowBe4\\r         FL          1   10   \n",
       "3                                     PNNL\\r         WA          1   55   \n",
       "4                       Affinity Solutions\\r         NY          1   22   \n",
       "..                                        ...       ...        ...  ...   \n",
       "737                                    GSK\\r         MA          0  190   \n",
       "738                             Eventbrite\\r         TN          0   14   \n",
       "739         Software Engineering Institute\\r         PA          1   36   \n",
       "740                           Numeric, LLC\\r         PA          0   -1   \n",
       "741           Riverside Research Institute\\r         OH          0   53   \n",
       "\n",
       "     python_yn  R_yn  spark  aws excel  \n",
       "0            1     0      0    0     1  \n",
       "1            1     0      0    0     0  \n",
       "2            1     0      1    0     1  \n",
       "3            1     0      0    0     0  \n",
       "4            1     0      0    0     1  \n",
       "..         ...   ...    ...  ...   ...  \n",
       "737          0     0      0    1     0  \n",
       "738          1     0      1    1     0  \n",
       "739          0     0      0    0     1  \n",
       "740          0     0      0    0     1  \n",
       "741          1     0      0    0     0  \n",
       "\n",
       "[742 rows x 28 columns]"
      ]
     },
     "execution_count": 6,
     "metadata": {},
     "output_type": "execute_result"
    }
   ],
   "source": [
    "ds = ds.replace(r'\\n', ' ', regex=True)\n",
    "ds"
   ]
  },
  {
   "cell_type": "markdown",
   "metadata": {
    "id": "NkqVDuPsG9ID"
   },
   "source": [
    "Personally, I find it significantly improves the appearance."
   ]
  },
  {
   "cell_type": "markdown",
   "metadata": {
    "id": "e3Tw9eDgG9ID"
   },
   "source": [
    "### 3.2 Simplify `ds`"
   ]
  },
  {
   "cell_type": "markdown",
   "metadata": {
    "id": "OXo8QbIRG9ID"
   },
   "source": [
    "As observed, `ds` has 28 rows, not all of which are displayed above. Next, I would like to review all the rows and decide which ones are actually needed."
   ]
  },
  {
   "cell_type": "code",
   "execution_count": 7,
   "metadata": {
    "colab": {
     "base_uri": "https://localhost:8080/"
    },
    "id": "kXH-zBbOG9ID",
    "outputId": "6b9b4106-984b-4ae9-ac39-8aa084d437de"
   },
   "outputs": [
    {
     "data": {
      "text/plain": [
       "['Job Title',\n",
       " 'Salary Estimate',\n",
       " 'Job Description',\n",
       " 'Rating',\n",
       " 'Company Name',\n",
       " 'Location',\n",
       " 'Headquarters',\n",
       " 'Size',\n",
       " 'Founded',\n",
       " 'Type of ownership',\n",
       " 'Industry',\n",
       " 'Sector',\n",
       " 'Revenue',\n",
       " 'Competitors',\n",
       " 'hourly',\n",
       " 'employer_provided',\n",
       " 'min_salary',\n",
       " 'max_salary',\n",
       " 'avg_salary',\n",
       " 'company_txt',\n",
       " 'job_state',\n",
       " 'same_state',\n",
       " 'age',\n",
       " 'python_yn',\n",
       " 'R_yn',\n",
       " 'spark',\n",
       " 'aws',\n",
       " 'excel']"
      ]
     },
     "execution_count": 7,
     "metadata": {},
     "output_type": "execute_result"
    }
   ],
   "source": [
    "ds_columns = list(ds.columns)\n",
    "ds_columns"
   ]
  },
  {
   "cell_type": "markdown",
   "metadata": {
    "id": "Vd2afIKLG9IE"
   },
   "source": [
    "I believe the following columns are not needed for this project:\n",
    "\n",
    "- Salary Estimate\n",
    "- Job Description\n",
    "- Location\n",
    "- Headquarters\n",
    "- Founded\n",
    "- Sector\n",
    "- Revenue\n",
    "- Competitors\n",
    "- employer_provided\n",
    "- company_txt\n",
    "- age"
   ]
  },
  {
   "cell_type": "code",
   "execution_count": 8,
   "metadata": {
    "colab": {
     "base_uri": "https://localhost:8080/",
     "height": 310
    },
    "id": "A_INYWftG9IE",
    "outputId": "4625ad2e-e5a7-4e57-b5bb-57cf3a937b1d"
   },
   "outputs": [
    {
     "data": {
      "text/html": [
       "<div>\n",
       "<style scoped>\n",
       "    .dataframe tbody tr th:only-of-type {\n",
       "        vertical-align: middle;\n",
       "    }\n",
       "\n",
       "    .dataframe tbody tr th {\n",
       "        vertical-align: top;\n",
       "    }\n",
       "\n",
       "    .dataframe thead th {\n",
       "        text-align: right;\n",
       "    }\n",
       "</style>\n",
       "<table border=\"1\" class=\"dataframe\">\n",
       "  <thead>\n",
       "    <tr style=\"text-align: right;\">\n",
       "      <th></th>\n",
       "      <th>Job Title</th>\n",
       "      <th>Rating</th>\n",
       "      <th>Company Name</th>\n",
       "      <th>Size</th>\n",
       "      <th>Type of ownership</th>\n",
       "      <th>Industry</th>\n",
       "      <th>hourly</th>\n",
       "      <th>min_salary</th>\n",
       "      <th>max_salary</th>\n",
       "      <th>avg_salary</th>\n",
       "      <th>job_state</th>\n",
       "      <th>same_state</th>\n",
       "      <th>python_yn</th>\n",
       "      <th>R_yn</th>\n",
       "      <th>spark</th>\n",
       "      <th>aws</th>\n",
       "      <th>excel</th>\n",
       "    </tr>\n",
       "  </thead>\n",
       "  <tbody>\n",
       "    <tr>\n",
       "      <th>0</th>\n",
       "      <td>Data Scientist</td>\n",
       "      <td>3.8</td>\n",
       "      <td>Tecolote Research\\r 3.8</td>\n",
       "      <td>501 to 1000 employees</td>\n",
       "      <td>Company - Private</td>\n",
       "      <td>Aerospace &amp; Defense</td>\n",
       "      <td>0</td>\n",
       "      <td>53</td>\n",
       "      <td>91</td>\n",
       "      <td>72.0</td>\n",
       "      <td>NM</td>\n",
       "      <td>0</td>\n",
       "      <td>1</td>\n",
       "      <td>0</td>\n",
       "      <td>0</td>\n",
       "      <td>0</td>\n",
       "      <td>1</td>\n",
       "    </tr>\n",
       "    <tr>\n",
       "      <th>1</th>\n",
       "      <td>Healthcare Data Scientist</td>\n",
       "      <td>3.4</td>\n",
       "      <td>University of Maryland Medical System\\r 3.4</td>\n",
       "      <td>10000+ employees</td>\n",
       "      <td>Other Organization</td>\n",
       "      <td>Health Care Services &amp; Hospitals</td>\n",
       "      <td>0</td>\n",
       "      <td>63</td>\n",
       "      <td>112</td>\n",
       "      <td>87.5</td>\n",
       "      <td>MD</td>\n",
       "      <td>0</td>\n",
       "      <td>1</td>\n",
       "      <td>0</td>\n",
       "      <td>0</td>\n",
       "      <td>0</td>\n",
       "      <td>0</td>\n",
       "    </tr>\n",
       "    <tr>\n",
       "      <th>2</th>\n",
       "      <td>Data Scientist</td>\n",
       "      <td>4.8</td>\n",
       "      <td>KnowBe4\\r 4.8</td>\n",
       "      <td>501 to 1000 employees</td>\n",
       "      <td>Company - Private</td>\n",
       "      <td>Security Services</td>\n",
       "      <td>0</td>\n",
       "      <td>80</td>\n",
       "      <td>90</td>\n",
       "      <td>85.0</td>\n",
       "      <td>FL</td>\n",
       "      <td>1</td>\n",
       "      <td>1</td>\n",
       "      <td>0</td>\n",
       "      <td>1</td>\n",
       "      <td>0</td>\n",
       "      <td>1</td>\n",
       "    </tr>\n",
       "    <tr>\n",
       "      <th>3</th>\n",
       "      <td>Data Scientist</td>\n",
       "      <td>3.8</td>\n",
       "      <td>PNNL\\r 3.8</td>\n",
       "      <td>1001 to 5000 employees</td>\n",
       "      <td>Government</td>\n",
       "      <td>Energy</td>\n",
       "      <td>0</td>\n",
       "      <td>56</td>\n",
       "      <td>97</td>\n",
       "      <td>76.5</td>\n",
       "      <td>WA</td>\n",
       "      <td>1</td>\n",
       "      <td>1</td>\n",
       "      <td>0</td>\n",
       "      <td>0</td>\n",
       "      <td>0</td>\n",
       "      <td>0</td>\n",
       "    </tr>\n",
       "    <tr>\n",
       "      <th>4</th>\n",
       "      <td>Data Scientist</td>\n",
       "      <td>2.9</td>\n",
       "      <td>Affinity Solutions\\r 2.9</td>\n",
       "      <td>51 to 200 employees</td>\n",
       "      <td>Company - Private</td>\n",
       "      <td>Advertising &amp; Marketing</td>\n",
       "      <td>0</td>\n",
       "      <td>86</td>\n",
       "      <td>143</td>\n",
       "      <td>114.5</td>\n",
       "      <td>NY</td>\n",
       "      <td>1</td>\n",
       "      <td>1</td>\n",
       "      <td>0</td>\n",
       "      <td>0</td>\n",
       "      <td>0</td>\n",
       "      <td>1</td>\n",
       "    </tr>\n",
       "  </tbody>\n",
       "</table>\n",
       "</div>"
      ],
      "text/plain": [
       "                   Job Title  Rating  \\\n",
       "0             Data Scientist     3.8   \n",
       "1  Healthcare Data Scientist     3.4   \n",
       "2             Data Scientist     4.8   \n",
       "3             Data Scientist     3.8   \n",
       "4             Data Scientist     2.9   \n",
       "\n",
       "                                  Company Name                    Size  \\\n",
       "0                      Tecolote Research\\r 3.8   501 to 1000 employees   \n",
       "1  University of Maryland Medical System\\r 3.4        10000+ employees   \n",
       "2                                KnowBe4\\r 4.8   501 to 1000 employees   \n",
       "3                                   PNNL\\r 3.8  1001 to 5000 employees   \n",
       "4                     Affinity Solutions\\r 2.9     51 to 200 employees   \n",
       "\n",
       "    Type of ownership                          Industry  hourly  min_salary  \\\n",
       "0   Company - Private               Aerospace & Defense       0          53   \n",
       "1  Other Organization  Health Care Services & Hospitals       0          63   \n",
       "2   Company - Private                 Security Services       0          80   \n",
       "3          Government                            Energy       0          56   \n",
       "4   Company - Private           Advertising & Marketing       0          86   \n",
       "\n",
       "   max_salary  avg_salary job_state  same_state  python_yn  R_yn  spark  aws  \\\n",
       "0          91        72.0        NM           0          1     0      0    0   \n",
       "1         112        87.5        MD           0          1     0      0    0   \n",
       "2          90        85.0        FL           1          1     0      1    0   \n",
       "3          97        76.5        WA           1          1     0      0    0   \n",
       "4         143       114.5        NY           1          1     0      0    0   \n",
       "\n",
       "   excel  \n",
       "0      1  \n",
       "1      0  \n",
       "2      1  \n",
       "3      0  \n",
       "4      1  "
      ]
     },
     "execution_count": 8,
     "metadata": {},
     "output_type": "execute_result"
    }
   ],
   "source": [
    "ds = ds.drop(\n",
    "    ['Salary Estimate', 'Job Description', 'Location','Headquarters','Founded', 'Sector', 'Revenue', 'Competitors', 'employer_provided', 'company_txt', 'age'], axis=1\n",
    ")\n",
    "ds.head()"
   ]
  },
  {
   "cell_type": "markdown",
   "metadata": {
    "id": "5YNDf136G9IE"
   },
   "source": [
    "Now, `ds` contains only the columns I am most interested in. All columns are now displayed without any being hidden.\n",
    "\n",
    "Note that we removed `Salary Estimate` because it would be redundant to keep it, considering we have `min_salary` and `max_salary`."
   ]
  },
  {
   "cell_type": "markdown",
   "metadata": {
    "id": "mUzeDHnKG9IE"
   },
   "source": [
    "### 3.3 Check the Data Types"
   ]
  },
  {
   "cell_type": "markdown",
   "metadata": {
    "id": "-rmzUmmTG9IE"
   },
   "source": [
    "Now, let's execute the `info()` method to ensure that each column contains a value that enables the column to be utilized effectively."
   ]
  },
  {
   "cell_type": "code",
   "execution_count": 9,
   "metadata": {
    "colab": {
     "base_uri": "https://localhost:8080/"
    },
    "id": "a119UwW9G9IE",
    "outputId": "96e08a70-d8cf-478e-b2fe-8ab1b4d5446e"
   },
   "outputs": [
    {
     "name": "stdout",
     "output_type": "stream",
     "text": [
      "<class 'pandas.core.frame.DataFrame'>\n",
      "RangeIndex: 742 entries, 0 to 741\n",
      "Data columns (total 17 columns):\n",
      " #   Column             Non-Null Count  Dtype  \n",
      "---  ------             --------------  -----  \n",
      " 0   Job Title          742 non-null    object \n",
      " 1   Rating             742 non-null    float64\n",
      " 2   Company Name       742 non-null    object \n",
      " 3   Size               742 non-null    object \n",
      " 4   Type of ownership  742 non-null    object \n",
      " 5   Industry           742 non-null    object \n",
      " 6   hourly             742 non-null    int64  \n",
      " 7   min_salary         742 non-null    int64  \n",
      " 8   max_salary         742 non-null    int64  \n",
      " 9   avg_salary         742 non-null    float64\n",
      " 10  job_state          742 non-null    object \n",
      " 11  same_state         742 non-null    int64  \n",
      " 12  python_yn          742 non-null    int64  \n",
      " 13  R_yn               742 non-null    int64  \n",
      " 14  spark              742 non-null    int64  \n",
      " 15  aws                742 non-null    int64  \n",
      " 16  excel              742 non-null    int64  \n",
      "dtypes: float64(2), int64(9), object(6)\n",
      "memory usage: 98.7+ KB\n"
     ]
    }
   ],
   "source": [
    "ds.info()"
   ]
  },
  {
   "cell_type": "markdown",
   "metadata": {
    "id": "qtTP4lqGG9IE"
   },
   "source": [
    "The columns `hourly`, `same_state`, `python_yn`, `R_yn`, `spark`, `aws`, and `excel` contain numerical data types that are not immediately clear. These values are binary, where `1` signifies `true` and `0` signifies `false`.\n",
    "\n",
    "Each of these columns needs to be converted to a more descriptive format."
   ]
  },
  {
   "cell_type": "code",
   "execution_count": 10,
   "metadata": {
    "colab": {
     "base_uri": "https://localhost:8080/"
    },
    "id": "YJtMwG52G9IE",
    "outputId": "f542b59c-0c35-4753-dd13-fe9c2d901b56"
   },
   "outputs": [
    {
     "name": "stdout",
     "output_type": "stream",
     "text": [
      "<class 'pandas.core.frame.DataFrame'>\n",
      "RangeIndex: 742 entries, 0 to 741\n",
      "Data columns (total 17 columns):\n",
      " #   Column             Non-Null Count  Dtype  \n",
      "---  ------             --------------  -----  \n",
      " 0   Job Title          742 non-null    object \n",
      " 1   Rating             742 non-null    float64\n",
      " 2   Company Name       742 non-null    object \n",
      " 3   Size               742 non-null    object \n",
      " 4   Type of ownership  742 non-null    object \n",
      " 5   Industry           742 non-null    object \n",
      " 6   hourly             742 non-null    object \n",
      " 7   min_salary         742 non-null    int64  \n",
      " 8   max_salary         742 non-null    int64  \n",
      " 9   avg_salary         742 non-null    float64\n",
      " 10  job_state          742 non-null    object \n",
      " 11  same_state         742 non-null    object \n",
      " 12  python_yn          742 non-null    object \n",
      " 13  R_yn               742 non-null    object \n",
      " 14  spark              742 non-null    object \n",
      " 15  aws                742 non-null    object \n",
      " 16  excel              742 non-null    object \n",
      "dtypes: float64(2), int64(2), object(13)\n",
      "memory usage: 98.7+ KB\n"
     ]
    }
   ],
   "source": [
    "ds['hourly'].replace({1: 'hourly', 0: 'salary'}, inplace=True)\n",
    "\n",
    "ds['same_state'].replace({1: 'local', 0: 'distant'}, inplace=True)\n",
    "\n",
    "ds.loc[:, ['python_yn', 'R_yn', 'spark', 'aws', 'excel']] = ds[['python_yn', 'R_yn', 'spark', 'aws', 'excel']].replace({1: \"Used\", 0: \"Unused\"})\n",
    "\n",
    "ds.info()"
   ]
  },
  {
   "cell_type": "markdown",
   "metadata": {
    "id": "4TlC5IHuG9IE"
   },
   "source": [
    "Now the chart is a bit easier to understand, and the data types better represent each column with more relatable values.\n",
    "\n",
    "Additionally, `min_salary`, `max_salary`, and `avg_salary` are shown in units of tens instead of thousands."
   ]
  },
  {
   "cell_type": "code",
   "execution_count": 11,
   "metadata": {
    "colab": {
     "base_uri": "https://localhost:8080/",
     "height": 327
    },
    "id": "ZTL-GISBG9IE",
    "outputId": "04183e07-06ed-4958-c8e0-fbc6c290cec1"
   },
   "outputs": [
    {
     "data": {
      "text/html": [
       "<div>\n",
       "<style scoped>\n",
       "    .dataframe tbody tr th:only-of-type {\n",
       "        vertical-align: middle;\n",
       "    }\n",
       "\n",
       "    .dataframe tbody tr th {\n",
       "        vertical-align: top;\n",
       "    }\n",
       "\n",
       "    .dataframe thead th {\n",
       "        text-align: right;\n",
       "    }\n",
       "</style>\n",
       "<table border=\"1\" class=\"dataframe\">\n",
       "  <thead>\n",
       "    <tr style=\"text-align: right;\">\n",
       "      <th></th>\n",
       "      <th>Job Title</th>\n",
       "      <th>Rating</th>\n",
       "      <th>Company Name</th>\n",
       "      <th>Size</th>\n",
       "      <th>Type of ownership</th>\n",
       "      <th>Industry</th>\n",
       "      <th>hourly</th>\n",
       "      <th>min_salary</th>\n",
       "      <th>max_salary</th>\n",
       "      <th>avg_salary</th>\n",
       "      <th>job_state</th>\n",
       "      <th>same_state</th>\n",
       "      <th>python_yn</th>\n",
       "      <th>R_yn</th>\n",
       "      <th>spark</th>\n",
       "      <th>aws</th>\n",
       "      <th>excel</th>\n",
       "    </tr>\n",
       "  </thead>\n",
       "  <tbody>\n",
       "    <tr>\n",
       "      <th>0</th>\n",
       "      <td>Data Scientist</td>\n",
       "      <td>3.8</td>\n",
       "      <td>Tecolote Research\\r 3.8</td>\n",
       "      <td>501 to 1000 employees</td>\n",
       "      <td>Company - Private</td>\n",
       "      <td>Aerospace &amp; Defense</td>\n",
       "      <td>salary</td>\n",
       "      <td>53000</td>\n",
       "      <td>91000</td>\n",
       "      <td>72000.0</td>\n",
       "      <td>NM</td>\n",
       "      <td>distant</td>\n",
       "      <td>Used</td>\n",
       "      <td>Unused</td>\n",
       "      <td>Unused</td>\n",
       "      <td>Unused</td>\n",
       "      <td>Used</td>\n",
       "    </tr>\n",
       "    <tr>\n",
       "      <th>1</th>\n",
       "      <td>Healthcare Data Scientist</td>\n",
       "      <td>3.4</td>\n",
       "      <td>University of Maryland Medical System\\r 3.4</td>\n",
       "      <td>10000+ employees</td>\n",
       "      <td>Other Organization</td>\n",
       "      <td>Health Care Services &amp; Hospitals</td>\n",
       "      <td>salary</td>\n",
       "      <td>63000</td>\n",
       "      <td>112000</td>\n",
       "      <td>87500.0</td>\n",
       "      <td>MD</td>\n",
       "      <td>distant</td>\n",
       "      <td>Used</td>\n",
       "      <td>Unused</td>\n",
       "      <td>Unused</td>\n",
       "      <td>Unused</td>\n",
       "      <td>Unused</td>\n",
       "    </tr>\n",
       "    <tr>\n",
       "      <th>2</th>\n",
       "      <td>Data Scientist</td>\n",
       "      <td>4.8</td>\n",
       "      <td>KnowBe4\\r 4.8</td>\n",
       "      <td>501 to 1000 employees</td>\n",
       "      <td>Company - Private</td>\n",
       "      <td>Security Services</td>\n",
       "      <td>salary</td>\n",
       "      <td>80000</td>\n",
       "      <td>90000</td>\n",
       "      <td>85000.0</td>\n",
       "      <td>FL</td>\n",
       "      <td>local</td>\n",
       "      <td>Used</td>\n",
       "      <td>Unused</td>\n",
       "      <td>Used</td>\n",
       "      <td>Unused</td>\n",
       "      <td>Used</td>\n",
       "    </tr>\n",
       "    <tr>\n",
       "      <th>3</th>\n",
       "      <td>Data Scientist</td>\n",
       "      <td>3.8</td>\n",
       "      <td>PNNL\\r 3.8</td>\n",
       "      <td>1001 to 5000 employees</td>\n",
       "      <td>Government</td>\n",
       "      <td>Energy</td>\n",
       "      <td>salary</td>\n",
       "      <td>56000</td>\n",
       "      <td>97000</td>\n",
       "      <td>76500.0</td>\n",
       "      <td>WA</td>\n",
       "      <td>local</td>\n",
       "      <td>Used</td>\n",
       "      <td>Unused</td>\n",
       "      <td>Unused</td>\n",
       "      <td>Unused</td>\n",
       "      <td>Unused</td>\n",
       "    </tr>\n",
       "    <tr>\n",
       "      <th>4</th>\n",
       "      <td>Data Scientist</td>\n",
       "      <td>2.9</td>\n",
       "      <td>Affinity Solutions\\r 2.9</td>\n",
       "      <td>51 to 200 employees</td>\n",
       "      <td>Company - Private</td>\n",
       "      <td>Advertising &amp; Marketing</td>\n",
       "      <td>salary</td>\n",
       "      <td>86000</td>\n",
       "      <td>143000</td>\n",
       "      <td>114500.0</td>\n",
       "      <td>NY</td>\n",
       "      <td>local</td>\n",
       "      <td>Used</td>\n",
       "      <td>Unused</td>\n",
       "      <td>Unused</td>\n",
       "      <td>Unused</td>\n",
       "      <td>Used</td>\n",
       "    </tr>\n",
       "  </tbody>\n",
       "</table>\n",
       "</div>"
      ],
      "text/plain": [
       "                   Job Title  Rating  \\\n",
       "0             Data Scientist     3.8   \n",
       "1  Healthcare Data Scientist     3.4   \n",
       "2             Data Scientist     4.8   \n",
       "3             Data Scientist     3.8   \n",
       "4             Data Scientist     2.9   \n",
       "\n",
       "                                  Company Name                    Size  \\\n",
       "0                      Tecolote Research\\r 3.8   501 to 1000 employees   \n",
       "1  University of Maryland Medical System\\r 3.4        10000+ employees   \n",
       "2                                KnowBe4\\r 4.8   501 to 1000 employees   \n",
       "3                                   PNNL\\r 3.8  1001 to 5000 employees   \n",
       "4                     Affinity Solutions\\r 2.9     51 to 200 employees   \n",
       "\n",
       "    Type of ownership                          Industry  hourly  min_salary  \\\n",
       "0   Company - Private               Aerospace & Defense  salary       53000   \n",
       "1  Other Organization  Health Care Services & Hospitals  salary       63000   \n",
       "2   Company - Private                 Security Services  salary       80000   \n",
       "3          Government                            Energy  salary       56000   \n",
       "4   Company - Private           Advertising & Marketing  salary       86000   \n",
       "\n",
       "   max_salary  avg_salary job_state same_state python_yn    R_yn   spark  \\\n",
       "0       91000     72000.0        NM    distant      Used  Unused  Unused   \n",
       "1      112000     87500.0        MD    distant      Used  Unused  Unused   \n",
       "2       90000     85000.0        FL      local      Used  Unused    Used   \n",
       "3       97000     76500.0        WA      local      Used  Unused  Unused   \n",
       "4      143000    114500.0        NY      local      Used  Unused  Unused   \n",
       "\n",
       "      aws   excel  \n",
       "0  Unused    Used  \n",
       "1  Unused  Unused  \n",
       "2  Unused    Used  \n",
       "3  Unused  Unused  \n",
       "4  Unused    Used  "
      ]
     },
     "execution_count": 11,
     "metadata": {},
     "output_type": "execute_result"
    }
   ],
   "source": [
    "def unit_fix(df, columns):\n",
    "    for column in columns:\n",
    "        df[column] *= 1000\n",
    "    return df\n",
    "\n",
    "ds = unit_fix(ds, ['avg_salary', 'max_salary', 'min_salary'])\n",
    "\n",
    "ds.head()"
   ]
  },
  {
   "cell_type": "markdown",
   "metadata": {
    "id": "u7ejjXptG9IF"
   },
   "source": [
    "### 3.4 Duplicate and Missing values"
   ]
  },
  {
   "cell_type": "markdown",
   "metadata": {
    "id": "-YtyljVTG9IF"
   },
   "source": [
    "Now that we have all the necessary columns with corrected values, we can begin checking for missing or duplicated values in `ds`. Once this is completed, we will have ensured the accuracy and usability of the data."
   ]
  },
  {
   "cell_type": "code",
   "execution_count": 12,
   "metadata": {
    "colab": {
     "base_uri": "https://localhost:8080/"
    },
    "id": "xquOjIYVG9IF",
    "outputId": "c056520c-458b-4f5f-aa96-7177eeafaccb"
   },
   "outputs": [
    {
     "name": "stdout",
     "output_type": "stream",
     "text": [
      "There are 496 duplicate values, and 0 missing values.\n"
     ]
    }
   ],
   "source": [
    "ds_missing = ds.isna().sum()\n",
    "ds_dupl = ds.duplicated(keep=False)\n",
    "\n",
    "print(f'There are {ds_dupl.sum()} duplicate values, and {ds_missing.sum()} missing values.')"
   ]
  },
  {
   "cell_type": "markdown",
   "metadata": {
    "id": "8yqMn0nOG9IH"
   },
   "source": [
    "It appears that some rows are duplicated, but there are no missing values. Therefore, I want to sample and check some of the duplicated rows."
   ]
  },
  {
   "cell_type": "code",
   "execution_count": 13,
   "metadata": {
    "colab": {
     "base_uri": "https://localhost:8080/",
     "height": 359
    },
    "id": "0EbTBc86G9IH",
    "outputId": "9b6a9ef1-5600-4af1-ca17-568f9766d2fe"
   },
   "outputs": [
    {
     "data": {
      "text/html": [
       "<div>\n",
       "<style scoped>\n",
       "    .dataframe tbody tr th:only-of-type {\n",
       "        vertical-align: middle;\n",
       "    }\n",
       "\n",
       "    .dataframe tbody tr th {\n",
       "        vertical-align: top;\n",
       "    }\n",
       "\n",
       "    .dataframe thead th {\n",
       "        text-align: right;\n",
       "    }\n",
       "</style>\n",
       "<table border=\"1\" class=\"dataframe\">\n",
       "  <thead>\n",
       "    <tr style=\"text-align: right;\">\n",
       "      <th></th>\n",
       "      <th>Job Title</th>\n",
       "      <th>Rating</th>\n",
       "      <th>Company Name</th>\n",
       "      <th>Size</th>\n",
       "      <th>Type of ownership</th>\n",
       "      <th>Industry</th>\n",
       "      <th>hourly</th>\n",
       "      <th>min_salary</th>\n",
       "      <th>max_salary</th>\n",
       "      <th>avg_salary</th>\n",
       "      <th>job_state</th>\n",
       "      <th>same_state</th>\n",
       "      <th>python_yn</th>\n",
       "      <th>R_yn</th>\n",
       "      <th>spark</th>\n",
       "      <th>aws</th>\n",
       "      <th>excel</th>\n",
       "    </tr>\n",
       "  </thead>\n",
       "  <tbody>\n",
       "    <tr>\n",
       "      <th>423</th>\n",
       "      <td>Data Scientist</td>\n",
       "      <td>4.7</td>\n",
       "      <td>1904labs\\r 4.7</td>\n",
       "      <td>51 to 200 employees</td>\n",
       "      <td>Company - Private</td>\n",
       "      <td>IT Services</td>\n",
       "      <td>salary</td>\n",
       "      <td>111000</td>\n",
       "      <td>176000</td>\n",
       "      <td>143500.0</td>\n",
       "      <td>MO</td>\n",
       "      <td>local</td>\n",
       "      <td>Used</td>\n",
       "      <td>Unused</td>\n",
       "      <td>Used</td>\n",
       "      <td>Unused</td>\n",
       "      <td>Unused</td>\n",
       "    </tr>\n",
       "    <tr>\n",
       "      <th>57</th>\n",
       "      <td>Data Scientist</td>\n",
       "      <td>4.7</td>\n",
       "      <td>1904labs\\r 4.7</td>\n",
       "      <td>51 to 200 employees</td>\n",
       "      <td>Company - Private</td>\n",
       "      <td>IT Services</td>\n",
       "      <td>salary</td>\n",
       "      <td>111000</td>\n",
       "      <td>176000</td>\n",
       "      <td>143500.0</td>\n",
       "      <td>MO</td>\n",
       "      <td>local</td>\n",
       "      <td>Used</td>\n",
       "      <td>Unused</td>\n",
       "      <td>Used</td>\n",
       "      <td>Unused</td>\n",
       "      <td>Unused</td>\n",
       "    </tr>\n",
       "    <tr>\n",
       "      <th>9</th>\n",
       "      <td>Data Scientist</td>\n",
       "      <td>4.6</td>\n",
       "      <td>&lt;intent&gt;\\r 4.6</td>\n",
       "      <td>51 to 200 employees</td>\n",
       "      <td>Company - Private</td>\n",
       "      <td>Internet</td>\n",
       "      <td>salary</td>\n",
       "      <td>120000</td>\n",
       "      <td>160000</td>\n",
       "      <td>140000.0</td>\n",
       "      <td>NY</td>\n",
       "      <td>local</td>\n",
       "      <td>Used</td>\n",
       "      <td>Unused</td>\n",
       "      <td>Used</td>\n",
       "      <td>Unused</td>\n",
       "      <td>Unused</td>\n",
       "    </tr>\n",
       "    <tr>\n",
       "      <th>112</th>\n",
       "      <td>Data Scientist</td>\n",
       "      <td>4.6</td>\n",
       "      <td>&lt;intent&gt;\\r 4.6</td>\n",
       "      <td>51 to 200 employees</td>\n",
       "      <td>Company - Private</td>\n",
       "      <td>Internet</td>\n",
       "      <td>salary</td>\n",
       "      <td>120000</td>\n",
       "      <td>160000</td>\n",
       "      <td>140000.0</td>\n",
       "      <td>NY</td>\n",
       "      <td>local</td>\n",
       "      <td>Used</td>\n",
       "      <td>Unused</td>\n",
       "      <td>Used</td>\n",
       "      <td>Unused</td>\n",
       "      <td>Unused</td>\n",
       "    </tr>\n",
       "    <tr>\n",
       "      <th>481</th>\n",
       "      <td>Data Analyst</td>\n",
       "      <td>3.6</td>\n",
       "      <td>AXION Healthcare Solutions\\r 3.6</td>\n",
       "      <td>1 to 50 employees</td>\n",
       "      <td>Company - Private</td>\n",
       "      <td>Health Care Services &amp; Hospitals</td>\n",
       "      <td>salary</td>\n",
       "      <td>47000</td>\n",
       "      <td>85000</td>\n",
       "      <td>66000.0</td>\n",
       "      <td>NY</td>\n",
       "      <td>local</td>\n",
       "      <td>Unused</td>\n",
       "      <td>Unused</td>\n",
       "      <td>Unused</td>\n",
       "      <td>Unused</td>\n",
       "      <td>Used</td>\n",
       "    </tr>\n",
       "    <tr>\n",
       "      <th>654</th>\n",
       "      <td>Data Analyst</td>\n",
       "      <td>3.6</td>\n",
       "      <td>AXION Healthcare Solutions\\r 3.6</td>\n",
       "      <td>1 to 50 employees</td>\n",
       "      <td>Company - Private</td>\n",
       "      <td>Health Care Services &amp; Hospitals</td>\n",
       "      <td>salary</td>\n",
       "      <td>47000</td>\n",
       "      <td>85000</td>\n",
       "      <td>66000.0</td>\n",
       "      <td>NY</td>\n",
       "      <td>local</td>\n",
       "      <td>Unused</td>\n",
       "      <td>Unused</td>\n",
       "      <td>Unused</td>\n",
       "      <td>Unused</td>\n",
       "      <td>Used</td>\n",
       "    </tr>\n",
       "  </tbody>\n",
       "</table>\n",
       "</div>"
      ],
      "text/plain": [
       "          Job Title  Rating                      Company Name  \\\n",
       "423  Data Scientist     4.7                    1904labs\\r 4.7   \n",
       "57   Data Scientist     4.7                    1904labs\\r 4.7   \n",
       "9    Data Scientist     4.6                    <intent>\\r 4.6   \n",
       "112  Data Scientist     4.6                    <intent>\\r 4.6   \n",
       "481    Data Analyst     3.6  AXION Healthcare Solutions\\r 3.6   \n",
       "654    Data Analyst     3.6  AXION Healthcare Solutions\\r 3.6   \n",
       "\n",
       "                    Size  Type of ownership                          Industry  \\\n",
       "423  51 to 200 employees  Company - Private                       IT Services   \n",
       "57   51 to 200 employees  Company - Private                       IT Services   \n",
       "9    51 to 200 employees  Company - Private                          Internet   \n",
       "112  51 to 200 employees  Company - Private                          Internet   \n",
       "481    1 to 50 employees  Company - Private  Health Care Services & Hospitals   \n",
       "654    1 to 50 employees  Company - Private  Health Care Services & Hospitals   \n",
       "\n",
       "     hourly  min_salary  max_salary  avg_salary job_state same_state  \\\n",
       "423  salary      111000      176000    143500.0        MO      local   \n",
       "57   salary      111000      176000    143500.0        MO      local   \n",
       "9    salary      120000      160000    140000.0        NY      local   \n",
       "112  salary      120000      160000    140000.0        NY      local   \n",
       "481  salary       47000       85000     66000.0        NY      local   \n",
       "654  salary       47000       85000     66000.0        NY      local   \n",
       "\n",
       "    python_yn    R_yn   spark     aws   excel  \n",
       "423      Used  Unused    Used  Unused  Unused  \n",
       "57       Used  Unused    Used  Unused  Unused  \n",
       "9        Used  Unused    Used  Unused  Unused  \n",
       "112      Used  Unused    Used  Unused  Unused  \n",
       "481    Unused  Unused  Unused  Unused    Used  \n",
       "654    Unused  Unused  Unused  Unused    Used  "
      ]
     },
     "execution_count": 13,
     "metadata": {},
     "output_type": "execute_result"
    }
   ],
   "source": [
    "ds_dupl_check = ds[ds_dupl].sort_values(by='Company Name')\n",
    "ds_dupl_check.head(6)"
   ]
  },
  {
   "cell_type": "markdown",
   "metadata": {
    "id": "Bm1r9aptG9IH"
   },
   "source": [
    "It's evident that there are duplicated values that need to be removed."
   ]
  },
  {
   "cell_type": "code",
   "execution_count": 14,
   "metadata": {
    "colab": {
     "base_uri": "https://localhost:8080/"
    },
    "id": "0BuO9wc1G9II",
    "outputId": "7119a44c-af69-47b1-e1b8-3704706e8e10"
   },
   "outputs": [
    {
     "name": "stdout",
     "output_type": "stream",
     "text": [
      "There are 0 duplicate values.\n"
     ]
    }
   ],
   "source": [
    "ds.drop_duplicates(inplace=True)\n",
    "ds = ds.reset_index()\n",
    "ds_dupl_2 = ds.duplicated(keep=False)\n",
    "\n",
    "print(f'There are {ds_dupl_2.sum()} duplicate values.')"
   ]
  },
  {
   "cell_type": "markdown",
   "metadata": {
    "id": "FHyFFKGBG9II"
   },
   "source": [
    "Now that we have removed all duplicated values, we can proceed to finally use the data."
   ]
  },
  {
   "cell_type": "markdown",
   "metadata": {
    "id": "QPtEo0ZFG9II"
   },
   "source": [
    "### 3.5 Hindsight correction"
   ]
  },
  {
   "cell_type": "markdown",
   "metadata": {
    "id": "Ur5pnF9OG9II"
   },
   "source": [
    "As the saying goes, \"hindsight is 20/20.\" It's often noticed during data analysis, after processing and organizing, that there are negative one numbers and \"-1\" strings that distort the data and are logically inaccurate. I'll go back to address this issue earlier in my notebook to ensure more accurate calculations later on."
   ]
  },
  {
   "cell_type": "code",
   "execution_count": 15,
   "metadata": {
    "colab": {
     "base_uri": "https://localhost:8080/",
     "height": 508
    },
    "id": "6gO3_zRZG9II",
    "outputId": "391e1ae6-5c3b-4f82-ab2a-34e4d2a19728"
   },
   "outputs": [
    {
     "data": {
      "text/html": [
       "<div>\n",
       "<style scoped>\n",
       "    .dataframe tbody tr th:only-of-type {\n",
       "        vertical-align: middle;\n",
       "    }\n",
       "\n",
       "    .dataframe tbody tr th {\n",
       "        vertical-align: top;\n",
       "    }\n",
       "\n",
       "    .dataframe thead th {\n",
       "        text-align: right;\n",
       "    }\n",
       "</style>\n",
       "<table border=\"1\" class=\"dataframe\">\n",
       "  <thead>\n",
       "    <tr style=\"text-align: right;\">\n",
       "      <th></th>\n",
       "      <th>index</th>\n",
       "      <th>Job Title</th>\n",
       "      <th>Rating</th>\n",
       "      <th>Company Name</th>\n",
       "      <th>Size</th>\n",
       "      <th>Type of ownership</th>\n",
       "      <th>Industry</th>\n",
       "      <th>hourly</th>\n",
       "      <th>min_salary</th>\n",
       "      <th>max_salary</th>\n",
       "      <th>avg_salary</th>\n",
       "      <th>job_state</th>\n",
       "      <th>same_state</th>\n",
       "      <th>python_yn</th>\n",
       "      <th>R_yn</th>\n",
       "      <th>spark</th>\n",
       "      <th>aws</th>\n",
       "      <th>excel</th>\n",
       "    </tr>\n",
       "  </thead>\n",
       "  <tbody>\n",
       "    <tr>\n",
       "      <th>39</th>\n",
       "      <td>41</td>\n",
       "      <td>Data Engineer</td>\n",
       "      <td>3.6</td>\n",
       "      <td>Persivia\\r 3.6</td>\n",
       "      <td>1 to 50 employees</td>\n",
       "      <td>Company - Private</td>\n",
       "      <td>-1</td>\n",
       "      <td>salary</td>\n",
       "      <td>68000</td>\n",
       "      <td>129000</td>\n",
       "      <td>98500.0</td>\n",
       "      <td>MA</td>\n",
       "      <td>distant</td>\n",
       "      <td>Unused</td>\n",
       "      <td>Unused</td>\n",
       "      <td>Unused</td>\n",
       "      <td>Unused</td>\n",
       "      <td>Used</td>\n",
       "    </tr>\n",
       "    <tr>\n",
       "      <th>164</th>\n",
       "      <td>176</td>\n",
       "      <td>Principal Data Scientist with over 10 years ex...</td>\n",
       "      <td>-1.0</td>\n",
       "      <td>CA-One Tech Cloud</td>\n",
       "      <td>51 to 200 employees</td>\n",
       "      <td>Company - Private</td>\n",
       "      <td>IT Services</td>\n",
       "      <td>salary</td>\n",
       "      <td>200000</td>\n",
       "      <td>250000</td>\n",
       "      <td>225000.0</td>\n",
       "      <td>CA</td>\n",
       "      <td>distant</td>\n",
       "      <td>Used</td>\n",
       "      <td>Unused</td>\n",
       "      <td>Unused</td>\n",
       "      <td>Used</td>\n",
       "      <td>Used</td>\n",
       "    </tr>\n",
       "    <tr>\n",
       "      <th>247</th>\n",
       "      <td>300</td>\n",
       "      <td>Data Operations Lead</td>\n",
       "      <td>-1.0</td>\n",
       "      <td>Muso</td>\n",
       "      <td>201 to 500 employees</td>\n",
       "      <td>Nonprofit Organization</td>\n",
       "      <td>-1</td>\n",
       "      <td>salary</td>\n",
       "      <td>85000</td>\n",
       "      <td>90000</td>\n",
       "      <td>87500.0</td>\n",
       "      <td>CA</td>\n",
       "      <td>local</td>\n",
       "      <td>Used</td>\n",
       "      <td>Unused</td>\n",
       "      <td>Unused</td>\n",
       "      <td>Unused</td>\n",
       "      <td>Used</td>\n",
       "    </tr>\n",
       "    <tr>\n",
       "      <th>294</th>\n",
       "      <td>370</td>\n",
       "      <td>Research Scientist, Immunology - Cancer Biology</td>\n",
       "      <td>-1.0</td>\n",
       "      <td>Kronos Bio</td>\n",
       "      <td>Unknown</td>\n",
       "      <td>Company - Private</td>\n",
       "      <td>-1</td>\n",
       "      <td>salary</td>\n",
       "      <td>100000</td>\n",
       "      <td>140000</td>\n",
       "      <td>120000.0</td>\n",
       "      <td>MA</td>\n",
       "      <td>distant</td>\n",
       "      <td>Unused</td>\n",
       "      <td>Unused</td>\n",
       "      <td>Unused</td>\n",
       "      <td>Unused</td>\n",
       "      <td>Used</td>\n",
       "    </tr>\n",
       "    <tr>\n",
       "      <th>323</th>\n",
       "      <td>404</td>\n",
       "      <td>Senior Scientist, Cell Pharmacology/Assay Deve...</td>\n",
       "      <td>-1.0</td>\n",
       "      <td>Kronos Bio</td>\n",
       "      <td>Unknown</td>\n",
       "      <td>Company - Private</td>\n",
       "      <td>-1</td>\n",
       "      <td>salary</td>\n",
       "      <td>110000</td>\n",
       "      <td>130000</td>\n",
       "      <td>120000.0</td>\n",
       "      <td>MA</td>\n",
       "      <td>distant</td>\n",
       "      <td>Unused</td>\n",
       "      <td>Unused</td>\n",
       "      <td>Unused</td>\n",
       "      <td>Unused</td>\n",
       "      <td>Unused</td>\n",
       "    </tr>\n",
       "    <tr>\n",
       "      <th>360</th>\n",
       "      <td>456</td>\n",
       "      <td>Data Scientist</td>\n",
       "      <td>-1.0</td>\n",
       "      <td>ALIN</td>\n",
       "      <td>Unknown</td>\n",
       "      <td>Company - Private</td>\n",
       "      <td>-1</td>\n",
       "      <td>salary</td>\n",
       "      <td>81000</td>\n",
       "      <td>140000</td>\n",
       "      <td>110500.0</td>\n",
       "      <td>NY</td>\n",
       "      <td>distant</td>\n",
       "      <td>Used</td>\n",
       "      <td>Unused</td>\n",
       "      <td>Unused</td>\n",
       "      <td>Unused</td>\n",
       "      <td>Unused</td>\n",
       "    </tr>\n",
       "    <tr>\n",
       "      <th>421</th>\n",
       "      <td>581</td>\n",
       "      <td>Scientist – Cancer Discovery, Molecular Assay</td>\n",
       "      <td>-1.0</td>\n",
       "      <td>Monte Rosa Therapeutics</td>\n",
       "      <td>-1</td>\n",
       "      <td>-1</td>\n",
       "      <td>-1</td>\n",
       "      <td>salary</td>\n",
       "      <td>100000</td>\n",
       "      <td>135000</td>\n",
       "      <td>117500.0</td>\n",
       "      <td>MA</td>\n",
       "      <td>distant</td>\n",
       "      <td>Unused</td>\n",
       "      <td>Unused</td>\n",
       "      <td>Unused</td>\n",
       "      <td>Unused</td>\n",
       "      <td>Used</td>\n",
       "    </tr>\n",
       "    <tr>\n",
       "      <th>444</th>\n",
       "      <td>641</td>\n",
       "      <td>Principal Research Scientist/Team Lead, Medici...</td>\n",
       "      <td>-1.0</td>\n",
       "      <td>Kronos Bio</td>\n",
       "      <td>Unknown</td>\n",
       "      <td>Company - Private</td>\n",
       "      <td>-1</td>\n",
       "      <td>salary</td>\n",
       "      <td>120000</td>\n",
       "      <td>145000</td>\n",
       "      <td>132500.0</td>\n",
       "      <td>MA</td>\n",
       "      <td>distant</td>\n",
       "      <td>Unused</td>\n",
       "      <td>Unused</td>\n",
       "      <td>Unused</td>\n",
       "      <td>Unused</td>\n",
       "      <td>Unused</td>\n",
       "    </tr>\n",
       "  </tbody>\n",
       "</table>\n",
       "</div>"
      ],
      "text/plain": [
       "     index                                          Job Title  Rating  \\\n",
       "39      41                                      Data Engineer     3.6   \n",
       "164    176  Principal Data Scientist with over 10 years ex...    -1.0   \n",
       "247    300                               Data Operations Lead    -1.0   \n",
       "294    370    Research Scientist, Immunology - Cancer Biology    -1.0   \n",
       "323    404  Senior Scientist, Cell Pharmacology/Assay Deve...    -1.0   \n",
       "360    456                                     Data Scientist    -1.0   \n",
       "421    581      Scientist – Cancer Discovery, Molecular Assay    -1.0   \n",
       "444    641  Principal Research Scientist/Team Lead, Medici...    -1.0   \n",
       "\n",
       "                Company Name                  Size       Type of ownership  \\\n",
       "39            Persivia\\r 3.6     1 to 50 employees       Company - Private   \n",
       "164        CA-One Tech Cloud   51 to 200 employees       Company - Private   \n",
       "247                     Muso  201 to 500 employees  Nonprofit Organization   \n",
       "294               Kronos Bio               Unknown       Company - Private   \n",
       "323               Kronos Bio               Unknown       Company - Private   \n",
       "360                     ALIN               Unknown       Company - Private   \n",
       "421  Monte Rosa Therapeutics                    -1                      -1   \n",
       "444               Kronos Bio               Unknown       Company - Private   \n",
       "\n",
       "        Industry  hourly  min_salary  max_salary  avg_salary job_state  \\\n",
       "39            -1  salary       68000      129000     98500.0        MA   \n",
       "164  IT Services  salary      200000      250000    225000.0        CA   \n",
       "247           -1  salary       85000       90000     87500.0        CA   \n",
       "294           -1  salary      100000      140000    120000.0        MA   \n",
       "323           -1  salary      110000      130000    120000.0        MA   \n",
       "360           -1  salary       81000      140000    110500.0        NY   \n",
       "421           -1  salary      100000      135000    117500.0        MA   \n",
       "444           -1  salary      120000      145000    132500.0        MA   \n",
       "\n",
       "    same_state python_yn    R_yn   spark     aws   excel  \n",
       "39     distant    Unused  Unused  Unused  Unused    Used  \n",
       "164    distant      Used  Unused  Unused    Used    Used  \n",
       "247      local      Used  Unused  Unused  Unused    Used  \n",
       "294    distant    Unused  Unused  Unused  Unused    Used  \n",
       "323    distant    Unused  Unused  Unused  Unused  Unused  \n",
       "360    distant      Used  Unused  Unused  Unused  Unused  \n",
       "421    distant    Unused  Unused  Unused  Unused    Used  \n",
       "444    distant    Unused  Unused  Unused  Unused  Unused  "
      ]
     },
     "execution_count": 15,
     "metadata": {},
     "output_type": "execute_result"
    }
   ],
   "source": [
    "errors = ((ds == -1) | (ds == '-1')).any(axis=1)\n",
    "errors_check = ds[errors]\n",
    "errors_check"
   ]
  },
  {
   "cell_type": "markdown",
   "metadata": {
    "id": "kGmBgxyIG9II"
   },
   "source": [
    "As can be seen, for some reason, certain columns such as `Rating` contain a value of -1, which is logically impossible since ratings should range from 0 to 5."
   ]
  },
  {
   "cell_type": "code",
   "execution_count": 16,
   "metadata": {
    "id": "JFwMKn-1G9II"
   },
   "outputs": [],
   "source": [
    "ds = ds[~errors]"
   ]
  },
  {
   "cell_type": "markdown",
   "metadata": {
    "id": "HTO6zPN2G9II"
   },
   "source": [
    "The above code edits `ds` to exclude all rows with erroneous values. With this step completed, we are almost done.\n",
    "\n",
    "There is one more error concerning `job_state`. Instead of showing the initials of each state, there is an instance where the value is ` Los Angeles`."
   ]
  },
  {
   "cell_type": "code",
   "execution_count": 17,
   "metadata": {
    "colab": {
     "base_uri": "https://localhost:8080/"
    },
    "id": "H1EBc2beG9II",
    "outputId": "33fb993a-733f-4e46-804d-92a9b105bdbd"
   },
   "outputs": [
    {
     "data": {
      "text/plain": [
       "array([' NM', ' MD', ' FL', ' WA', ' NY', ' TX', ' CA', ' VA', ' MA',\n",
       "       ' NJ', ' CO', ' IL', ' KY', ' OR', ' CT', ' MI', ' DC', ' OH',\n",
       "       ' AL', ' MO', ' PA', ' GA', ' IN', ' LA', ' WI', ' NC', ' AZ',\n",
       "       ' NE', ' MN', ' Los Angeles', ' UT', ' TN', ' DE', ' ID', ' RI',\n",
       "       ' IA', ' SC', ' KS'], dtype=object)"
      ]
     },
     "execution_count": 17,
     "metadata": {},
     "output_type": "execute_result"
    }
   ],
   "source": [
    "ds['job_state'].unique()"
   ]
  },
  {
   "cell_type": "markdown",
   "metadata": {
    "id": "4uhZ1ex1G9II"
   },
   "source": [
    "As previously stated, a value within the 'job_state' column is not a valid state abbreviation."
   ]
  },
  {
   "cell_type": "code",
   "execution_count": 18,
   "metadata": {
    "colab": {
     "base_uri": "https://localhost:8080/"
    },
    "id": "WPhitizTG9II",
    "outputId": "94e3c4dc-6775-4eff-ee6b-eacd7e63c75b"
   },
   "outputs": [
    {
     "data": {
      "text/plain": [
       "array([' NM', ' MD', ' FL', ' WA', ' NY', ' TX', ' CA', ' VA', ' MA',\n",
       "       ' NJ', ' CO', ' IL', ' KY', ' OR', ' CT', ' MI', ' DC', ' OH',\n",
       "       ' AL', ' MO', ' PA', ' GA', ' IN', ' LA', ' WI', ' NC', ' AZ',\n",
       "       ' NE', ' MN', 'CA', ' UT', ' TN', ' DE', ' ID', ' RI', ' IA',\n",
       "       ' SC', ' KS'], dtype=object)"
      ]
     },
     "execution_count": 18,
     "metadata": {},
     "output_type": "execute_result"
    }
   ],
   "source": [
    "ds['job_state'] = ds['job_state'].replace(' Los Angeles', 'CA')\n",
    "ds['job_state'].unique()"
   ]
  },
  {
   "cell_type": "markdown",
   "metadata": {
    "id": "P6R53FHTG9IJ"
   },
   "source": [
    "With this task finished, we can now effectively analyze the data from GlassDoor."
   ]
  },
  {
   "cell_type": "markdown",
   "metadata": {
    "id": "U3m2KW2fG9IJ"
   },
   "source": [
    "## 4 Criteria for Analysis"
   ]
  },
  {
   "cell_type": "markdown",
   "metadata": {
    "id": "VJ5n3wpFG9IJ"
   },
   "source": [
    "### 4.1 Inspecting `ds` for Analysis"
   ]
  },
  {
   "cell_type": "markdown",
   "metadata": {
    "id": "JguAt5YgG9IJ"
   },
   "source": [
    "Now, my goal is to group the data into distinct data frames, focusing on various points of interest. Let's check `ds` once more to determine these points."
   ]
  },
  {
   "cell_type": "code",
   "execution_count": 19,
   "metadata": {
    "colab": {
     "base_uri": "https://localhost:8080/",
     "height": 684
    },
    "id": "JdS48CjHG9IJ",
    "outputId": "d74b6d23-51f1-453f-c4e3-b6f7bdde0d37"
   },
   "outputs": [
    {
     "data": {
      "text/html": [
       "<div>\n",
       "<style scoped>\n",
       "    .dataframe tbody tr th:only-of-type {\n",
       "        vertical-align: middle;\n",
       "    }\n",
       "\n",
       "    .dataframe tbody tr th {\n",
       "        vertical-align: top;\n",
       "    }\n",
       "\n",
       "    .dataframe thead th {\n",
       "        text-align: right;\n",
       "    }\n",
       "</style>\n",
       "<table border=\"1\" class=\"dataframe\">\n",
       "  <thead>\n",
       "    <tr style=\"text-align: right;\">\n",
       "      <th></th>\n",
       "      <th>index</th>\n",
       "      <th>Job Title</th>\n",
       "      <th>Rating</th>\n",
       "      <th>Company Name</th>\n",
       "      <th>Size</th>\n",
       "      <th>Type of ownership</th>\n",
       "      <th>Industry</th>\n",
       "      <th>hourly</th>\n",
       "      <th>min_salary</th>\n",
       "      <th>max_salary</th>\n",
       "      <th>avg_salary</th>\n",
       "      <th>job_state</th>\n",
       "      <th>same_state</th>\n",
       "      <th>python_yn</th>\n",
       "      <th>R_yn</th>\n",
       "      <th>spark</th>\n",
       "      <th>aws</th>\n",
       "      <th>excel</th>\n",
       "    </tr>\n",
       "  </thead>\n",
       "  <tbody>\n",
       "    <tr>\n",
       "      <th>0</th>\n",
       "      <td>0</td>\n",
       "      <td>Data Scientist</td>\n",
       "      <td>3.8</td>\n",
       "      <td>Tecolote Research\\r 3.8</td>\n",
       "      <td>501 to 1000 employees</td>\n",
       "      <td>Company - Private</td>\n",
       "      <td>Aerospace &amp; Defense</td>\n",
       "      <td>salary</td>\n",
       "      <td>53000</td>\n",
       "      <td>91000</td>\n",
       "      <td>72000.0</td>\n",
       "      <td>NM</td>\n",
       "      <td>distant</td>\n",
       "      <td>Used</td>\n",
       "      <td>Unused</td>\n",
       "      <td>Unused</td>\n",
       "      <td>Unused</td>\n",
       "      <td>Used</td>\n",
       "    </tr>\n",
       "    <tr>\n",
       "      <th>1</th>\n",
       "      <td>1</td>\n",
       "      <td>Healthcare Data Scientist</td>\n",
       "      <td>3.4</td>\n",
       "      <td>University of Maryland Medical System\\r 3.4</td>\n",
       "      <td>10000+ employees</td>\n",
       "      <td>Other Organization</td>\n",
       "      <td>Health Care Services &amp; Hospitals</td>\n",
       "      <td>salary</td>\n",
       "      <td>63000</td>\n",
       "      <td>112000</td>\n",
       "      <td>87500.0</td>\n",
       "      <td>MD</td>\n",
       "      <td>distant</td>\n",
       "      <td>Used</td>\n",
       "      <td>Unused</td>\n",
       "      <td>Unused</td>\n",
       "      <td>Unused</td>\n",
       "      <td>Unused</td>\n",
       "    </tr>\n",
       "    <tr>\n",
       "      <th>2</th>\n",
       "      <td>2</td>\n",
       "      <td>Data Scientist</td>\n",
       "      <td>4.8</td>\n",
       "      <td>KnowBe4\\r 4.8</td>\n",
       "      <td>501 to 1000 employees</td>\n",
       "      <td>Company - Private</td>\n",
       "      <td>Security Services</td>\n",
       "      <td>salary</td>\n",
       "      <td>80000</td>\n",
       "      <td>90000</td>\n",
       "      <td>85000.0</td>\n",
       "      <td>FL</td>\n",
       "      <td>local</td>\n",
       "      <td>Used</td>\n",
       "      <td>Unused</td>\n",
       "      <td>Used</td>\n",
       "      <td>Unused</td>\n",
       "      <td>Used</td>\n",
       "    </tr>\n",
       "    <tr>\n",
       "      <th>3</th>\n",
       "      <td>3</td>\n",
       "      <td>Data Scientist</td>\n",
       "      <td>3.8</td>\n",
       "      <td>PNNL\\r 3.8</td>\n",
       "      <td>1001 to 5000 employees</td>\n",
       "      <td>Government</td>\n",
       "      <td>Energy</td>\n",
       "      <td>salary</td>\n",
       "      <td>56000</td>\n",
       "      <td>97000</td>\n",
       "      <td>76500.0</td>\n",
       "      <td>WA</td>\n",
       "      <td>local</td>\n",
       "      <td>Used</td>\n",
       "      <td>Unused</td>\n",
       "      <td>Unused</td>\n",
       "      <td>Unused</td>\n",
       "      <td>Unused</td>\n",
       "    </tr>\n",
       "    <tr>\n",
       "      <th>4</th>\n",
       "      <td>4</td>\n",
       "      <td>Data Scientist</td>\n",
       "      <td>2.9</td>\n",
       "      <td>Affinity Solutions\\r 2.9</td>\n",
       "      <td>51 to 200 employees</td>\n",
       "      <td>Company - Private</td>\n",
       "      <td>Advertising &amp; Marketing</td>\n",
       "      <td>salary</td>\n",
       "      <td>86000</td>\n",
       "      <td>143000</td>\n",
       "      <td>114500.0</td>\n",
       "      <td>NY</td>\n",
       "      <td>local</td>\n",
       "      <td>Used</td>\n",
       "      <td>Unused</td>\n",
       "      <td>Unused</td>\n",
       "      <td>Unused</td>\n",
       "      <td>Used</td>\n",
       "    </tr>\n",
       "    <tr>\n",
       "      <th>...</th>\n",
       "      <td>...</td>\n",
       "      <td>...</td>\n",
       "      <td>...</td>\n",
       "      <td>...</td>\n",
       "      <td>...</td>\n",
       "      <td>...</td>\n",
       "      <td>...</td>\n",
       "      <td>...</td>\n",
       "      <td>...</td>\n",
       "      <td>...</td>\n",
       "      <td>...</td>\n",
       "      <td>...</td>\n",
       "      <td>...</td>\n",
       "      <td>...</td>\n",
       "      <td>...</td>\n",
       "      <td>...</td>\n",
       "      <td>...</td>\n",
       "      <td>...</td>\n",
       "    </tr>\n",
       "    <tr>\n",
       "      <th>462</th>\n",
       "      <td>695</td>\n",
       "      <td>Data Architect / Data Modeler</td>\n",
       "      <td>4.3</td>\n",
       "      <td>Medidata Solutions\\r 4.3</td>\n",
       "      <td>1001 to 5000 employees</td>\n",
       "      <td>Company - Public</td>\n",
       "      <td>Enterprise Software &amp; Network Solutions</td>\n",
       "      <td>salary</td>\n",
       "      <td>63000</td>\n",
       "      <td>110000</td>\n",
       "      <td>86500.0</td>\n",
       "      <td>NY</td>\n",
       "      <td>local</td>\n",
       "      <td>Unused</td>\n",
       "      <td>Unused</td>\n",
       "      <td>Unused</td>\n",
       "      <td>Used</td>\n",
       "      <td>Used</td>\n",
       "    </tr>\n",
       "    <tr>\n",
       "      <th>463</th>\n",
       "      <td>700</td>\n",
       "      <td>Data Scientist</td>\n",
       "      <td>3.4</td>\n",
       "      <td>DatamanUSA, LLC\\r 3.4</td>\n",
       "      <td>51 to 200 employees</td>\n",
       "      <td>Company - Private</td>\n",
       "      <td>IT Services</td>\n",
       "      <td>salary</td>\n",
       "      <td>65000</td>\n",
       "      <td>113000</td>\n",
       "      <td>89000.0</td>\n",
       "      <td>WA</td>\n",
       "      <td>distant</td>\n",
       "      <td>Unused</td>\n",
       "      <td>Unused</td>\n",
       "      <td>Unused</td>\n",
       "      <td>Unused</td>\n",
       "      <td>Unused</td>\n",
       "    </tr>\n",
       "    <tr>\n",
       "      <th>464</th>\n",
       "      <td>716</td>\n",
       "      <td>Associate Scientist / Sr. Associate Scientist,...</td>\n",
       "      <td>4.0</td>\n",
       "      <td>23andMe\\r 4.0</td>\n",
       "      <td>501 to 1000 employees</td>\n",
       "      <td>Company - Private</td>\n",
       "      <td>Biotech &amp; Pharmaceuticals</td>\n",
       "      <td>salary</td>\n",
       "      <td>59000</td>\n",
       "      <td>125000</td>\n",
       "      <td>92000.0</td>\n",
       "      <td>CA</td>\n",
       "      <td>distant</td>\n",
       "      <td>Unused</td>\n",
       "      <td>Unused</td>\n",
       "      <td>Unused</td>\n",
       "      <td>Used</td>\n",
       "      <td>Used</td>\n",
       "    </tr>\n",
       "    <tr>\n",
       "      <th>465</th>\n",
       "      <td>732</td>\n",
       "      <td>Machine Learning Engineer (NLP)</td>\n",
       "      <td>4.1</td>\n",
       "      <td>CK-12 Foundation\\r 4.1</td>\n",
       "      <td>1 to 50 employees</td>\n",
       "      <td>Company - Private</td>\n",
       "      <td>K-12 Education</td>\n",
       "      <td>salary</td>\n",
       "      <td>80000</td>\n",
       "      <td>142000</td>\n",
       "      <td>111000.0</td>\n",
       "      <td>CA</td>\n",
       "      <td>local</td>\n",
       "      <td>Used</td>\n",
       "      <td>Unused</td>\n",
       "      <td>Unused</td>\n",
       "      <td>Used</td>\n",
       "      <td>Used</td>\n",
       "    </tr>\n",
       "    <tr>\n",
       "      <th>466</th>\n",
       "      <td>735</td>\n",
       "      <td>Data Engineer</td>\n",
       "      <td>3.9</td>\n",
       "      <td>Fivestars\\r 3.9</td>\n",
       "      <td>201 to 500 employees</td>\n",
       "      <td>Company - Private</td>\n",
       "      <td>Internet</td>\n",
       "      <td>salary</td>\n",
       "      <td>62000</td>\n",
       "      <td>113000</td>\n",
       "      <td>87500.0</td>\n",
       "      <td>CA</td>\n",
       "      <td>local</td>\n",
       "      <td>Used</td>\n",
       "      <td>Unused</td>\n",
       "      <td>Unused</td>\n",
       "      <td>Used</td>\n",
       "      <td>Used</td>\n",
       "    </tr>\n",
       "  </tbody>\n",
       "</table>\n",
       "<p>459 rows × 18 columns</p>\n",
       "</div>"
      ],
      "text/plain": [
       "     index                                          Job Title  Rating  \\\n",
       "0        0                                     Data Scientist     3.8   \n",
       "1        1                          Healthcare Data Scientist     3.4   \n",
       "2        2                                     Data Scientist     4.8   \n",
       "3        3                                     Data Scientist     3.8   \n",
       "4        4                                     Data Scientist     2.9   \n",
       "..     ...                                                ...     ...   \n",
       "462    695                      Data Architect / Data Modeler     4.3   \n",
       "463    700                                     Data Scientist     3.4   \n",
       "464    716  Associate Scientist / Sr. Associate Scientist,...     4.0   \n",
       "465    732                    Machine Learning Engineer (NLP)     4.1   \n",
       "466    735                                      Data Engineer     3.9   \n",
       "\n",
       "                                    Company Name                    Size  \\\n",
       "0                        Tecolote Research\\r 3.8   501 to 1000 employees   \n",
       "1    University of Maryland Medical System\\r 3.4        10000+ employees   \n",
       "2                                  KnowBe4\\r 4.8   501 to 1000 employees   \n",
       "3                                     PNNL\\r 3.8  1001 to 5000 employees   \n",
       "4                       Affinity Solutions\\r 2.9     51 to 200 employees   \n",
       "..                                           ...                     ...   \n",
       "462                     Medidata Solutions\\r 4.3  1001 to 5000 employees   \n",
       "463                        DatamanUSA, LLC\\r 3.4     51 to 200 employees   \n",
       "464                                23andMe\\r 4.0   501 to 1000 employees   \n",
       "465                       CK-12 Foundation\\r 4.1       1 to 50 employees   \n",
       "466                              Fivestars\\r 3.9    201 to 500 employees   \n",
       "\n",
       "      Type of ownership                                 Industry  hourly  \\\n",
       "0     Company - Private                      Aerospace & Defense  salary   \n",
       "1    Other Organization         Health Care Services & Hospitals  salary   \n",
       "2     Company - Private                        Security Services  salary   \n",
       "3            Government                                   Energy  salary   \n",
       "4     Company - Private                  Advertising & Marketing  salary   \n",
       "..                  ...                                      ...     ...   \n",
       "462    Company - Public  Enterprise Software & Network Solutions  salary   \n",
       "463   Company - Private                              IT Services  salary   \n",
       "464   Company - Private                Biotech & Pharmaceuticals  salary   \n",
       "465   Company - Private                           K-12 Education  salary   \n",
       "466   Company - Private                                 Internet  salary   \n",
       "\n",
       "     min_salary  max_salary  avg_salary job_state same_state python_yn  \\\n",
       "0         53000       91000     72000.0        NM    distant      Used   \n",
       "1         63000      112000     87500.0        MD    distant      Used   \n",
       "2         80000       90000     85000.0        FL      local      Used   \n",
       "3         56000       97000     76500.0        WA      local      Used   \n",
       "4         86000      143000    114500.0        NY      local      Used   \n",
       "..          ...         ...         ...       ...        ...       ...   \n",
       "462       63000      110000     86500.0        NY      local    Unused   \n",
       "463       65000      113000     89000.0        WA    distant    Unused   \n",
       "464       59000      125000     92000.0        CA    distant    Unused   \n",
       "465       80000      142000    111000.0        CA      local      Used   \n",
       "466       62000      113000     87500.0        CA      local      Used   \n",
       "\n",
       "       R_yn   spark     aws   excel  \n",
       "0    Unused  Unused  Unused    Used  \n",
       "1    Unused  Unused  Unused  Unused  \n",
       "2    Unused    Used  Unused    Used  \n",
       "3    Unused  Unused  Unused  Unused  \n",
       "4    Unused  Unused  Unused    Used  \n",
       "..      ...     ...     ...     ...  \n",
       "462  Unused  Unused    Used    Used  \n",
       "463  Unused  Unused  Unused  Unused  \n",
       "464  Unused  Unused    Used    Used  \n",
       "465  Unused  Unused    Used    Used  \n",
       "466  Unused  Unused    Used    Used  \n",
       "\n",
       "[459 rows x 18 columns]"
      ]
     },
     "execution_count": 19,
     "metadata": {},
     "output_type": "execute_result"
    }
   ],
   "source": [
    "ds"
   ]
  },
  {
   "cell_type": "markdown",
   "metadata": {
    "id": "VJogPfU-G9IJ"
   },
   "source": [
    "After reviewing 'ds,' I recommend a detailed analysis of the following: `Type of ownership`, `Industry`, skills used, `Ratings`, and the salary ranges.\n",
    "\n",
    "The remaining columns, while valuable, are less relevant to my needs. For example:\n",
    "- I work remotely, so the job's location is irrelevant.\n",
    "- Job titles can vary for the same position."
   ]
  },
  {
   "cell_type": "markdown",
   "metadata": {
    "id": "YP9FlOMoG9IJ"
   },
   "source": [
    "### 4.2 Column Inspects"
   ]
  },
  {
   "cell_type": "markdown",
   "metadata": {
    "id": "TkMhYzMwG9IJ"
   },
   "source": [
    "To prevent any unforeseen issues, it is advisable to closely examine each column of interest, excluding two types:\n",
    "- Columns with binary values\n",
    "- Columns with numerical values"
   ]
  },
  {
   "cell_type": "code",
   "execution_count": 20,
   "metadata": {
    "colab": {
     "base_uri": "https://localhost:8080/"
    },
    "id": "0VgExGyLG9IK",
    "outputId": "b1157bd7-98df-47ec-9f81-7b1ee4750037"
   },
   "outputs": [
    {
     "data": {
      "text/plain": [
       "array(['Company - Private', 'Other Organization', 'Government',\n",
       "       'Company - Public', 'Hospital', 'Subsidiary or Business Segment',\n",
       "       'Nonprofit Organization', 'Unknown', 'College / University',\n",
       "       'School / School District'], dtype=object)"
      ]
     },
     "execution_count": 20,
     "metadata": {},
     "output_type": "execute_result"
    }
   ],
   "source": [
    "ds['Type of ownership'].unique()"
   ]
  },
  {
   "cell_type": "markdown",
   "metadata": {
    "id": "6KN_3DDyG9IK"
   },
   "source": [
    "All values for the 'Type of ownership' appear to be straightforward."
   ]
  },
  {
   "cell_type": "code",
   "execution_count": 21,
   "metadata": {
    "colab": {
     "base_uri": "https://localhost:8080/"
    },
    "id": "psa1NvR5G9IK",
    "outputId": "b23166b3-c52c-4190-aa0c-4b7181daee4c"
   },
   "outputs": [
    {
     "data": {
      "text/plain": [
       "array(['Aerospace & Defense', 'Health Care Services & Hospitals',\n",
       "       'Security Services', 'Energy', 'Advertising & Marketing',\n",
       "       'Real Estate', 'Banks & Credit Unions', 'Consulting', 'Internet',\n",
       "       'Other Retail Stores', 'Research & Development',\n",
       "       'Department, Clothing, & Shoe Stores', 'Biotech & Pharmaceuticals',\n",
       "       'Motion Picture Production & Distribution',\n",
       "       'Enterprise Software & Network Solutions', 'Insurance Carriers',\n",
       "       'Insurance Agencies & Brokerages', 'Logistics & Supply Chain',\n",
       "       'Telecommunications Services', 'IT Services',\n",
       "       'Computer Hardware & Software', 'Consumer Products Manufacturing',\n",
       "       'Industrial Manufacturing', 'Metals Brokers',\n",
       "       'Financial Transaction Processing', 'Sporting Goods Stores',\n",
       "       'Staffing & Outsourcing', 'Wholesale', 'Mining',\n",
       "       'Financial Analytics & Research', 'Federal Agencies',\n",
       "       'Education Training Services',\n",
       "       'Transportation Equipment Manufacturing', 'Farm Support Services',\n",
       "       'TV Broadcast & Cable Networks',\n",
       "       'Architectural & Engineering Services', 'Brokerage Services',\n",
       "       'Travel Agencies', 'Religious Organizations',\n",
       "       'Colleges & Universities', 'Investment Banking & Asset Management',\n",
       "       'Lending', 'Gambling', 'Food & Beverage Manufacturing',\n",
       "       'Gas Stations', 'Transportation Management', 'Video Games',\n",
       "       'Trucking', 'Social Assistance', 'Auctions & Galleries',\n",
       "       'K-12 Education', 'Telecommunications Manufacturing',\n",
       "       'Stock Exchanges', 'Construction', 'Accounting',\n",
       "       'Health Care Products Manufacturing', 'Health, Beauty, & Fitness',\n",
       "       'Consumer Product Rental', 'Beauty & Personal Accessories Stores'],\n",
       "      dtype=object)"
      ]
     },
     "execution_count": 21,
     "metadata": {},
     "output_type": "execute_result"
    }
   ],
   "source": [
    "ds['Industry'].unique()"
   ]
  },
  {
   "cell_type": "markdown",
   "metadata": {
    "id": "AMLPelkPG9IK"
   },
   "source": [
    "The 'Industry' column contains numerous values, many of which are not of interest. Therefore, it would be most beneficial to focus on industries in which I have the most experience."
   ]
  },
  {
   "cell_type": "code",
   "execution_count": 22,
   "metadata": {
    "id": "etj8XNFLG9IK"
   },
   "outputs": [],
   "source": [
    "# Created a list of the industries im interested in\n",
    "industries = [\n",
    "    'Computer Hardware & Software', 'Construction', 'Consulting', 'Consumer Products Manufacturing', 'Financial Analytics & Research', 'Insurance Carriers', 'Other Retail Stores', 'Staffing & Outsourcing', 'Video Games'\n",
    "]\n",
    "\n",
    "# set a dataframe to only show the rows that include the `industries`\n",
    "industry = ds[ds['Industry'].isin(industries)]"
   ]
  },
  {
   "cell_type": "markdown",
   "metadata": {
    "id": "EBRVLSrkG9IK"
   },
   "source": [
    "The `industries` list includes all the industries I am familiar with, either professionally or through personal interest. Using this list, I created `industry`, which contains only the rows from `ds` that match any values listed in `industries`."
   ]
  },
  {
   "cell_type": "markdown",
   "metadata": {
    "id": "pA3jAH2DG9IK"
   },
   "source": [
    "### 4.3 Reformating Skill Usage Statistics"
   ]
  },
  {
   "cell_type": "markdown",
   "metadata": {
    "id": "1NqQyIuBG9IK"
   },
   "source": [
    "We could use `ds` as it is for the skills used, but that wouldn't be very beneficial. We would either end up with single-row data frames or a data frame with rows showing all the different combinations of skills used. Instead, we only want one dataframe showing each skill used with the associated data."
   ]
  },
  {
   "cell_type": "code",
   "execution_count": 23,
   "metadata": {
    "id": "x0kWpGJkG9IK"
   },
   "outputs": [],
   "source": [
    "ds_melted = ds.melt(\n",
    "    id_vars=[\"Job Title\", \"Rating\", \"Company Name\", \"Size\", \"Industry\", \"hourly\", \"min_salary\", \"max_salary\", \"avg_salary\", \"job_state\", \"same_state\"],\n",
    "    value_vars=[\"python_yn\", \"R_yn\", \"spark\", \"aws\", \"excel\"], var_name=\"skill\",\n",
    "    value_name=\"required\"\n",
    ")"
   ]
  },
  {
   "cell_type": "markdown",
   "metadata": {
    "id": "8vaMV-PIG9IK"
   },
   "source": [
    "Now, `ds` is restructured into `ds_melt` by converting the specified columns into rows and creating two new columns. This expands the DataFrame to better display the skills required for each job listing."
   ]
  },
  {
   "cell_type": "code",
   "execution_count": 24,
   "metadata": {
    "id": "leFjmV-YG9IK"
   },
   "outputs": [],
   "source": [
    "ds_melted = ds_melted[ds_melted['required'] == 'Used']"
   ]
  },
  {
   "cell_type": "markdown",
   "metadata": {
    "id": "3SU7irYtG9IL"
   },
   "source": [
    "Now we have `ds_melt`, focusing specifically on the skills being used.\n",
    "\n",
    "Now we can perform the same process as we did in the previous section, using the `groupby()` function."
   ]
  },
  {
   "cell_type": "code",
   "execution_count": 25,
   "metadata": {
    "colab": {
     "base_uri": "https://localhost:8080/",
     "height": 206
    },
    "id": "Lcw43AcHG9IL",
    "outputId": "2b405eb0-1813-454d-dd16-db77898e1146"
   },
   "outputs": [
    {
     "data": {
      "text/html": [
       "<div>\n",
       "<style scoped>\n",
       "    .dataframe tbody tr th:only-of-type {\n",
       "        vertical-align: middle;\n",
       "    }\n",
       "\n",
       "    .dataframe tbody tr th {\n",
       "        vertical-align: top;\n",
       "    }\n",
       "\n",
       "    .dataframe thead th {\n",
       "        text-align: right;\n",
       "    }\n",
       "</style>\n",
       "<table border=\"1\" class=\"dataframe\">\n",
       "  <thead>\n",
       "    <tr style=\"text-align: right;\">\n",
       "      <th></th>\n",
       "      <th>skill</th>\n",
       "      <th>required</th>\n",
       "      <th>avg_salary</th>\n",
       "      <th>total</th>\n",
       "    </tr>\n",
       "  </thead>\n",
       "  <tbody>\n",
       "    <tr>\n",
       "      <th>0</th>\n",
       "      <td>R_yn</td>\n",
       "      <td>Used</td>\n",
       "      <td>70750.0</td>\n",
       "      <td>2</td>\n",
       "    </tr>\n",
       "    <tr>\n",
       "      <th>1</th>\n",
       "      <td>aws</td>\n",
       "      <td>Used</td>\n",
       "      <td>109327.0</td>\n",
       "      <td>110</td>\n",
       "    </tr>\n",
       "    <tr>\n",
       "      <th>2</th>\n",
       "      <td>excel</td>\n",
       "      <td>Used</td>\n",
       "      <td>98045.0</td>\n",
       "      <td>245</td>\n",
       "    </tr>\n",
       "    <tr>\n",
       "      <th>3</th>\n",
       "      <td>python_yn</td>\n",
       "      <td>Used</td>\n",
       "      <td>110053.0</td>\n",
       "      <td>257</td>\n",
       "    </tr>\n",
       "    <tr>\n",
       "      <th>4</th>\n",
       "      <td>spark</td>\n",
       "      <td>Used</td>\n",
       "      <td>110950.0</td>\n",
       "      <td>111</td>\n",
       "    </tr>\n",
       "  </tbody>\n",
       "</table>\n",
       "</div>"
      ],
      "text/plain": [
       "       skill required  avg_salary  total\n",
       "0       R_yn     Used     70750.0      2\n",
       "1        aws     Used    109327.0    110\n",
       "2      excel     Used     98045.0    245\n",
       "3  python_yn     Used    110053.0    257\n",
       "4      spark     Used    110950.0    111"
      ]
     },
     "execution_count": 25,
     "metadata": {},
     "output_type": "execute_result"
    }
   ],
   "source": [
    "# Group by the skills and their usage status\n",
    "skill_stats = ds_melted.groupby(['skill', 'required']).agg({'avg_salary': 'mean', 'Job Title': 'count'}).round().reset_index()\n",
    "skill_stats = skill_stats.rename(columns={'Job Title': 'total'})\n",
    "skill_stats"
   ]
  },
  {
   "cell_type": "markdown",
   "metadata": {
    "id": "WbYGas3dG9IL"
   },
   "source": [
    "Unlike the other points of interest, where we focused on salary, with `skill_stats`, our primary interest is in the usage of each skill."
   ]
  },
  {
   "cell_type": "markdown",
   "metadata": {
    "id": "SJbyjgPkG9IL"
   },
   "source": [
    "## 5 Job analysis"
   ]
  },
  {
   "cell_type": "markdown",
   "metadata": {
    "id": "Sw3etaEMG9IL"
   },
   "source": [
    "### 5.1 `Type of ownership`"
   ]
  },
  {
   "cell_type": "markdown",
   "metadata": {
    "id": "5OPFyqDgG9IL"
   },
   "source": [
    "First, I will examine the different types of ownership and their relationship with salary."
   ]
  },
  {
   "cell_type": "code",
   "execution_count": 26,
   "metadata": {
    "colab": {
     "base_uri": "https://localhost:8080/",
     "height": 542
    },
    "id": "WLawE0piG9IL",
    "outputId": "4a9f5b51-5748-418a-e780-5cc3b2a993dd"
   },
   "outputs": [
    {
     "data": {
      "application/vnd.plotly.v1+json": {
       "config": {
        "plotlyServerURL": "https://plot.ly"
       },
       "data": [
        {
         "alignmentgroup": "True",
         "hovertemplate": "Type of Ownership=%{x}<br>Average Salary=%{y}<extra></extra>",
         "legendgroup": "",
         "marker": {
          "color": "#636efa"
         },
         "name": "",
         "notched": false,
         "offsetgroup": "",
         "orientation": "v",
         "showlegend": false,
         "type": "box",
         "x": [
          "Company - Private",
          "Other Organization",
          "Company - Private",
          "Government",
          "Company - Private",
          "Company - Public",
          "Company - Private",
          "Company - Private",
          "Hospital",
          "Company - Private",
          "Company - Private",
          "Company - Public",
          "Company - Public",
          "Company - Private",
          "Company - Public",
          "Subsidiary or Business Segment",
          "Company - Public",
          "Company - Private",
          "Company - Private",
          "Nonprofit Organization",
          "Company - Private",
          "Company - Private",
          "Company - Private",
          "Nonprofit Organization",
          "Company - Private",
          "Company - Public",
          "Company - Private",
          "Company - Public",
          "Company - Public",
          "Company - Private",
          "Company - Public",
          "Company - Public",
          "Company - Private",
          "Company - Private",
          "Company - Private",
          "Company - Private",
          "Company - Public",
          "Company - Private",
          "Company - Private",
          "Company - Private",
          "Company - Public",
          "Company - Public",
          "Company - Private",
          "Company - Public",
          "Company - Private",
          "Company - Private",
          "Company - Public",
          "Subsidiary or Business Segment",
          "Company - Private",
          "Company - Private",
          "Company - Public",
          "Company - Public",
          "Company - Public",
          "Company - Private",
          "Company - Private",
          "Subsidiary or Business Segment",
          "Company - Private",
          "Company - Public",
          "Government",
          "Company - Public",
          "Company - Private",
          "Company - Private",
          "Company - Public",
          "Company - Private",
          "Company - Public",
          "Company - Private",
          "Company - Public",
          "Subsidiary or Business Segment",
          "Company - Private",
          "Company - Private",
          "Company - Public",
          "Company - Private",
          "Company - Private",
          "Company - Private",
          "Company - Private",
          "Company - Private",
          "Company - Private",
          "Nonprofit Organization",
          "Company - Private",
          "Company - Private",
          "Company - Private",
          "Company - Private",
          "Company - Private",
          "Company - Private",
          "Company - Public",
          "Company - Public",
          "Company - Private",
          "Company - Private",
          "Subsidiary or Business Segment",
          "Nonprofit Organization",
          "Company - Private",
          "Company - Private",
          "Company - Private",
          "Company - Private",
          "Company - Private",
          "Subsidiary or Business Segment",
          "Company - Private",
          "Company - Private",
          "Company - Public",
          "Company - Private",
          "Company - Private",
          "Hospital",
          "Company - Private",
          "Company - Private",
          "Company - Private",
          "Company - Public",
          "Company - Private",
          "Company - Private",
          "Company - Private",
          "Nonprofit Organization",
          "Company - Private",
          "Company - Private",
          "Company - Public",
          "Company - Private",
          "Company - Public",
          "Company - Private",
          "Unknown",
          "Company - Private",
          "Company - Private",
          "Company - Public",
          "Company - Private",
          "Company - Private",
          "Company - Private",
          "Company - Private",
          "Company - Public",
          "Company - Private",
          "Company - Private",
          "Company - Private",
          "Company - Private",
          "Company - Private",
          "Nonprofit Organization",
          "Company - Private",
          "College / University",
          "Government",
          "Company - Private",
          "Company - Private",
          "Company - Private",
          "Nonprofit Organization",
          "Government",
          "Company - Private",
          "Company - Private",
          "Company - Private",
          "Company - Public",
          "Company - Private",
          "Subsidiary or Business Segment",
          "Company - Public",
          "Company - Public",
          "Company - Private",
          "Company - Public",
          "Nonprofit Organization",
          "Company - Private",
          "Nonprofit Organization",
          "Nonprofit Organization",
          "Government",
          "Company - Public",
          "Company - Public",
          "Company - Private",
          "Company - Public",
          "Subsidiary or Business Segment",
          "Company - Public",
          "Company - Private",
          "Company - Public",
          "Company - Private",
          "Nonprofit Organization",
          "Company - Public",
          "Company - Public",
          "Company - Private",
          "College / University",
          "Company - Public",
          "Company - Private",
          "Company - Private",
          "Company - Public",
          "Company - Public",
          "Company - Private",
          "Company - Private",
          "Company - Private",
          "Hospital",
          "Company - Private",
          "Company - Public",
          "Company - Private",
          "Hospital",
          "Company - Private",
          "Company - Private",
          "Hospital",
          "Company - Private",
          "College / University",
          "Nonprofit Organization",
          "Company - Private",
          "Nonprofit Organization",
          "Company - Private",
          "Company - Private",
          "Company - Public",
          "Company - Public",
          "Company - Private",
          "Company - Private",
          "Government",
          "Subsidiary or Business Segment",
          "Company - Private",
          "Company - Public",
          "Nonprofit Organization",
          "Company - Private",
          "Nonprofit Organization",
          "Company - Private",
          "Company - Private",
          "Company - Private",
          "Company - Private",
          "Company - Private",
          "Company - Public",
          "Company - Private",
          "Company - Public",
          "Company - Private",
          "Company - Private",
          "Company - Private",
          "Subsidiary or Business Segment",
          "Nonprofit Organization",
          "Nonprofit Organization",
          "Nonprofit Organization",
          "Company - Private",
          "Company - Private",
          "Company - Public",
          "Company - Private",
          "Company - Private",
          "Company - Private",
          "Company - Private",
          "Company - Public",
          "Company - Public",
          "Company - Private",
          "Company - Public",
          "Company - Public",
          "Company - Public",
          "Company - Public",
          "Company - Private",
          "Company - Private",
          "Company - Private",
          "Company - Private",
          "Company - Public",
          "Company - Public",
          "Company - Private",
          "Subsidiary or Business Segment",
          "Company - Private",
          "Subsidiary or Business Segment",
          "Company - Public",
          "Company - Public",
          "Company - Public",
          "Nonprofit Organization",
          "Company - Private",
          "Subsidiary or Business Segment",
          "Company - Public",
          "Government",
          "Company - Private",
          "Company - Private",
          "Company - Private",
          "Company - Public",
          "Company - Private",
          "Company - Private",
          "Company - Private",
          "Company - Public",
          "Company - Private",
          "Nonprofit Organization",
          "Company - Private",
          "Company - Private",
          "Company - Public",
          "Company - Private",
          "Company - Private",
          "Company - Public",
          "Company - Private",
          "Company - Private",
          "Company - Public",
          "Company - Private",
          "Company - Public",
          "Company - Public",
          "Company - Private",
          "Hospital",
          "Company - Public",
          "Nonprofit Organization",
          "Company - Private",
          "Company - Private",
          "Company - Private",
          "Subsidiary or Business Segment",
          "Company - Private",
          "Company - Private",
          "Company - Private",
          "Company - Public",
          "Nonprofit Organization",
          "Company - Private",
          "Company - Private",
          "Company - Private",
          "Company - Private",
          "Company - Private",
          "Company - Private",
          "Company - Private",
          "College / University",
          "Company - Private",
          "Company - Public",
          "Company - Public",
          "Company - Private",
          "Company - Private",
          "Company - Private",
          "Company - Private",
          "Company - Private",
          "Company - Private",
          "Company - Private",
          "Company - Public",
          "Company - Private",
          "Company - Private",
          "Company - Private",
          "Company - Private",
          "Company - Private",
          "Company - Private",
          "Company - Public",
          "Company - Private",
          "Company - Private",
          "Company - Private",
          "Company - Private",
          "Company - Public",
          "Subsidiary or Business Segment",
          "Government",
          "Company - Private",
          "Company - Public",
          "Company - Private",
          "Company - Private",
          "Government",
          "Nonprofit Organization",
          "Company - Public",
          "Company - Private",
          "Nonprofit Organization",
          "College / University",
          "Company - Private",
          "Company - Public",
          "Nonprofit Organization",
          "Company - Private",
          "Other Organization",
          "Company - Public",
          "Company - Private",
          "Company - Private",
          "Company - Private",
          "Company - Private",
          "Company - Public",
          "Subsidiary or Business Segment",
          "Company - Private",
          "Company - Public",
          "Company - Private",
          "Company - Private",
          "Company - Public",
          "Subsidiary or Business Segment",
          "Company - Private",
          "Subsidiary or Business Segment",
          "Company - Private",
          "Company - Private",
          "Company - Private",
          "Company - Private",
          "Company - Private",
          "Company - Public",
          "Subsidiary or Business Segment",
          "Company - Public",
          "Company - Private",
          "Company - Private",
          "Company - Private",
          "Company - Private",
          "Company - Public",
          "Company - Private",
          "Company - Private",
          "Company - Public",
          "Company - Public",
          "Company - Private",
          "School / School District",
          "Company - Private",
          "Company - Private",
          "Company - Public",
          "Company - Public",
          "Company - Private",
          "Company - Private",
          "Company - Private",
          "Company - Public",
          "Company - Private",
          "Company - Private",
          "Company - Public",
          "Nonprofit Organization",
          "Company - Private",
          "Company - Private",
          "Subsidiary or Business Segment",
          "Company - Public",
          "Company - Private",
          "Nonprofit Organization",
          "Company - Public",
          "Company - Public",
          "Company - Private",
          "Company - Public",
          "Company - Private",
          "Company - Public",
          "Company - Public",
          "Company - Private",
          "Company - Private",
          "Company - Public",
          "Company - Public",
          "Subsidiary or Business Segment",
          "Company - Private",
          "Company - Private",
          "Company - Public",
          "Company - Public",
          "Company - Private",
          "Company - Public",
          "Company - Public",
          "Nonprofit Organization",
          "Company - Private",
          "Nonprofit Organization",
          "Company - Private",
          "Subsidiary or Business Segment",
          "Company - Private",
          "Company - Private",
          "Company - Private",
          "Company - Public",
          "Company - Private",
          "Company - Public",
          "Company - Private",
          "Company - Private",
          "Company - Private",
          "Company - Private",
          "Company - Private",
          "Company - Public",
          "Company - Public",
          "Company - Private",
          "Company - Public",
          "Company - Public",
          "Company - Public",
          "Company - Private",
          "Company - Private",
          "Company - Private",
          "Company - Public",
          "Nonprofit Organization",
          "Company - Private",
          "Subsidiary or Business Segment",
          "Company - Private",
          "Subsidiary or Business Segment",
          "College / University",
          "Nonprofit Organization",
          "Company - Private",
          "Company - Private",
          "Company - Public",
          "Company - Private",
          "Company - Private",
          "Company - Public",
          "Company - Public",
          "Company - Private",
          "Company - Private",
          "Company - Public",
          "Company - Private",
          "School / School District",
          "Company - Private",
          "Company - Private",
          "Company - Private",
          "Subsidiary or Business Segment",
          "Nonprofit Organization",
          "Company - Private",
          "Company - Public",
          "Company - Private",
          "Company - Private",
          "Company - Private",
          "Company - Private"
         ],
         "x0": " ",
         "xaxis": "x",
         "y": [
          72000,
          87500,
          85000,
          76500,
          114500,
          95000,
          73500,
          114000,
          61000,
          140000,
          163500,
          85000,
          139000,
          65500,
          113500,
          146000,
          102000,
          153500,
          142500,
          87500,
          105500,
          96000,
          112500,
          84000,
          143000,
          86500,
          99500,
          47500,
          84000,
          96000,
          114500,
          121000,
          112500,
          106000,
          107000,
          110000,
          147500,
          106000,
          88000,
          142500,
          82500,
          130000,
          155000,
          184500,
          29500,
          86500,
          81000,
          91000,
          114500,
          68000,
          115000,
          109500,
          75500,
          154500,
          143500,
          107000,
          115000,
          139500,
          67000,
          85000,
          118000,
          79500,
          56500,
          128500,
          97500,
          66500,
          179500,
          76000,
          112000,
          98000,
          128000,
          150500,
          87500,
          110000,
          113500,
          124000,
          56500,
          130000,
          77500,
          87000,
          53500,
          85500,
          48000,
          48000,
          174000,
          85000,
          106500,
          72500,
          85500,
          97500,
          99000,
          56500,
          133000,
          121000,
          85500,
          87500,
          237500,
          95500,
          104500,
          56500,
          55000,
          61500,
          157000,
          78000,
          132500,
          108000,
          80500,
          107500,
          95000,
          119500,
          134000,
          100500,
          107500,
          122000,
          92500,
          62000,
          39500,
          107500,
          40500,
          89500,
          81000,
          147000,
          85000,
          81500,
          168000,
          100500,
          97000,
          132500,
          100000,
          105000,
          87000,
          103500,
          124000,
          67000,
          87000,
          137500,
          100000,
          106500,
          98500,
          61000,
          106500,
          84500,
          109500,
          164000,
          169000,
          142000,
          76500,
          107000,
          171500,
          107000,
          145000,
          61500,
          20500,
          120000,
          62000,
          150500,
          87500,
          71500,
          51500,
          151500,
          77500,
          140000,
          98500,
          27500,
          161500,
          147000,
          61000,
          120000,
          124500,
          148000,
          59000,
          146500,
          91500,
          133000,
          140500,
          70500,
          84500,
          93500,
          134500,
          181000,
          84500,
          205000,
          48500,
          21500,
          52500,
          124000,
          64000,
          98000,
          27500,
          54000,
          81000,
          107500,
          89000,
          100500,
          65000,
          20000,
          72500,
          87500,
          92500,
          81500,
          79000,
          47500,
          69000,
          49000,
          59000,
          88500,
          114500,
          88000,
          100000,
          96500,
          76000,
          15500,
          83500,
          163000,
          100000,
          52500,
          50000,
          93000,
          94500,
          102000,
          155000,
          108000,
          63500,
          109000,
          96000,
          101000,
          77500,
          90000,
          58000,
          128000,
          101000,
          142000,
          169000,
          52500,
          75500,
          139000,
          102500,
          60500,
          125000,
          81000,
          77000,
          92000,
          121000,
          162500,
          60000,
          90500,
          110000,
          70500,
          76500,
          92000,
          82000,
          164500,
          44000,
          109000,
          149500,
          65500,
          124500,
          114000,
          49000,
          71000,
          101000,
          61000,
          103500,
          63000,
          62500,
          94500,
          154500,
          87000,
          64500,
          111500,
          154500,
          128500,
          31500,
          137000,
          99000,
          139500,
          109000,
          254000,
          73000,
          99500,
          45500,
          122500,
          140000,
          77500,
          26500,
          117500,
          70500,
          61500,
          70000,
          80000,
          90000,
          73500,
          129500,
          167500,
          60000,
          180000,
          65000,
          112500,
          87500,
          51500,
          51000,
          62500,
          100000,
          85000,
          122000,
          66500,
          70500,
          138500,
          107500,
          120500,
          81000,
          103500,
          162000,
          68500,
          110500,
          115500,
          80500,
          43000,
          140000,
          66500,
          94500,
          119000,
          25000,
          13500,
          194500,
          71500,
          105500,
          74000,
          62500,
          65500,
          161500,
          72500,
          139000,
          136500,
          74500,
          80500,
          101000,
          116500,
          232500,
          120500,
          153000,
          127000,
          85500,
          76500,
          128000,
          91500,
          177000,
          107000,
          154500,
          113500,
          143500,
          113500,
          101500,
          73000,
          80500,
          139500,
          145500,
          87000,
          100500,
          147000,
          110500,
          94000,
          123500,
          73000,
          165000,
          59500,
          66000,
          75500,
          87000,
          140000,
          86000,
          116500,
          80000,
          173000,
          68500,
          172000,
          95000,
          69500,
          97500,
          95000,
          194000,
          104500,
          85500,
          50000,
          113000,
          90500,
          153000,
          123500,
          47000,
          162000,
          133500,
          109000,
          125000,
          106500,
          54000,
          37500,
          53500,
          168000,
          138500,
          111500,
          68500,
          84500,
          102500,
          93500,
          127500,
          72000,
          47000,
          65000,
          94000,
          97000,
          91500,
          114500,
          74000,
          121000,
          121500,
          60500,
          118500,
          58500,
          63500,
          107000,
          105500,
          83000,
          87500,
          172000,
          100000,
          221500,
          95500,
          173000,
          147500,
          81000,
          83000,
          121000,
          85500,
          167500,
          107500,
          44500,
          107500,
          69500,
          98500,
          80500,
          37000,
          99000,
          96500,
          53000,
          103000,
          92000,
          114000,
          96000,
          96500,
          69500,
          121000,
          103000,
          106500,
          130000,
          86500,
          89000,
          92000,
          111000,
          87500
         ],
         "y0": " ",
         "yaxis": "y"
        }
       ],
       "layout": {
        "boxmode": "group",
        "legend": {
         "tracegroupgap": 0
        },
        "template": {
         "data": {
          "bar": [
           {
            "error_x": {
             "color": "#2a3f5f"
            },
            "error_y": {
             "color": "#2a3f5f"
            },
            "marker": {
             "line": {
              "color": "#E5ECF6",
              "width": 0.5
             },
             "pattern": {
              "fillmode": "overlay",
              "size": 10,
              "solidity": 0.2
             }
            },
            "type": "bar"
           }
          ],
          "barpolar": [
           {
            "marker": {
             "line": {
              "color": "#E5ECF6",
              "width": 0.5
             },
             "pattern": {
              "fillmode": "overlay",
              "size": 10,
              "solidity": 0.2
             }
            },
            "type": "barpolar"
           }
          ],
          "carpet": [
           {
            "aaxis": {
             "endlinecolor": "#2a3f5f",
             "gridcolor": "white",
             "linecolor": "white",
             "minorgridcolor": "white",
             "startlinecolor": "#2a3f5f"
            },
            "baxis": {
             "endlinecolor": "#2a3f5f",
             "gridcolor": "white",
             "linecolor": "white",
             "minorgridcolor": "white",
             "startlinecolor": "#2a3f5f"
            },
            "type": "carpet"
           }
          ],
          "choropleth": [
           {
            "colorbar": {
             "outlinewidth": 0,
             "ticks": ""
            },
            "type": "choropleth"
           }
          ],
          "contour": [
           {
            "colorbar": {
             "outlinewidth": 0,
             "ticks": ""
            },
            "colorscale": [
             [
              0,
              "#0d0887"
             ],
             [
              0.1111111111111111,
              "#46039f"
             ],
             [
              0.2222222222222222,
              "#7201a8"
             ],
             [
              0.3333333333333333,
              "#9c179e"
             ],
             [
              0.4444444444444444,
              "#bd3786"
             ],
             [
              0.5555555555555556,
              "#d8576b"
             ],
             [
              0.6666666666666666,
              "#ed7953"
             ],
             [
              0.7777777777777778,
              "#fb9f3a"
             ],
             [
              0.8888888888888888,
              "#fdca26"
             ],
             [
              1,
              "#f0f921"
             ]
            ],
            "type": "contour"
           }
          ],
          "contourcarpet": [
           {
            "colorbar": {
             "outlinewidth": 0,
             "ticks": ""
            },
            "type": "contourcarpet"
           }
          ],
          "heatmap": [
           {
            "colorbar": {
             "outlinewidth": 0,
             "ticks": ""
            },
            "colorscale": [
             [
              0,
              "#0d0887"
             ],
             [
              0.1111111111111111,
              "#46039f"
             ],
             [
              0.2222222222222222,
              "#7201a8"
             ],
             [
              0.3333333333333333,
              "#9c179e"
             ],
             [
              0.4444444444444444,
              "#bd3786"
             ],
             [
              0.5555555555555556,
              "#d8576b"
             ],
             [
              0.6666666666666666,
              "#ed7953"
             ],
             [
              0.7777777777777778,
              "#fb9f3a"
             ],
             [
              0.8888888888888888,
              "#fdca26"
             ],
             [
              1,
              "#f0f921"
             ]
            ],
            "type": "heatmap"
           }
          ],
          "heatmapgl": [
           {
            "colorbar": {
             "outlinewidth": 0,
             "ticks": ""
            },
            "colorscale": [
             [
              0,
              "#0d0887"
             ],
             [
              0.1111111111111111,
              "#46039f"
             ],
             [
              0.2222222222222222,
              "#7201a8"
             ],
             [
              0.3333333333333333,
              "#9c179e"
             ],
             [
              0.4444444444444444,
              "#bd3786"
             ],
             [
              0.5555555555555556,
              "#d8576b"
             ],
             [
              0.6666666666666666,
              "#ed7953"
             ],
             [
              0.7777777777777778,
              "#fb9f3a"
             ],
             [
              0.8888888888888888,
              "#fdca26"
             ],
             [
              1,
              "#f0f921"
             ]
            ],
            "type": "heatmapgl"
           }
          ],
          "histogram": [
           {
            "marker": {
             "pattern": {
              "fillmode": "overlay",
              "size": 10,
              "solidity": 0.2
             }
            },
            "type": "histogram"
           }
          ],
          "histogram2d": [
           {
            "colorbar": {
             "outlinewidth": 0,
             "ticks": ""
            },
            "colorscale": [
             [
              0,
              "#0d0887"
             ],
             [
              0.1111111111111111,
              "#46039f"
             ],
             [
              0.2222222222222222,
              "#7201a8"
             ],
             [
              0.3333333333333333,
              "#9c179e"
             ],
             [
              0.4444444444444444,
              "#bd3786"
             ],
             [
              0.5555555555555556,
              "#d8576b"
             ],
             [
              0.6666666666666666,
              "#ed7953"
             ],
             [
              0.7777777777777778,
              "#fb9f3a"
             ],
             [
              0.8888888888888888,
              "#fdca26"
             ],
             [
              1,
              "#f0f921"
             ]
            ],
            "type": "histogram2d"
           }
          ],
          "histogram2dcontour": [
           {
            "colorbar": {
             "outlinewidth": 0,
             "ticks": ""
            },
            "colorscale": [
             [
              0,
              "#0d0887"
             ],
             [
              0.1111111111111111,
              "#46039f"
             ],
             [
              0.2222222222222222,
              "#7201a8"
             ],
             [
              0.3333333333333333,
              "#9c179e"
             ],
             [
              0.4444444444444444,
              "#bd3786"
             ],
             [
              0.5555555555555556,
              "#d8576b"
             ],
             [
              0.6666666666666666,
              "#ed7953"
             ],
             [
              0.7777777777777778,
              "#fb9f3a"
             ],
             [
              0.8888888888888888,
              "#fdca26"
             ],
             [
              1,
              "#f0f921"
             ]
            ],
            "type": "histogram2dcontour"
           }
          ],
          "mesh3d": [
           {
            "colorbar": {
             "outlinewidth": 0,
             "ticks": ""
            },
            "type": "mesh3d"
           }
          ],
          "parcoords": [
           {
            "line": {
             "colorbar": {
              "outlinewidth": 0,
              "ticks": ""
             }
            },
            "type": "parcoords"
           }
          ],
          "pie": [
           {
            "automargin": true,
            "type": "pie"
           }
          ],
          "scatter": [
           {
            "fillpattern": {
             "fillmode": "overlay",
             "size": 10,
             "solidity": 0.2
            },
            "type": "scatter"
           }
          ],
          "scatter3d": [
           {
            "line": {
             "colorbar": {
              "outlinewidth": 0,
              "ticks": ""
             }
            },
            "marker": {
             "colorbar": {
              "outlinewidth": 0,
              "ticks": ""
             }
            },
            "type": "scatter3d"
           }
          ],
          "scattercarpet": [
           {
            "marker": {
             "colorbar": {
              "outlinewidth": 0,
              "ticks": ""
             }
            },
            "type": "scattercarpet"
           }
          ],
          "scattergeo": [
           {
            "marker": {
             "colorbar": {
              "outlinewidth": 0,
              "ticks": ""
             }
            },
            "type": "scattergeo"
           }
          ],
          "scattergl": [
           {
            "marker": {
             "colorbar": {
              "outlinewidth": 0,
              "ticks": ""
             }
            },
            "type": "scattergl"
           }
          ],
          "scattermapbox": [
           {
            "marker": {
             "colorbar": {
              "outlinewidth": 0,
              "ticks": ""
             }
            },
            "type": "scattermapbox"
           }
          ],
          "scatterpolar": [
           {
            "marker": {
             "colorbar": {
              "outlinewidth": 0,
              "ticks": ""
             }
            },
            "type": "scatterpolar"
           }
          ],
          "scatterpolargl": [
           {
            "marker": {
             "colorbar": {
              "outlinewidth": 0,
              "ticks": ""
             }
            },
            "type": "scatterpolargl"
           }
          ],
          "scatterternary": [
           {
            "marker": {
             "colorbar": {
              "outlinewidth": 0,
              "ticks": ""
             }
            },
            "type": "scatterternary"
           }
          ],
          "surface": [
           {
            "colorbar": {
             "outlinewidth": 0,
             "ticks": ""
            },
            "colorscale": [
             [
              0,
              "#0d0887"
             ],
             [
              0.1111111111111111,
              "#46039f"
             ],
             [
              0.2222222222222222,
              "#7201a8"
             ],
             [
              0.3333333333333333,
              "#9c179e"
             ],
             [
              0.4444444444444444,
              "#bd3786"
             ],
             [
              0.5555555555555556,
              "#d8576b"
             ],
             [
              0.6666666666666666,
              "#ed7953"
             ],
             [
              0.7777777777777778,
              "#fb9f3a"
             ],
             [
              0.8888888888888888,
              "#fdca26"
             ],
             [
              1,
              "#f0f921"
             ]
            ],
            "type": "surface"
           }
          ],
          "table": [
           {
            "cells": {
             "fill": {
              "color": "#EBF0F8"
             },
             "line": {
              "color": "white"
             }
            },
            "header": {
             "fill": {
              "color": "#C8D4E3"
             },
             "line": {
              "color": "white"
             }
            },
            "type": "table"
           }
          ]
         },
         "layout": {
          "annotationdefaults": {
           "arrowcolor": "#2a3f5f",
           "arrowhead": 0,
           "arrowwidth": 1
          },
          "autotypenumbers": "strict",
          "coloraxis": {
           "colorbar": {
            "outlinewidth": 0,
            "ticks": ""
           }
          },
          "colorscale": {
           "diverging": [
            [
             0,
             "#8e0152"
            ],
            [
             0.1,
             "#c51b7d"
            ],
            [
             0.2,
             "#de77ae"
            ],
            [
             0.3,
             "#f1b6da"
            ],
            [
             0.4,
             "#fde0ef"
            ],
            [
             0.5,
             "#f7f7f7"
            ],
            [
             0.6,
             "#e6f5d0"
            ],
            [
             0.7,
             "#b8e186"
            ],
            [
             0.8,
             "#7fbc41"
            ],
            [
             0.9,
             "#4d9221"
            ],
            [
             1,
             "#276419"
            ]
           ],
           "sequential": [
            [
             0,
             "#0d0887"
            ],
            [
             0.1111111111111111,
             "#46039f"
            ],
            [
             0.2222222222222222,
             "#7201a8"
            ],
            [
             0.3333333333333333,
             "#9c179e"
            ],
            [
             0.4444444444444444,
             "#bd3786"
            ],
            [
             0.5555555555555556,
             "#d8576b"
            ],
            [
             0.6666666666666666,
             "#ed7953"
            ],
            [
             0.7777777777777778,
             "#fb9f3a"
            ],
            [
             0.8888888888888888,
             "#fdca26"
            ],
            [
             1,
             "#f0f921"
            ]
           ],
           "sequentialminus": [
            [
             0,
             "#0d0887"
            ],
            [
             0.1111111111111111,
             "#46039f"
            ],
            [
             0.2222222222222222,
             "#7201a8"
            ],
            [
             0.3333333333333333,
             "#9c179e"
            ],
            [
             0.4444444444444444,
             "#bd3786"
            ],
            [
             0.5555555555555556,
             "#d8576b"
            ],
            [
             0.6666666666666666,
             "#ed7953"
            ],
            [
             0.7777777777777778,
             "#fb9f3a"
            ],
            [
             0.8888888888888888,
             "#fdca26"
            ],
            [
             1,
             "#f0f921"
            ]
           ]
          },
          "colorway": [
           "#636efa",
           "#EF553B",
           "#00cc96",
           "#ab63fa",
           "#FFA15A",
           "#19d3f3",
           "#FF6692",
           "#B6E880",
           "#FF97FF",
           "#FECB52"
          ],
          "font": {
           "color": "#2a3f5f"
          },
          "geo": {
           "bgcolor": "white",
           "lakecolor": "white",
           "landcolor": "#E5ECF6",
           "showlakes": true,
           "showland": true,
           "subunitcolor": "white"
          },
          "hoverlabel": {
           "align": "left"
          },
          "hovermode": "closest",
          "mapbox": {
           "style": "light"
          },
          "paper_bgcolor": "white",
          "plot_bgcolor": "#E5ECF6",
          "polar": {
           "angularaxis": {
            "gridcolor": "white",
            "linecolor": "white",
            "ticks": ""
           },
           "bgcolor": "#E5ECF6",
           "radialaxis": {
            "gridcolor": "white",
            "linecolor": "white",
            "ticks": ""
           }
          },
          "scene": {
           "xaxis": {
            "backgroundcolor": "#E5ECF6",
            "gridcolor": "white",
            "gridwidth": 2,
            "linecolor": "white",
            "showbackground": true,
            "ticks": "",
            "zerolinecolor": "white"
           },
           "yaxis": {
            "backgroundcolor": "#E5ECF6",
            "gridcolor": "white",
            "gridwidth": 2,
            "linecolor": "white",
            "showbackground": true,
            "ticks": "",
            "zerolinecolor": "white"
           },
           "zaxis": {
            "backgroundcolor": "#E5ECF6",
            "gridcolor": "white",
            "gridwidth": 2,
            "linecolor": "white",
            "showbackground": true,
            "ticks": "",
            "zerolinecolor": "white"
           }
          },
          "shapedefaults": {
           "line": {
            "color": "#2a3f5f"
           }
          },
          "ternary": {
           "aaxis": {
            "gridcolor": "white",
            "linecolor": "white",
            "ticks": ""
           },
           "baxis": {
            "gridcolor": "white",
            "linecolor": "white",
            "ticks": ""
           },
           "bgcolor": "#E5ECF6",
           "caxis": {
            "gridcolor": "white",
            "linecolor": "white",
            "ticks": ""
           }
          },
          "title": {
           "x": 0.05
          },
          "xaxis": {
           "automargin": true,
           "gridcolor": "white",
           "linecolor": "white",
           "ticks": "",
           "title": {
            "standoff": 15
           },
           "zerolinecolor": "white",
           "zerolinewidth": 2
          },
          "yaxis": {
           "automargin": true,
           "gridcolor": "white",
           "linecolor": "white",
           "ticks": "",
           "title": {
            "standoff": 15
           },
           "zerolinecolor": "white",
           "zerolinewidth": 2
          }
         }
        },
        "title": {
         "text": "Average Salary by Type of Ownership"
        },
        "xaxis": {
         "anchor": "y",
         "domain": [
          0,
          1
         ],
         "title": {
          "text": "Type of Ownership"
         }
        },
        "yaxis": {
         "anchor": "x",
         "domain": [
          0,
          1
         ],
         "title": {
          "text": "Average Salary"
         }
        }
       }
      }
     },
     "metadata": {},
     "output_type": "display_data"
    }
   ],
   "source": [
    "ownership_box = px.box(\n",
    "    ds,\n",
    "    x='Type of ownership',\n",
    "    y='avg_salary',\n",
    "    title='Average Salary by Type of Ownership',\n",
    "    labels={'Type of ownership': 'Type of Ownership', 'avg_salary': 'Average Salary'}\n",
    ")\n",
    "ownership_box.show()"
   ]
  },
  {
   "cell_type": "markdown",
   "metadata": {
    "id": "muSCyFtyG9IL"
   },
   "source": [
    "Based on the data, most types of ownership can offer salaries below $50,000 per year. However, they are also generally capable of paying over $100,000 per year. Notably, hospitals and unknown ownership types tend to offer the lowest salaries."
   ]
  },
  {
   "cell_type": "code",
   "execution_count": 27,
   "metadata": {
    "colab": {
     "base_uri": "https://localhost:8080/",
     "height": 115
    },
    "id": "Qt-PxV87G9IL",
    "outputId": "f0632f8c-fb66-4c25-d0a4-ca5c0983434e"
   },
   "outputs": [
    {
     "data": {
      "text/html": [
       "<div>\n",
       "<style scoped>\n",
       "    .dataframe tbody tr th:only-of-type {\n",
       "        vertical-align: middle;\n",
       "    }\n",
       "\n",
       "    .dataframe tbody tr th {\n",
       "        vertical-align: top;\n",
       "    }\n",
       "\n",
       "    .dataframe thead th {\n",
       "        text-align: right;\n",
       "    }\n",
       "</style>\n",
       "<table border=\"1\" class=\"dataframe\">\n",
       "  <thead>\n",
       "    <tr style=\"text-align: right;\">\n",
       "      <th></th>\n",
       "      <th>index</th>\n",
       "      <th>Job Title</th>\n",
       "      <th>Rating</th>\n",
       "      <th>Company Name</th>\n",
       "      <th>Size</th>\n",
       "      <th>Type of ownership</th>\n",
       "      <th>Industry</th>\n",
       "      <th>hourly</th>\n",
       "      <th>min_salary</th>\n",
       "      <th>max_salary</th>\n",
       "      <th>avg_salary</th>\n",
       "      <th>job_state</th>\n",
       "      <th>same_state</th>\n",
       "      <th>python_yn</th>\n",
       "      <th>R_yn</th>\n",
       "      <th>spark</th>\n",
       "      <th>aws</th>\n",
       "      <th>excel</th>\n",
       "    </tr>\n",
       "  </thead>\n",
       "  <tbody>\n",
       "    <tr>\n",
       "      <th>117</th>\n",
       "      <td>125</td>\n",
       "      <td>Project Scientist</td>\n",
       "      <td>4.0</td>\n",
       "      <td>Alliance Source Testing\\r 4.0</td>\n",
       "      <td>51 to 200 employees</td>\n",
       "      <td>Unknown</td>\n",
       "      <td>Architectural &amp; Engineering Services</td>\n",
       "      <td>salary</td>\n",
       "      <td>29000</td>\n",
       "      <td>50000</td>\n",
       "      <td>39500.0</td>\n",
       "      <td>AL</td>\n",
       "      <td>distant</td>\n",
       "      <td>Unused</td>\n",
       "      <td>Unused</td>\n",
       "      <td>Unused</td>\n",
       "      <td>Unused</td>\n",
       "      <td>Unused</td>\n",
       "    </tr>\n",
       "  </tbody>\n",
       "</table>\n",
       "</div>"
      ],
      "text/plain": [
       "     index          Job Title  Rating                   Company Name  \\\n",
       "117    125  Project Scientist     4.0  Alliance Source Testing\\r 4.0   \n",
       "\n",
       "                    Size Type of ownership  \\\n",
       "117  51 to 200 employees           Unknown   \n",
       "\n",
       "                                 Industry  hourly  min_salary  max_salary  \\\n",
       "117  Architectural & Engineering Services  salary       29000       50000   \n",
       "\n",
       "     avg_salary job_state same_state python_yn    R_yn   spark     aws   excel  \n",
       "117     39500.0        AL    distant    Unused  Unused  Unused  Unused  Unused  "
      ]
     },
     "execution_count": 27,
     "metadata": {},
     "output_type": "execute_result"
    }
   ],
   "source": [
    "unknown = ds[ds['Type of ownership'] == 'Unknown']\n",
    "unknown"
   ]
  },
  {
   "cell_type": "markdown",
   "metadata": {
    "id": "JBmE0gXaG9IL"
   },
   "source": [
    "Curiosity led me to investigate jobs with an 'unknown' ownership type. I was relieved to find that this job was in an industry I have no experience. Despite having a rating of four, this job did not require any data scientist skills, which likely explains the lower pay. Overall, this was an interesting discovery."
   ]
  },
  {
   "cell_type": "markdown",
   "metadata": {
    "id": "Hsh9rjwXG9IL"
   },
   "source": [
    "### 5.2 `Industry`"
   ]
  },
  {
   "cell_type": "markdown",
   "metadata": {
    "id": "jn1WLELZG9IM"
   },
   "source": [
    "The previous section has increased my interest in understanding the range of salary rates for the industries in which I have experience."
   ]
  },
  {
   "cell_type": "code",
   "execution_count": 28,
   "metadata": {
    "colab": {
     "base_uri": "https://localhost:8080/",
     "height": 542
    },
    "id": "mYkatMhfG9IM",
    "outputId": "6ec71800-ba9f-4c7a-a559-91f4cddfd689"
   },
   "outputs": [
    {
     "data": {
      "application/vnd.plotly.v1+json": {
       "config": {
        "plotlyServerURL": "https://plot.ly"
       },
       "data": [
        {
         "alignmentgroup": "True",
         "hovertemplate": "Industry=%{x}<br>Average Salary ($)=%{y}<extra></extra>",
         "legendgroup": "",
         "marker": {
          "color": "#636efa"
         },
         "name": "",
         "notched": false,
         "offsetgroup": "",
         "orientation": "v",
         "showlegend": false,
         "type": "box",
         "x": [
          "Consulting",
          "Other Retail Stores",
          "Insurance Carriers",
          "Insurance Carriers",
          "Computer Hardware & Software",
          "Insurance Carriers",
          "Consumer Products Manufacturing",
          "Insurance Carriers",
          "Consulting",
          "Computer Hardware & Software",
          "Staffing & Outsourcing",
          "Computer Hardware & Software",
          "Computer Hardware & Software",
          "Computer Hardware & Software",
          "Consulting",
          "Financial Analytics & Research",
          "Insurance Carriers",
          "Consulting",
          "Computer Hardware & Software",
          "Computer Hardware & Software",
          "Computer Hardware & Software",
          "Consulting",
          "Staffing & Outsourcing",
          "Consulting",
          "Consumer Products Manufacturing",
          "Consulting",
          "Computer Hardware & Software",
          "Insurance Carriers",
          "Consulting",
          "Consumer Products Manufacturing",
          "Insurance Carriers",
          "Insurance Carriers",
          "Computer Hardware & Software",
          "Computer Hardware & Software",
          "Insurance Carriers",
          "Insurance Carriers",
          "Financial Analytics & Research",
          "Insurance Carriers",
          "Computer Hardware & Software",
          "Computer Hardware & Software",
          "Insurance Carriers",
          "Consulting",
          "Video Games",
          "Computer Hardware & Software",
          "Consulting",
          "Consulting",
          "Insurance Carriers",
          "Consulting",
          "Insurance Carriers",
          "Staffing & Outsourcing",
          "Insurance Carriers",
          "Consulting",
          "Insurance Carriers",
          "Computer Hardware & Software",
          "Insurance Carriers",
          "Computer Hardware & Software",
          "Computer Hardware & Software",
          "Insurance Carriers",
          "Insurance Carriers",
          "Computer Hardware & Software",
          "Consumer Products Manufacturing",
          "Insurance Carriers",
          "Consulting",
          "Insurance Carriers",
          "Computer Hardware & Software",
          "Insurance Carriers",
          "Consumer Products Manufacturing",
          "Insurance Carriers",
          "Consulting",
          "Financial Analytics & Research",
          "Construction",
          "Consumer Products Manufacturing",
          "Computer Hardware & Software",
          "Insurance Carriers",
          "Insurance Carriers",
          "Financial Analytics & Research",
          "Computer Hardware & Software",
          "Insurance Carriers",
          "Computer Hardware & Software",
          "Consulting",
          "Consumer Products Manufacturing",
          "Computer Hardware & Software",
          "Insurance Carriers",
          "Insurance Carriers",
          "Insurance Carriers",
          "Staffing & Outsourcing",
          "Insurance Carriers",
          "Consumer Products Manufacturing",
          "Computer Hardware & Software",
          "Consumer Products Manufacturing",
          "Computer Hardware & Software",
          "Computer Hardware & Software",
          "Staffing & Outsourcing",
          "Computer Hardware & Software",
          "Consulting",
          "Insurance Carriers",
          "Consulting",
          "Computer Hardware & Software",
          "Video Games",
          "Computer Hardware & Software",
          "Consulting",
          "Computer Hardware & Software",
          "Computer Hardware & Software",
          "Insurance Carriers",
          "Computer Hardware & Software",
          "Computer Hardware & Software",
          "Insurance Carriers",
          "Staffing & Outsourcing",
          "Consumer Products Manufacturing",
          "Insurance Carriers",
          "Staffing & Outsourcing",
          "Computer Hardware & Software",
          "Insurance Carriers",
          "Computer Hardware & Software",
          "Insurance Carriers",
          "Consulting",
          "Computer Hardware & Software",
          "Insurance Carriers",
          "Consulting",
          "Consumer Products Manufacturing",
          "Computer Hardware & Software"
         ],
         "x0": " ",
         "xaxis": "x",
         "y": [
          114000,
          163500,
          87500,
          47500,
          107000,
          106000,
          82500,
          114500,
          115000,
          79500,
          128500,
          97500,
          128000,
          77500,
          87000,
          85000,
          56500,
          237500,
          56500,
          157000,
          108000,
          95000,
          40500,
          81000,
          81500,
          97000,
          100000,
          106500,
          106500,
          109500,
          164000,
          107000,
          171500,
          150500,
          98500,
          147000,
          148000,
          146500,
          70500,
          93500,
          100500,
          72500,
          92500,
          49000,
          114500,
          76000,
          100000,
          93000,
          102000,
          155000,
          108000,
          52500,
          81000,
          162500,
          92000,
          82000,
          149500,
          124500,
          101000,
          61000,
          103500,
          63000,
          128500,
          99000,
          139500,
          254000,
          99500,
          45500,
          122500,
          140000,
          26500,
          117500,
          61500,
          90000,
          129500,
          180000,
          112500,
          51500,
          122000,
          107500,
          103500,
          68500,
          110500,
          115500,
          66500,
          94500,
          194500,
          74000,
          139000,
          80500,
          232500,
          85500,
          91500,
          177000,
          80500,
          110500,
          94000,
          73000,
          113000,
          153000,
          123500,
          162000,
          125000,
          54000,
          168000,
          138500,
          68500,
          127500,
          47000,
          91500,
          74000,
          121500,
          58500,
          107000,
          83000,
          95500,
          98500,
          53000,
          96500,
          103000,
          130000
         ],
         "y0": " ",
         "yaxis": "y"
        }
       ],
       "layout": {
        "boxmode": "group",
        "legend": {
         "tracegroupgap": 0
        },
        "template": {
         "data": {
          "bar": [
           {
            "error_x": {
             "color": "#2a3f5f"
            },
            "error_y": {
             "color": "#2a3f5f"
            },
            "marker": {
             "line": {
              "color": "#E5ECF6",
              "width": 0.5
             },
             "pattern": {
              "fillmode": "overlay",
              "size": 10,
              "solidity": 0.2
             }
            },
            "type": "bar"
           }
          ],
          "barpolar": [
           {
            "marker": {
             "line": {
              "color": "#E5ECF6",
              "width": 0.5
             },
             "pattern": {
              "fillmode": "overlay",
              "size": 10,
              "solidity": 0.2
             }
            },
            "type": "barpolar"
           }
          ],
          "carpet": [
           {
            "aaxis": {
             "endlinecolor": "#2a3f5f",
             "gridcolor": "white",
             "linecolor": "white",
             "minorgridcolor": "white",
             "startlinecolor": "#2a3f5f"
            },
            "baxis": {
             "endlinecolor": "#2a3f5f",
             "gridcolor": "white",
             "linecolor": "white",
             "minorgridcolor": "white",
             "startlinecolor": "#2a3f5f"
            },
            "type": "carpet"
           }
          ],
          "choropleth": [
           {
            "colorbar": {
             "outlinewidth": 0,
             "ticks": ""
            },
            "type": "choropleth"
           }
          ],
          "contour": [
           {
            "colorbar": {
             "outlinewidth": 0,
             "ticks": ""
            },
            "colorscale": [
             [
              0,
              "#0d0887"
             ],
             [
              0.1111111111111111,
              "#46039f"
             ],
             [
              0.2222222222222222,
              "#7201a8"
             ],
             [
              0.3333333333333333,
              "#9c179e"
             ],
             [
              0.4444444444444444,
              "#bd3786"
             ],
             [
              0.5555555555555556,
              "#d8576b"
             ],
             [
              0.6666666666666666,
              "#ed7953"
             ],
             [
              0.7777777777777778,
              "#fb9f3a"
             ],
             [
              0.8888888888888888,
              "#fdca26"
             ],
             [
              1,
              "#f0f921"
             ]
            ],
            "type": "contour"
           }
          ],
          "contourcarpet": [
           {
            "colorbar": {
             "outlinewidth": 0,
             "ticks": ""
            },
            "type": "contourcarpet"
           }
          ],
          "heatmap": [
           {
            "colorbar": {
             "outlinewidth": 0,
             "ticks": ""
            },
            "colorscale": [
             [
              0,
              "#0d0887"
             ],
             [
              0.1111111111111111,
              "#46039f"
             ],
             [
              0.2222222222222222,
              "#7201a8"
             ],
             [
              0.3333333333333333,
              "#9c179e"
             ],
             [
              0.4444444444444444,
              "#bd3786"
             ],
             [
              0.5555555555555556,
              "#d8576b"
             ],
             [
              0.6666666666666666,
              "#ed7953"
             ],
             [
              0.7777777777777778,
              "#fb9f3a"
             ],
             [
              0.8888888888888888,
              "#fdca26"
             ],
             [
              1,
              "#f0f921"
             ]
            ],
            "type": "heatmap"
           }
          ],
          "heatmapgl": [
           {
            "colorbar": {
             "outlinewidth": 0,
             "ticks": ""
            },
            "colorscale": [
             [
              0,
              "#0d0887"
             ],
             [
              0.1111111111111111,
              "#46039f"
             ],
             [
              0.2222222222222222,
              "#7201a8"
             ],
             [
              0.3333333333333333,
              "#9c179e"
             ],
             [
              0.4444444444444444,
              "#bd3786"
             ],
             [
              0.5555555555555556,
              "#d8576b"
             ],
             [
              0.6666666666666666,
              "#ed7953"
             ],
             [
              0.7777777777777778,
              "#fb9f3a"
             ],
             [
              0.8888888888888888,
              "#fdca26"
             ],
             [
              1,
              "#f0f921"
             ]
            ],
            "type": "heatmapgl"
           }
          ],
          "histogram": [
           {
            "marker": {
             "pattern": {
              "fillmode": "overlay",
              "size": 10,
              "solidity": 0.2
             }
            },
            "type": "histogram"
           }
          ],
          "histogram2d": [
           {
            "colorbar": {
             "outlinewidth": 0,
             "ticks": ""
            },
            "colorscale": [
             [
              0,
              "#0d0887"
             ],
             [
              0.1111111111111111,
              "#46039f"
             ],
             [
              0.2222222222222222,
              "#7201a8"
             ],
             [
              0.3333333333333333,
              "#9c179e"
             ],
             [
              0.4444444444444444,
              "#bd3786"
             ],
             [
              0.5555555555555556,
              "#d8576b"
             ],
             [
              0.6666666666666666,
              "#ed7953"
             ],
             [
              0.7777777777777778,
              "#fb9f3a"
             ],
             [
              0.8888888888888888,
              "#fdca26"
             ],
             [
              1,
              "#f0f921"
             ]
            ],
            "type": "histogram2d"
           }
          ],
          "histogram2dcontour": [
           {
            "colorbar": {
             "outlinewidth": 0,
             "ticks": ""
            },
            "colorscale": [
             [
              0,
              "#0d0887"
             ],
             [
              0.1111111111111111,
              "#46039f"
             ],
             [
              0.2222222222222222,
              "#7201a8"
             ],
             [
              0.3333333333333333,
              "#9c179e"
             ],
             [
              0.4444444444444444,
              "#bd3786"
             ],
             [
              0.5555555555555556,
              "#d8576b"
             ],
             [
              0.6666666666666666,
              "#ed7953"
             ],
             [
              0.7777777777777778,
              "#fb9f3a"
             ],
             [
              0.8888888888888888,
              "#fdca26"
             ],
             [
              1,
              "#f0f921"
             ]
            ],
            "type": "histogram2dcontour"
           }
          ],
          "mesh3d": [
           {
            "colorbar": {
             "outlinewidth": 0,
             "ticks": ""
            },
            "type": "mesh3d"
           }
          ],
          "parcoords": [
           {
            "line": {
             "colorbar": {
              "outlinewidth": 0,
              "ticks": ""
             }
            },
            "type": "parcoords"
           }
          ],
          "pie": [
           {
            "automargin": true,
            "type": "pie"
           }
          ],
          "scatter": [
           {
            "fillpattern": {
             "fillmode": "overlay",
             "size": 10,
             "solidity": 0.2
            },
            "type": "scatter"
           }
          ],
          "scatter3d": [
           {
            "line": {
             "colorbar": {
              "outlinewidth": 0,
              "ticks": ""
             }
            },
            "marker": {
             "colorbar": {
              "outlinewidth": 0,
              "ticks": ""
             }
            },
            "type": "scatter3d"
           }
          ],
          "scattercarpet": [
           {
            "marker": {
             "colorbar": {
              "outlinewidth": 0,
              "ticks": ""
             }
            },
            "type": "scattercarpet"
           }
          ],
          "scattergeo": [
           {
            "marker": {
             "colorbar": {
              "outlinewidth": 0,
              "ticks": ""
             }
            },
            "type": "scattergeo"
           }
          ],
          "scattergl": [
           {
            "marker": {
             "colorbar": {
              "outlinewidth": 0,
              "ticks": ""
             }
            },
            "type": "scattergl"
           }
          ],
          "scattermapbox": [
           {
            "marker": {
             "colorbar": {
              "outlinewidth": 0,
              "ticks": ""
             }
            },
            "type": "scattermapbox"
           }
          ],
          "scatterpolar": [
           {
            "marker": {
             "colorbar": {
              "outlinewidth": 0,
              "ticks": ""
             }
            },
            "type": "scatterpolar"
           }
          ],
          "scatterpolargl": [
           {
            "marker": {
             "colorbar": {
              "outlinewidth": 0,
              "ticks": ""
             }
            },
            "type": "scatterpolargl"
           }
          ],
          "scatterternary": [
           {
            "marker": {
             "colorbar": {
              "outlinewidth": 0,
              "ticks": ""
             }
            },
            "type": "scatterternary"
           }
          ],
          "surface": [
           {
            "colorbar": {
             "outlinewidth": 0,
             "ticks": ""
            },
            "colorscale": [
             [
              0,
              "#0d0887"
             ],
             [
              0.1111111111111111,
              "#46039f"
             ],
             [
              0.2222222222222222,
              "#7201a8"
             ],
             [
              0.3333333333333333,
              "#9c179e"
             ],
             [
              0.4444444444444444,
              "#bd3786"
             ],
             [
              0.5555555555555556,
              "#d8576b"
             ],
             [
              0.6666666666666666,
              "#ed7953"
             ],
             [
              0.7777777777777778,
              "#fb9f3a"
             ],
             [
              0.8888888888888888,
              "#fdca26"
             ],
             [
              1,
              "#f0f921"
             ]
            ],
            "type": "surface"
           }
          ],
          "table": [
           {
            "cells": {
             "fill": {
              "color": "#EBF0F8"
             },
             "line": {
              "color": "white"
             }
            },
            "header": {
             "fill": {
              "color": "#C8D4E3"
             },
             "line": {
              "color": "white"
             }
            },
            "type": "table"
           }
          ]
         },
         "layout": {
          "annotationdefaults": {
           "arrowcolor": "#2a3f5f",
           "arrowhead": 0,
           "arrowwidth": 1
          },
          "autotypenumbers": "strict",
          "coloraxis": {
           "colorbar": {
            "outlinewidth": 0,
            "ticks": ""
           }
          },
          "colorscale": {
           "diverging": [
            [
             0,
             "#8e0152"
            ],
            [
             0.1,
             "#c51b7d"
            ],
            [
             0.2,
             "#de77ae"
            ],
            [
             0.3,
             "#f1b6da"
            ],
            [
             0.4,
             "#fde0ef"
            ],
            [
             0.5,
             "#f7f7f7"
            ],
            [
             0.6,
             "#e6f5d0"
            ],
            [
             0.7,
             "#b8e186"
            ],
            [
             0.8,
             "#7fbc41"
            ],
            [
             0.9,
             "#4d9221"
            ],
            [
             1,
             "#276419"
            ]
           ],
           "sequential": [
            [
             0,
             "#0d0887"
            ],
            [
             0.1111111111111111,
             "#46039f"
            ],
            [
             0.2222222222222222,
             "#7201a8"
            ],
            [
             0.3333333333333333,
             "#9c179e"
            ],
            [
             0.4444444444444444,
             "#bd3786"
            ],
            [
             0.5555555555555556,
             "#d8576b"
            ],
            [
             0.6666666666666666,
             "#ed7953"
            ],
            [
             0.7777777777777778,
             "#fb9f3a"
            ],
            [
             0.8888888888888888,
             "#fdca26"
            ],
            [
             1,
             "#f0f921"
            ]
           ],
           "sequentialminus": [
            [
             0,
             "#0d0887"
            ],
            [
             0.1111111111111111,
             "#46039f"
            ],
            [
             0.2222222222222222,
             "#7201a8"
            ],
            [
             0.3333333333333333,
             "#9c179e"
            ],
            [
             0.4444444444444444,
             "#bd3786"
            ],
            [
             0.5555555555555556,
             "#d8576b"
            ],
            [
             0.6666666666666666,
             "#ed7953"
            ],
            [
             0.7777777777777778,
             "#fb9f3a"
            ],
            [
             0.8888888888888888,
             "#fdca26"
            ],
            [
             1,
             "#f0f921"
            ]
           ]
          },
          "colorway": [
           "#636efa",
           "#EF553B",
           "#00cc96",
           "#ab63fa",
           "#FFA15A",
           "#19d3f3",
           "#FF6692",
           "#B6E880",
           "#FF97FF",
           "#FECB52"
          ],
          "font": {
           "color": "#2a3f5f"
          },
          "geo": {
           "bgcolor": "white",
           "lakecolor": "white",
           "landcolor": "#E5ECF6",
           "showlakes": true,
           "showland": true,
           "subunitcolor": "white"
          },
          "hoverlabel": {
           "align": "left"
          },
          "hovermode": "closest",
          "mapbox": {
           "style": "light"
          },
          "paper_bgcolor": "white",
          "plot_bgcolor": "#E5ECF6",
          "polar": {
           "angularaxis": {
            "gridcolor": "white",
            "linecolor": "white",
            "ticks": ""
           },
           "bgcolor": "#E5ECF6",
           "radialaxis": {
            "gridcolor": "white",
            "linecolor": "white",
            "ticks": ""
           }
          },
          "scene": {
           "xaxis": {
            "backgroundcolor": "#E5ECF6",
            "gridcolor": "white",
            "gridwidth": 2,
            "linecolor": "white",
            "showbackground": true,
            "ticks": "",
            "zerolinecolor": "white"
           },
           "yaxis": {
            "backgroundcolor": "#E5ECF6",
            "gridcolor": "white",
            "gridwidth": 2,
            "linecolor": "white",
            "showbackground": true,
            "ticks": "",
            "zerolinecolor": "white"
           },
           "zaxis": {
            "backgroundcolor": "#E5ECF6",
            "gridcolor": "white",
            "gridwidth": 2,
            "linecolor": "white",
            "showbackground": true,
            "ticks": "",
            "zerolinecolor": "white"
           }
          },
          "shapedefaults": {
           "line": {
            "color": "#2a3f5f"
           }
          },
          "ternary": {
           "aaxis": {
            "gridcolor": "white",
            "linecolor": "white",
            "ticks": ""
           },
           "baxis": {
            "gridcolor": "white",
            "linecolor": "white",
            "ticks": ""
           },
           "bgcolor": "#E5ECF6",
           "caxis": {
            "gridcolor": "white",
            "linecolor": "white",
            "ticks": ""
           }
          },
          "title": {
           "x": 0.05
          },
          "xaxis": {
           "automargin": true,
           "gridcolor": "white",
           "linecolor": "white",
           "ticks": "",
           "title": {
            "standoff": 15
           },
           "zerolinecolor": "white",
           "zerolinewidth": 2
          },
          "yaxis": {
           "automargin": true,
           "gridcolor": "white",
           "linecolor": "white",
           "ticks": "",
           "title": {
            "standoff": 15
           },
           "zerolinecolor": "white",
           "zerolinewidth": 2
          }
         }
        },
        "title": {
         "text": "Average Salary by Industry"
        },
        "xaxis": {
         "anchor": "y",
         "domain": [
          0,
          1
         ],
         "title": {
          "text": "Industry"
         }
        },
        "yaxis": {
         "anchor": "x",
         "domain": [
          0,
          1
         ],
         "title": {
          "text": "Average Salary ($)"
         }
        }
       }
      }
     },
     "metadata": {},
     "output_type": "display_data"
    }
   ],
   "source": [
    "industry_box = px.box(\n",
    "    industry,\n",
    "    x=\"Industry\",\n",
    "    y=\"avg_salary\",\n",
    "    labels={\"avg_salary\": \"Average Salary ($)\"},\n",
    "    title=\"Average Salary by Industry\",\n",
    ")\n",
    "industry_box.show()"
   ]
  },
  {
   "cell_type": "markdown",
   "metadata": {
    "id": "II-HxwmGG9IM"
   },
   "source": [
    "When comparing the industries I have experience in to the different types of business ownerships, I notice some differences. Among the industries I have experience in, only Construction falls completely below $50,000. In contrast, the industries I'm skilled in tend to average fairly close to or well above $100,000."
   ]
  },
  {
   "cell_type": "code",
   "execution_count": 29,
   "metadata": {
    "colab": {
     "base_uri": "https://localhost:8080/",
     "height": 542
    },
    "id": "th4qRqMPG9IM",
    "outputId": "20f5fe80-f7c3-421a-c42a-715aed0d7231"
   },
   "outputs": [
    {
     "data": {
      "application/vnd.plotly.v1+json": {
       "config": {
        "plotlyServerURL": "https://plot.ly"
       },
       "data": [
        {
         "alignmentgroup": "True",
         "hovertemplate": "Industry=%{x}<br>Company Rating=%{y}<extra></extra>",
         "legendgroup": "",
         "marker": {
          "color": "#636efa"
         },
         "name": "",
         "notched": false,
         "offsetgroup": "",
         "orientation": "v",
         "showlegend": false,
         "type": "box",
         "x": [
          "Consulting",
          "Other Retail Stores",
          "Insurance Carriers",
          "Insurance Carriers",
          "Computer Hardware & Software",
          "Insurance Carriers",
          "Consumer Products Manufacturing",
          "Insurance Carriers",
          "Consulting",
          "Computer Hardware & Software",
          "Staffing & Outsourcing",
          "Computer Hardware & Software",
          "Computer Hardware & Software",
          "Computer Hardware & Software",
          "Consulting",
          "Financial Analytics & Research",
          "Insurance Carriers",
          "Consulting",
          "Computer Hardware & Software",
          "Computer Hardware & Software",
          "Computer Hardware & Software",
          "Consulting",
          "Staffing & Outsourcing",
          "Consulting",
          "Consumer Products Manufacturing",
          "Consulting",
          "Computer Hardware & Software",
          "Insurance Carriers",
          "Consulting",
          "Consumer Products Manufacturing",
          "Insurance Carriers",
          "Insurance Carriers",
          "Computer Hardware & Software",
          "Computer Hardware & Software",
          "Insurance Carriers",
          "Insurance Carriers",
          "Financial Analytics & Research",
          "Insurance Carriers",
          "Computer Hardware & Software",
          "Computer Hardware & Software",
          "Insurance Carriers",
          "Consulting",
          "Video Games",
          "Computer Hardware & Software",
          "Consulting",
          "Consulting",
          "Insurance Carriers",
          "Consulting",
          "Insurance Carriers",
          "Staffing & Outsourcing",
          "Insurance Carriers",
          "Consulting",
          "Insurance Carriers",
          "Computer Hardware & Software",
          "Insurance Carriers",
          "Computer Hardware & Software",
          "Computer Hardware & Software",
          "Insurance Carriers",
          "Insurance Carriers",
          "Computer Hardware & Software",
          "Consumer Products Manufacturing",
          "Insurance Carriers",
          "Consulting",
          "Insurance Carriers",
          "Computer Hardware & Software",
          "Insurance Carriers",
          "Consumer Products Manufacturing",
          "Insurance Carriers",
          "Consulting",
          "Financial Analytics & Research",
          "Construction",
          "Consumer Products Manufacturing",
          "Computer Hardware & Software",
          "Insurance Carriers",
          "Insurance Carriers",
          "Financial Analytics & Research",
          "Computer Hardware & Software",
          "Insurance Carriers",
          "Computer Hardware & Software",
          "Consulting",
          "Consumer Products Manufacturing",
          "Computer Hardware & Software",
          "Insurance Carriers",
          "Insurance Carriers",
          "Insurance Carriers",
          "Staffing & Outsourcing",
          "Insurance Carriers",
          "Consumer Products Manufacturing",
          "Computer Hardware & Software",
          "Consumer Products Manufacturing",
          "Computer Hardware & Software",
          "Computer Hardware & Software",
          "Staffing & Outsourcing",
          "Computer Hardware & Software",
          "Consulting",
          "Insurance Carriers",
          "Consulting",
          "Computer Hardware & Software",
          "Video Games",
          "Computer Hardware & Software",
          "Consulting",
          "Computer Hardware & Software",
          "Computer Hardware & Software",
          "Insurance Carriers",
          "Computer Hardware & Software",
          "Computer Hardware & Software",
          "Insurance Carriers",
          "Staffing & Outsourcing",
          "Consumer Products Manufacturing",
          "Insurance Carriers",
          "Staffing & Outsourcing",
          "Computer Hardware & Software",
          "Insurance Carriers",
          "Computer Hardware & Software",
          "Insurance Carriers",
          "Consulting",
          "Computer Hardware & Software",
          "Insurance Carriers",
          "Consulting",
          "Consumer Products Manufacturing",
          "Computer Hardware & Software"
         ],
         "x0": " ",
         "xaxis": "x",
         "y": [
          3.8,
          3.5,
          4,
          3.7,
          3.5,
          3.5,
          3.4,
          3.3,
          4.3,
          4.7,
          3.2,
          4,
          4,
          4.3,
          4,
          3.9,
          3.1,
          4.2,
          4.7,
          4.5,
          4,
          4.7,
          3.8,
          4.4,
          2.9,
          3.4,
          4.3,
          3.8,
          4.4,
          3.4,
          3.6,
          3.8,
          3.5,
          4,
          3.3,
          3.4,
          3.9,
          3.7,
          3.7,
          4,
          4.8,
          4.3,
          3.1,
          4,
          4.7,
          4.2,
          3.4,
          3.4,
          3.7,
          3.2,
          3.9,
          4.2,
          3.6,
          4,
          3.6,
          3.5,
          3.8,
          3.5,
          3.6,
          3.7,
          3.1,
          3.6,
          4.4,
          4,
          4.4,
          3.3,
          3.1,
          3.3,
          4.5,
          3.9,
          3.3,
          3.1,
          4.8,
          3.4,
          3.6,
          3.9,
          4.3,
          3.3,
          3.9,
          3.4,
          3.1,
          3.5,
          3.4,
          3.7,
          3,
          4.7,
          3.3,
          3.1,
          3.9,
          3.1,
          4.7,
          4.7,
          3.2,
          3.7,
          3.5,
          3.7,
          4.6,
          4,
          3.1,
          4.3,
          3.3,
          4,
          3.2,
          3.7,
          4.7,
          3.9,
          3.6,
          3.2,
          3.1,
          3.6,
          3.2,
          4.5,
          3.8,
          4.1,
          2.8,
          3.5,
          3.5,
          3.3,
          3.4,
          3.8,
          5
         ],
         "y0": " ",
         "yaxis": "y"
        }
       ],
       "layout": {
        "boxmode": "group",
        "legend": {
         "tracegroupgap": 0
        },
        "shapes": [
         {
          "line": {
           "color": "red",
           "dash": "dash"
          },
          "type": "line",
          "x0": 0,
          "x1": 1,
          "xref": "x domain",
          "y0": 3.722875816993464,
          "y1": 3.722875816993464,
          "yref": "y"
         }
        ],
        "template": {
         "data": {
          "bar": [
           {
            "error_x": {
             "color": "#2a3f5f"
            },
            "error_y": {
             "color": "#2a3f5f"
            },
            "marker": {
             "line": {
              "color": "#E5ECF6",
              "width": 0.5
             },
             "pattern": {
              "fillmode": "overlay",
              "size": 10,
              "solidity": 0.2
             }
            },
            "type": "bar"
           }
          ],
          "barpolar": [
           {
            "marker": {
             "line": {
              "color": "#E5ECF6",
              "width": 0.5
             },
             "pattern": {
              "fillmode": "overlay",
              "size": 10,
              "solidity": 0.2
             }
            },
            "type": "barpolar"
           }
          ],
          "carpet": [
           {
            "aaxis": {
             "endlinecolor": "#2a3f5f",
             "gridcolor": "white",
             "linecolor": "white",
             "minorgridcolor": "white",
             "startlinecolor": "#2a3f5f"
            },
            "baxis": {
             "endlinecolor": "#2a3f5f",
             "gridcolor": "white",
             "linecolor": "white",
             "minorgridcolor": "white",
             "startlinecolor": "#2a3f5f"
            },
            "type": "carpet"
           }
          ],
          "choropleth": [
           {
            "colorbar": {
             "outlinewidth": 0,
             "ticks": ""
            },
            "type": "choropleth"
           }
          ],
          "contour": [
           {
            "colorbar": {
             "outlinewidth": 0,
             "ticks": ""
            },
            "colorscale": [
             [
              0,
              "#0d0887"
             ],
             [
              0.1111111111111111,
              "#46039f"
             ],
             [
              0.2222222222222222,
              "#7201a8"
             ],
             [
              0.3333333333333333,
              "#9c179e"
             ],
             [
              0.4444444444444444,
              "#bd3786"
             ],
             [
              0.5555555555555556,
              "#d8576b"
             ],
             [
              0.6666666666666666,
              "#ed7953"
             ],
             [
              0.7777777777777778,
              "#fb9f3a"
             ],
             [
              0.8888888888888888,
              "#fdca26"
             ],
             [
              1,
              "#f0f921"
             ]
            ],
            "type": "contour"
           }
          ],
          "contourcarpet": [
           {
            "colorbar": {
             "outlinewidth": 0,
             "ticks": ""
            },
            "type": "contourcarpet"
           }
          ],
          "heatmap": [
           {
            "colorbar": {
             "outlinewidth": 0,
             "ticks": ""
            },
            "colorscale": [
             [
              0,
              "#0d0887"
             ],
             [
              0.1111111111111111,
              "#46039f"
             ],
             [
              0.2222222222222222,
              "#7201a8"
             ],
             [
              0.3333333333333333,
              "#9c179e"
             ],
             [
              0.4444444444444444,
              "#bd3786"
             ],
             [
              0.5555555555555556,
              "#d8576b"
             ],
             [
              0.6666666666666666,
              "#ed7953"
             ],
             [
              0.7777777777777778,
              "#fb9f3a"
             ],
             [
              0.8888888888888888,
              "#fdca26"
             ],
             [
              1,
              "#f0f921"
             ]
            ],
            "type": "heatmap"
           }
          ],
          "heatmapgl": [
           {
            "colorbar": {
             "outlinewidth": 0,
             "ticks": ""
            },
            "colorscale": [
             [
              0,
              "#0d0887"
             ],
             [
              0.1111111111111111,
              "#46039f"
             ],
             [
              0.2222222222222222,
              "#7201a8"
             ],
             [
              0.3333333333333333,
              "#9c179e"
             ],
             [
              0.4444444444444444,
              "#bd3786"
             ],
             [
              0.5555555555555556,
              "#d8576b"
             ],
             [
              0.6666666666666666,
              "#ed7953"
             ],
             [
              0.7777777777777778,
              "#fb9f3a"
             ],
             [
              0.8888888888888888,
              "#fdca26"
             ],
             [
              1,
              "#f0f921"
             ]
            ],
            "type": "heatmapgl"
           }
          ],
          "histogram": [
           {
            "marker": {
             "pattern": {
              "fillmode": "overlay",
              "size": 10,
              "solidity": 0.2
             }
            },
            "type": "histogram"
           }
          ],
          "histogram2d": [
           {
            "colorbar": {
             "outlinewidth": 0,
             "ticks": ""
            },
            "colorscale": [
             [
              0,
              "#0d0887"
             ],
             [
              0.1111111111111111,
              "#46039f"
             ],
             [
              0.2222222222222222,
              "#7201a8"
             ],
             [
              0.3333333333333333,
              "#9c179e"
             ],
             [
              0.4444444444444444,
              "#bd3786"
             ],
             [
              0.5555555555555556,
              "#d8576b"
             ],
             [
              0.6666666666666666,
              "#ed7953"
             ],
             [
              0.7777777777777778,
              "#fb9f3a"
             ],
             [
              0.8888888888888888,
              "#fdca26"
             ],
             [
              1,
              "#f0f921"
             ]
            ],
            "type": "histogram2d"
           }
          ],
          "histogram2dcontour": [
           {
            "colorbar": {
             "outlinewidth": 0,
             "ticks": ""
            },
            "colorscale": [
             [
              0,
              "#0d0887"
             ],
             [
              0.1111111111111111,
              "#46039f"
             ],
             [
              0.2222222222222222,
              "#7201a8"
             ],
             [
              0.3333333333333333,
              "#9c179e"
             ],
             [
              0.4444444444444444,
              "#bd3786"
             ],
             [
              0.5555555555555556,
              "#d8576b"
             ],
             [
              0.6666666666666666,
              "#ed7953"
             ],
             [
              0.7777777777777778,
              "#fb9f3a"
             ],
             [
              0.8888888888888888,
              "#fdca26"
             ],
             [
              1,
              "#f0f921"
             ]
            ],
            "type": "histogram2dcontour"
           }
          ],
          "mesh3d": [
           {
            "colorbar": {
             "outlinewidth": 0,
             "ticks": ""
            },
            "type": "mesh3d"
           }
          ],
          "parcoords": [
           {
            "line": {
             "colorbar": {
              "outlinewidth": 0,
              "ticks": ""
             }
            },
            "type": "parcoords"
           }
          ],
          "pie": [
           {
            "automargin": true,
            "type": "pie"
           }
          ],
          "scatter": [
           {
            "fillpattern": {
             "fillmode": "overlay",
             "size": 10,
             "solidity": 0.2
            },
            "type": "scatter"
           }
          ],
          "scatter3d": [
           {
            "line": {
             "colorbar": {
              "outlinewidth": 0,
              "ticks": ""
             }
            },
            "marker": {
             "colorbar": {
              "outlinewidth": 0,
              "ticks": ""
             }
            },
            "type": "scatter3d"
           }
          ],
          "scattercarpet": [
           {
            "marker": {
             "colorbar": {
              "outlinewidth": 0,
              "ticks": ""
             }
            },
            "type": "scattercarpet"
           }
          ],
          "scattergeo": [
           {
            "marker": {
             "colorbar": {
              "outlinewidth": 0,
              "ticks": ""
             }
            },
            "type": "scattergeo"
           }
          ],
          "scattergl": [
           {
            "marker": {
             "colorbar": {
              "outlinewidth": 0,
              "ticks": ""
             }
            },
            "type": "scattergl"
           }
          ],
          "scattermapbox": [
           {
            "marker": {
             "colorbar": {
              "outlinewidth": 0,
              "ticks": ""
             }
            },
            "type": "scattermapbox"
           }
          ],
          "scatterpolar": [
           {
            "marker": {
             "colorbar": {
              "outlinewidth": 0,
              "ticks": ""
             }
            },
            "type": "scatterpolar"
           }
          ],
          "scatterpolargl": [
           {
            "marker": {
             "colorbar": {
              "outlinewidth": 0,
              "ticks": ""
             }
            },
            "type": "scatterpolargl"
           }
          ],
          "scatterternary": [
           {
            "marker": {
             "colorbar": {
              "outlinewidth": 0,
              "ticks": ""
             }
            },
            "type": "scatterternary"
           }
          ],
          "surface": [
           {
            "colorbar": {
             "outlinewidth": 0,
             "ticks": ""
            },
            "colorscale": [
             [
              0,
              "#0d0887"
             ],
             [
              0.1111111111111111,
              "#46039f"
             ],
             [
              0.2222222222222222,
              "#7201a8"
             ],
             [
              0.3333333333333333,
              "#9c179e"
             ],
             [
              0.4444444444444444,
              "#bd3786"
             ],
             [
              0.5555555555555556,
              "#d8576b"
             ],
             [
              0.6666666666666666,
              "#ed7953"
             ],
             [
              0.7777777777777778,
              "#fb9f3a"
             ],
             [
              0.8888888888888888,
              "#fdca26"
             ],
             [
              1,
              "#f0f921"
             ]
            ],
            "type": "surface"
           }
          ],
          "table": [
           {
            "cells": {
             "fill": {
              "color": "#EBF0F8"
             },
             "line": {
              "color": "white"
             }
            },
            "header": {
             "fill": {
              "color": "#C8D4E3"
             },
             "line": {
              "color": "white"
             }
            },
            "type": "table"
           }
          ]
         },
         "layout": {
          "annotationdefaults": {
           "arrowcolor": "#2a3f5f",
           "arrowhead": 0,
           "arrowwidth": 1
          },
          "autotypenumbers": "strict",
          "coloraxis": {
           "colorbar": {
            "outlinewidth": 0,
            "ticks": ""
           }
          },
          "colorscale": {
           "diverging": [
            [
             0,
             "#8e0152"
            ],
            [
             0.1,
             "#c51b7d"
            ],
            [
             0.2,
             "#de77ae"
            ],
            [
             0.3,
             "#f1b6da"
            ],
            [
             0.4,
             "#fde0ef"
            ],
            [
             0.5,
             "#f7f7f7"
            ],
            [
             0.6,
             "#e6f5d0"
            ],
            [
             0.7,
             "#b8e186"
            ],
            [
             0.8,
             "#7fbc41"
            ],
            [
             0.9,
             "#4d9221"
            ],
            [
             1,
             "#276419"
            ]
           ],
           "sequential": [
            [
             0,
             "#0d0887"
            ],
            [
             0.1111111111111111,
             "#46039f"
            ],
            [
             0.2222222222222222,
             "#7201a8"
            ],
            [
             0.3333333333333333,
             "#9c179e"
            ],
            [
             0.4444444444444444,
             "#bd3786"
            ],
            [
             0.5555555555555556,
             "#d8576b"
            ],
            [
             0.6666666666666666,
             "#ed7953"
            ],
            [
             0.7777777777777778,
             "#fb9f3a"
            ],
            [
             0.8888888888888888,
             "#fdca26"
            ],
            [
             1,
             "#f0f921"
            ]
           ],
           "sequentialminus": [
            [
             0,
             "#0d0887"
            ],
            [
             0.1111111111111111,
             "#46039f"
            ],
            [
             0.2222222222222222,
             "#7201a8"
            ],
            [
             0.3333333333333333,
             "#9c179e"
            ],
            [
             0.4444444444444444,
             "#bd3786"
            ],
            [
             0.5555555555555556,
             "#d8576b"
            ],
            [
             0.6666666666666666,
             "#ed7953"
            ],
            [
             0.7777777777777778,
             "#fb9f3a"
            ],
            [
             0.8888888888888888,
             "#fdca26"
            ],
            [
             1,
             "#f0f921"
            ]
           ]
          },
          "colorway": [
           "#636efa",
           "#EF553B",
           "#00cc96",
           "#ab63fa",
           "#FFA15A",
           "#19d3f3",
           "#FF6692",
           "#B6E880",
           "#FF97FF",
           "#FECB52"
          ],
          "font": {
           "color": "#2a3f5f"
          },
          "geo": {
           "bgcolor": "white",
           "lakecolor": "white",
           "landcolor": "#E5ECF6",
           "showlakes": true,
           "showland": true,
           "subunitcolor": "white"
          },
          "hoverlabel": {
           "align": "left"
          },
          "hovermode": "closest",
          "mapbox": {
           "style": "light"
          },
          "paper_bgcolor": "white",
          "plot_bgcolor": "#E5ECF6",
          "polar": {
           "angularaxis": {
            "gridcolor": "white",
            "linecolor": "white",
            "ticks": ""
           },
           "bgcolor": "#E5ECF6",
           "radialaxis": {
            "gridcolor": "white",
            "linecolor": "white",
            "ticks": ""
           }
          },
          "scene": {
           "xaxis": {
            "backgroundcolor": "#E5ECF6",
            "gridcolor": "white",
            "gridwidth": 2,
            "linecolor": "white",
            "showbackground": true,
            "ticks": "",
            "zerolinecolor": "white"
           },
           "yaxis": {
            "backgroundcolor": "#E5ECF6",
            "gridcolor": "white",
            "gridwidth": 2,
            "linecolor": "white",
            "showbackground": true,
            "ticks": "",
            "zerolinecolor": "white"
           },
           "zaxis": {
            "backgroundcolor": "#E5ECF6",
            "gridcolor": "white",
            "gridwidth": 2,
            "linecolor": "white",
            "showbackground": true,
            "ticks": "",
            "zerolinecolor": "white"
           }
          },
          "shapedefaults": {
           "line": {
            "color": "#2a3f5f"
           }
          },
          "ternary": {
           "aaxis": {
            "gridcolor": "white",
            "linecolor": "white",
            "ticks": ""
           },
           "baxis": {
            "gridcolor": "white",
            "linecolor": "white",
            "ticks": ""
           },
           "bgcolor": "#E5ECF6",
           "caxis": {
            "gridcolor": "white",
            "linecolor": "white",
            "ticks": ""
           }
          },
          "title": {
           "x": 0.05
          },
          "xaxis": {
           "automargin": true,
           "gridcolor": "white",
           "linecolor": "white",
           "ticks": "",
           "title": {
            "standoff": 15
           },
           "zerolinecolor": "white",
           "zerolinewidth": 2
          },
          "yaxis": {
           "automargin": true,
           "gridcolor": "white",
           "linecolor": "white",
           "ticks": "",
           "title": {
            "standoff": 15
           },
           "zerolinecolor": "white",
           "zerolinewidth": 2
          }
         }
        },
        "title": {
         "text": "Rating per Industry"
        },
        "xaxis": {
         "anchor": "y",
         "domain": [
          0,
          1
         ],
         "title": {
          "text": "Industry"
         }
        },
        "yaxis": {
         "anchor": "x",
         "domain": [
          0,
          1
         ],
         "title": {
          "text": "Company Rating"
         }
        }
       }
      }
     },
     "metadata": {},
     "output_type": "display_data"
    }
   ],
   "source": [
    "industry_rating = px.box(\n",
    "    industry,\n",
    "    x='Industry',\n",
    "    y='Rating',\n",
    "    title='Rating per Industry',\n",
    "    labels={'Rating': 'Company Rating'}\n",
    ")\n",
    "\n",
    "mean_rating = ds['Rating'].mean()\n",
    "\n",
    "industry_rating.add_hline(\n",
    "    y=mean_rating,\n",
    "    line_dash=\"dash\",\n",
    "    line_color=\"red\"\n",
    ")\n",
    "\n",
    "industry_rating.show()\n"
   ]
  },
  {
   "cell_type": "markdown",
   "metadata": {
    "id": "75rIR1GlG9IM"
   },
   "source": [
    "Despite the previous analysis indicating that many of the jobs I have experience in are high-paying, it's worth noting that the ratings don't necessarily reflect them as the best jobs to have. While I **wouldn't** say these jobs **'aren't worth having,'** a significant portion of them fall below the average. The clear winners here appear to be 'Computer Hardware & Software' and 'Consulting'."
   ]
  },
  {
   "cell_type": "markdown",
   "metadata": {
    "id": "gY4qU8wMG9IM"
   },
   "source": [
    "### 5.3 Salary"
   ]
  },
  {
   "cell_type": "markdown",
   "metadata": {
    "id": "kyzRq1NTG9IM"
   },
   "source": [
    "To better understand my previous statement, I would like to further explore the relationship between salary and ratings for various jobs."
   ]
  },
  {
   "cell_type": "code",
   "execution_count": 30,
   "metadata": {
    "colab": {
     "base_uri": "https://localhost:8080/",
     "height": 542
    },
    "id": "vXO3Xx5rG9IM",
    "outputId": "350df77c-899e-491f-de8e-b4e03a2f07fb"
   },
   "outputs": [
    {
     "data": {
      "application/vnd.plotly.v1+json": {
       "config": {
        "plotlyServerURL": "https://plot.ly"
       },
       "data": [
        {
         "hovertemplate": "Average Salary=%{x}<br>Company Rating=%{y}<extra></extra>",
         "legendgroup": "",
         "marker": {
          "color": "#636efa",
          "symbol": "circle"
         },
         "mode": "markers",
         "name": "",
         "orientation": "v",
         "showlegend": false,
         "type": "scatter",
         "x": [
          72000,
          87500,
          85000,
          76500,
          114500,
          95000,
          73500,
          114000,
          61000,
          140000,
          163500,
          85000,
          139000,
          65500,
          113500,
          146000,
          102000,
          153500,
          142500,
          87500,
          105500,
          96000,
          112500,
          84000,
          143000,
          86500,
          99500,
          47500,
          84000,
          96000,
          114500,
          121000,
          112500,
          106000,
          107000,
          110000,
          147500,
          106000,
          88000,
          142500,
          82500,
          130000,
          155000,
          184500,
          29500,
          86500,
          81000,
          91000,
          114500,
          68000,
          115000,
          109500,
          75500,
          154500,
          143500,
          107000,
          115000,
          139500,
          67000,
          85000,
          118000,
          79500,
          56500,
          128500,
          97500,
          66500,
          179500,
          76000,
          112000,
          98000,
          128000,
          150500,
          87500,
          110000,
          113500,
          124000,
          56500,
          130000,
          77500,
          87000,
          53500,
          85500,
          48000,
          48000,
          174000,
          85000,
          106500,
          72500,
          85500,
          97500,
          99000,
          56500,
          133000,
          121000,
          85500,
          87500,
          237500,
          95500,
          104500,
          56500,
          55000,
          61500,
          157000,
          78000,
          132500,
          108000,
          80500,
          107500,
          95000,
          119500,
          134000,
          100500,
          107500,
          122000,
          92500,
          62000,
          39500,
          107500,
          40500,
          89500,
          81000,
          147000,
          85000,
          81500,
          168000,
          100500,
          97000,
          132500,
          100000,
          105000,
          87000,
          103500,
          124000,
          67000,
          87000,
          137500,
          100000,
          106500,
          98500,
          61000,
          106500,
          84500,
          109500,
          164000,
          169000,
          142000,
          76500,
          107000,
          171500,
          107000,
          145000,
          61500,
          20500,
          120000,
          62000,
          150500,
          87500,
          71500,
          51500,
          151500,
          77500,
          140000,
          98500,
          27500,
          161500,
          147000,
          61000,
          120000,
          124500,
          148000,
          59000,
          146500,
          91500,
          133000,
          140500,
          70500,
          84500,
          93500,
          134500,
          181000,
          84500,
          205000,
          48500,
          21500,
          52500,
          124000,
          64000,
          98000,
          27500,
          54000,
          81000,
          107500,
          89000,
          100500,
          65000,
          20000,
          72500,
          87500,
          92500,
          81500,
          79000,
          47500,
          69000,
          49000,
          59000,
          88500,
          114500,
          88000,
          100000,
          96500,
          76000,
          15500,
          83500,
          163000,
          100000,
          52500,
          50000,
          93000,
          94500,
          102000,
          155000,
          108000,
          63500,
          109000,
          96000,
          101000,
          77500,
          90000,
          58000,
          128000,
          101000,
          142000,
          169000,
          52500,
          75500,
          139000,
          102500,
          60500,
          125000,
          81000,
          77000,
          92000,
          121000,
          162500,
          60000,
          90500,
          110000,
          70500,
          76500,
          92000,
          82000,
          164500,
          44000,
          109000,
          149500,
          65500,
          124500,
          114000,
          49000,
          71000,
          101000,
          61000,
          103500,
          63000,
          62500,
          94500,
          154500,
          87000,
          64500,
          111500,
          154500,
          128500,
          31500,
          137000,
          99000,
          139500,
          109000,
          254000,
          73000,
          99500,
          45500,
          122500,
          140000,
          77500,
          26500,
          117500,
          70500,
          61500,
          70000,
          80000,
          90000,
          73500,
          129500,
          167500,
          60000,
          180000,
          65000,
          112500,
          87500,
          51500,
          51000,
          62500,
          100000,
          85000,
          122000,
          66500,
          70500,
          138500,
          107500,
          120500,
          81000,
          103500,
          162000,
          68500,
          110500,
          115500,
          80500,
          43000,
          140000,
          66500,
          94500,
          119000,
          25000,
          13500,
          194500,
          71500,
          105500,
          74000,
          62500,
          65500,
          161500,
          72500,
          139000,
          136500,
          74500,
          80500,
          101000,
          116500,
          232500,
          120500,
          153000,
          127000,
          85500,
          76500,
          128000,
          91500,
          177000,
          107000,
          154500,
          113500,
          143500,
          113500,
          101500,
          73000,
          80500,
          139500,
          145500,
          87000,
          100500,
          147000,
          110500,
          94000,
          123500,
          73000,
          165000,
          59500,
          66000,
          75500,
          87000,
          140000,
          86000,
          116500,
          80000,
          173000,
          68500,
          172000,
          95000,
          69500,
          97500,
          95000,
          194000,
          104500,
          85500,
          50000,
          113000,
          90500,
          153000,
          123500,
          47000,
          162000,
          133500,
          109000,
          125000,
          106500,
          54000,
          37500,
          53500,
          168000,
          138500,
          111500,
          68500,
          84500,
          102500,
          93500,
          127500,
          72000,
          47000,
          65000,
          94000,
          97000,
          91500,
          114500,
          74000,
          121000,
          121500,
          60500,
          118500,
          58500,
          63500,
          107000,
          105500,
          83000,
          87500,
          172000,
          100000,
          221500,
          95500,
          173000,
          147500,
          81000,
          83000,
          121000,
          85500,
          167500,
          107500,
          44500,
          107500,
          69500,
          98500,
          80500,
          37000,
          99000,
          96500,
          53000,
          103000,
          92000,
          114000,
          96000,
          96500,
          69500,
          121000,
          103000,
          106500,
          130000,
          86500,
          89000,
          92000,
          111000,
          87500
         ],
         "xaxis": "x",
         "y": [
          3.8,
          3.4,
          4.8,
          3.8,
          2.9,
          3.4,
          4.1,
          3.8,
          3.3,
          4.6,
          3.5,
          4.1,
          3.2,
          4.1,
          3.7,
          3.6,
          3.9,
          4.3,
          4.2,
          4,
          3.2,
          3.9,
          3.8,
          4.3,
          4,
          4,
          3.5,
          3.7,
          4,
          3.6,
          3.8,
          3.8,
          4.7,
          4.2,
          3.5,
          4.7,
          3.5,
          3.5,
          4.2,
          4.2,
          3.4,
          4.3,
          5,
          3.7,
          3.1,
          4.7,
          3.7,
          3.8,
          3.3,
          4.6,
          3.7,
          3.7,
          3.5,
          4.1,
          4.7,
          4.4,
          4.3,
          3.8,
          3.8,
          3.8,
          2.8,
          4.7,
          3.1,
          3.2,
          4,
          4.4,
          3.6,
          2.7,
          3.9,
          3.1,
          4,
          4.3,
          1.9,
          3.3,
          4.4,
          3.9,
          4.7,
          4.5,
          4.3,
          4,
          4.4,
          4.2,
          4.5,
          3.5,
          3.5,
          3.9,
          4.7,
          4.2,
          3.4,
          3.2,
          3.9,
          3.1,
          4.1,
          3.8,
          4.7,
          4.3,
          4.2,
          3.9,
          3.3,
          4.7,
          4.3,
          2.9,
          4.5,
          3.4,
          3.2,
          4,
          4.6,
          2.8,
          4.7,
          3,
          3.2,
          4.4,
          3.5,
          4,
          4.3,
          2.3,
          4,
          3.6,
          3.8,
          3.7,
          4.4,
          4,
          3.2,
          2.9,
          3.8,
          4.3,
          3.4,
          5,
          4.3,
          3.7,
          4.2,
          4.3,
          2.6,
          3.8,
          3.9,
          4.3,
          3.8,
          3.8,
          3.8,
          4.8,
          4.4,
          3.9,
          3.4,
          3.6,
          3.9,
          3.8,
          3.7,
          3.8,
          3.5,
          4.2,
          3.5,
          2.9,
          3.6,
          2.7,
          4.4,
          4,
          4.3,
          4.2,
          3.6,
          3.7,
          2.8,
          3.7,
          3.3,
          3.6,
          3.7,
          3.4,
          4.1,
          2.6,
          3.2,
          3.9,
          4.7,
          3.7,
          2.9,
          3,
          4.7,
          3.7,
          3.3,
          4,
          4.4,
          3.9,
          3.3,
          4.1,
          3.6,
          4,
          2.4,
          2.6,
          3.5,
          3,
          3.6,
          3.3,
          2.7,
          3.4,
          3.7,
          4.8,
          3.8,
          3.4,
          4.3,
          3.4,
          3.1,
          3.2,
          4.3,
          2.8,
          3.4,
          4,
          3.7,
          3.5,
          4.7,
          4.4,
          4.1,
          2.5,
          4.2,
          3.9,
          4.3,
          3.9,
          3.4,
          3.8,
          3.3,
          3.4,
          3,
          3.7,
          3.2,
          3.9,
          4.2,
          4,
          3.5,
          3.2,
          3.9,
          3.5,
          4.3,
          3.6,
          2.3,
          4,
          4.1,
          4.2,
          4.6,
          3.7,
          3.7,
          4.4,
          3.9,
          3.6,
          3.4,
          4.1,
          3.8,
          4,
          3.9,
          4.4,
          2.2,
          4.1,
          3.8,
          3.6,
          3.5,
          3.3,
          3.4,
          4.4,
          3.8,
          3.5,
          3.5,
          2.9,
          3.9,
          3.7,
          3.6,
          3.7,
          3.1,
          3.6,
          3,
          3.5,
          3.5,
          3.7,
          3.2,
          2.1,
          3.7,
          4.4,
          3.7,
          3.9,
          4,
          4.4,
          3.4,
          3.3,
          2.9,
          3.1,
          3.3,
          4.5,
          3.9,
          3.2,
          3.3,
          3.1,
          2.4,
          4.8,
          2.9,
          2.9,
          3.4,
          2.6,
          3.6,
          4,
          3.8,
          3.9,
          3.8,
          4.3,
          1.9,
          3.3,
          4.7,
          3.1,
          3.4,
          4.4,
          3.9,
          3.9,
          4.7,
          4.7,
          3.4,
          3.8,
          2.7,
          3.1,
          4,
          3.5,
          3.4,
          3.7,
          3.8,
          4.6,
          4.4,
          3,
          4.7,
          3.8,
          3.2,
          2.7,
          3.3,
          3.9,
          3.7,
          3.1,
          3.7,
          4.3,
          3.6,
          2.1,
          3.9,
          3.9,
          3.8,
          3.1,
          5,
          3.6,
          4.7,
          3.5,
          2.7,
          3.4,
          4.7,
          2.8,
          3.5,
          3.2,
          3.7,
          4.7,
          4.1,
          4,
          2.5,
          3.9,
          3.4,
          3.6,
          3.5,
          3.5,
          4.8,
          4,
          4.2,
          3.8,
          3.7,
          4.6,
          4.3,
          4,
          3.9,
          3.1,
          3.6,
          4.2,
          4,
          3.9,
          3.7,
          4.4,
          3.4,
          3.7,
          3.5,
          4.4,
          3.9,
          3.2,
          4,
          3.4,
          3.2,
          3.5,
          4.2,
          4.2,
          3.1,
          3.9,
          4.3,
          3.3,
          3.9,
          4,
          3.5,
          3.2,
          3.2,
          3.8,
          3.7,
          3,
          3.8,
          4.7,
          3.9,
          3.6,
          3.6,
          3.9,
          4.4,
          3.6,
          3.2,
          4.2,
          3.1,
          3.8,
          4,
          4,
          3.6,
          3.8,
          3.2,
          3.8,
          4.5,
          3.4,
          3.3,
          3.8,
          3.9,
          4.1,
          3.7,
          2.8,
          3,
          4,
          3,
          4.2,
          3.5,
          3.3,
          3.9,
          3.7,
          3.2,
          4.6,
          2.2,
          4.6,
          2.6,
          3.4,
          3.3,
          3.7,
          3.5,
          2.7,
          3.8,
          3.7,
          3.8,
          3.3,
          2.7,
          3.9,
          3.6,
          3.5,
          3.4,
          4.3,
          2.6,
          3.8,
          3.2,
          5,
          4.3,
          3.4,
          4,
          4.1,
          3.9
         ],
         "yaxis": "y"
        }
       ],
       "layout": {
        "legend": {
         "tracegroupgap": 0
        },
        "shapes": [
         {
          "line": {
           "color": "red",
           "dash": "dash"
          },
          "type": "line",
          "x0": 0,
          "x1": 1,
          "xref": "x domain",
          "y0": 3.722875816993464,
          "y1": 3.722875816993464,
          "yref": "y"
         }
        ],
        "template": {
         "data": {
          "bar": [
           {
            "error_x": {
             "color": "#2a3f5f"
            },
            "error_y": {
             "color": "#2a3f5f"
            },
            "marker": {
             "line": {
              "color": "#E5ECF6",
              "width": 0.5
             },
             "pattern": {
              "fillmode": "overlay",
              "size": 10,
              "solidity": 0.2
             }
            },
            "type": "bar"
           }
          ],
          "barpolar": [
           {
            "marker": {
             "line": {
              "color": "#E5ECF6",
              "width": 0.5
             },
             "pattern": {
              "fillmode": "overlay",
              "size": 10,
              "solidity": 0.2
             }
            },
            "type": "barpolar"
           }
          ],
          "carpet": [
           {
            "aaxis": {
             "endlinecolor": "#2a3f5f",
             "gridcolor": "white",
             "linecolor": "white",
             "minorgridcolor": "white",
             "startlinecolor": "#2a3f5f"
            },
            "baxis": {
             "endlinecolor": "#2a3f5f",
             "gridcolor": "white",
             "linecolor": "white",
             "minorgridcolor": "white",
             "startlinecolor": "#2a3f5f"
            },
            "type": "carpet"
           }
          ],
          "choropleth": [
           {
            "colorbar": {
             "outlinewidth": 0,
             "ticks": ""
            },
            "type": "choropleth"
           }
          ],
          "contour": [
           {
            "colorbar": {
             "outlinewidth": 0,
             "ticks": ""
            },
            "colorscale": [
             [
              0,
              "#0d0887"
             ],
             [
              0.1111111111111111,
              "#46039f"
             ],
             [
              0.2222222222222222,
              "#7201a8"
             ],
             [
              0.3333333333333333,
              "#9c179e"
             ],
             [
              0.4444444444444444,
              "#bd3786"
             ],
             [
              0.5555555555555556,
              "#d8576b"
             ],
             [
              0.6666666666666666,
              "#ed7953"
             ],
             [
              0.7777777777777778,
              "#fb9f3a"
             ],
             [
              0.8888888888888888,
              "#fdca26"
             ],
             [
              1,
              "#f0f921"
             ]
            ],
            "type": "contour"
           }
          ],
          "contourcarpet": [
           {
            "colorbar": {
             "outlinewidth": 0,
             "ticks": ""
            },
            "type": "contourcarpet"
           }
          ],
          "heatmap": [
           {
            "colorbar": {
             "outlinewidth": 0,
             "ticks": ""
            },
            "colorscale": [
             [
              0,
              "#0d0887"
             ],
             [
              0.1111111111111111,
              "#46039f"
             ],
             [
              0.2222222222222222,
              "#7201a8"
             ],
             [
              0.3333333333333333,
              "#9c179e"
             ],
             [
              0.4444444444444444,
              "#bd3786"
             ],
             [
              0.5555555555555556,
              "#d8576b"
             ],
             [
              0.6666666666666666,
              "#ed7953"
             ],
             [
              0.7777777777777778,
              "#fb9f3a"
             ],
             [
              0.8888888888888888,
              "#fdca26"
             ],
             [
              1,
              "#f0f921"
             ]
            ],
            "type": "heatmap"
           }
          ],
          "heatmapgl": [
           {
            "colorbar": {
             "outlinewidth": 0,
             "ticks": ""
            },
            "colorscale": [
             [
              0,
              "#0d0887"
             ],
             [
              0.1111111111111111,
              "#46039f"
             ],
             [
              0.2222222222222222,
              "#7201a8"
             ],
             [
              0.3333333333333333,
              "#9c179e"
             ],
             [
              0.4444444444444444,
              "#bd3786"
             ],
             [
              0.5555555555555556,
              "#d8576b"
             ],
             [
              0.6666666666666666,
              "#ed7953"
             ],
             [
              0.7777777777777778,
              "#fb9f3a"
             ],
             [
              0.8888888888888888,
              "#fdca26"
             ],
             [
              1,
              "#f0f921"
             ]
            ],
            "type": "heatmapgl"
           }
          ],
          "histogram": [
           {
            "marker": {
             "pattern": {
              "fillmode": "overlay",
              "size": 10,
              "solidity": 0.2
             }
            },
            "type": "histogram"
           }
          ],
          "histogram2d": [
           {
            "colorbar": {
             "outlinewidth": 0,
             "ticks": ""
            },
            "colorscale": [
             [
              0,
              "#0d0887"
             ],
             [
              0.1111111111111111,
              "#46039f"
             ],
             [
              0.2222222222222222,
              "#7201a8"
             ],
             [
              0.3333333333333333,
              "#9c179e"
             ],
             [
              0.4444444444444444,
              "#bd3786"
             ],
             [
              0.5555555555555556,
              "#d8576b"
             ],
             [
              0.6666666666666666,
              "#ed7953"
             ],
             [
              0.7777777777777778,
              "#fb9f3a"
             ],
             [
              0.8888888888888888,
              "#fdca26"
             ],
             [
              1,
              "#f0f921"
             ]
            ],
            "type": "histogram2d"
           }
          ],
          "histogram2dcontour": [
           {
            "colorbar": {
             "outlinewidth": 0,
             "ticks": ""
            },
            "colorscale": [
             [
              0,
              "#0d0887"
             ],
             [
              0.1111111111111111,
              "#46039f"
             ],
             [
              0.2222222222222222,
              "#7201a8"
             ],
             [
              0.3333333333333333,
              "#9c179e"
             ],
             [
              0.4444444444444444,
              "#bd3786"
             ],
             [
              0.5555555555555556,
              "#d8576b"
             ],
             [
              0.6666666666666666,
              "#ed7953"
             ],
             [
              0.7777777777777778,
              "#fb9f3a"
             ],
             [
              0.8888888888888888,
              "#fdca26"
             ],
             [
              1,
              "#f0f921"
             ]
            ],
            "type": "histogram2dcontour"
           }
          ],
          "mesh3d": [
           {
            "colorbar": {
             "outlinewidth": 0,
             "ticks": ""
            },
            "type": "mesh3d"
           }
          ],
          "parcoords": [
           {
            "line": {
             "colorbar": {
              "outlinewidth": 0,
              "ticks": ""
             }
            },
            "type": "parcoords"
           }
          ],
          "pie": [
           {
            "automargin": true,
            "type": "pie"
           }
          ],
          "scatter": [
           {
            "fillpattern": {
             "fillmode": "overlay",
             "size": 10,
             "solidity": 0.2
            },
            "type": "scatter"
           }
          ],
          "scatter3d": [
           {
            "line": {
             "colorbar": {
              "outlinewidth": 0,
              "ticks": ""
             }
            },
            "marker": {
             "colorbar": {
              "outlinewidth": 0,
              "ticks": ""
             }
            },
            "type": "scatter3d"
           }
          ],
          "scattercarpet": [
           {
            "marker": {
             "colorbar": {
              "outlinewidth": 0,
              "ticks": ""
             }
            },
            "type": "scattercarpet"
           }
          ],
          "scattergeo": [
           {
            "marker": {
             "colorbar": {
              "outlinewidth": 0,
              "ticks": ""
             }
            },
            "type": "scattergeo"
           }
          ],
          "scattergl": [
           {
            "marker": {
             "colorbar": {
              "outlinewidth": 0,
              "ticks": ""
             }
            },
            "type": "scattergl"
           }
          ],
          "scattermapbox": [
           {
            "marker": {
             "colorbar": {
              "outlinewidth": 0,
              "ticks": ""
             }
            },
            "type": "scattermapbox"
           }
          ],
          "scatterpolar": [
           {
            "marker": {
             "colorbar": {
              "outlinewidth": 0,
              "ticks": ""
             }
            },
            "type": "scatterpolar"
           }
          ],
          "scatterpolargl": [
           {
            "marker": {
             "colorbar": {
              "outlinewidth": 0,
              "ticks": ""
             }
            },
            "type": "scatterpolargl"
           }
          ],
          "scatterternary": [
           {
            "marker": {
             "colorbar": {
              "outlinewidth": 0,
              "ticks": ""
             }
            },
            "type": "scatterternary"
           }
          ],
          "surface": [
           {
            "colorbar": {
             "outlinewidth": 0,
             "ticks": ""
            },
            "colorscale": [
             [
              0,
              "#0d0887"
             ],
             [
              0.1111111111111111,
              "#46039f"
             ],
             [
              0.2222222222222222,
              "#7201a8"
             ],
             [
              0.3333333333333333,
              "#9c179e"
             ],
             [
              0.4444444444444444,
              "#bd3786"
             ],
             [
              0.5555555555555556,
              "#d8576b"
             ],
             [
              0.6666666666666666,
              "#ed7953"
             ],
             [
              0.7777777777777778,
              "#fb9f3a"
             ],
             [
              0.8888888888888888,
              "#fdca26"
             ],
             [
              1,
              "#f0f921"
             ]
            ],
            "type": "surface"
           }
          ],
          "table": [
           {
            "cells": {
             "fill": {
              "color": "#EBF0F8"
             },
             "line": {
              "color": "white"
             }
            },
            "header": {
             "fill": {
              "color": "#C8D4E3"
             },
             "line": {
              "color": "white"
             }
            },
            "type": "table"
           }
          ]
         },
         "layout": {
          "annotationdefaults": {
           "arrowcolor": "#2a3f5f",
           "arrowhead": 0,
           "arrowwidth": 1
          },
          "autotypenumbers": "strict",
          "coloraxis": {
           "colorbar": {
            "outlinewidth": 0,
            "ticks": ""
           }
          },
          "colorscale": {
           "diverging": [
            [
             0,
             "#8e0152"
            ],
            [
             0.1,
             "#c51b7d"
            ],
            [
             0.2,
             "#de77ae"
            ],
            [
             0.3,
             "#f1b6da"
            ],
            [
             0.4,
             "#fde0ef"
            ],
            [
             0.5,
             "#f7f7f7"
            ],
            [
             0.6,
             "#e6f5d0"
            ],
            [
             0.7,
             "#b8e186"
            ],
            [
             0.8,
             "#7fbc41"
            ],
            [
             0.9,
             "#4d9221"
            ],
            [
             1,
             "#276419"
            ]
           ],
           "sequential": [
            [
             0,
             "#0d0887"
            ],
            [
             0.1111111111111111,
             "#46039f"
            ],
            [
             0.2222222222222222,
             "#7201a8"
            ],
            [
             0.3333333333333333,
             "#9c179e"
            ],
            [
             0.4444444444444444,
             "#bd3786"
            ],
            [
             0.5555555555555556,
             "#d8576b"
            ],
            [
             0.6666666666666666,
             "#ed7953"
            ],
            [
             0.7777777777777778,
             "#fb9f3a"
            ],
            [
             0.8888888888888888,
             "#fdca26"
            ],
            [
             1,
             "#f0f921"
            ]
           ],
           "sequentialminus": [
            [
             0,
             "#0d0887"
            ],
            [
             0.1111111111111111,
             "#46039f"
            ],
            [
             0.2222222222222222,
             "#7201a8"
            ],
            [
             0.3333333333333333,
             "#9c179e"
            ],
            [
             0.4444444444444444,
             "#bd3786"
            ],
            [
             0.5555555555555556,
             "#d8576b"
            ],
            [
             0.6666666666666666,
             "#ed7953"
            ],
            [
             0.7777777777777778,
             "#fb9f3a"
            ],
            [
             0.8888888888888888,
             "#fdca26"
            ],
            [
             1,
             "#f0f921"
            ]
           ]
          },
          "colorway": [
           "#636efa",
           "#EF553B",
           "#00cc96",
           "#ab63fa",
           "#FFA15A",
           "#19d3f3",
           "#FF6692",
           "#B6E880",
           "#FF97FF",
           "#FECB52"
          ],
          "font": {
           "color": "#2a3f5f"
          },
          "geo": {
           "bgcolor": "white",
           "lakecolor": "white",
           "landcolor": "#E5ECF6",
           "showlakes": true,
           "showland": true,
           "subunitcolor": "white"
          },
          "hoverlabel": {
           "align": "left"
          },
          "hovermode": "closest",
          "mapbox": {
           "style": "light"
          },
          "paper_bgcolor": "white",
          "plot_bgcolor": "#E5ECF6",
          "polar": {
           "angularaxis": {
            "gridcolor": "white",
            "linecolor": "white",
            "ticks": ""
           },
           "bgcolor": "#E5ECF6",
           "radialaxis": {
            "gridcolor": "white",
            "linecolor": "white",
            "ticks": ""
           }
          },
          "scene": {
           "xaxis": {
            "backgroundcolor": "#E5ECF6",
            "gridcolor": "white",
            "gridwidth": 2,
            "linecolor": "white",
            "showbackground": true,
            "ticks": "",
            "zerolinecolor": "white"
           },
           "yaxis": {
            "backgroundcolor": "#E5ECF6",
            "gridcolor": "white",
            "gridwidth": 2,
            "linecolor": "white",
            "showbackground": true,
            "ticks": "",
            "zerolinecolor": "white"
           },
           "zaxis": {
            "backgroundcolor": "#E5ECF6",
            "gridcolor": "white",
            "gridwidth": 2,
            "linecolor": "white",
            "showbackground": true,
            "ticks": "",
            "zerolinecolor": "white"
           }
          },
          "shapedefaults": {
           "line": {
            "color": "#2a3f5f"
           }
          },
          "ternary": {
           "aaxis": {
            "gridcolor": "white",
            "linecolor": "white",
            "ticks": ""
           },
           "baxis": {
            "gridcolor": "white",
            "linecolor": "white",
            "ticks": ""
           },
           "bgcolor": "#E5ECF6",
           "caxis": {
            "gridcolor": "white",
            "linecolor": "white",
            "ticks": ""
           }
          },
          "title": {
           "x": 0.05
          },
          "xaxis": {
           "automargin": true,
           "gridcolor": "white",
           "linecolor": "white",
           "ticks": "",
           "title": {
            "standoff": 15
           },
           "zerolinecolor": "white",
           "zerolinewidth": 2
          },
          "yaxis": {
           "automargin": true,
           "gridcolor": "white",
           "linecolor": "white",
           "ticks": "",
           "title": {
            "standoff": 15
           },
           "zerolinecolor": "white",
           "zerolinewidth": 2
          }
         }
        },
        "title": {
         "text": "Average Salary vs Company Rating"
        },
        "xaxis": {
         "anchor": "y",
         "domain": [
          0,
          1
         ],
         "title": {
          "text": "Average Salary"
         }
        },
        "yaxis": {
         "anchor": "x",
         "domain": [
          0,
          1
         ],
         "title": {
          "text": "Company Rating"
         }
        }
       }
      }
     },
     "metadata": {},
     "output_type": "display_data"
    }
   ],
   "source": [
    "salary_rating = px.scatter(\n",
    "    ds,\n",
    "    x='avg_salary',\n",
    "    y='Rating',\n",
    "    title='Average Salary vs Company Rating',\n",
    "    labels={'avg_salary': 'Average Salary', 'Rating': 'Company Rating'}\n",
    ")\n",
    "\n",
    "salary_rating.add_hline(\n",
    "    y=mean_rating,\n",
    "    line_dash=\"dash\",\n",
    "    line_color=\"red\"\n",
    ")\n",
    "\n",
    "salary_rating.show()\n"
   ]
  },
  {
   "cell_type": "markdown",
   "metadata": {
    "id": "4WnrKhNQG9IM"
   },
   "source": [
    "Regarding the data in the above graph, it can be observed that there are above-average ratings at both the high and low ends of the salary spectrum. These ratings are heavily concentrated between $50,000 and $150,000. While this distribution makes it challenging to interpret the graph qualitatively, calculating the correlation can provide a clearer understanding of the relationship."
   ]
  },
  {
   "cell_type": "code",
   "execution_count": 31,
   "metadata": {
    "colab": {
     "base_uri": "https://localhost:8080/"
    },
    "id": "zh-FCiQlG9IM",
    "outputId": "2c04a393-c4f0-47e2-869e-5229d5e9ac29"
   },
   "outputs": [
    {
     "data": {
      "text/plain": [
       "0.1146"
      ]
     },
     "execution_count": 31,
     "metadata": {},
     "output_type": "execute_result"
    }
   ],
   "source": [
    "rating_correlation = (ds['avg_salary'].corr(ds['Rating'])).round(4)\n",
    "rating_correlation"
   ]
  },
  {
   "cell_type": "markdown",
   "metadata": {
    "id": "6xrwZfkuG9IN"
   },
   "source": [
    "With a correlation coefficient of 0.1146, this indicates a weak positive relationship between the average salary and company rating. The correlation is not strong enough to suggest that higher pay corresponds to better-rated jobs."
   ]
  },
  {
   "cell_type": "markdown",
   "metadata": {
    "id": "pIswT_57G9IN"
   },
   "source": [
    "### 5.4 Skills"
   ]
  },
  {
   "cell_type": "markdown",
   "metadata": {
    "id": "2IEBbmtnG9IN"
   },
   "source": [
    "Finally, I would like to determine if there are any additional tech skills that might be worth adding to my skillset."
   ]
  },
  {
   "cell_type": "code",
   "execution_count": 32,
   "metadata": {
    "colab": {
     "base_uri": "https://localhost:8080/",
     "height": 542
    },
    "id": "A-sQO48xG9IN",
    "outputId": "28addc05-42b3-4fbf-f9fc-d66578568bab"
   },
   "outputs": [
    {
     "data": {
      "application/vnd.plotly.v1+json": {
       "config": {
        "plotlyServerURL": "https://plot.ly"
       },
       "data": [
        {
         "alignmentgroup": "True",
         "hovertemplate": "<b>%{hovertext}</b><br><br>Skill Used=%{x}<br>Number of Times Used=%{marker.color}<extra></extra>",
         "hovertext": [
          "R_yn",
          "aws",
          "excel",
          "python_yn",
          "spark"
         ],
         "legendgroup": "",
         "marker": {
          "color": [
           2,
           110,
           245,
           257,
           111
          ],
          "coloraxis": "coloraxis",
          "pattern": {
           "shape": ""
          }
         },
         "name": "",
         "offsetgroup": "",
         "orientation": "v",
         "showlegend": false,
         "textposition": "auto",
         "type": "bar",
         "x": [
          "R_yn",
          "aws",
          "excel",
          "python_yn",
          "spark"
         ],
         "xaxis": "x",
         "y": [
          2,
          110,
          245,
          257,
          111
         ],
         "yaxis": "y"
        }
       ],
       "layout": {
        "barmode": "relative",
        "coloraxis": {
         "colorbar": {
          "title": {
           "text": "Number of Times Used"
          }
         },
         "colorscale": [
          [
           0,
           "#0d0887"
          ],
          [
           0.1111111111111111,
           "#46039f"
          ],
          [
           0.2222222222222222,
           "#7201a8"
          ],
          [
           0.3333333333333333,
           "#9c179e"
          ],
          [
           0.4444444444444444,
           "#bd3786"
          ],
          [
           0.5555555555555556,
           "#d8576b"
          ],
          [
           0.6666666666666666,
           "#ed7953"
          ],
          [
           0.7777777777777778,
           "#fb9f3a"
          ],
          [
           0.8888888888888888,
           "#fdca26"
          ],
          [
           1,
           "#f0f921"
          ]
         ]
        },
        "legend": {
         "tracegroupgap": 0
        },
        "template": {
         "data": {
          "bar": [
           {
            "error_x": {
             "color": "#2a3f5f"
            },
            "error_y": {
             "color": "#2a3f5f"
            },
            "marker": {
             "line": {
              "color": "#E5ECF6",
              "width": 0.5
             },
             "pattern": {
              "fillmode": "overlay",
              "size": 10,
              "solidity": 0.2
             }
            },
            "type": "bar"
           }
          ],
          "barpolar": [
           {
            "marker": {
             "line": {
              "color": "#E5ECF6",
              "width": 0.5
             },
             "pattern": {
              "fillmode": "overlay",
              "size": 10,
              "solidity": 0.2
             }
            },
            "type": "barpolar"
           }
          ],
          "carpet": [
           {
            "aaxis": {
             "endlinecolor": "#2a3f5f",
             "gridcolor": "white",
             "linecolor": "white",
             "minorgridcolor": "white",
             "startlinecolor": "#2a3f5f"
            },
            "baxis": {
             "endlinecolor": "#2a3f5f",
             "gridcolor": "white",
             "linecolor": "white",
             "minorgridcolor": "white",
             "startlinecolor": "#2a3f5f"
            },
            "type": "carpet"
           }
          ],
          "choropleth": [
           {
            "colorbar": {
             "outlinewidth": 0,
             "ticks": ""
            },
            "type": "choropleth"
           }
          ],
          "contour": [
           {
            "colorbar": {
             "outlinewidth": 0,
             "ticks": ""
            },
            "colorscale": [
             [
              0,
              "#0d0887"
             ],
             [
              0.1111111111111111,
              "#46039f"
             ],
             [
              0.2222222222222222,
              "#7201a8"
             ],
             [
              0.3333333333333333,
              "#9c179e"
             ],
             [
              0.4444444444444444,
              "#bd3786"
             ],
             [
              0.5555555555555556,
              "#d8576b"
             ],
             [
              0.6666666666666666,
              "#ed7953"
             ],
             [
              0.7777777777777778,
              "#fb9f3a"
             ],
             [
              0.8888888888888888,
              "#fdca26"
             ],
             [
              1,
              "#f0f921"
             ]
            ],
            "type": "contour"
           }
          ],
          "contourcarpet": [
           {
            "colorbar": {
             "outlinewidth": 0,
             "ticks": ""
            },
            "type": "contourcarpet"
           }
          ],
          "heatmap": [
           {
            "colorbar": {
             "outlinewidth": 0,
             "ticks": ""
            },
            "colorscale": [
             [
              0,
              "#0d0887"
             ],
             [
              0.1111111111111111,
              "#46039f"
             ],
             [
              0.2222222222222222,
              "#7201a8"
             ],
             [
              0.3333333333333333,
              "#9c179e"
             ],
             [
              0.4444444444444444,
              "#bd3786"
             ],
             [
              0.5555555555555556,
              "#d8576b"
             ],
             [
              0.6666666666666666,
              "#ed7953"
             ],
             [
              0.7777777777777778,
              "#fb9f3a"
             ],
             [
              0.8888888888888888,
              "#fdca26"
             ],
             [
              1,
              "#f0f921"
             ]
            ],
            "type": "heatmap"
           }
          ],
          "heatmapgl": [
           {
            "colorbar": {
             "outlinewidth": 0,
             "ticks": ""
            },
            "colorscale": [
             [
              0,
              "#0d0887"
             ],
             [
              0.1111111111111111,
              "#46039f"
             ],
             [
              0.2222222222222222,
              "#7201a8"
             ],
             [
              0.3333333333333333,
              "#9c179e"
             ],
             [
              0.4444444444444444,
              "#bd3786"
             ],
             [
              0.5555555555555556,
              "#d8576b"
             ],
             [
              0.6666666666666666,
              "#ed7953"
             ],
             [
              0.7777777777777778,
              "#fb9f3a"
             ],
             [
              0.8888888888888888,
              "#fdca26"
             ],
             [
              1,
              "#f0f921"
             ]
            ],
            "type": "heatmapgl"
           }
          ],
          "histogram": [
           {
            "marker": {
             "pattern": {
              "fillmode": "overlay",
              "size": 10,
              "solidity": 0.2
             }
            },
            "type": "histogram"
           }
          ],
          "histogram2d": [
           {
            "colorbar": {
             "outlinewidth": 0,
             "ticks": ""
            },
            "colorscale": [
             [
              0,
              "#0d0887"
             ],
             [
              0.1111111111111111,
              "#46039f"
             ],
             [
              0.2222222222222222,
              "#7201a8"
             ],
             [
              0.3333333333333333,
              "#9c179e"
             ],
             [
              0.4444444444444444,
              "#bd3786"
             ],
             [
              0.5555555555555556,
              "#d8576b"
             ],
             [
              0.6666666666666666,
              "#ed7953"
             ],
             [
              0.7777777777777778,
              "#fb9f3a"
             ],
             [
              0.8888888888888888,
              "#fdca26"
             ],
             [
              1,
              "#f0f921"
             ]
            ],
            "type": "histogram2d"
           }
          ],
          "histogram2dcontour": [
           {
            "colorbar": {
             "outlinewidth": 0,
             "ticks": ""
            },
            "colorscale": [
             [
              0,
              "#0d0887"
             ],
             [
              0.1111111111111111,
              "#46039f"
             ],
             [
              0.2222222222222222,
              "#7201a8"
             ],
             [
              0.3333333333333333,
              "#9c179e"
             ],
             [
              0.4444444444444444,
              "#bd3786"
             ],
             [
              0.5555555555555556,
              "#d8576b"
             ],
             [
              0.6666666666666666,
              "#ed7953"
             ],
             [
              0.7777777777777778,
              "#fb9f3a"
             ],
             [
              0.8888888888888888,
              "#fdca26"
             ],
             [
              1,
              "#f0f921"
             ]
            ],
            "type": "histogram2dcontour"
           }
          ],
          "mesh3d": [
           {
            "colorbar": {
             "outlinewidth": 0,
             "ticks": ""
            },
            "type": "mesh3d"
           }
          ],
          "parcoords": [
           {
            "line": {
             "colorbar": {
              "outlinewidth": 0,
              "ticks": ""
             }
            },
            "type": "parcoords"
           }
          ],
          "pie": [
           {
            "automargin": true,
            "type": "pie"
           }
          ],
          "scatter": [
           {
            "fillpattern": {
             "fillmode": "overlay",
             "size": 10,
             "solidity": 0.2
            },
            "type": "scatter"
           }
          ],
          "scatter3d": [
           {
            "line": {
             "colorbar": {
              "outlinewidth": 0,
              "ticks": ""
             }
            },
            "marker": {
             "colorbar": {
              "outlinewidth": 0,
              "ticks": ""
             }
            },
            "type": "scatter3d"
           }
          ],
          "scattercarpet": [
           {
            "marker": {
             "colorbar": {
              "outlinewidth": 0,
              "ticks": ""
             }
            },
            "type": "scattercarpet"
           }
          ],
          "scattergeo": [
           {
            "marker": {
             "colorbar": {
              "outlinewidth": 0,
              "ticks": ""
             }
            },
            "type": "scattergeo"
           }
          ],
          "scattergl": [
           {
            "marker": {
             "colorbar": {
              "outlinewidth": 0,
              "ticks": ""
             }
            },
            "type": "scattergl"
           }
          ],
          "scattermapbox": [
           {
            "marker": {
             "colorbar": {
              "outlinewidth": 0,
              "ticks": ""
             }
            },
            "type": "scattermapbox"
           }
          ],
          "scatterpolar": [
           {
            "marker": {
             "colorbar": {
              "outlinewidth": 0,
              "ticks": ""
             }
            },
            "type": "scatterpolar"
           }
          ],
          "scatterpolargl": [
           {
            "marker": {
             "colorbar": {
              "outlinewidth": 0,
              "ticks": ""
             }
            },
            "type": "scatterpolargl"
           }
          ],
          "scatterternary": [
           {
            "marker": {
             "colorbar": {
              "outlinewidth": 0,
              "ticks": ""
             }
            },
            "type": "scatterternary"
           }
          ],
          "surface": [
           {
            "colorbar": {
             "outlinewidth": 0,
             "ticks": ""
            },
            "colorscale": [
             [
              0,
              "#0d0887"
             ],
             [
              0.1111111111111111,
              "#46039f"
             ],
             [
              0.2222222222222222,
              "#7201a8"
             ],
             [
              0.3333333333333333,
              "#9c179e"
             ],
             [
              0.4444444444444444,
              "#bd3786"
             ],
             [
              0.5555555555555556,
              "#d8576b"
             ],
             [
              0.6666666666666666,
              "#ed7953"
             ],
             [
              0.7777777777777778,
              "#fb9f3a"
             ],
             [
              0.8888888888888888,
              "#fdca26"
             ],
             [
              1,
              "#f0f921"
             ]
            ],
            "type": "surface"
           }
          ],
          "table": [
           {
            "cells": {
             "fill": {
              "color": "#EBF0F8"
             },
             "line": {
              "color": "white"
             }
            },
            "header": {
             "fill": {
              "color": "#C8D4E3"
             },
             "line": {
              "color": "white"
             }
            },
            "type": "table"
           }
          ]
         },
         "layout": {
          "annotationdefaults": {
           "arrowcolor": "#2a3f5f",
           "arrowhead": 0,
           "arrowwidth": 1
          },
          "autotypenumbers": "strict",
          "coloraxis": {
           "colorbar": {
            "outlinewidth": 0,
            "ticks": ""
           }
          },
          "colorscale": {
           "diverging": [
            [
             0,
             "#8e0152"
            ],
            [
             0.1,
             "#c51b7d"
            ],
            [
             0.2,
             "#de77ae"
            ],
            [
             0.3,
             "#f1b6da"
            ],
            [
             0.4,
             "#fde0ef"
            ],
            [
             0.5,
             "#f7f7f7"
            ],
            [
             0.6,
             "#e6f5d0"
            ],
            [
             0.7,
             "#b8e186"
            ],
            [
             0.8,
             "#7fbc41"
            ],
            [
             0.9,
             "#4d9221"
            ],
            [
             1,
             "#276419"
            ]
           ],
           "sequential": [
            [
             0,
             "#0d0887"
            ],
            [
             0.1111111111111111,
             "#46039f"
            ],
            [
             0.2222222222222222,
             "#7201a8"
            ],
            [
             0.3333333333333333,
             "#9c179e"
            ],
            [
             0.4444444444444444,
             "#bd3786"
            ],
            [
             0.5555555555555556,
             "#d8576b"
            ],
            [
             0.6666666666666666,
             "#ed7953"
            ],
            [
             0.7777777777777778,
             "#fb9f3a"
            ],
            [
             0.8888888888888888,
             "#fdca26"
            ],
            [
             1,
             "#f0f921"
            ]
           ],
           "sequentialminus": [
            [
             0,
             "#0d0887"
            ],
            [
             0.1111111111111111,
             "#46039f"
            ],
            [
             0.2222222222222222,
             "#7201a8"
            ],
            [
             0.3333333333333333,
             "#9c179e"
            ],
            [
             0.4444444444444444,
             "#bd3786"
            ],
            [
             0.5555555555555556,
             "#d8576b"
            ],
            [
             0.6666666666666666,
             "#ed7953"
            ],
            [
             0.7777777777777778,
             "#fb9f3a"
            ],
            [
             0.8888888888888888,
             "#fdca26"
            ],
            [
             1,
             "#f0f921"
            ]
           ]
          },
          "colorway": [
           "#636efa",
           "#EF553B",
           "#00cc96",
           "#ab63fa",
           "#FFA15A",
           "#19d3f3",
           "#FF6692",
           "#B6E880",
           "#FF97FF",
           "#FECB52"
          ],
          "font": {
           "color": "#2a3f5f"
          },
          "geo": {
           "bgcolor": "white",
           "lakecolor": "white",
           "landcolor": "#E5ECF6",
           "showlakes": true,
           "showland": true,
           "subunitcolor": "white"
          },
          "hoverlabel": {
           "align": "left"
          },
          "hovermode": "closest",
          "mapbox": {
           "style": "light"
          },
          "paper_bgcolor": "white",
          "plot_bgcolor": "#E5ECF6",
          "polar": {
           "angularaxis": {
            "gridcolor": "white",
            "linecolor": "white",
            "ticks": ""
           },
           "bgcolor": "#E5ECF6",
           "radialaxis": {
            "gridcolor": "white",
            "linecolor": "white",
            "ticks": ""
           }
          },
          "scene": {
           "xaxis": {
            "backgroundcolor": "#E5ECF6",
            "gridcolor": "white",
            "gridwidth": 2,
            "linecolor": "white",
            "showbackground": true,
            "ticks": "",
            "zerolinecolor": "white"
           },
           "yaxis": {
            "backgroundcolor": "#E5ECF6",
            "gridcolor": "white",
            "gridwidth": 2,
            "linecolor": "white",
            "showbackground": true,
            "ticks": "",
            "zerolinecolor": "white"
           },
           "zaxis": {
            "backgroundcolor": "#E5ECF6",
            "gridcolor": "white",
            "gridwidth": 2,
            "linecolor": "white",
            "showbackground": true,
            "ticks": "",
            "zerolinecolor": "white"
           }
          },
          "shapedefaults": {
           "line": {
            "color": "#2a3f5f"
           }
          },
          "ternary": {
           "aaxis": {
            "gridcolor": "white",
            "linecolor": "white",
            "ticks": ""
           },
           "baxis": {
            "gridcolor": "white",
            "linecolor": "white",
            "ticks": ""
           },
           "bgcolor": "#E5ECF6",
           "caxis": {
            "gridcolor": "white",
            "linecolor": "white",
            "ticks": ""
           }
          },
          "title": {
           "x": 0.05
          },
          "xaxis": {
           "automargin": true,
           "gridcolor": "white",
           "linecolor": "white",
           "ticks": "",
           "title": {
            "standoff": 15
           },
           "zerolinecolor": "white",
           "zerolinewidth": 2
          },
          "yaxis": {
           "automargin": true,
           "gridcolor": "white",
           "linecolor": "white",
           "ticks": "",
           "title": {
            "standoff": 15
           },
           "zerolinecolor": "white",
           "zerolinewidth": 2
          }
         }
        },
        "title": {
         "text": "Skills Used"
        },
        "xaxis": {
         "anchor": "y",
         "domain": [
          0,
          1
         ],
         "title": {
          "text": "Skill Used"
         }
        },
        "yaxis": {
         "anchor": "x",
         "domain": [
          0,
          1
         ],
         "title": {
          "text": "Number of Times Used"
         }
        }
       }
      }
     },
     "metadata": {},
     "output_type": "display_data"
    }
   ],
   "source": [
    "skill_bar = px.bar(\n",
    "    skill_stats,\n",
    "    x='skill',\n",
    "    y='total',\n",
    "    color='total',\n",
    "    hover_name='skill',\n",
    "    labels={'skill': 'Skill Used', 'total': 'Number of Times Used'},\n",
    "    title='Skills Used'\n",
    ")\n",
    "skill_bar.show()"
   ]
  },
  {
   "cell_type": "markdown",
   "metadata": {
    "id": "HhCBcf9ZG9IN"
   },
   "source": [
    "Based on the analysis, I've identified the following key skills and their relevance to my career development:\n",
    "\n",
    "- The most used skills are Python and Excel, both of which I am experienced in.\n",
    "- AWS and Spark are also highly used; I plan to gain a better understanding of Spark and might pursue an AWS certification in the future.\n",
    "- The programming language R appears to be less valuable to learn at this time, as it is the lowest-paid skill on average."
   ]
  },
  {
   "cell_type": "markdown",
   "metadata": {
    "id": "-A8X1GJsG9IN"
   },
   "source": [
    "## 6 Conclusion"
   ]
  },
  {
   "cell_type": "markdown",
   "metadata": {
    "id": "QPbaGlmyG9IN"
   },
   "source": [
    "After analyzing the data, I've come to understand several key outlooks. Firstly, in terms of skill development, I believe I am on the right track to achieve my career goals. Secondly, it can be seen that a high salary doesn't necessarily equate to a high job rating. From personal experience, job satisfaction is often based on how much you enjoy the work, which would be an interesting topic for further analysis. Additionally, based on the industries I have the most experience with and their average salaries, I should expect to easily make close to $100,000."
   ]
  }
 ],
 "metadata": {
  "colab": {
   "include_colab_link": true,
   "provenance": []
  },
  "kernelspec": {
   "display_name": "base",
   "language": "python",
   "name": "python3"
  },
  "language_info": {
   "codemirror_mode": {
    "name": "ipython",
    "version": 3
   },
   "file_extension": ".py",
   "mimetype": "text/x-python",
   "name": "python",
   "nbconvert_exporter": "python",
   "pygments_lexer": "ipython3",
   "version": "3.11.7"
  }
 },
 "nbformat": 4,
 "nbformat_minor": 0
}
