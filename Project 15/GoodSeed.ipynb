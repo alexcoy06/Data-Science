{
 "cells": [
  {
   "cell_type": "markdown",
   "metadata": {},
   "source": [
    "# Good Seed"
   ]
  },
  {
   "cell_type": "markdown",
   "metadata": {},
   "source": [
    "## 1-Overview"
   ]
  },
  {
   "cell_type": "markdown",
   "metadata": {},
   "source": [
    "Good Seed, a supermarket chain, is interested in using Data Science to ensure compliance with alcohol laws by preventing alcohol sales to underage individuals. I’m tasked with evaluating the feasibility of this approach. Each store has cameras at checkout counters, programmed to activate when someone purchases alcohol. Using computer vision, I aim to estimate customers' ages from these photos. My objective is to build and evaluate a model capable of verifying age. To start, I’ll work with a dataset of labeled photos, each indicating the person’s age, allowing me to train and test the model effectively."
   ]
  },
  {
   "cell_type": "markdown",
   "metadata": {
    "deletable": false,
    "editable": false
   },
   "source": [
    "## 2-Initialization"
   ]
  },
  {
   "cell_type": "markdown",
   "metadata": {},
   "source": [
    "Imports in Jupyter notebooks allow users to access external libraries for extended functionality and facilitate code organization by declaring dependencies at the beginning of the notebook, ensuring clear and efficient development."
   ]
  },
  {
   "cell_type": "code",
   "execution_count": null,
   "metadata": {},
   "outputs": [],
   "source": [
    "import pandas as pd\n",
    "import matplotlib.pyplot as plt\n",
    "import seaborn as sns\n",
    "import pandas as pd\n",
    "import inspect\n",
    "import tensorflow as tf\n",
    "from tensorflow.keras.preprocessing.image import ImageDataGenerator\n",
    "from tensorflow.keras.applications.resnet import ResNet50\n",
    "from tensorflow.keras.models import Sequential\n",
    "from tensorflow.keras.layers import GlobalAveragePooling2D, Dense, Dropout, Flatten\n",
    "from tensorflow.keras.optimizers import Adam"
   ]
  },
  {
   "cell_type": "markdown",
   "metadata": {},
   "source": [
    "1. **Pandas**: is a Python library for data manipulation and analysis, providing data structures like DataFrames for managing labeled data.\n",
    "2. **Matplotlib**: is a Python library for creating static, interactive, and animated visualizations, offering a flexible environment for plotting data.\n",
    "3. **Seaborn**: is a Python library built on Matplotlib that simplifies the creation of statistical visualizations, offering tools for drawing attractive and informative graphics.\n",
    "4. **Inspect**: is to examine something carefully, often to assess its quality, condition, or discover specific details.\n",
    "5. **TensorFlow**: is a Python library for building and training machine learning models, offering tools for deep learning and neural networks with efficient computation on various hardware.\n"
   ]
  },
  {
   "cell_type": "markdown",
   "metadata": {},
   "source": [
    "## 3-Load Data"
   ]
  },
  {
   "cell_type": "markdown",
   "metadata": {},
   "source": [
    "The dataset for this project is stored on the TripleTen server in the `/datasets/faces/` directory, which includes a `final_files` folder with 7,600 images and a `labels.csv` file containing `file_name` and `real_age` columns. Given the large file size, downloading or storing these files locally or on GitHub is impractical, so I’ll access the data directly from the server. To optimize memory use, I’ll leverage `ImageDataGenerator` to load images in batches rather than all at once. This technique, covered in Chapter 3, Lesson 7 of the course materials, allows me to manage the dataset effectively without overloading computational resources."
   ]
  },
  {
   "cell_type": "code",
   "execution_count": 2,
   "metadata": {},
   "outputs": [
    {
     "data": {
      "text/html": [
       "<div>\n",
       "<style scoped>\n",
       "    .dataframe tbody tr th:only-of-type {\n",
       "        vertical-align: middle;\n",
       "    }\n",
       "\n",
       "    .dataframe tbody tr th {\n",
       "        vertical-align: top;\n",
       "    }\n",
       "\n",
       "    .dataframe thead th {\n",
       "        text-align: right;\n",
       "    }\n",
       "</style>\n",
       "<table border=\"1\" class=\"dataframe\">\n",
       "  <thead>\n",
       "    <tr style=\"text-align: right;\">\n",
       "      <th></th>\n",
       "      <th>file_name</th>\n",
       "      <th>real_age</th>\n",
       "    </tr>\n",
       "  </thead>\n",
       "  <tbody>\n",
       "    <tr>\n",
       "      <th>0</th>\n",
       "      <td>000000.jpg</td>\n",
       "      <td>4</td>\n",
       "    </tr>\n",
       "    <tr>\n",
       "      <th>1</th>\n",
       "      <td>000001.jpg</td>\n",
       "      <td>18</td>\n",
       "    </tr>\n",
       "    <tr>\n",
       "      <th>2</th>\n",
       "      <td>000002.jpg</td>\n",
       "      <td>80</td>\n",
       "    </tr>\n",
       "    <tr>\n",
       "      <th>3</th>\n",
       "      <td>000003.jpg</td>\n",
       "      <td>50</td>\n",
       "    </tr>\n",
       "    <tr>\n",
       "      <th>4</th>\n",
       "      <td>000004.jpg</td>\n",
       "      <td>17</td>\n",
       "    </tr>\n",
       "    <tr>\n",
       "      <th>...</th>\n",
       "      <td>...</td>\n",
       "      <td>...</td>\n",
       "    </tr>\n",
       "    <tr>\n",
       "      <th>7586</th>\n",
       "      <td>007608.jpg</td>\n",
       "      <td>14</td>\n",
       "    </tr>\n",
       "    <tr>\n",
       "      <th>7587</th>\n",
       "      <td>007609.jpg</td>\n",
       "      <td>37</td>\n",
       "    </tr>\n",
       "    <tr>\n",
       "      <th>7588</th>\n",
       "      <td>007610.jpg</td>\n",
       "      <td>28</td>\n",
       "    </tr>\n",
       "    <tr>\n",
       "      <th>7589</th>\n",
       "      <td>007611.jpg</td>\n",
       "      <td>20</td>\n",
       "    </tr>\n",
       "    <tr>\n",
       "      <th>7590</th>\n",
       "      <td>007612.jpg</td>\n",
       "      <td>47</td>\n",
       "    </tr>\n",
       "  </tbody>\n",
       "</table>\n",
       "<p>7591 rows × 2 columns</p>\n",
       "</div>"
      ],
      "text/plain": [
       "       file_name  real_age\n",
       "0     000000.jpg         4\n",
       "1     000001.jpg        18\n",
       "2     000002.jpg        80\n",
       "3     000003.jpg        50\n",
       "4     000004.jpg        17\n",
       "...          ...       ...\n",
       "7586  007608.jpg        14\n",
       "7587  007609.jpg        37\n",
       "7588  007610.jpg        28\n",
       "7589  007611.jpg        20\n",
       "7590  007612.jpg        47\n",
       "\n",
       "[7591 rows x 2 columns]"
      ]
     },
     "execution_count": 2,
     "metadata": {},
     "output_type": "execute_result"
    }
   ],
   "source": [
    "labels_path = '/datasets/faces/labels.csv'\n",
    "df = pd.read_csv(labels_path)\n",
    "df"
   ]
  },
  {
   "cell_type": "markdown",
   "metadata": {},
   "source": [
    "The `labels.csv` file contains two columns: `file_name`, which identifies each specific photo, and `real_age`, which indicates the age of the person in each photo."
   ]
  },
  {
   "cell_type": "markdown",
   "metadata": {},
   "source": [
    "## 4-EDA"
   ]
  },
  {
   "cell_type": "markdown",
   "metadata": {},
   "source": [
    "With only two columns, analyzing the data is straightforward."
   ]
  },
  {
   "cell_type": "code",
   "execution_count": 3,
   "metadata": {},
   "outputs": [
    {
     "data": {
      "image/png": "[encoded data removed]",
      "text/plain": [
       "<Figure size 1000x600 with 1 Axes>"
      ]
     },
     "metadata": {},
     "output_type": "display_data"
    }
   ],
   "source": [
    "plt.figure(figsize=(10, 6))\n",
    "sns.histplot(df['real_age'], bins=30, kde=True)\n",
    "plt.title('Age Distribution in the Dataset')\n",
    "plt.xlabel('Age')\n",
    "plt.ylabel('Frequency')\n",
    "plt.show()"
   ]
  },
  {
   "cell_type": "markdown",
   "metadata": {},
   "source": [
    "The histogram shows the age distribution in a dataset, with ages on the x-axis (0 to 100) and frequency on the y-axis. Most individuals fall between ages 10 and 30, peaking around the early 20s, and the frequency decreases steadily with age, indicating a right-skewed distribution. The smooth line overlay highlights this trend, suggesting the dataset contains predominantly younger to middle-aged individuals with fewer older ones."
   ]
  },
  {
   "cell_type": "markdown",
   "metadata": {},
   "source": [
    "## 5-Modelling"
   ]
  },
  {
   "cell_type": "markdown",
   "metadata": {},
   "source": [
    "I will define the essential functions needed to train my model on a GPU and create a single script that includes these functions along with an initialization section.\n",
    "\n",
    "To streamline this process, I can define the functions in this notebook and use a pre-written code in the next section to automatically compile the script."
   ]
  },
  {
   "cell_type": "code",
   "execution_count": 5,
   "metadata": {},
   "outputs": [],
   "source": [
    "def load_train(path):\n",
    "    # Define the ImageDataGenerator for training\n",
    "    train_datagen = ImageDataGenerator(rescale=1./255, validation_split=0.2)\n",
    "    train_gen_flow = train_datagen.flow_from_directory(\n",
    "        path,\n",
    "        target_size=(224, 224),\n",
    "        batch_size=32,\n",
    "        class_mode='binary',\n",
    "        subset='training'\n",
    "    )\n",
    "    return train_gen_flow"
   ]
  },
  {
   "cell_type": "markdown",
   "metadata": {},
   "source": [
    "The `load_train` function prepares a data generator for training images from a given directory path. It uses Keras's `ImageDataGenerator` to rescale pixel values to the range [0, 1] by dividing by 255 and applies a 20% validation split. The `flow_from_directory` method creates a generator that loads images in batches of 32, resizes them to 224x224 pixels, and is configured for binary classification (`class_mode='binary'`). This generator, `train_gen_flow`, is returned by the function and can be used to load and preprocess images in batches during model training."
   ]
  },
  {
   "cell_type": "code",
   "execution_count": 6,
   "metadata": {},
   "outputs": [],
   "source": [
    "def load_test(path):\n",
    "    # Define the ImageDataGenerator for validation\n",
    "    test_datagen = ImageDataGenerator(rescale=1./255, validation_split=0.2)\n",
    "    test_gen_flow = test_datagen.flow_from_directory(\n",
    "        path,\n",
    "        target_size=(224, 224),\n",
    "        batch_size=32,\n",
    "        class_mode='binary',\n",
    "        subset='validation'\n",
    "    )\n",
    "    return test_gen_flow"
   ]
  },
  {
   "cell_type": "markdown",
   "metadata": {},
   "source": [
    "The `load_test` function creates a data generator for validation images from a specified directory path. It uses Keras's `ImageDataGenerator` with rescaling, dividing pixel values by 255 to normalize them to the range [0, 1], and applies a 20% split to separate validation data. The `flow_from_directory` method is used to load images in batches of 32, resize them to 224x224 pixels, and set up the generator for binary classification (`class_mode='binary`). The generator uses the 'validation' subset to ensure only the validation portion of the data is loaded, making `test_gen_flow` suitable for evaluating a model's performance on unseen data."
   ]
  },
  {
   "cell_type": "code",
   "execution_count": 7,
   "metadata": {},
   "outputs": [],
   "source": [
    "def create_model(input_shape=(224, 224, 3)):\n",
    "    model = Sequential([\n",
    "        ResNet50(weights='imagenet', include_top=False, input_shape=input_shape),\n",
    "        GlobalAveragePooling2D(),\n",
    "        Flatten(),\n",
    "        Dense(256, activation='relu'),\n",
    "        Dropout(0.5),\n",
    "        Dense(1, activation='linear')\n",
    "    ])\n",
    "    model.compile(optimizer=Adam(learning_rate=0.0001), loss='mae', metrics=['mae'])\n",
    "    return model"
   ]
  },
  {
   "cell_type": "markdown",
   "metadata": {},
   "source": [
    "The `create_model` function builds a CNN for image regression tasks. It uses `ResNet50` (pre-trained on ImageNet) as a feature extractor, excluding its top layers. After `ResNet50`, it adds `GlobalAveragePooling2D`, `Flatten`, a dense layer with 256 units (ReLU activation), and a `Dropout` layer (0.5) to prevent overfitting. The final layer has a single neuron with a `linear` activation for regression. The model is compiled with the Adam optimizer (learning rate of 0.0001) and Mean Absolute Error (`mae`) as the loss and metric. It returns the compiled model, ready for training."
   ]
  },
  {
   "cell_type": "code",
   "execution_count": 8,
   "metadata": {},
   "outputs": [],
   "source": [
    "def train_model(model, train_data, test_data, batch_size=32, epochs=20, steps_per_epoch=None, validation_steps=None):\n",
    "    history = model.fit(\n",
    "        train_data,\n",
    "        validation_data=test_data,\n",
    "        epochs=epochs,\n",
    "        steps_per_epoch=steps_per_epoch,\n",
    "        validation_steps=validation_steps\n",
    "    )\n",
    "    return model"
   ]
  },
  {
   "cell_type": "markdown",
   "metadata": {},
   "source": [
    "The `train_model` function trains a given model using provided training and validation data. It calls the model's `fit` method, using `train_data` as the training data and `test_data` for validation. The training process runs for a specified number of `epochs` (default 20) with an optional `batch_size` (default 32), and optionally accepts `steps_per_epoch` and `validation_steps` to control the number of steps per epoch and validation. The function stores the training history but returns only the trained model. This setup allows flexible training and validation configurations, suitable for custom data generators."
   ]
  },
  {
   "cell_type": "markdown",
   "metadata": {},
   "source": [
    "### 5.1-Prepare the Script to Run on the GPU Platform"
   ]
  },
  {
   "cell_type": "markdown",
   "metadata": {},
   "source": [
    "Once I’ve defined the necessary functions, I can compile a script for the GPU platform, which includes an initialization section. I can download the script through the \"File | Open...\" menu and later upload it to run on the GPU platform."
   ]
  },
  {
   "cell_type": "code",
   "execution_count": null,
   "metadata": {},
   "outputs": [],
   "source": [
    "\n",
    "# Create script for GPU execution\n",
    "init_str = \"\"\"\n",
    "import pandas as pd\n",
    "import tensorflow as tf\n",
    "from tensorflow.keras.preprocessing.image import ImageDataGenerator\n",
    "from tensorflow.keras.applications.resnet import ResNet50\n",
    "from tensorflow.keras.models import Sequential\n",
    "from tensorflow.keras.layers import GlobalAveragePooling2D, Dense, Dropout, Flatten\n",
    "from tensorflow.keras.optimizers import Adam\n",
    "\"\"\"\n",
    "\n",
    "with open('run_model_on_gpu.py', 'w') as f:\n",
    "    f.write(init_str)\n",
    "    f.write('\\n\\n')\n",
    "    \n",
    "    for fn_name in [load_train, load_test, create_model, train_model]:\n",
    "        src = inspect.getsource(fn_name)\n",
    "        f.write(src)\n",
    "        f.write('\\n\\n')\n"
   ]
  },
  {
   "cell_type": "markdown",
   "metadata": {},
   "source": [
    "To create a script for GPU execution, I initialize a string (`init_str`) that imports essential libraries like `pandas`, `tensorflow`, and components from `tensorflow.keras`, including `ResNet50`, `Sequential`, and layers such as `GlobalAveragePooling2D`, `Dense`, `Dropout`, `Flatten`, and `Adam`. This setup ensures all dependencies are readily available for model training on the GPU.\n",
    "\n",
    "Using a `with` statement, I open a new file named `run_model_on_gpu.py` in write mode. I first write the `init_str` to the file, then iterate through a list of defined functions (`load_train`, `load_test`, `create_model`, `train_model`). For each function, I use `inspect.getsource()` to retrieve the function's source code and append it to the script file. This approach consolidates all necessary code into a single script, making it ready for GPU execution."
   ]
  },
  {
   "cell_type": "markdown",
   "metadata": {},
   "source": [
    "### 5.2-Output"
   ]
  },
  {
   "cell_type": "markdown",
   "metadata": {},
   "source": [
    "As the title suggests, the output is as follows:"
   ]
  },
  {
   "cell_type": "markdown",
   "metadata": {},
   "source": [
    "Epoch 1/20  \n",
    "356/356 - 35s - loss: 95.3532 - mae: 7.4339 - val_loss: 124.3362 - val_mae: 8.4921  \n",
    "Epoch 2/20  \n",
    "356/356 - 35s - loss: 76.8372 - mae: 6.6707 - val_loss: 127.6357 - val_mae: 8.6035  \n",
    "Epoch 3/20  \n",
    "356/356 - 35s - loss: 69.9428 - mae: 6.3992 - val_loss: 91.1531 - val_mae: 7.4454  \n",
    "Epoch 4/20  \n",
    "356/356 - 35s - loss: 64.4249 - mae: 6.1407 - val_loss: 124.0287 - val_mae: 8.3481  \n",
    "Epoch 5/20  \n",
    "356/356 - 35s - loss: 52.8486 - mae: 5.5913 - val_loss: 109.1004 - val_mae: 8.2192  \n",
    "Epoch 6/20  \n",
    "356/356 - 35s - loss: 46.3094 - mae: 5.2223 - val_loss: 85.1038 - val_mae: 7.0332  \n",
    "Epoch 7/20  \n",
    "356/356 - 35s - loss: 38.2617 - mae: 4.7951 - val_loss: 92.0900 - val_mae: 7.3359  \n",
    "Epoch 8/20  \n",
    "356/356 - 35s - loss: 37.4804 - mae: 4.7402 - val_loss: 80.0016 - val_mae: 6.7239  \n",
    "Epoch 9/20  \n",
    "356/356 - 35s - loss: 33.5237 - mae: 4.4271 - val_loss: 83.2579 - val_mae: 6.8529  \n",
    "Epoch 10/20  \n",
    "356/356 - 35s - loss: 28.5170 - mae: 4.1411 - val_loss: 83.5056 - val_mae: 6.9629  \n",
    "Epoch 11/20  \n",
    "356/356 - 35s - loss: 27.0142 - mae: 3.9700 - val_loss: 92.1290 - val_mae: 7.1866  \n",
    "Epoch 12/20  \n",
    "356/356 - 35s - loss: 27.4564 - mae: 4.0428 - val_loss: 185.6307 - val_mae: 11.4591  \n",
    "Epoch 13/20  \n",
    "356/356 - 35s - loss: 23.7961 - mae: 3.7407 - val_loss: 92.3429 - val_mae: 7.2467  \n",
    "Epoch 14/20  \n",
    "356/356 - 35s - loss: 24.6167 - mae: 3.8116 - val_loss: 92.4542 - val_mae: 7.1401  \n",
    "Epoch 15/20  \n",
    "356/356 - 35s - loss: 22.2604 - mae: 3.6746 - val_loss: 82.5822 - val_mae: 6.7841  \n",
    "Epoch 16/20  \n",
    "356/356 - 35s - loss: 20.1899 - mae: 3.4430 - val_loss: 86.3830 - val_mae: 6.8304  \n",
    "Epoch 17/20  \n",
    "356/356 - 35s - loss: 17.3425 - mae: 3.2205 - val_loss: 78.4369 - val_mae: 6.6419  \n",
    "Epoch 18/20  \n",
    "356/356 - 35s - loss: 16.5249 - mae: 3.1295 - val_loss: 81.7731 - val_mae: 6.7226  \n",
    "Epoch 19/20  \n",
    "356/356 - 35s - loss: 16.6140 - mae: 3.1421 - val_loss: 80.9727 - val_mae: 6.9908  \n",
    "Epoch 20/20  \n",
    "356/356 - 35s - loss: 17.0187 - mae: 3.1785 - val_loss: 93.4115 - val_mae: 7.6512  "
   ]
  },
  {
   "cell_type": "markdown",
   "metadata": {},
   "source": [
    "- **Loss and MAE Improvement:** The model’s training loss and mean absolute error (MAE) decreased consistently, moving from a loss of 95.35 and MAE of 7.43 in Epoch 1 to a final loss of 17.02 and MAE of 3.18 in Epoch 20.\n",
    "- **Validation Performance:** The validation loss and MAE showed some fluctuation, with an initial high at 124.34 and 8.49 in Epoch 1. While validation loss varied, it generally trended lower, reaching 78.44 and 6.64 in Epoch 17, then rising slightly in the final epochs, ending with a validation loss of 93.41 and MAE of 7.65.\n",
    "- **Best Epoch:** The lowest validation loss (78.44) and MAE (6.64) were achieved at Epoch 17, suggesting this might be a suitable stopping point if optimizing for validation performance."
   ]
  },
  {
   "cell_type": "markdown",
   "metadata": {},
   "source": [
    "## 6-Conclusions"
   ]
  },
  {
   "cell_type": "markdown",
   "metadata": {},
   "source": [
    "The model effectively reduced training loss and MAE over 20 epochs, with optimal validation performance at Epoch 17. After this point, slight increases in validation error suggest possible overfitting. In conclusion, early stopping around Epoch 17 would likely maximize accuracy while minimizing overfitting."
   ]
  }
 ],
 "metadata": {
  "ExecuteTimeLog": [
   {
    "duration": 165,
    "start_time": "2024-11-09T21:22:43.572Z"
   },
   {
    "duration": 298,
    "start_time": "2024-11-09T21:22:54.680Z"
   },
   {
    "duration": 24,
    "start_time": "2024-11-09T21:22:57.192Z"
   },
   {
    "duration": 15,
    "start_time": "2024-11-09T21:23:23.524Z"
   },
   {
    "duration": 180,
    "start_time": "2024-11-09T21:23:49.454Z"
   },
   {
    "duration": 3227,
    "start_time": "2024-11-09T21:24:19.885Z"
   },
   {
    "duration": 28,
    "start_time": "2024-11-09T21:24:23.115Z"
   },
   {
    "duration": 292,
    "start_time": "2024-11-09T21:24:23.146Z"
   },
   {
    "duration": 0,
    "start_time": "2024-11-09T21:24:23.443Z"
   },
   {
    "duration": 0,
    "start_time": "2024-11-09T21:24:23.446Z"
   },
   {
    "duration": 0,
    "start_time": "2024-11-09T21:24:23.449Z"
   },
   {
    "duration": 0,
    "start_time": "2024-11-09T21:24:23.451Z"
   },
   {
    "duration": 0,
    "start_time": "2024-11-09T21:24:23.453Z"
   },
   {
    "duration": 0,
    "start_time": "2024-11-09T21:24:23.455Z"
   },
   {
    "duration": 931,
    "start_time": "2024-11-09T21:24:40.855Z"
   },
   {
    "duration": 21,
    "start_time": "2024-11-09T21:24:41.791Z"
   },
   {
    "duration": 404,
    "start_time": "2024-11-09T21:24:41.813Z"
   },
   {
    "duration": 1843,
    "start_time": "2024-11-09T21:24:42.219Z"
   },
   {
    "duration": 4,
    "start_time": "2024-11-09T21:24:44.067Z"
   },
   {
    "duration": 3,
    "start_time": "2024-11-09T21:24:44.073Z"
   },
   {
    "duration": 3,
    "start_time": "2024-11-09T21:24:44.077Z"
   },
   {
    "duration": 7,
    "start_time": "2024-11-09T21:24:44.086Z"
   },
   {
    "duration": 13,
    "start_time": "2024-11-09T21:24:44.095Z"
   },
   {
    "duration": 1977,
    "start_time": "2024-11-09T21:45:10.361Z"
   },
   {
    "duration": 21,
    "start_time": "2024-11-09T21:45:12.342Z"
   },
   {
    "duration": 292,
    "start_time": "2024-11-09T21:45:12.364Z"
   },
   {
    "duration": 6,
    "start_time": "2024-11-09T21:45:12.658Z"
   },
   {
    "duration": 4,
    "start_time": "2024-11-09T21:45:12.666Z"
   },
   {
    "duration": 15,
    "start_time": "2024-11-09T21:45:12.671Z"
   },
   {
    "duration": 4,
    "start_time": "2024-11-09T21:45:12.688Z"
   },
   {
    "duration": 4,
    "start_time": "2024-11-09T21:45:12.693Z"
   },
   {
    "duration": 15,
    "start_time": "2024-11-09T21:45:12.698Z"
   },
   {
    "duration": 1975,
    "start_time": "2024-11-09T21:56:34.017Z"
   },
   {
    "duration": 19,
    "start_time": "2024-11-09T21:56:35.995Z"
   },
   {
    "duration": 316,
    "start_time": "2024-11-09T21:56:36.016Z"
   },
   {
    "duration": 4,
    "start_time": "2024-11-09T21:56:36.334Z"
   },
   {
    "duration": 2,
    "start_time": "2024-11-09T21:56:36.341Z"
   },
   {
    "duration": 3,
    "start_time": "2024-11-09T21:56:36.345Z"
   },
   {
    "duration": 3,
    "start_time": "2024-11-09T21:56:36.350Z"
   },
   {
    "duration": 3,
    "start_time": "2024-11-09T21:56:36.355Z"
   },
   {
    "duration": 40,
    "start_time": "2024-11-09T21:56:36.360Z"
   }
  ],
  "kernelspec": {
   "display_name": "base",
   "language": "python",
   "name": "python3"
  },
  "language_info": {
   "codemirror_mode": {
    "name": "ipython",
    "version": 3
   },
   "file_extension": ".py",
   "mimetype": "text/x-python",
   "name": "python",
   "nbconvert_exporter": "python",
   "pygments_lexer": "ipython3",
   "version": "3.11.7"
  },
  "toc": {
   "base_numbering": 1,
   "nav_menu": {},
   "number_sections": true,
   "sideBar": true,
   "skip_h1_title": true,
   "title_cell": "Table of Contents",
   "title_sidebar": "Contents",
   "toc_cell": false,
   "toc_position": {},
   "toc_section_display": true,
   "toc_window_display": false
  }
 },
 "nbformat": 4,
 "nbformat_minor": 4
}
