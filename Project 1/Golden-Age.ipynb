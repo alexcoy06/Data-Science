{
 "cells": [
  {
   "cell_type": "markdown",
   "id": "c790903c",
   "metadata": {
    "colab_type": "text",
    "id": "view-in-github"
   },
   "source": [
    "<a href=\"https://colab.research.google.com/github/alexcoy06/Data-Science/blob/main/Project%201/Golden-Age.ipynb\" target=\"_parent\"><img src=\"https://colab.research.google.com/assets/colab-badge.svg\" alt=\"Open In Colab\"/></a>"
   ]
  },
  {
   "cell_type": "markdown",
   "id": "a1262df4",
   "metadata": {
    "id": "a1262df4"
   },
   "source": [
    "## Introduction <a id='intro'></a>\n",
    "In this project, you will work with data from the entertainment industry. You will study a dataset with records on movies and shows. The research will focus on the \"Golden Age\" of television, which began in 1999 with the release of *The Sopranos* and is still ongoing.\n",
    "\n",
    "The aim of this project is to investigate how the number of votes a title receives impacts its ratings. The assumption is that highly-rated shows (we will focus on TV shows, ignoring movies) released during the \"Golden Age\" of television also have the most votes.\n",
    "\n",
    "### Stages\n",
    "Data on movies and shows is stored in the `/datasets/movies_and_shows.csv` file. There is no information about the quality of the data, so you will need to explore it before doing the analysis.\n",
    "\n",
    "First, you'll evaluate the quality of the data and see whether its issues are significant. Then, during data preprocessing, you will try to account for the most critical problems.\n",
    "\n",
    "Your project will consist of three stages:\n",
    " 1. Data overview\n",
    " 2. Data preprocessing\n",
    " 3. Data analysis"
   ]
  },
  {
   "cell_type": "markdown",
   "id": "ac0593ac",
   "metadata": {
    "id": "ac0593ac"
   },
   "source": [
    "## Stage 1. Data overview <a id='data_review'></a>\n",
    "\n",
    "Open and explore the data."
   ]
  },
  {
   "cell_type": "markdown",
   "id": "e86ed00e",
   "metadata": {
    "id": "e86ed00e"
   },
   "source": [
    "You'll need `pandas`, so import it."
   ]
  },
  {
   "cell_type": "code",
   "execution_count": 1,
   "id": "1727d3f8",
   "metadata": {
    "id": "1727d3f8"
   },
   "outputs": [],
   "source": [
    "# importing pandas\n",
    "import pandas as pd"
   ]
  },
  {
   "cell_type": "markdown",
   "id": "9891d98a",
   "metadata": {
    "id": "9891d98a"
   },
   "source": [
    "Next, variables will be created to make the code usable for anyone who wants to try or take a closer look at the following code."
   ]
  },
  {
   "cell_type": "code",
   "execution_count": 2,
   "id": "0cdacd66",
   "metadata": {
    "id": "0cdacd66"
   },
   "outputs": [],
   "source": [
    "# For those that have either forked or copied my repository.\n",
    "df_loc = './datasets/movies_and_shows.csv'\n",
    "\n",
    "# For those that will use the Google Colab link\n",
    "df_url = 'https://raw.githubusercontent.com/alexcoy06/Data-Science/main/Project%201/datasets/movies_and_shows.csv'"
   ]
  },
  {
   "cell_type": "markdown",
   "id": "9821beeb",
   "metadata": {
    "id": "9821beeb"
   },
   "source": [
    "Read the `movies_and_shows.csv` file from the `datasets` folder and save it in the `df` variable:"
   ]
  },
  {
   "cell_type": "code",
   "execution_count": 3,
   "id": "fc5a1402",
   "metadata": {
    "id": "fc5a1402"
   },
   "outputs": [],
   "source": [
    "# Reading the files and storing them to df\n",
    "# Change this to the appropriate variable per your situation\n",
    "df = pd.read_csv(df_loc)"
   ]
  },
  {
   "cell_type": "markdown",
   "id": "1cd0a96d",
   "metadata": {
    "id": "1cd0a96d"
   },
   "source": [
    "Print the first 10 table rows:"
   ]
  },
  {
   "cell_type": "code",
   "execution_count": 4,
   "id": "acd92001",
   "metadata": {
    "id": "acd92001",
    "outputId": "79186a8f-027b-421d-b4a1-47fead7f5c14"
   },
   "outputs": [
    {
     "data": {
      "text/html": [
       "<div>\n",
       "<style scoped>\n",
       "    .dataframe tbody tr th:only-of-type {\n",
       "        vertical-align: middle;\n",
       "    }\n",
       "\n",
       "    .dataframe tbody tr th {\n",
       "        vertical-align: top;\n",
       "    }\n",
       "\n",
       "    .dataframe thead th {\n",
       "        text-align: right;\n",
       "    }\n",
       "</style>\n",
       "<table border=\"1\" class=\"dataframe\">\n",
       "  <thead>\n",
       "    <tr style=\"text-align: right;\">\n",
       "      <th></th>\n",
       "      <th>Unnamed: 0</th>\n",
       "      <th>name</th>\n",
       "      <th>Character</th>\n",
       "      <th>r0le</th>\n",
       "      <th>TITLE</th>\n",
       "      <th>Type</th>\n",
       "      <th>release Year</th>\n",
       "      <th>genres</th>\n",
       "      <th>imdb sc0re</th>\n",
       "      <th>imdb v0tes</th>\n",
       "    </tr>\n",
       "  </thead>\n",
       "  <tbody>\n",
       "    <tr>\n",
       "      <th>0</th>\n",
       "      <td>0</td>\n",
       "      <td>Robert De Niro</td>\n",
       "      <td>Travis Bickle</td>\n",
       "      <td>ACTOR</td>\n",
       "      <td>Taxi Driver</td>\n",
       "      <td>MOVIE</td>\n",
       "      <td>1976</td>\n",
       "      <td>['drama', 'crime']</td>\n",
       "      <td>8.2</td>\n",
       "      <td>808582.0</td>\n",
       "    </tr>\n",
       "    <tr>\n",
       "      <th>1</th>\n",
       "      <td>1</td>\n",
       "      <td>Jodie Foster</td>\n",
       "      <td>Iris Steensma</td>\n",
       "      <td>ACTOR</td>\n",
       "      <td>Taxi Driver</td>\n",
       "      <td>MOVIE</td>\n",
       "      <td>1976</td>\n",
       "      <td>['drama', 'crime']</td>\n",
       "      <td>8.2</td>\n",
       "      <td>808582.0</td>\n",
       "    </tr>\n",
       "    <tr>\n",
       "      <th>2</th>\n",
       "      <td>2</td>\n",
       "      <td>Albert Brooks</td>\n",
       "      <td>Tom</td>\n",
       "      <td>ACTOR</td>\n",
       "      <td>Taxi Driver</td>\n",
       "      <td>MOVIE</td>\n",
       "      <td>1976</td>\n",
       "      <td>['drama', 'crime']</td>\n",
       "      <td>8.2</td>\n",
       "      <td>808582.0</td>\n",
       "    </tr>\n",
       "    <tr>\n",
       "      <th>3</th>\n",
       "      <td>3</td>\n",
       "      <td>Harvey Keitel</td>\n",
       "      <td>Matthew 'Sport' Higgins</td>\n",
       "      <td>ACTOR</td>\n",
       "      <td>Taxi Driver</td>\n",
       "      <td>MOVIE</td>\n",
       "      <td>1976</td>\n",
       "      <td>['drama', 'crime']</td>\n",
       "      <td>8.2</td>\n",
       "      <td>808582.0</td>\n",
       "    </tr>\n",
       "    <tr>\n",
       "      <th>4</th>\n",
       "      <td>4</td>\n",
       "      <td>Cybill Shepherd</td>\n",
       "      <td>Betsy</td>\n",
       "      <td>ACTOR</td>\n",
       "      <td>Taxi Driver</td>\n",
       "      <td>MOVIE</td>\n",
       "      <td>1976</td>\n",
       "      <td>['drama', 'crime']</td>\n",
       "      <td>8.2</td>\n",
       "      <td>808582.0</td>\n",
       "    </tr>\n",
       "    <tr>\n",
       "      <th>5</th>\n",
       "      <td>5</td>\n",
       "      <td>Peter Boyle</td>\n",
       "      <td>Wizard</td>\n",
       "      <td>ACTOR</td>\n",
       "      <td>Taxi Driver</td>\n",
       "      <td>MOVIE</td>\n",
       "      <td>1976</td>\n",
       "      <td>['drama', 'crime']</td>\n",
       "      <td>8.2</td>\n",
       "      <td>808582.0</td>\n",
       "    </tr>\n",
       "    <tr>\n",
       "      <th>6</th>\n",
       "      <td>6</td>\n",
       "      <td>Leonard Harris</td>\n",
       "      <td>Senator Charles Palantine</td>\n",
       "      <td>ACTOR</td>\n",
       "      <td>Taxi Driver</td>\n",
       "      <td>MOVIE</td>\n",
       "      <td>1976</td>\n",
       "      <td>['drama', 'crime']</td>\n",
       "      <td>8.2</td>\n",
       "      <td>808582.0</td>\n",
       "    </tr>\n",
       "    <tr>\n",
       "      <th>7</th>\n",
       "      <td>7</td>\n",
       "      <td>Diahnne Abbott</td>\n",
       "      <td>Concession Girl</td>\n",
       "      <td>ACTOR</td>\n",
       "      <td>Taxi Driver</td>\n",
       "      <td>MOVIE</td>\n",
       "      <td>1976</td>\n",
       "      <td>['drama', 'crime']</td>\n",
       "      <td>8.2</td>\n",
       "      <td>808582.0</td>\n",
       "    </tr>\n",
       "    <tr>\n",
       "      <th>8</th>\n",
       "      <td>8</td>\n",
       "      <td>Gino Ardito</td>\n",
       "      <td>Policeman at Rally</td>\n",
       "      <td>ACTOR</td>\n",
       "      <td>Taxi Driver</td>\n",
       "      <td>MOVIE</td>\n",
       "      <td>1976</td>\n",
       "      <td>['drama', 'crime']</td>\n",
       "      <td>8.2</td>\n",
       "      <td>808582.0</td>\n",
       "    </tr>\n",
       "    <tr>\n",
       "      <th>9</th>\n",
       "      <td>9</td>\n",
       "      <td>Martin Scorsese</td>\n",
       "      <td>Passenger Watching Silhouette</td>\n",
       "      <td>ACTOR</td>\n",
       "      <td>Taxi Driver</td>\n",
       "      <td>MOVIE</td>\n",
       "      <td>1976</td>\n",
       "      <td>['drama', 'crime']</td>\n",
       "      <td>8.2</td>\n",
       "      <td>808582.0</td>\n",
       "    </tr>\n",
       "  </tbody>\n",
       "</table>\n",
       "</div>"
      ],
      "text/plain": [
       "   Unnamed: 0             name                      Character   r0le  \\\n",
       "0           0   Robert De Niro                  Travis Bickle  ACTOR   \n",
       "1           1     Jodie Foster                  Iris Steensma  ACTOR   \n",
       "2           2    Albert Brooks                            Tom  ACTOR   \n",
       "3           3    Harvey Keitel        Matthew 'Sport' Higgins  ACTOR   \n",
       "4           4  Cybill Shepherd                          Betsy  ACTOR   \n",
       "5           5      Peter Boyle                         Wizard  ACTOR   \n",
       "6           6   Leonard Harris      Senator Charles Palantine  ACTOR   \n",
       "7           7   Diahnne Abbott                Concession Girl  ACTOR   \n",
       "8           8      Gino Ardito             Policeman at Rally  ACTOR   \n",
       "9           9  Martin Scorsese  Passenger Watching Silhouette  ACTOR   \n",
       "\n",
       "         TITLE   Type  release Year              genres  imdb sc0re  \\\n",
       "0  Taxi Driver  MOVIE          1976  ['drama', 'crime']         8.2   \n",
       "1  Taxi Driver  MOVIE          1976  ['drama', 'crime']         8.2   \n",
       "2  Taxi Driver  MOVIE          1976  ['drama', 'crime']         8.2   \n",
       "3  Taxi Driver  MOVIE          1976  ['drama', 'crime']         8.2   \n",
       "4  Taxi Driver  MOVIE          1976  ['drama', 'crime']         8.2   \n",
       "5  Taxi Driver  MOVIE          1976  ['drama', 'crime']         8.2   \n",
       "6  Taxi Driver  MOVIE          1976  ['drama', 'crime']         8.2   \n",
       "7  Taxi Driver  MOVIE          1976  ['drama', 'crime']         8.2   \n",
       "8  Taxi Driver  MOVIE          1976  ['drama', 'crime']         8.2   \n",
       "9  Taxi Driver  MOVIE          1976  ['drama', 'crime']         8.2   \n",
       "\n",
       "   imdb v0tes  \n",
       "0    808582.0  \n",
       "1    808582.0  \n",
       "2    808582.0  \n",
       "3    808582.0  \n",
       "4    808582.0  \n",
       "5    808582.0  \n",
       "6    808582.0  \n",
       "7    808582.0  \n",
       "8    808582.0  \n",
       "9    808582.0  "
      ]
     },
     "execution_count": 4,
     "metadata": {},
     "output_type": "execute_result"
    }
   ],
   "source": [
    "# obtaining the first 10 rows from the df table\n",
    "# hint: you can use head() and tail() in Jupyter Notebook without wrapping them into print()\n",
    "df.head(10)"
   ]
  },
  {
   "cell_type": "markdown",
   "id": "e579aa91",
   "metadata": {
    "id": "e579aa91"
   },
   "source": [
    "Obtain the general information about the table with one command:"
   ]
  },
  {
   "cell_type": "code",
   "execution_count": 5,
   "id": "7bf66d2a",
   "metadata": {
    "id": "7bf66d2a",
    "outputId": "b405d181-8eb7-45ce-cab7-b03f3248b3ce"
   },
   "outputs": [
    {
     "name": "stdout",
     "output_type": "stream",
     "text": [
      "<class 'pandas.core.frame.DataFrame'>\n",
      "RangeIndex: 85579 entries, 0 to 85578\n",
      "Data columns (total 10 columns):\n",
      " #   Column        Non-Null Count  Dtype  \n",
      "---  ------        --------------  -----  \n",
      " 0   Unnamed: 0    85579 non-null  int64  \n",
      " 1      name       85579 non-null  object \n",
      " 2   Character     85579 non-null  object \n",
      " 3   r0le          85579 non-null  object \n",
      " 4   TITLE         85578 non-null  object \n",
      " 5     Type        85579 non-null  object \n",
      " 6   release Year  85579 non-null  int64  \n",
      " 7   genres        85579 non-null  object \n",
      " 8   imdb sc0re    80970 non-null  float64\n",
      " 9   imdb v0tes    80853 non-null  float64\n",
      "dtypes: float64(2), int64(2), object(6)\n",
      "memory usage: 6.5+ MB\n"
     ]
    }
   ],
   "source": [
    "# obtaining general information about the data in df\n",
    "df.info()"
   ]
  },
  {
   "cell_type": "markdown",
   "id": "e91f62a7",
   "metadata": {
    "id": "e91f62a7"
   },
   "source": [
    "The table contains nine columns. The majority store the same data type: object. The only exceptions are `'release Year'` (int64 type), `'imdb sc0re'` (float64 type) and `'imdb v0tes'` (float64 type). Scores and votes will be used in our analysis, so it's important to verify that they are present in the dataframe in the appropriate numeric format. Three columns (`'TITLE'`, `'imdb sc0re'` and `'imdb v0tes'`) have missing values.\n",
    "\n",
    "According to the documentation:\n",
    "- `'name'` — actor/director's name and last name\n",
    "- `'Character'` — character played (for actors)\n",
    "- `'r0le '` — the person's contribution to the title (it can be in the capacity of either actor or director)\n",
    "- `'TITLE '` — title of the movie (show)\n",
    "- `'  Type'` — show or movie\n",
    "- `'release Year'` — year when movie (show) was released\n",
    "- `'genres'` — list of genres under which the movie (show) falls\n",
    "- `'imdb sc0re'` — score on IMDb\n",
    "- `'imdb v0tes'` — votes on IMDb\n",
    "\n",
    "We can see three issues with the column names:\n",
    "1. Some names are uppercase, while others are lowercase.\n",
    "2. There are names containing whitespace.\n",
    "3. A few column names have digit '0' instead of letter 'o'.\n"
   ]
  },
  {
   "cell_type": "markdown",
   "id": "4355de7b",
   "metadata": {
    "id": "4355de7b"
   },
   "source": [
    "### Conclusions <a id='data_review_conclusions'></a>\n",
    "\n",
    "Each row in the table stores data about a movie or show. The columns can be divided into two categories: the first is about the roles held by different people who worked on the movie or show (role, name of the actor or director, and character if the row is about an actor); the second category is information about the movie or show itself (title, release year, genre, imdb figures).\n",
    "\n",
    "It's clear that there is sufficient data to do the analysis and evaluate our assumption. However, to move forward, we need to preprocess the data."
   ]
  },
  {
   "cell_type": "markdown",
   "id": "c5dc9111",
   "metadata": {
    "id": "c5dc9111"
   },
   "source": [
    "## Stage 2. Data preprocessing <a id='data_preprocessing'></a>\n",
    "Correct the formatting in the column headers and deal with the missing values. Then, check whether there are duplicates in the data."
   ]
  },
  {
   "cell_type": "code",
   "execution_count": 6,
   "id": "9c850d13",
   "metadata": {
    "id": "9c850d13",
    "outputId": "9c26f428-3aae-43bb-cb71-24c0ee0127f8"
   },
   "outputs": [
    {
     "data": {
      "text/plain": [
       "Index(['Unnamed: 0', '   name', 'Character', 'r0le', 'TITLE', '  Type',\n",
       "       'release Year', 'genres', 'imdb sc0re', 'imdb v0tes'],\n",
       "      dtype='object')"
      ]
     },
     "execution_count": 6,
     "metadata": {},
     "output_type": "execute_result"
    }
   ],
   "source": [
    "# the list of column names in the df table\n",
    "df.columns"
   ]
  },
  {
   "cell_type": "markdown",
   "id": "5f966df9",
   "metadata": {
    "id": "5f966df9"
   },
   "source": [
    "Change the column names according to the rules of good style:\n",
    "* If the name has several words, use snake_case\n",
    "* All characters must be lowercase\n",
    "* Remove whitespace\n",
    "* Replace zero with letter 'o'"
   ]
  },
  {
   "cell_type": "code",
   "execution_count": 7,
   "id": "23a1dc11",
   "metadata": {
    "id": "23a1dc11",
    "outputId": "274d0115-2bab-4b7f-9400-9435bc643dbc"
   },
   "outputs": [
    {
     "data": {
      "text/html": [
       "<div>\n",
       "<style scoped>\n",
       "    .dataframe tbody tr th:only-of-type {\n",
       "        vertical-align: middle;\n",
       "    }\n",
       "\n",
       "    .dataframe tbody tr th {\n",
       "        vertical-align: top;\n",
       "    }\n",
       "\n",
       "    .dataframe thead th {\n",
       "        text-align: right;\n",
       "    }\n",
       "</style>\n",
       "<table border=\"1\" class=\"dataframe\">\n",
       "  <thead>\n",
       "    <tr style=\"text-align: right;\">\n",
       "      <th></th>\n",
       "      <th>unnamed:_o</th>\n",
       "      <th>name</th>\n",
       "      <th>character</th>\n",
       "      <th>role</th>\n",
       "      <th>title</th>\n",
       "      <th>type</th>\n",
       "      <th>release_year</th>\n",
       "      <th>genres</th>\n",
       "      <th>imdb_score</th>\n",
       "      <th>imdb_votes</th>\n",
       "    </tr>\n",
       "  </thead>\n",
       "  <tbody>\n",
       "    <tr>\n",
       "      <th>0</th>\n",
       "      <td>0</td>\n",
       "      <td>Robert De Niro</td>\n",
       "      <td>Travis Bickle</td>\n",
       "      <td>ACTOR</td>\n",
       "      <td>Taxi Driver</td>\n",
       "      <td>MOVIE</td>\n",
       "      <td>1976</td>\n",
       "      <td>['drama', 'crime']</td>\n",
       "      <td>8.2</td>\n",
       "      <td>808582.0</td>\n",
       "    </tr>\n",
       "    <tr>\n",
       "      <th>1</th>\n",
       "      <td>1</td>\n",
       "      <td>Jodie Foster</td>\n",
       "      <td>Iris Steensma</td>\n",
       "      <td>ACTOR</td>\n",
       "      <td>Taxi Driver</td>\n",
       "      <td>MOVIE</td>\n",
       "      <td>1976</td>\n",
       "      <td>['drama', 'crime']</td>\n",
       "      <td>8.2</td>\n",
       "      <td>808582.0</td>\n",
       "    </tr>\n",
       "    <tr>\n",
       "      <th>2</th>\n",
       "      <td>2</td>\n",
       "      <td>Albert Brooks</td>\n",
       "      <td>Tom</td>\n",
       "      <td>ACTOR</td>\n",
       "      <td>Taxi Driver</td>\n",
       "      <td>MOVIE</td>\n",
       "      <td>1976</td>\n",
       "      <td>['drama', 'crime']</td>\n",
       "      <td>8.2</td>\n",
       "      <td>808582.0</td>\n",
       "    </tr>\n",
       "    <tr>\n",
       "      <th>3</th>\n",
       "      <td>3</td>\n",
       "      <td>Harvey Keitel</td>\n",
       "      <td>Matthew 'Sport' Higgins</td>\n",
       "      <td>ACTOR</td>\n",
       "      <td>Taxi Driver</td>\n",
       "      <td>MOVIE</td>\n",
       "      <td>1976</td>\n",
       "      <td>['drama', 'crime']</td>\n",
       "      <td>8.2</td>\n",
       "      <td>808582.0</td>\n",
       "    </tr>\n",
       "    <tr>\n",
       "      <th>4</th>\n",
       "      <td>4</td>\n",
       "      <td>Cybill Shepherd</td>\n",
       "      <td>Betsy</td>\n",
       "      <td>ACTOR</td>\n",
       "      <td>Taxi Driver</td>\n",
       "      <td>MOVIE</td>\n",
       "      <td>1976</td>\n",
       "      <td>['drama', 'crime']</td>\n",
       "      <td>8.2</td>\n",
       "      <td>808582.0</td>\n",
       "    </tr>\n",
       "    <tr>\n",
       "      <th>...</th>\n",
       "      <td>...</td>\n",
       "      <td>...</td>\n",
       "      <td>...</td>\n",
       "      <td>...</td>\n",
       "      <td>...</td>\n",
       "      <td>...</td>\n",
       "      <td>...</td>\n",
       "      <td>...</td>\n",
       "      <td>...</td>\n",
       "      <td>...</td>\n",
       "    </tr>\n",
       "    <tr>\n",
       "      <th>85574</th>\n",
       "      <td>85574</td>\n",
       "      <td>Adelaida Buscato</td>\n",
       "      <td>Mar??a Paz</td>\n",
       "      <td>ACTOR</td>\n",
       "      <td>Lokillo</td>\n",
       "      <td>the movie</td>\n",
       "      <td>2021</td>\n",
       "      <td>['comedy']</td>\n",
       "      <td>3.8</td>\n",
       "      <td>68.0</td>\n",
       "    </tr>\n",
       "    <tr>\n",
       "      <th>85575</th>\n",
       "      <td>85575</td>\n",
       "      <td>Luz Stella Luengas</td>\n",
       "      <td>Karen Bayona</td>\n",
       "      <td>ACTOR</td>\n",
       "      <td>Lokillo</td>\n",
       "      <td>the movie</td>\n",
       "      <td>2021</td>\n",
       "      <td>['comedy']</td>\n",
       "      <td>3.8</td>\n",
       "      <td>68.0</td>\n",
       "    </tr>\n",
       "    <tr>\n",
       "      <th>85576</th>\n",
       "      <td>85576</td>\n",
       "      <td>In??s Prieto</td>\n",
       "      <td>Fanny</td>\n",
       "      <td>ACTOR</td>\n",
       "      <td>Lokillo</td>\n",
       "      <td>the movie</td>\n",
       "      <td>2021</td>\n",
       "      <td>['comedy']</td>\n",
       "      <td>3.8</td>\n",
       "      <td>68.0</td>\n",
       "    </tr>\n",
       "    <tr>\n",
       "      <th>85577</th>\n",
       "      <td>85577</td>\n",
       "      <td>Isabel Gaona</td>\n",
       "      <td>Cacica</td>\n",
       "      <td>ACTOR</td>\n",
       "      <td>Lokillo</td>\n",
       "      <td>MOVIE</td>\n",
       "      <td>2021</td>\n",
       "      <td>['comedy']</td>\n",
       "      <td>3.8</td>\n",
       "      <td>68.0</td>\n",
       "    </tr>\n",
       "    <tr>\n",
       "      <th>85578</th>\n",
       "      <td>85578</td>\n",
       "      <td>Julian Gaviria</td>\n",
       "      <td>unknown</td>\n",
       "      <td>DIRECTOR</td>\n",
       "      <td>Lokillo</td>\n",
       "      <td>the movie</td>\n",
       "      <td>2021</td>\n",
       "      <td>['comedy']</td>\n",
       "      <td>3.8</td>\n",
       "      <td>68.0</td>\n",
       "    </tr>\n",
       "  </tbody>\n",
       "</table>\n",
       "<p>85579 rows × 10 columns</p>\n",
       "</div>"
      ],
      "text/plain": [
       "       unnamed:_o                name                character      role  \\\n",
       "0               0      Robert De Niro            Travis Bickle     ACTOR   \n",
       "1               1        Jodie Foster            Iris Steensma     ACTOR   \n",
       "2               2       Albert Brooks                      Tom     ACTOR   \n",
       "3               3       Harvey Keitel  Matthew 'Sport' Higgins     ACTOR   \n",
       "4               4     Cybill Shepherd                    Betsy     ACTOR   \n",
       "...           ...                 ...                      ...       ...   \n",
       "85574       85574    Adelaida Buscato               Mar??a Paz     ACTOR   \n",
       "85575       85575  Luz Stella Luengas             Karen Bayona     ACTOR   \n",
       "85576       85576        In??s Prieto                    Fanny     ACTOR   \n",
       "85577       85577        Isabel Gaona                   Cacica     ACTOR   \n",
       "85578       85578      Julian Gaviria                  unknown  DIRECTOR   \n",
       "\n",
       "             title       type  release_year              genres  imdb_score  \\\n",
       "0      Taxi Driver      MOVIE          1976  ['drama', 'crime']         8.2   \n",
       "1      Taxi Driver      MOVIE          1976  ['drama', 'crime']         8.2   \n",
       "2      Taxi Driver      MOVIE          1976  ['drama', 'crime']         8.2   \n",
       "3      Taxi Driver      MOVIE          1976  ['drama', 'crime']         8.2   \n",
       "4      Taxi Driver      MOVIE          1976  ['drama', 'crime']         8.2   \n",
       "...            ...        ...           ...                 ...         ...   \n",
       "85574      Lokillo  the movie          2021          ['comedy']         3.8   \n",
       "85575      Lokillo  the movie          2021          ['comedy']         3.8   \n",
       "85576      Lokillo  the movie          2021          ['comedy']         3.8   \n",
       "85577      Lokillo      MOVIE          2021          ['comedy']         3.8   \n",
       "85578      Lokillo  the movie          2021          ['comedy']         3.8   \n",
       "\n",
       "       imdb_votes  \n",
       "0        808582.0  \n",
       "1        808582.0  \n",
       "2        808582.0  \n",
       "3        808582.0  \n",
       "4        808582.0  \n",
       "...           ...  \n",
       "85574        68.0  \n",
       "85575        68.0  \n",
       "85576        68.0  \n",
       "85577        68.0  \n",
       "85578        68.0  \n",
       "\n",
       "[85579 rows x 10 columns]"
      ]
     },
     "execution_count": 7,
     "metadata": {},
     "output_type": "execute_result"
    }
   ],
   "source": [
    "# renaming columns\n",
    "\n",
    "#df.columns = ['name', 'character', 'role', 'title', 'type', 'release_year', 'genres', 'imdb_score', 'imdb_votes']\n",
    "\n",
    "# OR/NOTE: https://pandas.pydata.org/docs/reference/series.html\n",
    "# and https://pandas.pydata.org/docs/reference/frame.html\n",
    "\n",
    "df.columns = df.columns.str.strip().str.lower().str.replace(' ', '_').str.replace('0', 'o')\n",
    "df.rename(columns={'   name': 'name'})"
   ]
  },
  {
   "cell_type": "markdown",
   "id": "464fbd04",
   "metadata": {
    "id": "464fbd04"
   },
   "source": [
    "Check the result. Print the names of the columns once more:"
   ]
  },
  {
   "cell_type": "code",
   "execution_count": 8,
   "id": "0eb6527f",
   "metadata": {
    "id": "0eb6527f",
    "outputId": "ba034801-d0ae-404d-f3e5-95a21a6c83c5"
   },
   "outputs": [
    {
     "data": {
      "text/plain": [
       "Index(['unnamed:_o', 'name', 'character', 'role', 'title', 'type',\n",
       "       'release_year', 'genres', 'imdb_score', 'imdb_votes'],\n",
       "      dtype='object')"
      ]
     },
     "execution_count": 8,
     "metadata": {},
     "output_type": "execute_result"
    }
   ],
   "source": [
    "# checking result: the list of column names\n",
    "df.columns"
   ]
  },
  {
   "cell_type": "markdown",
   "id": "14d9c319",
   "metadata": {
    "id": "14d9c319"
   },
   "source": [
    "### Missing values <a id='missing_values'></a>\n",
    "First, find the number of missing values in the table. To do so, combine two `pandas` methods:"
   ]
  },
  {
   "cell_type": "code",
   "execution_count": 9,
   "id": "21c427f2",
   "metadata": {
    "id": "21c427f2",
    "outputId": "ace79474-2a28-4248-9eca-16d93c81eb03"
   },
   "outputs": [
    {
     "data": {
      "text/plain": [
       "unnamed:_o         0\n",
       "name               0\n",
       "character          0\n",
       "role               0\n",
       "title              1\n",
       "type               0\n",
       "release_year       0\n",
       "genres             0\n",
       "imdb_score      4609\n",
       "imdb_votes      4726\n",
       "dtype: int64"
      ]
     },
     "execution_count": 9,
     "metadata": {},
     "output_type": "execute_result"
    }
   ],
   "source": [
    "# calculating missing values\n",
    "df.isna().sum()"
   ]
  },
  {
   "cell_type": "markdown",
   "id": "c8272df3",
   "metadata": {
    "id": "c8272df3"
   },
   "source": [
    "Not all missing values affect the research: the single missing value in `'title'` is not critical. The missing values in columns `'imdb_score'` and `'imdb_votes'` represent around 6% of all records (4,609 and 4,726, respectively, of the total 85,579). This could potentially affect our research. To avoid this issue, we will drop rows with missing values in the `'imdb_score'` and `'imdb_votes'` columns."
   ]
  },
  {
   "cell_type": "code",
   "execution_count": 10,
   "id": "599d5550",
   "metadata": {
    "id": "599d5550",
    "outputId": "66babbef-2bd5-41a6-e7fe-37f6fec99740"
   },
   "outputs": [
    {
     "data": {
      "text/html": [
       "<div>\n",
       "<style scoped>\n",
       "    .dataframe tbody tr th:only-of-type {\n",
       "        vertical-align: middle;\n",
       "    }\n",
       "\n",
       "    .dataframe tbody tr th {\n",
       "        vertical-align: top;\n",
       "    }\n",
       "\n",
       "    .dataframe thead th {\n",
       "        text-align: right;\n",
       "    }\n",
       "</style>\n",
       "<table border=\"1\" class=\"dataframe\">\n",
       "  <thead>\n",
       "    <tr style=\"text-align: right;\">\n",
       "      <th></th>\n",
       "      <th>unnamed:_o</th>\n",
       "      <th>name</th>\n",
       "      <th>character</th>\n",
       "      <th>role</th>\n",
       "      <th>title</th>\n",
       "      <th>type</th>\n",
       "      <th>release_year</th>\n",
       "      <th>genres</th>\n",
       "      <th>imdb_score</th>\n",
       "      <th>imdb_votes</th>\n",
       "    </tr>\n",
       "  </thead>\n",
       "  <tbody>\n",
       "    <tr>\n",
       "      <th>0</th>\n",
       "      <td>0</td>\n",
       "      <td>Robert De Niro</td>\n",
       "      <td>Travis Bickle</td>\n",
       "      <td>ACTOR</td>\n",
       "      <td>Taxi Driver</td>\n",
       "      <td>MOVIE</td>\n",
       "      <td>1976</td>\n",
       "      <td>['drama', 'crime']</td>\n",
       "      <td>8.2</td>\n",
       "      <td>808582.0</td>\n",
       "    </tr>\n",
       "    <tr>\n",
       "      <th>1</th>\n",
       "      <td>1</td>\n",
       "      <td>Jodie Foster</td>\n",
       "      <td>Iris Steensma</td>\n",
       "      <td>ACTOR</td>\n",
       "      <td>Taxi Driver</td>\n",
       "      <td>MOVIE</td>\n",
       "      <td>1976</td>\n",
       "      <td>['drama', 'crime']</td>\n",
       "      <td>8.2</td>\n",
       "      <td>808582.0</td>\n",
       "    </tr>\n",
       "    <tr>\n",
       "      <th>2</th>\n",
       "      <td>2</td>\n",
       "      <td>Albert Brooks</td>\n",
       "      <td>Tom</td>\n",
       "      <td>ACTOR</td>\n",
       "      <td>Taxi Driver</td>\n",
       "      <td>MOVIE</td>\n",
       "      <td>1976</td>\n",
       "      <td>['drama', 'crime']</td>\n",
       "      <td>8.2</td>\n",
       "      <td>808582.0</td>\n",
       "    </tr>\n",
       "    <tr>\n",
       "      <th>3</th>\n",
       "      <td>3</td>\n",
       "      <td>Harvey Keitel</td>\n",
       "      <td>Matthew 'Sport' Higgins</td>\n",
       "      <td>ACTOR</td>\n",
       "      <td>Taxi Driver</td>\n",
       "      <td>MOVIE</td>\n",
       "      <td>1976</td>\n",
       "      <td>['drama', 'crime']</td>\n",
       "      <td>8.2</td>\n",
       "      <td>808582.0</td>\n",
       "    </tr>\n",
       "    <tr>\n",
       "      <th>4</th>\n",
       "      <td>4</td>\n",
       "      <td>Cybill Shepherd</td>\n",
       "      <td>Betsy</td>\n",
       "      <td>ACTOR</td>\n",
       "      <td>Taxi Driver</td>\n",
       "      <td>MOVIE</td>\n",
       "      <td>1976</td>\n",
       "      <td>['drama', 'crime']</td>\n",
       "      <td>8.2</td>\n",
       "      <td>808582.0</td>\n",
       "    </tr>\n",
       "    <tr>\n",
       "      <th>...</th>\n",
       "      <td>...</td>\n",
       "      <td>...</td>\n",
       "      <td>...</td>\n",
       "      <td>...</td>\n",
       "      <td>...</td>\n",
       "      <td>...</td>\n",
       "      <td>...</td>\n",
       "      <td>...</td>\n",
       "      <td>...</td>\n",
       "      <td>...</td>\n",
       "    </tr>\n",
       "    <tr>\n",
       "      <th>85574</th>\n",
       "      <td>85574</td>\n",
       "      <td>Adelaida Buscato</td>\n",
       "      <td>Mar??a Paz</td>\n",
       "      <td>ACTOR</td>\n",
       "      <td>Lokillo</td>\n",
       "      <td>the movie</td>\n",
       "      <td>2021</td>\n",
       "      <td>['comedy']</td>\n",
       "      <td>3.8</td>\n",
       "      <td>68.0</td>\n",
       "    </tr>\n",
       "    <tr>\n",
       "      <th>85575</th>\n",
       "      <td>85575</td>\n",
       "      <td>Luz Stella Luengas</td>\n",
       "      <td>Karen Bayona</td>\n",
       "      <td>ACTOR</td>\n",
       "      <td>Lokillo</td>\n",
       "      <td>the movie</td>\n",
       "      <td>2021</td>\n",
       "      <td>['comedy']</td>\n",
       "      <td>3.8</td>\n",
       "      <td>68.0</td>\n",
       "    </tr>\n",
       "    <tr>\n",
       "      <th>85576</th>\n",
       "      <td>85576</td>\n",
       "      <td>In??s Prieto</td>\n",
       "      <td>Fanny</td>\n",
       "      <td>ACTOR</td>\n",
       "      <td>Lokillo</td>\n",
       "      <td>the movie</td>\n",
       "      <td>2021</td>\n",
       "      <td>['comedy']</td>\n",
       "      <td>3.8</td>\n",
       "      <td>68.0</td>\n",
       "    </tr>\n",
       "    <tr>\n",
       "      <th>85577</th>\n",
       "      <td>85577</td>\n",
       "      <td>Isabel Gaona</td>\n",
       "      <td>Cacica</td>\n",
       "      <td>ACTOR</td>\n",
       "      <td>Lokillo</td>\n",
       "      <td>MOVIE</td>\n",
       "      <td>2021</td>\n",
       "      <td>['comedy']</td>\n",
       "      <td>3.8</td>\n",
       "      <td>68.0</td>\n",
       "    </tr>\n",
       "    <tr>\n",
       "      <th>85578</th>\n",
       "      <td>85578</td>\n",
       "      <td>Julian Gaviria</td>\n",
       "      <td>unknown</td>\n",
       "      <td>DIRECTOR</td>\n",
       "      <td>Lokillo</td>\n",
       "      <td>the movie</td>\n",
       "      <td>2021</td>\n",
       "      <td>['comedy']</td>\n",
       "      <td>3.8</td>\n",
       "      <td>68.0</td>\n",
       "    </tr>\n",
       "  </tbody>\n",
       "</table>\n",
       "<p>80853 rows × 10 columns</p>\n",
       "</div>"
      ],
      "text/plain": [
       "       unnamed:_o                name                character      role  \\\n",
       "0               0      Robert De Niro            Travis Bickle     ACTOR   \n",
       "1               1        Jodie Foster            Iris Steensma     ACTOR   \n",
       "2               2       Albert Brooks                      Tom     ACTOR   \n",
       "3               3       Harvey Keitel  Matthew 'Sport' Higgins     ACTOR   \n",
       "4               4     Cybill Shepherd                    Betsy     ACTOR   \n",
       "...           ...                 ...                      ...       ...   \n",
       "85574       85574    Adelaida Buscato               Mar??a Paz     ACTOR   \n",
       "85575       85575  Luz Stella Luengas             Karen Bayona     ACTOR   \n",
       "85576       85576        In??s Prieto                    Fanny     ACTOR   \n",
       "85577       85577        Isabel Gaona                   Cacica     ACTOR   \n",
       "85578       85578      Julian Gaviria                  unknown  DIRECTOR   \n",
       "\n",
       "             title       type  release_year              genres  imdb_score  \\\n",
       "0      Taxi Driver      MOVIE          1976  ['drama', 'crime']         8.2   \n",
       "1      Taxi Driver      MOVIE          1976  ['drama', 'crime']         8.2   \n",
       "2      Taxi Driver      MOVIE          1976  ['drama', 'crime']         8.2   \n",
       "3      Taxi Driver      MOVIE          1976  ['drama', 'crime']         8.2   \n",
       "4      Taxi Driver      MOVIE          1976  ['drama', 'crime']         8.2   \n",
       "...            ...        ...           ...                 ...         ...   \n",
       "85574      Lokillo  the movie          2021          ['comedy']         3.8   \n",
       "85575      Lokillo  the movie          2021          ['comedy']         3.8   \n",
       "85576      Lokillo  the movie          2021          ['comedy']         3.8   \n",
       "85577      Lokillo      MOVIE          2021          ['comedy']         3.8   \n",
       "85578      Lokillo  the movie          2021          ['comedy']         3.8   \n",
       "\n",
       "       imdb_votes  \n",
       "0        808582.0  \n",
       "1        808582.0  \n",
       "2        808582.0  \n",
       "3        808582.0  \n",
       "4        808582.0  \n",
       "...           ...  \n",
       "85574        68.0  \n",
       "85575        68.0  \n",
       "85576        68.0  \n",
       "85577        68.0  \n",
       "85578        68.0  \n",
       "\n",
       "[80853 rows x 10 columns]"
      ]
     },
     "execution_count": 10,
     "metadata": {},
     "output_type": "execute_result"
    }
   ],
   "source": [
    "# dropping rows where columns with title, scores and votes have missing values\n",
    "df.dropna()"
   ]
  },
  {
   "cell_type": "markdown",
   "id": "2156887f",
   "metadata": {
    "id": "2156887f"
   },
   "source": [
    "Make sure the table doesn't contain any more missing values. Count the missing values again."
   ]
  },
  {
   "cell_type": "code",
   "execution_count": 11,
   "id": "55c0b0ce",
   "metadata": {
    "id": "55c0b0ce",
    "outputId": "90755b5a-8e09-4b96-9d5e-9e0ab4f4c9d0"
   },
   "outputs": [
    {
     "data": {
      "text/plain": [
       "unnamed:_o      0\n",
       "name            0\n",
       "character       0\n",
       "role            0\n",
       "title           0\n",
       "type            0\n",
       "release_year    0\n",
       "genres          0\n",
       "imdb_score      0\n",
       "imdb_votes      0\n",
       "dtype: int64"
      ]
     },
     "execution_count": 11,
     "metadata": {},
     "output_type": "execute_result"
    }
   ],
   "source": [
    "# counting missing values\n",
    "new_table = df.dropna()\n",
    "new_table.isna().sum()"
   ]
  },
  {
   "cell_type": "markdown",
   "id": "a7dc7aa0",
   "metadata": {
    "id": "a7dc7aa0"
   },
   "source": [
    "### Duplicates <a id='duplicates'></a>\n",
    "Find the number of duplicate rows in the table using one command:"
   ]
  },
  {
   "cell_type": "code",
   "execution_count": 12,
   "id": "9227df01",
   "metadata": {
    "id": "9227df01",
    "outputId": "cc38dce2-13e5-4e20-93c7-61b09cbe4bb2"
   },
   "outputs": [
    {
     "name": "stdout",
     "output_type": "stream",
     "text": [
      "There are 0 duplicates.\n"
     ]
    }
   ],
   "source": [
    "# counting duplicate rows\n",
    "dup = df.dropna()\n",
    "print(f'There are {dup.duplicated().sum()} duplicates.')"
   ]
  },
  {
   "cell_type": "markdown",
   "id": "5f6eb0fc",
   "metadata": {
    "id": "5f6eb0fc"
   },
   "source": [
    "Review the duplicate rows to determine if removing them would distort our dataset."
   ]
  },
  {
   "cell_type": "code",
   "execution_count": 13,
   "id": "bcf32fcb",
   "metadata": {
    "id": "bcf32fcb",
    "outputId": "570f8625-21f7-429c-b8e7-dcf24d8ac55d"
   },
   "outputs": [
    {
     "data": {
      "text/html": [
       "<div>\n",
       "<style scoped>\n",
       "    .dataframe tbody tr th:only-of-type {\n",
       "        vertical-align: middle;\n",
       "    }\n",
       "\n",
       "    .dataframe tbody tr th {\n",
       "        vertical-align: top;\n",
       "    }\n",
       "\n",
       "    .dataframe thead th {\n",
       "        text-align: right;\n",
       "    }\n",
       "</style>\n",
       "<table border=\"1\" class=\"dataframe\">\n",
       "  <thead>\n",
       "    <tr style=\"text-align: right;\">\n",
       "      <th></th>\n",
       "      <th>unnamed:_o</th>\n",
       "      <th>name</th>\n",
       "      <th>character</th>\n",
       "      <th>role</th>\n",
       "      <th>title</th>\n",
       "      <th>type</th>\n",
       "      <th>release_year</th>\n",
       "      <th>genres</th>\n",
       "      <th>imdb_score</th>\n",
       "      <th>imdb_votes</th>\n",
       "    </tr>\n",
       "  </thead>\n",
       "  <tbody>\n",
       "  </tbody>\n",
       "</table>\n",
       "</div>"
      ],
      "text/plain": [
       "Empty DataFrame\n",
       "Columns: [unnamed:_o, name, character, role, title, type, release_year, genres, imdb_score, imdb_votes]\n",
       "Index: []"
      ]
     },
     "execution_count": 13,
     "metadata": {},
     "output_type": "execute_result"
    }
   ],
   "source": [
    "# Produce table with duplicates (with original rows included) and review last 5 rows\n",
    "copy = dup[dup.duplicated()]\n",
    "\n",
    "copy.tail(5)"
   ]
  },
  {
   "cell_type": "markdown",
   "id": "a1ed6640",
   "metadata": {
    "id": "a1ed6640"
   },
   "source": [
    "There are two clear duplicates in the printed rows. We can safely remove them.\n",
    "Call the `pandas` method for getting rid of duplicate rows:"
   ]
  },
  {
   "cell_type": "code",
   "execution_count": 14,
   "id": "724d5bc8",
   "metadata": {
    "id": "724d5bc8",
    "outputId": "586c24b2-ee77-4ed1-bebe-0122bb71e60d"
   },
   "outputs": [
    {
     "data": {
      "text/html": [
       "<div>\n",
       "<style scoped>\n",
       "    .dataframe tbody tr th:only-of-type {\n",
       "        vertical-align: middle;\n",
       "    }\n",
       "\n",
       "    .dataframe tbody tr th {\n",
       "        vertical-align: top;\n",
       "    }\n",
       "\n",
       "    .dataframe thead th {\n",
       "        text-align: right;\n",
       "    }\n",
       "</style>\n",
       "<table border=\"1\" class=\"dataframe\">\n",
       "  <thead>\n",
       "    <tr style=\"text-align: right;\">\n",
       "      <th></th>\n",
       "      <th>index</th>\n",
       "      <th>unnamed:_o</th>\n",
       "      <th>name</th>\n",
       "      <th>character</th>\n",
       "      <th>role</th>\n",
       "      <th>title</th>\n",
       "      <th>type</th>\n",
       "      <th>release_year</th>\n",
       "      <th>genres</th>\n",
       "      <th>imdb_score</th>\n",
       "      <th>imdb_votes</th>\n",
       "    </tr>\n",
       "  </thead>\n",
       "  <tbody>\n",
       "    <tr>\n",
       "      <th>85574</th>\n",
       "      <td>85574</td>\n",
       "      <td>85574</td>\n",
       "      <td>Adelaida Buscato</td>\n",
       "      <td>Mar??a Paz</td>\n",
       "      <td>ACTOR</td>\n",
       "      <td>Lokillo</td>\n",
       "      <td>the movie</td>\n",
       "      <td>2021</td>\n",
       "      <td>['comedy']</td>\n",
       "      <td>3.8</td>\n",
       "      <td>68.0</td>\n",
       "    </tr>\n",
       "    <tr>\n",
       "      <th>85575</th>\n",
       "      <td>85575</td>\n",
       "      <td>85575</td>\n",
       "      <td>Luz Stella Luengas</td>\n",
       "      <td>Karen Bayona</td>\n",
       "      <td>ACTOR</td>\n",
       "      <td>Lokillo</td>\n",
       "      <td>the movie</td>\n",
       "      <td>2021</td>\n",
       "      <td>['comedy']</td>\n",
       "      <td>3.8</td>\n",
       "      <td>68.0</td>\n",
       "    </tr>\n",
       "    <tr>\n",
       "      <th>85576</th>\n",
       "      <td>85576</td>\n",
       "      <td>85576</td>\n",
       "      <td>In??s Prieto</td>\n",
       "      <td>Fanny</td>\n",
       "      <td>ACTOR</td>\n",
       "      <td>Lokillo</td>\n",
       "      <td>the movie</td>\n",
       "      <td>2021</td>\n",
       "      <td>['comedy']</td>\n",
       "      <td>3.8</td>\n",
       "      <td>68.0</td>\n",
       "    </tr>\n",
       "    <tr>\n",
       "      <th>85577</th>\n",
       "      <td>85577</td>\n",
       "      <td>85577</td>\n",
       "      <td>Isabel Gaona</td>\n",
       "      <td>Cacica</td>\n",
       "      <td>ACTOR</td>\n",
       "      <td>Lokillo</td>\n",
       "      <td>MOVIE</td>\n",
       "      <td>2021</td>\n",
       "      <td>['comedy']</td>\n",
       "      <td>3.8</td>\n",
       "      <td>68.0</td>\n",
       "    </tr>\n",
       "    <tr>\n",
       "      <th>85578</th>\n",
       "      <td>85578</td>\n",
       "      <td>85578</td>\n",
       "      <td>Julian Gaviria</td>\n",
       "      <td>unknown</td>\n",
       "      <td>DIRECTOR</td>\n",
       "      <td>Lokillo</td>\n",
       "      <td>the movie</td>\n",
       "      <td>2021</td>\n",
       "      <td>['comedy']</td>\n",
       "      <td>3.8</td>\n",
       "      <td>68.0</td>\n",
       "    </tr>\n",
       "  </tbody>\n",
       "</table>\n",
       "</div>"
      ],
      "text/plain": [
       "       index  unnamed:_o                name     character      role    title  \\\n",
       "85574  85574       85574    Adelaida Buscato    Mar??a Paz     ACTOR  Lokillo   \n",
       "85575  85575       85575  Luz Stella Luengas  Karen Bayona     ACTOR  Lokillo   \n",
       "85576  85576       85576        In??s Prieto         Fanny     ACTOR  Lokillo   \n",
       "85577  85577       85577        Isabel Gaona        Cacica     ACTOR  Lokillo   \n",
       "85578  85578       85578      Julian Gaviria       unknown  DIRECTOR  Lokillo   \n",
       "\n",
       "            type  release_year      genres  imdb_score  imdb_votes  \n",
       "85574  the movie          2021  ['comedy']         3.8        68.0  \n",
       "85575  the movie          2021  ['comedy']         3.8        68.0  \n",
       "85576  the movie          2021  ['comedy']         3.8        68.0  \n",
       "85577      MOVIE          2021  ['comedy']         3.8        68.0  \n",
       "85578  the movie          2021  ['comedy']         3.8        68.0  "
      ]
     },
     "execution_count": 14,
     "metadata": {},
     "output_type": "execute_result"
    }
   ],
   "source": [
    "# removing duplicate rows\n",
    "df = df.drop_duplicates()\n",
    "df = df.reset_index()\n",
    "\n",
    "df.tail(5)"
   ]
  },
  {
   "cell_type": "markdown",
   "id": "fc8c77ba",
   "metadata": {
    "id": "fc8c77ba"
   },
   "source": [
    "Check for duplicate rows once more to make sure you have removed all of them:"
   ]
  },
  {
   "cell_type": "code",
   "execution_count": 15,
   "id": "8091a9bc",
   "metadata": {
    "id": "8091a9bc",
    "outputId": "40515b9f-413d-476f-dc22-2dc93f4761cc"
   },
   "outputs": [
    {
     "name": "stdout",
     "output_type": "stream",
     "text": [
      "There are 0 duplicates.\n"
     ]
    }
   ],
   "source": [
    "# checking for duplicates\n",
    "df = df.dropna()\n",
    "print(f'There are {df.duplicated().sum()} duplicates.')"
   ]
  },
  {
   "cell_type": "markdown",
   "id": "1d802b07",
   "metadata": {
    "id": "1d802b07"
   },
   "source": [
    "Now get rid of implicit duplicates in the `'type'` column. For example, the string `'SHOW'` can be written in different ways. These kinds of errors will also affect the result."
   ]
  },
  {
   "cell_type": "markdown",
   "id": "d5f987ed",
   "metadata": {
    "id": "d5f987ed"
   },
   "source": [
    "Print a list of unique `'type'` names, sorted in alphabetical order. To do so:\n",
    "* Retrieve the intended dataframe column\n",
    "* Apply a sorting method to it\n",
    "* For the sorted column, call the method that will return all unique column values"
   ]
  },
  {
   "cell_type": "code",
   "execution_count": 16,
   "id": "3d7b0ac5",
   "metadata": {
    "id": "3d7b0ac5",
    "outputId": "6fa7f6d0-b8b7-4945-b410-eeca7053c924"
   },
   "outputs": [
    {
     "name": "stdout",
     "output_type": "stream",
     "text": [
      "['MOVIE', 'SHOW', 'movies', 'shows', 'the movie', 'tv', 'tv series', 'tv show', 'tv shows']\n"
     ]
    }
   ],
   "source": [
    "# viewing unique type names\n",
    "print(sorted(df['type'].unique()))"
   ]
  },
  {
   "cell_type": "markdown",
   "id": "ac6e8b18",
   "metadata": {
    "id": "ac6e8b18"
   },
   "source": [
    "Look through the list to find implicit duplicates of `'show'` (`'movie'` duplicates will be ignored since the assumption is about shows). These could be names written incorrectly or alternative names of the same genre.\n",
    "\n",
    "You will see the following implicit duplicates:\n",
    "* `'shows'`\n",
    "* `'SHOW'`\n",
    "* `'tv show'`\n",
    "* `'tv shows'`\n",
    "* `'tv series'`\n",
    "* `'tv'`\n",
    "\n",
    "To get rid of them, declare the function `replace_wrong_show()` with two parameters:\n",
    "* `wrong_shows_list=` — the list of duplicates\n",
    "* `correct_show=` — the string with the correct value\n",
    "\n",
    "The function should correct the names in the `'type'` column from the `df` table (i.e., replace each value from the `wrong_shows_list` list with the value in `correct_show`)."
   ]
  },
  {
   "cell_type": "code",
   "execution_count": 17,
   "id": "bff944f9",
   "metadata": {
    "id": "bff944f9"
   },
   "outputs": [],
   "source": [
    "# function for replacing implicit duplicates\n",
    "def replace_wrong_show(wrong_shows_list, correct_show):\n",
    "    for wrong_show in wrong_shows_list:\n",
    "        df['type'].replace(wrong_show, correct_show, inplace=True)\n",
    "\n",
    "wrong_shows_list = ['SHOW', 'shows', 'tv show', 'tv shows', 'tv series', 'tv']\n",
    "correct_show = 'show'"
   ]
  },
  {
   "cell_type": "markdown",
   "id": "d02d13a6",
   "metadata": {
    "id": "d02d13a6"
   },
   "source": [
    "Call `replace_wrong_show()` and pass it arguments so that it clears implicit duplicates and replaces them with `SHOW`:"
   ]
  },
  {
   "cell_type": "code",
   "execution_count": 18,
   "id": "a2217e53",
   "metadata": {
    "id": "a2217e53"
   },
   "outputs": [],
   "source": [
    "# removing implicit duplicates\n",
    "replace_wrong_show(wrong_shows_list, correct_show)"
   ]
  },
  {
   "cell_type": "markdown",
   "id": "318b09f7",
   "metadata": {
    "id": "318b09f7"
   },
   "source": [
    "Make sure the duplicate names are removed. Print the list of unique values from the `'type'` column:"
   ]
  },
  {
   "cell_type": "code",
   "execution_count": 19,
   "id": "25d49d73",
   "metadata": {
    "id": "25d49d73",
    "outputId": "4cca1e1d-8d18-4745-a383-602490ab7252"
   },
   "outputs": [
    {
     "data": {
      "text/plain": [
       "array(['MOVIE', 'the movie', 'show', 'movies'], dtype=object)"
      ]
     },
     "execution_count": 19,
     "metadata": {},
     "output_type": "execute_result"
    }
   ],
   "source": [
    "# viewing unique genre names\n",
    "df['type'].unique()"
   ]
  },
  {
   "cell_type": "markdown",
   "id": "18b2049e",
   "metadata": {
    "id": "18b2049e"
   },
   "source": [
    "### Conclusions <a id='data_preprocessing_conclusions'></a>\n",
    "We detected three issues with the data:\n",
    "\n",
    "- Incorrect header styles\n",
    "- Missing values\n",
    "- Duplicate rows and implicit duplicates\n",
    "\n",
    "The headers have been cleaned up to make processing the table simpler.\n",
    "\n",
    "All rows with missing values have been removed.\n",
    "\n",
    "The absence of duplicates will make the results more precise and easier to understand.\n",
    "\n",
    "Now we can move on to our analysis of the prepared data."
   ]
  },
  {
   "cell_type": "markdown",
   "id": "1aa0f1b1",
   "metadata": {
    "id": "1aa0f1b1"
   },
   "source": [
    "## Stage 3. Data analysis <a id='hypotheses'></a>"
   ]
  },
  {
   "cell_type": "markdown",
   "id": "f8fb6a0e",
   "metadata": {
    "id": "f8fb6a0e"
   },
   "source": [
    "Based on the previous project stages, you can now define how the assumption will be checked. Calculate the average amount of votes for each score (this data is available in the `imdb_score` and `imdb_votes` columns), and then check how these averages relate to each other. If the averages for shows with the highest scores are bigger than those for shows with lower scores, the assumption appears to be true.\n",
    "\n",
    "Based on this, complete the following steps:\n",
    "\n",
    "- Filter the dataframe to only include shows released in 1999 or later.\n",
    "- Group scores into buckets by rounding the values of the appropriate column (a set of 1-10 integers will help us make the outcome of our calculations more evident without damaging the quality of our research).\n",
    "- Identify outliers among scores based on their number of votes, and exclude scores with few votes.\n",
    "- Calculate the average votes for each score and check whether the assumption matches the results."
   ]
  },
  {
   "cell_type": "markdown",
   "id": "0ea2cb51",
   "metadata": {
    "id": "0ea2cb51"
   },
   "source": [
    "To filter the dataframe and only include shows released in 1999 or later, you will take two steps. First, keep only titles published in 1999 or later in our dataframe. Then, filter the table to only contain shows (movies will be removed)."
   ]
  },
  {
   "cell_type": "code",
   "execution_count": 20,
   "id": "6a704aa1",
   "metadata": {
    "id": "6a704aa1"
   },
   "outputs": [],
   "source": [
    "# using conditional indexing modify df so it has only titles released after 1999 (with 1999 included)\n",
    "# give the slice of dataframe new name\n",
    "golden_age = df[df['release_year'] >= 1999]"
   ]
  },
  {
   "cell_type": "code",
   "execution_count": 21,
   "id": "128dc6a9",
   "metadata": {
    "id": "128dc6a9",
    "scrolled": true
   },
   "outputs": [],
   "source": [
    "# repeat conditional indexing so df has only shows (movies are removed as result)\n",
    "golden_age = golden_age[golden_age['type'] == 'show']"
   ]
  },
  {
   "cell_type": "markdown",
   "id": "9648040c",
   "metadata": {
    "id": "9648040c"
   },
   "source": [
    "The scores that are to be grouped should be rounded. For instance, titles with scores like 7.8, 8.1, and 8.3 will all be placed in the same bucket with a score of 8."
   ]
  },
  {
   "cell_type": "code",
   "execution_count": 22,
   "id": "54bbd5c0",
   "metadata": {
    "id": "54bbd5c0",
    "outputId": "a8f86e31-138d-4729-b5cd-953983a1501d"
   },
   "outputs": [
    {
     "data": {
      "text/html": [
       "<div>\n",
       "<style scoped>\n",
       "    .dataframe tbody tr th:only-of-type {\n",
       "        vertical-align: middle;\n",
       "    }\n",
       "\n",
       "    .dataframe tbody tr th {\n",
       "        vertical-align: top;\n",
       "    }\n",
       "\n",
       "    .dataframe thead th {\n",
       "        text-align: right;\n",
       "    }\n",
       "</style>\n",
       "<table border=\"1\" class=\"dataframe\">\n",
       "  <thead>\n",
       "    <tr style=\"text-align: right;\">\n",
       "      <th></th>\n",
       "      <th>index</th>\n",
       "      <th>unnamed:_o</th>\n",
       "      <th>name</th>\n",
       "      <th>character</th>\n",
       "      <th>role</th>\n",
       "      <th>title</th>\n",
       "      <th>type</th>\n",
       "      <th>release_year</th>\n",
       "      <th>genres</th>\n",
       "      <th>imdb_score</th>\n",
       "      <th>imdb_votes</th>\n",
       "    </tr>\n",
       "  </thead>\n",
       "  <tbody>\n",
       "    <tr>\n",
       "      <th>85433</th>\n",
       "      <td>85433</td>\n",
       "      <td>85433</td>\n",
       "      <td>Maneerat Kam-Uan</td>\n",
       "      <td>Ae</td>\n",
       "      <td>ACTOR</td>\n",
       "      <td>Let's Eat</td>\n",
       "      <td>show</td>\n",
       "      <td>2021</td>\n",
       "      <td>['drama', 'comedy']</td>\n",
       "      <td>8.0</td>\n",
       "      <td>5.0</td>\n",
       "    </tr>\n",
       "    <tr>\n",
       "      <th>85434</th>\n",
       "      <td>85434</td>\n",
       "      <td>85434</td>\n",
       "      <td>Rudklao Amratisha</td>\n",
       "      <td>unknown</td>\n",
       "      <td>ACTOR</td>\n",
       "      <td>Let's Eat</td>\n",
       "      <td>show</td>\n",
       "      <td>2021</td>\n",
       "      <td>['drama', 'comedy']</td>\n",
       "      <td>8.0</td>\n",
       "      <td>5.0</td>\n",
       "    </tr>\n",
       "    <tr>\n",
       "      <th>85435</th>\n",
       "      <td>85435</td>\n",
       "      <td>85435</td>\n",
       "      <td>Jaturong Mokjok</td>\n",
       "      <td>unknown</td>\n",
       "      <td>ACTOR</td>\n",
       "      <td>Let's Eat</td>\n",
       "      <td>show</td>\n",
       "      <td>2021</td>\n",
       "      <td>['drama', 'comedy']</td>\n",
       "      <td>8.0</td>\n",
       "      <td>5.0</td>\n",
       "    </tr>\n",
       "    <tr>\n",
       "      <th>85436</th>\n",
       "      <td>85436</td>\n",
       "      <td>85436</td>\n",
       "      <td>Pisamai Wilaisak</td>\n",
       "      <td>unknown</td>\n",
       "      <td>ACTOR</td>\n",
       "      <td>Let's Eat</td>\n",
       "      <td>show</td>\n",
       "      <td>2021</td>\n",
       "      <td>['drama', 'comedy']</td>\n",
       "      <td>8.0</td>\n",
       "      <td>5.0</td>\n",
       "    </tr>\n",
       "    <tr>\n",
       "      <th>85437</th>\n",
       "      <td>85437</td>\n",
       "      <td>85437</td>\n",
       "      <td>Sarawut Wichiensarn</td>\n",
       "      <td>unknown</td>\n",
       "      <td>DIRECTOR</td>\n",
       "      <td>Let's Eat</td>\n",
       "      <td>show</td>\n",
       "      <td>2021</td>\n",
       "      <td>['drama', 'comedy']</td>\n",
       "      <td>8.0</td>\n",
       "      <td>5.0</td>\n",
       "    </tr>\n",
       "  </tbody>\n",
       "</table>\n",
       "</div>"
      ],
      "text/plain": [
       "       index  unnamed:_o                 name character      role      title  \\\n",
       "85433  85433       85433     Maneerat Kam-Uan        Ae     ACTOR  Let's Eat   \n",
       "85434  85434       85434    Rudklao Amratisha   unknown     ACTOR  Let's Eat   \n",
       "85435  85435       85435      Jaturong Mokjok   unknown     ACTOR  Let's Eat   \n",
       "85436  85436       85436     Pisamai Wilaisak   unknown     ACTOR  Let's Eat   \n",
       "85437  85437       85437  Sarawut Wichiensarn   unknown  DIRECTOR  Let's Eat   \n",
       "\n",
       "       type  release_year               genres  imdb_score  imdb_votes  \n",
       "85433  show          2021  ['drama', 'comedy']         8.0         5.0  \n",
       "85434  show          2021  ['drama', 'comedy']         8.0         5.0  \n",
       "85435  show          2021  ['drama', 'comedy']         8.0         5.0  \n",
       "85436  show          2021  ['drama', 'comedy']         8.0         5.0  \n",
       "85437  show          2021  ['drama', 'comedy']         8.0         5.0  "
      ]
     },
     "execution_count": 22,
     "metadata": {},
     "output_type": "execute_result"
    }
   ],
   "source": [
    "# rounding column with scores\n",
    "#checking the outcome with tail()\n",
    "golden_age['imdb_score'] = golden_age['imdb_score'].round()\n",
    "# how to round numbers: https://www.w3schools.com/python/pandas/ref_df_round.asp\n",
    "\n",
    "golden_age.tail(5)"
   ]
  },
  {
   "cell_type": "markdown",
   "id": "36dbd00a",
   "metadata": {
    "id": "36dbd00a"
   },
   "source": [
    "It is now time to identify outliers based on the number of votes."
   ]
  },
  {
   "cell_type": "code",
   "execution_count": 23,
   "id": "b8b55e95",
   "metadata": {
    "id": "b8b55e95",
    "outputId": "5b499465-cba4-4a9a-db47-d7077e43f458"
   },
   "outputs": [
    {
     "name": "stdout",
     "output_type": "stream",
     "text": [
      "imdb_score\n",
      "2.0       40\n",
      "3.0       27\n",
      "4.0      225\n",
      "5.0      691\n",
      "6.0     2986\n",
      "7.0     5322\n",
      "8.0     5200\n",
      "9.0      583\n",
      "10.0       8\n",
      "Name: imdb_votes, dtype: int64\n"
     ]
    }
   ],
   "source": [
    "# Use groupby() for scores and count all unique values in each group, print the result\n",
    "print(golden_age.groupby('imdb_score')['imdb_votes'].count())\n",
    "\n",
    "# Coding in jupyter notebook is interesting, I'm used to coding in VS Code and visually that's what caused me\n",
    "# to code this the way I initially did, I finally understand, wasnt until this error cause the next error"
   ]
  },
  {
   "cell_type": "markdown",
   "id": "1ba6daae",
   "metadata": {
    "id": "1ba6daae"
   },
   "source": [
    "Based on the aggregation performed, it is evident that scores 2 (24 voted shows), 3 (27 voted shows), and 10 (only 8 voted shows) are outliers. There isn't enough data for these scores for the average number of votes to be meaningful."
   ]
  },
  {
   "cell_type": "markdown",
   "id": "bd468c46",
   "metadata": {
    "id": "bd468c46"
   },
   "source": [
    "To obtain the mean numbers of votes for the selected scores (we identified a range of 4-9 as acceptable), use conditional filtering and grouping."
   ]
  },
  {
   "cell_type": "code",
   "execution_count": 24,
   "id": "d1867e0e",
   "metadata": {
    "id": "d1867e0e"
   },
   "outputs": [],
   "source": [
    "# filter dataframe using two conditions (scores to be in the range 4-9)\n",
    "# group scores and corresponding average number of votes, reset index and print the result\n",
    "\n",
    "golden_age = golden_age.groupby('imdb_score')['imdb_votes'].mean()\n",
    "# how to do the mean:\n",
    "# https://pandas.pydata.org/pandas-docs/stable/reference/api/pandas.DataFrame.mean.html\n",
    "\n",
    "golden_age = golden_age.iloc[2:8].reset_index()\n",
    "# set the range for index:\n",
    "# https://pandas.pydata.org/docs/reference/api/pandas.DataFrame.iloc.html"
   ]
  },
  {
   "cell_type": "markdown",
   "id": "96a66d14",
   "metadata": {
    "id": "96a66d14"
   },
   "source": [
    "Now for the final step! Round the column with the averages, rename both columns, and print the dataframe in descending order."
   ]
  },
  {
   "cell_type": "code",
   "execution_count": 25,
   "id": "5999051b",
   "metadata": {
    "id": "5999051b",
    "outputId": "6e60ca2c-5f4f-487f-912c-d27ecc9386ce"
   },
   "outputs": [
    {
     "data": {
      "text/html": [
       "<div>\n",
       "<style scoped>\n",
       "    .dataframe tbody tr th:only-of-type {\n",
       "        vertical-align: middle;\n",
       "    }\n",
       "\n",
       "    .dataframe tbody tr th {\n",
       "        vertical-align: top;\n",
       "    }\n",
       "\n",
       "    .dataframe thead th {\n",
       "        text-align: right;\n",
       "    }\n",
       "</style>\n",
       "<table border=\"1\" class=\"dataframe\">\n",
       "  <thead>\n",
       "    <tr style=\"text-align: right;\">\n",
       "      <th></th>\n",
       "      <th>index</th>\n",
       "      <th>avg_score</th>\n",
       "      <th>avg_votes</th>\n",
       "    </tr>\n",
       "  </thead>\n",
       "  <tbody>\n",
       "    <tr>\n",
       "      <th>0</th>\n",
       "      <td>5</td>\n",
       "      <td>9.0</td>\n",
       "      <td>121401.017153</td>\n",
       "    </tr>\n",
       "    <tr>\n",
       "      <th>1</th>\n",
       "      <td>4</td>\n",
       "      <td>8.0</td>\n",
       "      <td>28361.942115</td>\n",
       "    </tr>\n",
       "    <tr>\n",
       "      <th>2</th>\n",
       "      <td>3</td>\n",
       "      <td>7.0</td>\n",
       "      <td>8012.183953</td>\n",
       "    </tr>\n",
       "    <tr>\n",
       "      <th>3</th>\n",
       "      <td>2</td>\n",
       "      <td>6.0</td>\n",
       "      <td>3168.731413</td>\n",
       "    </tr>\n",
       "    <tr>\n",
       "      <th>4</th>\n",
       "      <td>1</td>\n",
       "      <td>5.0</td>\n",
       "      <td>2846.192475</td>\n",
       "    </tr>\n",
       "    <tr>\n",
       "      <th>5</th>\n",
       "      <td>0</td>\n",
       "      <td>4.0</td>\n",
       "      <td>6544.480000</td>\n",
       "    </tr>\n",
       "  </tbody>\n",
       "</table>\n",
       "</div>"
      ],
      "text/plain": [
       "   index  avg_score      avg_votes\n",
       "0      5        9.0  121401.017153\n",
       "1      4        8.0   28361.942115\n",
       "2      3        7.0    8012.183953\n",
       "3      2        6.0    3168.731413\n",
       "4      1        5.0    2846.192475\n",
       "5      0        4.0    6544.480000"
      ]
     },
     "execution_count": 25,
     "metadata": {},
     "output_type": "execute_result"
    }
   ],
   "source": [
    "# round column with averages\n",
    "# rename columns\n",
    "# print dataframe in descending order\n",
    "golden_age.rename(columns={'imdb_score': 'avg_score', 'imdb_votes': 'avg_votes'}).sort_values(by='avg_score', ascending=False).reset_index()"
   ]
  },
  {
   "cell_type": "markdown",
   "id": "af07386d",
   "metadata": {
    "id": "af07386d"
   },
   "source": [
    "The assumption macthes the analysis: the shows with the top 3 scores have the most amounts of votes."
   ]
  },
  {
   "cell_type": "markdown",
   "id": "84e29a37",
   "metadata": {
    "id": "84e29a37"
   },
   "source": [
    "## Conclusion <a id='hypotheses'></a>"
   ]
  },
  {
   "cell_type": "markdown",
   "id": "984766a3",
   "metadata": {
    "id": "984766a3"
   },
   "source": [
    "The research done confirms that highly-rated shows released during the \"Golden Age\" of television also have the most votes. While shows with score 4 have more votes than ones with scores 5 and 6, the top three (scores 7-9) have the largest number. The data studied represents around 94% of the original set, so we can be confident in our findings."
   ]
  }
 ],
 "metadata": {
  "colab": {
   "include_colab_link": true,
   "provenance": []
  },
  "kernelspec": {
   "display_name": "base",
   "language": "python",
   "name": "python3"
  },
  "language_info": {
   "codemirror_mode": {
    "name": "ipython",
    "version": 3
   },
   "file_extension": ".py",
   "mimetype": "text/x-python",
   "name": "python",
   "nbconvert_exporter": "python",
   "pygments_lexer": "ipython3",
   "version": "3.11.7"
  },
  "toc": {
   "base_numbering": 1,
   "nav_menu": {},
   "number_sections": true,
   "sideBar": true,
   "skip_h1_title": true,
   "title_cell": "Table of Contents",
   "title_sidebar": "Contents",
   "toc_cell": false,
   "toc_position": {},
   "toc_section_display": true,
   "toc_window_display": false
  }
 },
 "nbformat": 4,
 "nbformat_minor": 5
}
